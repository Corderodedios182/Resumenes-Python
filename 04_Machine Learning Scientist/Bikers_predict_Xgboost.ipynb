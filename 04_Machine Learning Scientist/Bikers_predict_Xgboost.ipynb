{
 "cells": [
  {
   "cell_type": "code",
   "execution_count": 9,
   "id": "ae5ba841-092b-42f6-b370-72c353becc6a",
   "metadata": {},
   "outputs": [
    {
     "name": "stdout",
     "output_type": "stream",
     "text": [
      "Windows-10-10.0.22000-SP0\n",
      "Python 3.9.7 (default, Sep 16 2021, 16:59:28) [MSC v.1916 64 bit (AMD64)]\n",
      "NumPy 1.20.3\n",
      "SciPy 1.7.1\n",
      "Scikit-Learn 0.24.2\n",
      "XGBoost 1.5.1\n"
     ]
    }
   ],
   "source": [
    "import platform ; print(platform.platform())\n",
    "import sys      ; print(\"Python\", sys.version)\n",
    "import numpy    ; print(\"NumPy\", numpy.__version__)\n",
    "import scipy    ; print(\"SciPy\", scipy.__version__)\n",
    "import sklearn  ; print(\"Scikit-Learn\", sklearn.__version__)\n",
    "import xgboost  ; print(\"XGBoost\", xgboost.__version__)"
   ]
  },
  {
   "cell_type": "markdown",
   "id": "f0b465bb-e56e-4ba0-bf12-f4e767e6dcde",
   "metadata": {},
   "source": [
    "#### Función de limpieza de datos\n",
    "\n",
    "#### "
   ]
  }
 ],
 "metadata": {
  "kernelspec": {
   "display_name": "Python 3 (ipykernel)",
   "language": "python",
   "name": "python3"
  },
  "language_info": {
   "codemirror_mode": {
    "name": "ipython",
    "version": 3
   },
   "file_extension": ".py",
   "mimetype": "text/x-python",
   "name": "python",
   "nbconvert_exporter": "python",
   "pygments_lexer": "ipython3",
   "version": "3.9.7"
  }
 },
 "nbformat": 4,
 "nbformat_minor": 5
}
