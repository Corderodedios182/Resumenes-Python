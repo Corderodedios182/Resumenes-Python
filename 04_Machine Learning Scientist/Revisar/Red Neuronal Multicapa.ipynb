{
 "cells": [
  {
   "cell_type": "markdown",
   "metadata": {},
   "source": [
    "El siguiente script muestra la construcción de una Red multicapa, podiendo definir el numero de entradas, pesos, capas y neuronas por capas.\n",
    "\n",
    "Se construye apartir de 3 pasos (Creando 3 clases)\n",
    "\n",
    "    1.Clase Neuron : Define el numero de entradas y pesos aleatorios\n",
    "    \n",
    "    2.Clase NeuronLayer : Numero de Neuronas por capas\n",
    "    \n",
    "    3.Clase NeuronalNetwork : Trabaja con las 2 clases anteriores e implenta la función de activacion hacia                   delante\n",
    "    \n",
    "Nota; Hace falta colocar la optimizacion y entrenamiento de la Red."
   ]
  },
  {
   "cell_type": "code",
   "execution_count": 1,
   "metadata": {},
   "outputs": [],
   "source": [
    "import random\n",
    "\n",
    "BIAS = -1\n",
    "\n",
    "##############\n",
    "#Clase Neuron#\n",
    "##############\n",
    "\n",
    "#Clase que define el numero de entradas y los pesos para cada entrada\n",
    "\n",
    "class Neuron:\n",
    "    #Metodo constructor inicial\n",
    "    def __init__(self, n_inputs ): #Colocamos un numero n de entradas (atributos)\n",
    "        self.n_inputs = n_inputs\n",
    "        random.seed(1)\n",
    "        self.set_weights( [random.uniform(0,1) for x in range(0,n_inputs)] ) # Calculamos los pesos de las entradas de forma aleatoria\n",
    "\n",
    "    #Metodo suma\n",
    "    def sum(self, inputs ):\n",
    "        # No incluimos el sesgo\n",
    "        \n",
    "        return sum(val*self.weights[i] for i,val in enumerate(inputs)) #Multiplicación vectorial y suma de las entradas con los pesos\n",
    "\n",
    "    def set_weights(self, weights ):\n",
    "        \n",
    "        self.weights = weights\n",
    "        \n",
    "    def __str__(self):\n",
    "        \n",
    "        return 'Weights: %s, input: %s' % ( str(self.weights[:]),str(self.n_inputs) )\n"
   ]
  },
  {
   "cell_type": "code",
   "execution_count": 9,
   "metadata": {},
   "outputs": [
    {
     "name": "stdout",
     "output_type": "stream",
     "text": [
      "Weights: [1, 2, 2], input: 3\n"
     ]
    }
   ],
   "source": [
    "#Implementación de la primera clase Neuron, para definir el numero de entradas y los pesos\n",
    "a = Neuron(3) #Numero de entradas\n",
    "#Atributos\n",
    "a.n_inputs #Numero de entradas definidas\n",
    "a.weights #Pesos definidos de forma aleatoria para cada entrada\n",
    "#Metodos\n",
    "a.set_weights([1,2,2]) #Cambiar los pesos de las neuronas (En caso de que no querramos de forma aleatoria, debe preferencia que tenga la misma longitud que el numero de entradas)\n",
    "a.weights\n",
    "a.sum([3,1,3]) #Valores de cada entrada (el array colocado debe de ser de la misma longitud que las neuronas de entrada)\n",
    "#Metodo __str__\n",
    "print(a)"
   ]
  },
  {
   "cell_type": "code",
   "execution_count": 10,
   "metadata": {},
   "outputs": [],
   "source": [
    "############################################\n",
    "#Clase para el numero de neuronas por capas#\n",
    "############################################\n",
    "\n",
    "class NeuronLayer:\n",
    "    def __init__(self, n_neurons, n_inputs):\n",
    "        self.n_neurons = n_neurons\n",
    "        self.neurons = [Neuron( n_inputs ) for _ in range(0,self.n_neurons)] #Numero de neuronas\n",
    "\n",
    "    def __str__(self):\n",
    "        return 'Layer:\\n\\t'+'\\n\\t'.join([str(neuron) for neuron in self.neurons])+''"
   ]
  },
  {
   "cell_type": "code",
   "execution_count": 12,
   "metadata": {},
   "outputs": [
    {
     "name": "stdout",
     "output_type": "stream",
     "text": [
      "Layer:\n",
      "\tWeights: [0.13436424411240122, 0.8474337369372327, 0.763774618976614, 0.2550690257394217, 0.49543508709194095, 0.4494910647887381], input: 6\n",
      "\tWeights: [0.13436424411240122, 0.8474337369372327, 0.763774618976614, 0.2550690257394217, 0.49543508709194095, 0.4494910647887381], input: 6\n",
      "\tWeights: [0.13436424411240122, 0.8474337369372327, 0.763774618976614, 0.2550690257394217, 0.49543508709194095, 0.4494910647887381], input: 6\n"
     ]
    }
   ],
   "source": [
    "#Ejemplo: Red de 3 capas con 2 entradas con pesos aleatorios        \n",
    "b = NeuronLayer(3,6)\n",
    "b.n_neurons\n",
    "print(b)\n"
   ]
  },
  {
   "cell_type": "code",
   "execution_count": 14,
   "metadata": {},
   "outputs": [],
   "source": [
    "###################################\n",
    "#Se crea una clase NeuronalNetwork#\n",
    "###################################\n",
    "\n",
    "#Ocupando las 2 clases anteriores para crear el numero de entradas, pesos y numero de neuronas de capas\n",
    "\n",
    "class NeuralNetwork:\n",
    "    def __init__(self, n_inputs, n_outputs, n_neurons_to_hl, n_hidden_layers):\n",
    "        #Atributos de la Red Neuronal (Variables de entrada, Variables de salida, Capas ocultas, Neuronas en cada capa, Pesos de las variables)\n",
    "        self.n_inputs = n_inputs #n Entradas\n",
    "        self.n_outputs = n_outputs #n Salidas\n",
    "        self.n_hidden_layers = n_hidden_layers #n Capas ocultas\n",
    "        self.n_neurons_to_hl = n_neurons_to_hl #n Neuronoas para capas ocultas\n",
    "        \n",
    "        # Do not touch\n",
    "        self._create_network()\n",
    "        self._n_weights = None #Pesos \n",
    "        # end\n",
    "    #Metodo para crear la Red ocupando la case NeuronLayer (Define el numero de capas ocultas y entradas)\n",
    "    def _create_network(self):\n",
    "        if self.n_hidden_layers>0:\n",
    "            # Creacion de la primera capa\n",
    "           self.layers = [NeuronLayer( self.n_neurons_to_hl,self.n_inputs )]\n",
    "           \n",
    "           # Creacion de las capas ocultas\n",
    "           self.layers += [NeuronLayer( self.n_neurons_to_hl,self.n_neurons_to_hl ) for _ in range(0,self.n_hidden_layers)]\n",
    "           \n",
    "           # Capa oculta salida\n",
    "           \n",
    "           self.layers += [NeuronLayer( self.n_outputs,self.n_neurons_to_hl )]\n",
    "           \n",
    "        else:\n",
    "            # If we don't require hidden layers\n",
    "           self.layers = [NeuronLayer( self.n_outputs,self.n_inputs )]\n",
    "    \n",
    "    #Metodo para obtener los pesos\n",
    "    def get_weights(self):\n",
    "        \n",
    "        weights = []\n",
    "        \n",
    "        for layer in self.layers:\n",
    "            \n",
    "            for neuron in layer.neurons:\n",
    "                \n",
    "                weights += neuron.weights\n",
    "                \n",
    "        return weights\n",
    "\n",
    "    @property\n",
    "    \n",
    "    def n_weights(self):\n",
    "        \n",
    "        if not self._n_weights:\n",
    "            \n",
    "            self._n_weights = 0\n",
    "            \n",
    "            for layer in self.layers:\n",
    "                \n",
    "                for neuron in layer.neurons:\n",
    "                    \n",
    "                    self._n_weights += neuron.n_inputs+1 # +1 for bias weight\n",
    "                    \n",
    "        return self._n_weights\n",
    "\n",
    "    def set_weights(self, weights ):\n",
    "        \n",
    "        assert len(weights)==self.n_weights, \"Incorrect amount of weights.\"\n",
    "        \n",
    "        stop = 0\n",
    "        \n",
    "        for layer in self.layers:\n",
    "            \n",
    "            for neuron in layer.neurons:\n",
    "                start, stop = stop, stop+(neuron.n_inputs+1)\n",
    "                neuron.set_weights( weights[start:stop] )\n",
    "                \n",
    "        return self\n",
    "\n",
    "    def update(self, inputs ):\n",
    "        \n",
    "        assert len(inputs)==self.n_inputs, \"Incorrect amount of inputs.\"\n",
    "\n",
    "        for layer in self.layers:\n",
    "            \n",
    "            outputs = []\n",
    "            \n",
    "            for neuron in layer.neurons:\n",
    "                tot = neuron.sum(inputs) + neuron.weights[-1]*BIAS\n",
    "                outputs.append( self.relu(tot) )\n",
    "            inputs = outputs\n",
    "        return outputs\n",
    "\n",
    "    def relu(self, activation):\n",
    "        \n",
    "        if activation <= 0:\n",
    "            output = -1\n",
    "        elif activation > 0:\n",
    "            output = 1\n",
    "            \n",
    "        # Return the value just calculated\n",
    "        \n",
    "        return(output)\n",
    "\n",
    "    def __str__(self):\n",
    "        \n",
    "        return '\\n'.join([str(i+1)+' '+str(layer) for i,layer in enumerate(self.layers)])"
   ]
  },
  {
   "cell_type": "code",
   "execution_count": 16,
   "metadata": {},
   "outputs": [
    {
     "name": "stdout",
     "output_type": "stream",
     "text": [
      "1 Layer:\n",
      "\tWeights: [0.13436424411240122, 0.8474337369372327], input: 2\n",
      "\tWeights: [0.13436424411240122, 0.8474337369372327], input: 2\n",
      "2 Layer:\n",
      "\tWeights: [0.13436424411240122, 0.8474337369372327], input: 2\n",
      "\tWeights: [0.13436424411240122, 0.8474337369372327], input: 2\n",
      "3 Layer:\n",
      "\tWeights: [0.13436424411240122, 0.8474337369372327], input: 2\n"
     ]
    }
   ],
   "source": [
    "#Definicion de la Red Neuronal            \n",
    "Red = NeuralNetwork(2,1,2,1)\n",
    "\n",
    "print(Red)"
   ]
  },
  {
   "cell_type": "code",
   "execution_count": 22,
   "metadata": {},
   "outputs": [
    {
     "data": {
      "text/plain": [
       "15"
      ]
     },
     "execution_count": 22,
     "metadata": {},
     "output_type": "execute_result"
    }
   ],
   "source": [
    "#Atributos\n",
    "Red.layers\n",
    "Red.n_hidden_layers\n",
    "Red.n_inputs\n",
    "Red.n_neurons_to_hl\n",
    "Red.n_outputs\n",
    "Red.n_weights"
   ]
  },
  {
   "cell_type": "code",
   "execution_count": 23,
   "metadata": {},
   "outputs": [
    {
     "data": {
      "text/plain": [
       "-1"
      ]
     },
     "execution_count": 23,
     "metadata": {},
     "output_type": "execute_result"
    }
   ],
   "source": [
    "#Funcion de activacion\n",
    "Red.relu(-1)"
   ]
  },
  {
   "cell_type": "code",
   "execution_count": 24,
   "metadata": {},
   "outputs": [
    {
     "data": {
      "text/plain": [
       "1"
      ]
     },
     "execution_count": 24,
     "metadata": {},
     "output_type": "execute_result"
    }
   ],
   "source": [
    "#Resultado final\n",
    "sum(Red.update([2,2]))"
   ]
  }
 ],
 "metadata": {
  "kernelspec": {
   "display_name": "Python 3",
   "language": "python",
   "name": "python3"
  },
  "language_info": {
   "codemirror_mode": {
    "name": "ipython",
    "version": 3
   },
   "file_extension": ".py",
   "mimetype": "text/x-python",
   "name": "python",
   "nbconvert_exporter": "python",
   "pygments_lexer": "ipython3",
   "version": "3.7.3"
  }
 },
 "nbformat": 4,
 "nbformat_minor": 2
}
