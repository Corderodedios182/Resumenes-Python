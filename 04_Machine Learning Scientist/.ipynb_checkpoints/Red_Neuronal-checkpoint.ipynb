{
 "cells": [
  {
   "cell_type": "markdown",
   "metadata": {},
   "source": [
    "# Red Neuronal"
   ]
  },
  {
   "cell_type": "markdown",
   "metadata": {},
   "source": [
    "Especifico la construcción paso a paso para contruir una Red Neuronal"
   ]
  },
  {
   "cell_type": "markdown",
   "metadata": {},
   "source": [
    "#### Codificacion del algoritmo de propagacion directa\n",
    "\n",
    "En el siguiente código se muestra propagacion hacia adelante (predicción) para ver la primer red neuronal.\n",
    "\n",
    "Mostrando datos de entrada, un solo nivel de neuronas y una salida"
   ]
  },
  {
   "cell_type": "code",
   "execution_count": 1,
   "metadata": {},
   "outputs": [
    {
     "name": "stdout",
     "output_type": "stream",
     "text": [
      "-39\n"
     ]
    }
   ],
   "source": [
    "import numpy as np\n",
    "input_data = np.array([3,5])\n",
    "weights = {'node_0': np.array([2, 4]), 'node_1': np.array([ 4, -5]), 'output': np.array([2, 7])}\n",
    "\n",
    "# Calculando el valor del nodo_0\n",
    "node_0_value = (input_data * weights['node_0']).sum()\n",
    "\n",
    "# Calculando el valor del nodo 1\n",
    "node_1_value = (input_data * weights['node_1']).sum()\n",
    "\n",
    "# Guardando los valores de los nodos en la matriz\n",
    "hidden_layer_outputs = np.array([node_0_value, node_1_value])\n",
    "\n",
    "# Calculando la salida\n",
    "output = (hidden_layer_outputs * weights['output']).sum()\n",
    "\n",
    "# Imprimiento el resultado\n",
    "print(output)"
   ]
  },
  {
   "cell_type": "markdown",
   "metadata": {},
   "source": [
    "#### Funcion de Activacion\n",
    "\n",
    "En el caso anterior la salida de cada neurona era representada por la multiplicación vectorial.\n",
    "\n",
    "Ahora agreguemos una función que determine la salida en nuestra neurona (función de activación)\n",
    "\n",
    "Definiendo   \n",
    "    f(x) = {-1 si x <= 0}     ó     f(x) = {1 si x > 0}"
   ]
  },
  {
   "cell_type": "code",
   "execution_count": 3,
   "metadata": {},
   "outputs": [],
   "source": [
    "#Funcion de Activacion\n",
    "def relu(input):\n",
    "    '''Definiendo la funcion de activacion'''\n",
    "    if input <= 0:\n",
    "        output = -1\n",
    "    elif input > 0:\n",
    "        output = 1\n",
    "    \n",
    "    # Return the value just calculated\n",
    "    return(output)"
   ]
  },
  {
   "cell_type": "markdown",
   "metadata": {},
   "source": [
    "El resultado de la multiplicación vectorial es transormado por la función de activación"
   ]
  },
  {
   "cell_type": "code",
   "execution_count": 5,
   "metadata": {},
   "outputs": [
    {
     "data": {
      "text/plain": [
       "-1"
      ]
     },
     "execution_count": 5,
     "metadata": {},
     "output_type": "execute_result"
    }
   ],
   "source": [
    "# Calculo del nodo 1\n",
    "node_1_input = (input_data * weights['node_1']).sum()\n",
    "node_1_output = relu(node_1_input)\n",
    "node_1_output"
   ]
  },
  {
   "cell_type": "markdown",
   "metadata": {},
   "source": [
    "Ahora solo remplazamos la salida de los nodos (node_0_output y node_1_output)"
   ]
  },
  {
   "cell_type": "code",
   "execution_count": 20,
   "metadata": {},
   "outputs": [
    {
     "name": "stdout",
     "output_type": "stream",
     "text": [
      "-5\n"
     ]
    }
   ],
   "source": [
    "# Calculo del nodo 0\n",
    "node_0_input = (input_data * weights['node_0']).sum()\n",
    "node_0_output = relu(node_0_input)\n",
    "\n",
    "# Calculo del nodo 1\n",
    "node_1_input = (input_data * weights['node_1']).sum()\n",
    "node_1_output = relu(node_1_input)\n",
    "\n",
    "# Almacenado de los resultados\n",
    "hidden_layer_outputs = np.array([node_0_output, node_1_output])\n",
    "\n",
    "# Calculando la salida\n",
    "model_output = (hidden_layer_outputs * weights['output']).sum()\n",
    "\n",
    "# Imprimiendo el resultado\n",
    "print(model_output)"
   ]
  },
  {
   "cell_type": "markdown",
   "metadata": {},
   "source": [
    "#### Redes neuronales Multicapa\n",
    "\n",
    "Veamos el código para hacer propagación hacia delante para una red neuronal con 2 capas ocultas.\n",
    "\n",
    "Cada capa oculta tiene 2 nodos."
   ]
  },
  {
   "cell_type": "code",
   "execution_count": 2,
   "metadata": {},
   "outputs": [],
   "source": [
    "#Datos\n",
    "input_data = np.array([3,5])\n",
    "#Pesos de los aristas\n",
    "weights = {\n",
    " 'node_0_0': np.array([2, 4]),\n",
    " 'node_0_1': np.array([ 4, -5]),\n",
    " 'node_1_0': np.array([-1,  2]),\n",
    " 'node_1_1': np.array([1, 2]),\n",
    " 'output': np.array([2, 7])}"
   ]
  },
  {
   "cell_type": "code",
   "execution_count": 8,
   "metadata": {},
   "outputs": [],
   "source": [
    "#Funcion con 2 capas y 2 nodos en cada capa\n",
    "def predict_with_network(input_data):\n",
    "    # Calculando el nodo 0 y 1 en la primera capa\n",
    "    node_0_0_input = (input_data * weights['node_0_0']).sum()\n",
    "    node_0_0_output = relu(node_0_0_input)\n",
    "    node_0_1_input = (input_data * weights['node_0_1']).sum()\n",
    "    node_0_1_output = relu(node_0_1_input)\n",
    "\n",
    "    # Resultados de salida de la primera capa\n",
    "    hidden_0_outputs = np.array([node_0_0_output, node_0_1_output])\n",
    "\n",
    "    # Calculando el nodo 0 y 1 de la segunda capa, tomando como entrada los resultados de la primera capa\n",
    "    node_1_0_input = (hidden_0_outputs * weights['node_1_0']).sum()\n",
    "    node_1_0_output = relu(node_1_0_input)\n",
    "    node_1_1_input = (hidden_0_outputs * weights['node_1_1']).sum()\n",
    "    node_1_1_output = relu(node_1_1_input)\n",
    "\n",
    "    # Resultados de salida de la segunda capa\n",
    "    hidden_1_outputs = np.array([node_1_0_output, node_1_1_output])\n",
    "    \n",
    "    # Calculando la salida de la ultima capa\n",
    "    model_output = (hidden_1_outputs * weights['output']).sum()\n",
    "    \n",
    "    # Resultado del modelo\n",
    "    return(model_output)\n",
    "    return(model_output)"
   ]
  },
  {
   "cell_type": "code",
   "execution_count": 9,
   "metadata": {},
   "outputs": [
    {
     "name": "stdout",
     "output_type": "stream",
     "text": [
      "-9\n"
     ]
    }
   ],
   "source": [
    "#Resultado de la Red neuronal, con 2 capas y 2 nodos en cada capa\n",
    "output = predict_with_network(input_data)\n",
    "print(output)"
   ]
  },
  {
   "cell_type": "markdown",
   "metadata": {},
   "source": [
    "#### Generalización \n",
    "\n",
    "1. L   -   N° de Niveles \n",
    "2. N_i  -  N° de neuronas cada nivel\n",
    "3. W_i_kl- N° Pesos entre neuronas\n",
    "4. T     - N° de entradas a procesar\n",
    "\n",
    "Creando un modelo con Keras"
   ]
  },
  {
   "cell_type": "code",
   "execution_count": 7,
   "metadata": {},
   "outputs": [
    {
     "ename": "SyntaxError",
     "evalue": "invalid syntax (<ipython-input-7-16d534bd63f9>, line 3)",
     "output_type": "error",
     "traceback": [
      "\u001b[0;36m  File \u001b[0;32m\"<ipython-input-7-16d534bd63f9>\"\u001b[0;36m, line \u001b[0;32m3\u001b[0m\n\u001b[0;31m    np.r_[[3,[0]*5,-1:1:10j]]\u001b[0m\n\u001b[0m                     ^\u001b[0m\n\u001b[0;31mSyntaxError\u001b[0m\u001b[0;31m:\u001b[0m invalid syntax\n"
     ]
    }
   ],
   "source": [
    "#Vector con k entradas\n",
    "import numpy as np\n",
    "\n"
   ]
  }
 ],
 "metadata": {
  "kernelspec": {
   "display_name": "Python 3",
   "language": "python",
   "name": "python3"
  },
  "language_info": {
   "codemirror_mode": {
    "name": "ipython",
    "version": 3
   },
   "file_extension": ".py",
   "mimetype": "text/x-python",
   "name": "python",
   "nbconvert_exporter": "python",
   "pygments_lexer": "ipython3",
   "version": "3.7.3"
  }
 },
 "nbformat": 4,
 "nbformat_minor": 2
}
