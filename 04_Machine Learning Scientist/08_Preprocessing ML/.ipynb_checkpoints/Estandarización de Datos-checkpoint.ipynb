{
 "cells": [
  {
   "cell_type": "markdown",
   "id": "ca1291b4-405a-40d5-a263-0a27fa59f340",
   "metadata": {},
   "source": [
    "Es posible encontrar conjuntos de datos con mucho ruido numérico incorporado, con mucha variación o datos de diferentes escala.\n",
    "\n",
    "La solución para esta problema es la estandarización.\n",
    "\n",
    "La estandarización es un método de procesamiento utilizado para transformar datos continuos para que parezcan distribución normal.\n",
    "\n",
    "En scikit-learn asumimos normalidad en los datos, se puede correr el riesgo de sesgar el modelo.\n",
    "\n",
    "En este cuaderno veremos 2 métodos : *normalización y escalado* (Datos númericos continuos)\n",
    "\n",
    "Escenarios diferentes en los que deseamos estandarizar los datos : \n",
    "- Modelos que utilizan una métrica de distancia lineal (K-vecinos, regresión líneal, K-medias) ya que estos modelos asumen una relación líneal.\n",
    "- Variaciones altas entre columnas, afecta en la capacidad del modelo para aprender de otras características en el conjunto de datos.\n",
    "- Suposición de espacios lineales."
   ]
  },
  {
   "cell_type": "code",
   "execution_count": 2,
   "id": "d7aedb00-7110-467e-b4b5-c8912b369919",
   "metadata": {},
   "outputs": [
    {
     "data": {
      "text/html": [
       "<div>\n",
       "<style scoped>\n",
       "    .dataframe tbody tr th:only-of-type {\n",
       "        vertical-align: middle;\n",
       "    }\n",
       "\n",
       "    .dataframe tbody tr th {\n",
       "        vertical-align: top;\n",
       "    }\n",
       "\n",
       "    .dataframe thead th {\n",
       "        text-align: right;\n",
       "    }\n",
       "</style>\n",
       "<table border=\"1\" class=\"dataframe\">\n",
       "  <thead>\n",
       "    <tr style=\"text-align: right;\">\n",
       "      <th></th>\n",
       "      <th>Type</th>\n",
       "      <th>Alcohol</th>\n",
       "      <th>Malic acid</th>\n",
       "      <th>Ash</th>\n",
       "      <th>Alcalinity of ash</th>\n",
       "      <th>Magnesium</th>\n",
       "      <th>Total phenols</th>\n",
       "      <th>Flavanoids</th>\n",
       "      <th>Nonflavanoid phenols</th>\n",
       "      <th>Proanthocyanins</th>\n",
       "      <th>Color intensity</th>\n",
       "      <th>Hue</th>\n",
       "      <th>OD280/OD315 of diluted wines</th>\n",
       "      <th>Proline</th>\n",
       "    </tr>\n",
       "  </thead>\n",
       "  <tbody>\n",
       "    <tr>\n",
       "      <th>0</th>\n",
       "      <td>1</td>\n",
       "      <td>14.23</td>\n",
       "      <td>1.71</td>\n",
       "      <td>2.43</td>\n",
       "      <td>15.6</td>\n",
       "      <td>127</td>\n",
       "      <td>2.80</td>\n",
       "      <td>3.06</td>\n",
       "      <td>0.28</td>\n",
       "      <td>2.29</td>\n",
       "      <td>5.64</td>\n",
       "      <td>1.04</td>\n",
       "      <td>3.92</td>\n",
       "      <td>1065</td>\n",
       "    </tr>\n",
       "    <tr>\n",
       "      <th>1</th>\n",
       "      <td>1</td>\n",
       "      <td>13.20</td>\n",
       "      <td>1.78</td>\n",
       "      <td>2.14</td>\n",
       "      <td>11.2</td>\n",
       "      <td>100</td>\n",
       "      <td>2.65</td>\n",
       "      <td>2.76</td>\n",
       "      <td>0.26</td>\n",
       "      <td>1.28</td>\n",
       "      <td>4.38</td>\n",
       "      <td>1.05</td>\n",
       "      <td>3.40</td>\n",
       "      <td>1050</td>\n",
       "    </tr>\n",
       "    <tr>\n",
       "      <th>2</th>\n",
       "      <td>1</td>\n",
       "      <td>13.16</td>\n",
       "      <td>2.36</td>\n",
       "      <td>2.67</td>\n",
       "      <td>18.6</td>\n",
       "      <td>101</td>\n",
       "      <td>2.80</td>\n",
       "      <td>3.24</td>\n",
       "      <td>0.30</td>\n",
       "      <td>2.81</td>\n",
       "      <td>5.68</td>\n",
       "      <td>1.03</td>\n",
       "      <td>3.17</td>\n",
       "      <td>1185</td>\n",
       "    </tr>\n",
       "    <tr>\n",
       "      <th>3</th>\n",
       "      <td>1</td>\n",
       "      <td>14.37</td>\n",
       "      <td>1.95</td>\n",
       "      <td>2.50</td>\n",
       "      <td>16.8</td>\n",
       "      <td>113</td>\n",
       "      <td>3.85</td>\n",
       "      <td>3.49</td>\n",
       "      <td>0.24</td>\n",
       "      <td>2.18</td>\n",
       "      <td>7.80</td>\n",
       "      <td>0.86</td>\n",
       "      <td>3.45</td>\n",
       "      <td>1480</td>\n",
       "    </tr>\n",
       "    <tr>\n",
       "      <th>4</th>\n",
       "      <td>1</td>\n",
       "      <td>13.24</td>\n",
       "      <td>2.59</td>\n",
       "      <td>2.87</td>\n",
       "      <td>21.0</td>\n",
       "      <td>118</td>\n",
       "      <td>2.80</td>\n",
       "      <td>2.69</td>\n",
       "      <td>0.39</td>\n",
       "      <td>1.82</td>\n",
       "      <td>4.32</td>\n",
       "      <td>1.04</td>\n",
       "      <td>2.93</td>\n",
       "      <td>735</td>\n",
       "    </tr>\n",
       "  </tbody>\n",
       "</table>\n",
       "</div>"
      ],
      "text/plain": [
       "   Type  Alcohol  Malic acid   Ash  Alcalinity of ash  Magnesium  \\\n",
       "0     1    14.23        1.71  2.43               15.6        127   \n",
       "1     1    13.20        1.78  2.14               11.2        100   \n",
       "2     1    13.16        2.36  2.67               18.6        101   \n",
       "3     1    14.37        1.95  2.50               16.8        113   \n",
       "4     1    13.24        2.59  2.87               21.0        118   \n",
       "\n",
       "   Total phenols  Flavanoids  Nonflavanoid phenols  Proanthocyanins  \\\n",
       "0           2.80        3.06                  0.28             2.29   \n",
       "1           2.65        2.76                  0.26             1.28   \n",
       "2           2.80        3.24                  0.30             2.81   \n",
       "3           3.85        3.49                  0.24             2.18   \n",
       "4           2.80        2.69                  0.39             1.82   \n",
       "\n",
       "   Color intensity   Hue  OD280/OD315 of diluted wines  Proline  \n",
       "0             5.64  1.04                          3.92     1065  \n",
       "1             4.38  1.05                          3.40     1050  \n",
       "2             5.68  1.03                          3.17     1185  \n",
       "3             7.80  0.86                          3.45     1480  \n",
       "4             4.32  1.04                          2.93      735  "
      ]
     },
     "execution_count": 2,
     "metadata": {},
     "output_type": "execute_result"
    }
   ],
   "source": [
    "import pandas as pd\n",
    "\n",
    "wine = pd.read_csv(\"https://assets.datacamp.com/production/repositories/1816/datasets/9bd5350dfdb481e0f94eeef6acf2663452a8ef8b/wine_types.csv\")\n",
    "\n",
    "wine.head()"
   ]
  },
  {
   "cell_type": "markdown",
   "id": "2c113bca-09bf-4cd8-9c88-0bdc265e218e",
   "metadata": {},
   "source": [
    "Crearemos un modelo sencillo KNeigborsClassifier y veremos diferentes métodos para normalizar."
   ]
  },
  {
   "cell_type": "code",
   "execution_count": 52,
   "id": "dc814682-d1dd-4ea5-b5a8-743a9174ab9c",
   "metadata": {},
   "outputs": [
    {
     "data": {
      "text/html": [
       "<div>\n",
       "<style scoped>\n",
       "    .dataframe tbody tr th:only-of-type {\n",
       "        vertical-align: middle;\n",
       "    }\n",
       "\n",
       "    .dataframe tbody tr th {\n",
       "        vertical-align: top;\n",
       "    }\n",
       "\n",
       "    .dataframe thead th {\n",
       "        text-align: right;\n",
       "    }\n",
       "</style>\n",
       "<table border=\"1\" class=\"dataframe\">\n",
       "  <thead>\n",
       "    <tr style=\"text-align: right;\">\n",
       "      <th></th>\n",
       "      <th>Proline</th>\n",
       "      <th>Total phenols</th>\n",
       "      <th>Hue</th>\n",
       "      <th>Nonflavanoid phenols</th>\n",
       "    </tr>\n",
       "  </thead>\n",
       "  <tbody>\n",
       "    <tr>\n",
       "      <th>133</th>\n",
       "      <td>600</td>\n",
       "      <td>1.70</td>\n",
       "      <td>0.78</td>\n",
       "      <td>0.17</td>\n",
       "    </tr>\n",
       "    <tr>\n",
       "      <th>118</th>\n",
       "      <td>372</td>\n",
       "      <td>1.63</td>\n",
       "      <td>0.70</td>\n",
       "      <td>0.43</td>\n",
       "    </tr>\n",
       "    <tr>\n",
       "      <th>39</th>\n",
       "      <td>760</td>\n",
       "      <td>3.00</td>\n",
       "      <td>0.89</td>\n",
       "      <td>0.20</td>\n",
       "    </tr>\n",
       "    <tr>\n",
       "      <th>49</th>\n",
       "      <td>1260</td>\n",
       "      <td>2.88</td>\n",
       "      <td>1.12</td>\n",
       "      <td>0.32</td>\n",
       "    </tr>\n",
       "    <tr>\n",
       "      <th>16</th>\n",
       "      <td>1280</td>\n",
       "      <td>2.80</td>\n",
       "      <td>1.07</td>\n",
       "      <td>0.33</td>\n",
       "    </tr>\n",
       "  </tbody>\n",
       "</table>\n",
       "</div>"
      ],
      "text/plain": [
       "     Proline  Total phenols   Hue  Nonflavanoid phenols\n",
       "133      600           1.70  0.78                  0.17\n",
       "118      372           1.63  0.70                  0.43\n",
       "39       760           3.00  0.89                  0.20\n",
       "49      1260           2.88  1.12                  0.32\n",
       "16      1280           2.80  1.07                  0.33"
      ]
     },
     "execution_count": 52,
     "metadata": {},
     "output_type": "execute_result"
    }
   ],
   "source": [
    "from sklearn.model_selection import train_test_split\n",
    "\n",
    "#Necesitamos tener muestras balanceados.\n",
    "#Podemos usar muestreo estratificado, tiene en cuenta la distribución de clases o características en el conjunto de datos.\n",
    "\n",
    "wine_X =  wine.loc[:,['Proline', 'Total phenols', 'Hue', 'Nonflavanoid phenols']]\n",
    "wine_y = wine.loc[:,'Type']\n",
    "\n",
    "X_train, X_test, y_train, y_test = train_test_split(wine_X, wine_y, stratify = wine_y)\n",
    "\n",
    "X_train.head()"
   ]
  },
  {
   "cell_type": "code",
   "execution_count": 53,
   "id": "57df61ed-3178-4efd-b9f9-3c31d4515f9d",
   "metadata": {},
   "outputs": [
    {
     "name": "stdout",
     "output_type": "stream",
     "text": [
      "----Datos de entrenamiento----\n",
      "2    53\n",
      "1    44\n",
      "3    36\n",
      "Name: Type, dtype: int64\n",
      "\n",
      "----Datos de test balanceados----\n",
      "2    18\n",
      "1    15\n",
      "3    12\n",
      "Name: Type, dtype: int64\n"
     ]
    }
   ],
   "source": [
    "print(\"----Datos de entrenamiento----\")\n",
    "print(y_train.value_counts())\n",
    "print(\"\")\n",
    "print(\"----Datos de test balanceados----\")\n",
    "print(y_test.value_counts())"
   ]
  },
  {
   "cell_type": "markdown",
   "id": "5bc9b388-2a02-4baf-b256-4eebd8a57266",
   "metadata": {},
   "source": [
    "**Modelando sin normalizar**"
   ]
  },
  {
   "cell_type": "code",
   "execution_count": 54,
   "id": "cfda3b61-94e8-4b64-9a21-23a26287ec46",
   "metadata": {},
   "outputs": [
    {
     "name": "stdout",
     "output_type": "stream",
     "text": [
      "0.6\n"
     ]
    }
   ],
   "source": [
    "from sklearn.neighbors import KNeighborsClassifier\n",
    "\n",
    "knn = KNeighborsClassifier(n_neighbors=3)\n",
    "knn.fit(X_train, y_train)\n",
    "\n",
    "print(knn.score(X_test, y_test))"
   ]
  },
  {
   "cell_type": "markdown",
   "id": "90da8fe1-1339-4d79-a2da-30bdd0b99568",
   "metadata": {},
   "source": [
    "**Log normalización** : Útil cuando una columna tiene una alta varianza, es buena estrategia cuando nos importan los cambios relativos en un modelo.\n",
    "\n",
    "En nuestro modelo anterior podemos ver que la columna Propeline tiene una varianza muy alta, lo que está afectando al clasificador"
   ]
  },
  {
   "cell_type": "code",
   "execution_count": 55,
   "id": "7a1e8366-7406-4a89-87fa-db0137171328",
   "metadata": {},
   "outputs": [
    {
     "data": {
      "text/plain": [
       "Proline                 99166.717355\n",
       "Total phenols               0.391690\n",
       "Hue                         0.052245\n",
       "Nonflavanoid phenols        0.015489\n",
       "log_Proline                 0.172314\n",
       "dtype: float64"
      ]
     },
     "execution_count": 55,
     "metadata": {},
     "output_type": "execute_result"
    }
   ],
   "source": [
    "import numpy as np\n",
    "\n",
    "wine_X['log_Proline'] = np.log(wine_X['Proline'])\n",
    "wine_X.var()"
   ]
  },
  {
   "cell_type": "markdown",
   "id": "115ffe09-ada2-4800-bb6b-1d6bf749e00a",
   "metadata": {},
   "source": [
    "**Escalamiento de datos** : Útil cuando tenemos diferentes escalas, modelo que opera en algún espacio lineal.\n",
    "\n",
    "El escalado transforma las características para tener media 0 y varianza 1."
   ]
  },
  {
   "cell_type": "code",
   "execution_count": 56,
   "id": "bf927bb8-ff81-4ed9-947b-10496ecc989c",
   "metadata": {},
   "outputs": [
    {
     "data": {
      "text/html": [
       "<div>\n",
       "<style scoped>\n",
       "    .dataframe tbody tr th:only-of-type {\n",
       "        vertical-align: middle;\n",
       "    }\n",
       "\n",
       "    .dataframe tbody tr th {\n",
       "        vertical-align: top;\n",
       "    }\n",
       "\n",
       "    .dataframe thead th {\n",
       "        text-align: right;\n",
       "    }\n",
       "</style>\n",
       "<table border=\"1\" class=\"dataframe\">\n",
       "  <thead>\n",
       "    <tr style=\"text-align: right;\">\n",
       "      <th></th>\n",
       "      <th>Total phenols</th>\n",
       "      <th>Hue</th>\n",
       "      <th>Nonflavanoid phenols</th>\n",
       "      <th>log_Proline</th>\n",
       "    </tr>\n",
       "  </thead>\n",
       "  <tbody>\n",
       "    <tr>\n",
       "      <th>0</th>\n",
       "      <td>0.808997</td>\n",
       "      <td>0.362177</td>\n",
       "      <td>-0.659563</td>\n",
       "      <td>1.063991</td>\n",
       "    </tr>\n",
       "    <tr>\n",
       "      <th>1</th>\n",
       "      <td>0.568648</td>\n",
       "      <td>0.406051</td>\n",
       "      <td>-0.820719</td>\n",
       "      <td>1.029723</td>\n",
       "    </tr>\n",
       "    <tr>\n",
       "      <th>2</th>\n",
       "      <td>0.808997</td>\n",
       "      <td>0.318304</td>\n",
       "      <td>-0.498407</td>\n",
       "      <td>1.321922</td>\n",
       "    </tr>\n",
       "    <tr>\n",
       "      <th>3</th>\n",
       "      <td>2.491446</td>\n",
       "      <td>-0.427544</td>\n",
       "      <td>-0.981875</td>\n",
       "      <td>1.858956</td>\n",
       "    </tr>\n",
       "    <tr>\n",
       "      <th>4</th>\n",
       "      <td>0.808997</td>\n",
       "      <td>0.362177</td>\n",
       "      <td>0.226796</td>\n",
       "      <td>0.168063</td>\n",
       "    </tr>\n",
       "  </tbody>\n",
       "</table>\n",
       "</div>"
      ],
      "text/plain": [
       "   Total phenols       Hue  Nonflavanoid phenols  log_Proline\n",
       "0       0.808997  0.362177             -0.659563     1.063991\n",
       "1       0.568648  0.406051             -0.820719     1.029723\n",
       "2       0.808997  0.318304             -0.498407     1.321922\n",
       "3       2.491446 -0.427544             -0.981875     1.858956\n",
       "4       0.808997  0.362177              0.226796     0.168063"
      ]
     },
     "execution_count": 56,
     "metadata": {},
     "output_type": "execute_result"
    }
   ],
   "source": [
    "from sklearn.preprocessing import StandardScaler\n",
    "\n",
    "scaler = StandardScaler()\n",
    "\n",
    "wine_X = wine_X.drop(\"Proline\", axis = 1)\n",
    "\n",
    "wine_scaled = pd.DataFrame(scaler.fit_transform(wine_X), columns = wine_X.columns)\n",
    "\n",
    "wine_scaled.head()"
   ]
  },
  {
   "cell_type": "markdown",
   "id": "34268ca4-3aad-49e8-8ee2-eb1282978159",
   "metadata": {},
   "source": [
    "Este método funciona eliminando la media y escalando cada característica para tener una varianza unitaria."
   ]
  },
  {
   "cell_type": "code",
   "execution_count": 57,
   "id": "4c82a923-b9f5-407f-9210-d03557597dd0",
   "metadata": {},
   "outputs": [
    {
     "data": {
      "text/plain": [
       "Total phenols           1.00565\n",
       "Hue                     1.00565\n",
       "Nonflavanoid phenols    1.00565\n",
       "log_Proline             1.00565\n",
       "dtype: float64"
      ]
     },
     "execution_count": 57,
     "metadata": {},
     "output_type": "execute_result"
    }
   ],
   "source": [
    "wine_scaled.var()"
   ]
  },
  {
   "cell_type": "code",
   "execution_count": 60,
   "id": "33d32b50-9e2a-4a77-99a9-393f3960ddfc",
   "metadata": {},
   "outputs": [
    {
     "name": "stdout",
     "output_type": "stream",
     "text": [
      "0.8888888888888888\n"
     ]
    }
   ],
   "source": [
    "#Modelando con datos escalados.\n",
    "X_train, X_test, y_train, y_test = train_test_split(wine_scaled, y)\n",
    "\n",
    "# Fit the k-nearest neighbors model to the training data.\n",
    "knn.fit(X_train, y_train)\n",
    "\n",
    "# Score the model on the test data.\n",
    "print(knn.score(X_test, y_test))"
   ]
  },
  {
   "cell_type": "markdown",
   "id": "586001bf-e255-4a88-911b-727c24af2284",
   "metadata": {},
   "source": [
    "**El primer modelo sin estandarizar nos dio una presición de .6 con los datos escalados se vio un incremento al .88**"
   ]
  }
 ],
 "metadata": {
  "kernelspec": {
   "display_name": "Python 3 (ipykernel)",
   "language": "python",
   "name": "python3"
  },
  "language_info": {
   "codemirror_mode": {
    "name": "ipython",
    "version": 3
   },
   "file_extension": ".py",
   "mimetype": "text/x-python",
   "name": "python",
   "nbconvert_exporter": "python",
   "pygments_lexer": "ipython3",
   "version": "3.9.7"
  }
 },
 "nbformat": 4,
 "nbformat_minor": 5
}
