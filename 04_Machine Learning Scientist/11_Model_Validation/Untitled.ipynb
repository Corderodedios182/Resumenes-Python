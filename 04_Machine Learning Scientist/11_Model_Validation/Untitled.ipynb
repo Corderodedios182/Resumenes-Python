{
 "cells": [
  {
   "cell_type": "markdown",
   "id": "dbe42042-1d96-4fc4-bfda-a47b3a155503",
   "metadata": {},
   "source": [
    "### ¿Qué es la validación de un modelo?\n",
    "\n",
    "La validación del modelo consiste en:\n",
    "- Asegurarse de que su modelo funciona según lo esperado en datos nuevos.\n",
    "\n",
    "- Probar el rendimiento del modelo en conjuntos de datos retenidos.\n",
    "\n",
    "- Seleccionar el mejor modelo, parámetros y métricas de precisión.\n",
    "\n",
    "- Lograr la mejor precisión para los datos proporcionados.\n"
   ]
  },
  {
   "cell_type": "code",
   "execution_count": null,
   "id": "989ca64c-11ef-4937-a43d-b87f69dd5e0d",
   "metadata": {},
   "outputs": [],
   "source": [
    "import pandas as pd\n",
    "\n"
   ]
  }
 ],
 "metadata": {
  "kernelspec": {
   "display_name": "Python 3 (ipykernel)",
   "language": "python",
   "name": "python3"
  },
  "language_info": {
   "codemirror_mode": {
    "name": "ipython",
    "version": 3
   },
   "file_extension": ".py",
   "mimetype": "text/x-python",
   "name": "python",
   "nbconvert_exporter": "python",
   "pygments_lexer": "ipython3",
   "version": "3.9.12"
  }
 },
 "nbformat": 4,
 "nbformat_minor": 5
}
