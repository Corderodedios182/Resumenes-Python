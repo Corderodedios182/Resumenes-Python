{
 "cells": [
  {
   "cell_type": "markdown",
   "id": "e61b0de8-787b-4d88-8f81-7f7ff893e144",
   "metadata": {},
   "source": [
    "## ETL API https://rickandmortyapi.com/api/ \n",
    "\n",
    "## Almacenamiento de datos AWS-S3"
   ]
  },
  {
   "cell_type": "code",
   "execution_count": 2,
   "id": "65c4a078-a05d-4bd6-8c21-87ae8971ea7c",
   "metadata": {},
   "outputs": [],
   "source": [
    "import boto3 as b3\n",
    "import pandas as pd\n",
    "import datetime as dt\n",
    "\n",
    "from package import rickandmortyapi"
   ]
  },
  {
   "cell_type": "markdown",
   "id": "f19f9bc1-4e28-4cc6-9d9a-e4b8e76dd6ea",
   "metadata": {},
   "source": [
    "### Variables del notebook."
   ]
  },
  {
   "cell_type": "code",
   "execution_count": 3,
   "id": "9e98cd61-c0ca-4d1d-b205-006677885dad",
   "metadata": {},
   "outputs": [],
   "source": [
    "aws_credentials = pd.read_csv(\"new_user_credentials.csv\")\n",
    "bucket_name     = \"rickandmorty1046\"\n",
    "file            = 'data/db_character.csv'\n",
    "currDate        = dt.datetime.now()"
   ]
  },
  {
   "cell_type": "markdown",
   "id": "8320e72b-7838-4833-815f-5cee47d45cdc",
   "metadata": {},
   "source": [
    "### Uso del paquete **rickandmorty** para extraer los datos."
   ]
  },
  {
   "cell_type": "code",
   "execution_count": 4,
   "id": "dd8ce016-34c6-4cb2-8476-d6c7b66de4a3",
   "metadata": {},
   "outputs": [
    {
     "data": {
      "text/html": [
       "<div>\n",
       "<style scoped>\n",
       "    .dataframe tbody tr th:only-of-type {\n",
       "        vertical-align: middle;\n",
       "    }\n",
       "\n",
       "    .dataframe tbody tr th {\n",
       "        vertical-align: top;\n",
       "    }\n",
       "\n",
       "    .dataframe thead th {\n",
       "        text-align: right;\n",
       "    }\n",
       "</style>\n",
       "<table border=\"1\" class=\"dataframe\">\n",
       "  <thead>\n",
       "    <tr style=\"text-align: right;\">\n",
       "      <th></th>\n",
       "      <th>id</th>\n",
       "      <th>name</th>\n",
       "      <th>status</th>\n",
       "      <th>species</th>\n",
       "      <th>type</th>\n",
       "      <th>gender</th>\n",
       "      <th>origin</th>\n",
       "      <th>location</th>\n",
       "      <th>image</th>\n",
       "      <th>episode</th>\n",
       "      <th>url</th>\n",
       "      <th>created</th>\n",
       "      <th>page</th>\n",
       "    </tr>\n",
       "  </thead>\n",
       "  <tbody>\n",
       "    <tr>\n",
       "      <th>0</th>\n",
       "      <td>1</td>\n",
       "      <td>Rick Sanchez</td>\n",
       "      <td>Alive</td>\n",
       "      <td>Human</td>\n",
       "      <td></td>\n",
       "      <td>Male</td>\n",
       "      <td>{'name': 'Earth (C-137)', 'url': 'https://rick...</td>\n",
       "      <td>{'name': 'Citadel of Ricks', 'url': 'https://r...</td>\n",
       "      <td>https://rickandmortyapi.com/api/character/avat...</td>\n",
       "      <td>[https://rickandmortyapi.com/api/episode/1, ht...</td>\n",
       "      <td>https://rickandmortyapi.com/api/character/1</td>\n",
       "      <td>2017-11-04T18:48:46.250Z</td>\n",
       "      <td>1</td>\n",
       "    </tr>\n",
       "    <tr>\n",
       "      <th>1</th>\n",
       "      <td>2</td>\n",
       "      <td>Morty Smith</td>\n",
       "      <td>Alive</td>\n",
       "      <td>Human</td>\n",
       "      <td></td>\n",
       "      <td>Male</td>\n",
       "      <td>{'name': 'unknown', 'url': ''}</td>\n",
       "      <td>{'name': 'Citadel of Ricks', 'url': 'https://r...</td>\n",
       "      <td>https://rickandmortyapi.com/api/character/avat...</td>\n",
       "      <td>[https://rickandmortyapi.com/api/episode/1, ht...</td>\n",
       "      <td>https://rickandmortyapi.com/api/character/2</td>\n",
       "      <td>2017-11-04T18:50:21.651Z</td>\n",
       "      <td>1</td>\n",
       "    </tr>\n",
       "    <tr>\n",
       "      <th>2</th>\n",
       "      <td>3</td>\n",
       "      <td>Summer Smith</td>\n",
       "      <td>Alive</td>\n",
       "      <td>Human</td>\n",
       "      <td></td>\n",
       "      <td>Female</td>\n",
       "      <td>{'name': 'Earth (Replacement Dimension)', 'url...</td>\n",
       "      <td>{'name': 'Earth (Replacement Dimension)', 'url...</td>\n",
       "      <td>https://rickandmortyapi.com/api/character/avat...</td>\n",
       "      <td>[https://rickandmortyapi.com/api/episode/6, ht...</td>\n",
       "      <td>https://rickandmortyapi.com/api/character/3</td>\n",
       "      <td>2017-11-04T19:09:56.428Z</td>\n",
       "      <td>1</td>\n",
       "    </tr>\n",
       "    <tr>\n",
       "      <th>3</th>\n",
       "      <td>4</td>\n",
       "      <td>Beth Smith</td>\n",
       "      <td>Alive</td>\n",
       "      <td>Human</td>\n",
       "      <td></td>\n",
       "      <td>Female</td>\n",
       "      <td>{'name': 'Earth (Replacement Dimension)', 'url...</td>\n",
       "      <td>{'name': 'Earth (Replacement Dimension)', 'url...</td>\n",
       "      <td>https://rickandmortyapi.com/api/character/avat...</td>\n",
       "      <td>[https://rickandmortyapi.com/api/episode/6, ht...</td>\n",
       "      <td>https://rickandmortyapi.com/api/character/4</td>\n",
       "      <td>2017-11-04T19:22:43.665Z</td>\n",
       "      <td>1</td>\n",
       "    </tr>\n",
       "    <tr>\n",
       "      <th>4</th>\n",
       "      <td>5</td>\n",
       "      <td>Jerry Smith</td>\n",
       "      <td>Alive</td>\n",
       "      <td>Human</td>\n",
       "      <td></td>\n",
       "      <td>Male</td>\n",
       "      <td>{'name': 'Earth (Replacement Dimension)', 'url...</td>\n",
       "      <td>{'name': 'Earth (Replacement Dimension)', 'url...</td>\n",
       "      <td>https://rickandmortyapi.com/api/character/avat...</td>\n",
       "      <td>[https://rickandmortyapi.com/api/episode/6, ht...</td>\n",
       "      <td>https://rickandmortyapi.com/api/character/5</td>\n",
       "      <td>2017-11-04T19:26:56.301Z</td>\n",
       "      <td>1</td>\n",
       "    </tr>\n",
       "  </tbody>\n",
       "</table>\n",
       "</div>"
      ],
      "text/plain": [
       "   id          name status species type  gender  \\\n",
       "0   1  Rick Sanchez  Alive   Human         Male   \n",
       "1   2   Morty Smith  Alive   Human         Male   \n",
       "2   3  Summer Smith  Alive   Human       Female   \n",
       "3   4    Beth Smith  Alive   Human       Female   \n",
       "4   5   Jerry Smith  Alive   Human         Male   \n",
       "\n",
       "                                              origin  \\\n",
       "0  {'name': 'Earth (C-137)', 'url': 'https://rick...   \n",
       "1                     {'name': 'unknown', 'url': ''}   \n",
       "2  {'name': 'Earth (Replacement Dimension)', 'url...   \n",
       "3  {'name': 'Earth (Replacement Dimension)', 'url...   \n",
       "4  {'name': 'Earth (Replacement Dimension)', 'url...   \n",
       "\n",
       "                                            location  \\\n",
       "0  {'name': 'Citadel of Ricks', 'url': 'https://r...   \n",
       "1  {'name': 'Citadel of Ricks', 'url': 'https://r...   \n",
       "2  {'name': 'Earth (Replacement Dimension)', 'url...   \n",
       "3  {'name': 'Earth (Replacement Dimension)', 'url...   \n",
       "4  {'name': 'Earth (Replacement Dimension)', 'url...   \n",
       "\n",
       "                                               image  \\\n",
       "0  https://rickandmortyapi.com/api/character/avat...   \n",
       "1  https://rickandmortyapi.com/api/character/avat...   \n",
       "2  https://rickandmortyapi.com/api/character/avat...   \n",
       "3  https://rickandmortyapi.com/api/character/avat...   \n",
       "4  https://rickandmortyapi.com/api/character/avat...   \n",
       "\n",
       "                                             episode  \\\n",
       "0  [https://rickandmortyapi.com/api/episode/1, ht...   \n",
       "1  [https://rickandmortyapi.com/api/episode/1, ht...   \n",
       "2  [https://rickandmortyapi.com/api/episode/6, ht...   \n",
       "3  [https://rickandmortyapi.com/api/episode/6, ht...   \n",
       "4  [https://rickandmortyapi.com/api/episode/6, ht...   \n",
       "\n",
       "                                           url                   created  page  \n",
       "0  https://rickandmortyapi.com/api/character/1  2017-11-04T18:48:46.250Z     1  \n",
       "1  https://rickandmortyapi.com/api/character/2  2017-11-04T18:50:21.651Z     1  \n",
       "2  https://rickandmortyapi.com/api/character/3  2017-11-04T19:09:56.428Z     1  \n",
       "3  https://rickandmortyapi.com/api/character/4  2017-11-04T19:22:43.665Z     1  \n",
       "4  https://rickandmortyapi.com/api/character/5  2017-11-04T19:26:56.301Z     1  "
      ]
     },
     "execution_count": 4,
     "metadata": {},
     "output_type": "execute_result"
    }
   ],
   "source": [
    "db_characters = rickandmortyapi.extract_character(start_page = 1, end_pages = 40)\n",
    "db_characters.to_csv(file)\n",
    "db_characters.head()"
   ]
  },
  {
   "cell_type": "markdown",
   "id": "b5898017-9659-43be-a7f1-c2c24eacd29b",
   "metadata": {},
   "source": [
    "### Conexión a **S3** y listado de buckets."
   ]
  },
  {
   "cell_type": "code",
   "execution_count": 5,
   "id": "688d55a0-1ca7-4c82-9eca-34ad1689890e",
   "metadata": {},
   "outputs": [
    {
     "name": "stdout",
     "output_type": "stream",
     "text": [
      "{'Name': 'elasticbeanstalk-us-east-2-003709122169', 'CreationDate': datetime.datetime(2022, 6, 6, 17, 19, 19, tzinfo=tzutc())}\n",
      "{'Name': 'rickandmorty1046', 'CreationDate': datetime.datetime(2022, 6, 12, 2, 13, 8, tzinfo=tzutc())}\n"
     ]
    }
   ],
   "source": [
    "AWS_KEY_ID = aws_credentials['Access key ID'][0]\n",
    "AWS_SECRET = aws_credentials['Secret access key'][0]\n",
    "\n",
    "s3 = b3.client('s3', \n",
    "               aws_access_key_id = AWS_KEY_ID,\n",
    "               aws_secret_access_key = AWS_SECRET)\n",
    "\n",
    "buckets_resp = s3.list_buckets()\n",
    "\n",
    "for bucket in buckets_resp[\"Buckets\"]:\n",
    "    print(bucket)"
   ]
  },
  {
   "cell_type": "markdown",
   "id": "210838ce-f9d3-4652-9db1-9dc4e9d2a690",
   "metadata": {},
   "source": [
    "### Carga de datos a **S3**"
   ]
  },
  {
   "cell_type": "code",
   "execution_count": 6,
   "id": "01967d5a-3167-4c6d-b8cc-aef2b6e88d75",
   "metadata": {},
   "outputs": [],
   "source": [
    "s3.upload_file(Filename = file,\n",
    "               Bucket   = bucket_name,\n",
    "               Key      = 'db_character_{}.csv'.format(currDate))"
   ]
  },
  {
   "cell_type": "code",
   "execution_count": 7,
   "id": "3501a2c2-ded8-414f-9add-08df18372673",
   "metadata": {},
   "outputs": [
    {
     "name": "stdout",
     "output_type": "stream",
     "text": [
      "{'Key': 'db_character_2022-06-11 20:22:30.982890.csv', 'LastModified': datetime.datetime(2022, 6, 12, 2, 14, 4, tzinfo=tzutc()), 'ETag': '\"efc66537c088efaa52a30de6b6d190e4\"', 'Size': 317564, 'StorageClass': 'STANDARD'}\n",
      "{'Key': 'db_character_2022-06-12 20:09:54.500863.csv', 'LastModified': datetime.datetime(2022, 6, 13, 1, 10, 39, tzinfo=tzutc()), 'ETag': '\"efc66537c088efaa52a30de6b6d190e4\"', 'Size': 317564, 'StorageClass': 'STANDARD'}\n"
     ]
    }
   ],
   "source": [
    "response = s3.list_objects_v2(Bucket = bucket_name)\n",
    "\n",
    "for obj in response[\"Contents\"]:\n",
    "    print(obj)"
   ]
  }
 ],
 "metadata": {
  "kernelspec": {
   "display_name": "Python 3.9.7 ('base')",
   "language": "python",
   "name": "python3"
  },
  "language_info": {
   "codemirror_mode": {
    "name": "ipython",
    "version": 3
   },
   "file_extension": ".py",
   "mimetype": "text/x-python",
   "name": "python",
   "nbconvert_exporter": "python",
   "pygments_lexer": "ipython3",
   "version": "3.9.7"
  },
  "vscode": {
   "interpreter": {
    "hash": "c621707852c7bb2f47ddfbb11ea61ea996c65ba64fa276325653eb4254fbd727"
   }
  }
 },
 "nbformat": 4,
 "nbformat_minor": 5
}
