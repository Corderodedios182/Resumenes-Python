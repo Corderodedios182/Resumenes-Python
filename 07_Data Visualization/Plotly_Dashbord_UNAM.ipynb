{
 "cells": [
  {
   "cell_type": "markdown",
   "metadata": {},
   "source": [
    "# Dashbord alojado en Heroku y desarrollado con Python-Plotly.\n",
    "\n",
    "Me cuestionaba mucho, ¿Que tan dificil es realizar un Dashbord de forma gratuita y libre?, ¿Donde lo alojaría?, ¿Cual sería la Arquitectura?.\n",
    "\n",
    "En el siguiente link puedes ver el resultado: https://unam-derecho-animal.herokuapp.com/\n",
    "\n",
    "Alojado en Heroku: https://www.heroku.com/\n",
    "\n",
    "Y hecho con Plotly:https://plotly.com/\n",
    "\n",
    "### ¿Que es Heroku?\n",
    "\n",
    "Si en tu día a día te encuentras desarrollando apps, debes ser consciente que el impacto inicia cuando comienzas a tener usuarios, por esto es importante lanzar tu aplicación sin tener complicaciones de infraestructura, administrar servidores, tus bases de datos y la seguridad que estos deben de tener entre otras cosas.\n",
    "\n",
    "En el mercado existen una serie de alternativas conocidas como PaaS (Platform as a Service) o “Plataformas como Servicios” que, además de ser la evolución de las IaaS (Infraestructura como Servicio), como EC2 de Amazon donde te dan un servidor y tu te encargas de provisionarlos y administrarlos con PaaS, te puedes olvida de todas estas cuestiones de administración, pues utilizas directamente una plataforma que lo hace por tí.\n",
    "\n",
    "Heroku es uno de los PaaS más utilizados en la actualidad en entornos empresariales por su fuerte enfoque en resolver el despliegue de una aplicación. Ademas te permite manejar los servidores y sus configuraciones, escalamiento y la administración. A Heroku solo le dices qué lenguaje de backend estás utilizando o qué base de datos vas a utilizar y te preocupas únicamente por el desarrollo de tu aplicación.\n",
    "\n",
    "### ¿Quién utiliza Heroku?\n",
    "\n",
    "Heroku tiene su clientela bien definida: empresas que quieren dejar de preocuparse por cuestiones de infraestructura y sólo enfocarse en el desarrollo. Por lo general estas suelen ser empresas grandes o startups que prefieren no invertir en un equipo de operaciones cuando están en una etapa temprana, y su prioridad debe ser hacer un producto que las personas quieran.\n",
    "\n",
    "Heroku tiene dos tiers, o niveles, para personas interesadas en aprender: una versión gratuita similar a la de now.sh, que entra en modo “sleep” cada 30 minutos sin tráfico, y otra de 7 USD que compite con el servicio básico de 5 USD al mes que ofrece Digital Ocean, pero agregar las ventajas de que nuestros servidores sean administrados por nosotros.\n",
    "\n",
    "### ¿Que es Plotly?\n",
    "\n",
    "Plotly es una empresa de informática técnica con sede en Montreal, Quebec, que desarrolla herramientas de análisis y visualización de datos en línea.\n",
    "Plotly proporciona herramientas de gráficos, análisis y estadísticas en línea para individuos y colaboración, así como bibliotecas de gráficos científicos para Python, R, MATLAB, Perl, Julia, Arduino y REST.\n",
    "\n",
    "##### Todo el código lo puedes encontrar en: https://github.com/Corderodedios182/Dashbord_UNAM_DerechoAnimal\n",
    "\n",
    "### Ventajas:\n",
    "\n",
    "    -Código libre.\n",
    "    -Gran variedad de gráficas que dificilmente se pueden crear en herramientas de visualización.\n",
    "    -Versatilidad y alta escalabilidad.\n",
    "    -Heroku es muy amigable para desplegar las aplicaciones.\n",
    "\n",
    "### Desventajas:\n",
    "    \n",
    "    -El diseño con Plotly es laborioso.\n",
    "    -Buenos conocimientos de HTML, CSS y visualización de datos.\n",
    "    -Con la versión gratis de Heroku el Dashbord en ocasiones es lento.\n",
    "\n",
    "### Conclusión: \n",
    "\n",
    "Si quieres mostrar gráficas impresionantes del rendimiento de tus algoritmos, Plotly es una excelente opción.\n",
    "\n",
    "Para realizar gráficas sencillas y un Dashbord más empresarial preferiría DataStudio ó PowerBI.\n"
   ]
  }
 ],
 "metadata": {
  "kernelspec": {
   "display_name": "Python 3",
   "language": "python",
   "name": "python3"
  },
  "language_info": {
   "codemirror_mode": {
    "name": "ipython",
    "version": 3
   },
   "file_extension": ".py",
   "mimetype": "text/x-python",
   "name": "python",
   "nbconvert_exporter": "python",
   "pygments_lexer": "ipython3",
   "version": "3.8.3"
  }
 },
 "nbformat": 4,
 "nbformat_minor": 4
}
