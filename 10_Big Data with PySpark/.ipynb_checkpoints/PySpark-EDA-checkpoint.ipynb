{
 "cells": [
  {
   "cell_type": "code",
   "execution_count": 91,
   "id": "5a2263b3-69ee-4c44-847f-3b081d0dcf51",
   "metadata": {},
   "outputs": [],
   "source": [
    "#Create Spark and SQLContext Sessions.\n",
    "from pyspark.sql import SparkSession\n",
    "from pyspark.sql import SQLContext\n",
    "\n",
    "spark = SparkSession.builder\\\n",
    "        .master(\"local\")\\\n",
    "        .appName(\"Colab\")\\\n",
    "        .config('spark.ui.port', '4040')\\\n",
    "        .getOrCreate()\n",
    "\n",
    "sqlContext = SQLContext(spark)"
   ]
  },
  {
   "cell_type": "code",
   "execution_count": 92,
   "id": "c62ab2f8-1b8a-4eba-b533-6d8aacadd3d6",
   "metadata": {},
   "outputs": [
    {
     "data": {
      "text/html": [
       "\n",
       "            <div>\n",
       "                <p><b>SparkSession - in-memory</b></p>\n",
       "                \n",
       "        <div>\n",
       "            <p><b>SparkContext</b></p>\n",
       "\n",
       "            <p><a href=\"http://192.168.100.43:4041\">Spark UI</a></p>\n",
       "\n",
       "            <dl>\n",
       "              <dt>Version</dt>\n",
       "                <dd><code>v3.1.2</code></dd>\n",
       "              <dt>Master</dt>\n",
       "                <dd><code>local</code></dd>\n",
       "              <dt>AppName</dt>\n",
       "                <dd><code>Colab</code></dd>\n",
       "            </dl>\n",
       "        </div>\n",
       "        \n",
       "            </div>\n",
       "        "
      ],
      "text/plain": [
       "<pyspark.sql.session.SparkSession at 0x7fc9c1c4e4c0>"
      ]
     },
     "execution_count": 92,
     "metadata": {},
     "output_type": "execute_result"
    }
   ],
   "source": [
    "spark"
   ]
  },
  {
   "cell_type": "code",
   "execution_count": 93,
   "id": "1806f56e-34ac-4b73-becc-9af3d928faca",
   "metadata": {},
   "outputs": [
    {
     "data": {
      "text/plain": [
       "<pyspark.sql.context.SQLContext at 0x7fc9914dd070>"
      ]
     },
     "execution_count": 93,
     "metadata": {},
     "output_type": "execute_result"
    }
   ],
   "source": [
    "sqlContext"
   ]
  },
  {
   "cell_type": "code",
   "execution_count": 95,
   "id": "933744d0-2e9b-419f-a807-acecf9533e76",
   "metadata": {},
   "outputs": [],
   "source": [
    "#Read csv\n",
    "df = spark.read.csv(\"Airports2.csv\", header=True, inferSchema=True)\n",
    "df.registerTempTable('df') #Registra este DataFrame como una tabla temporal usando el nombre dado."
   ]
  },
  {
   "cell_type": "markdown",
   "id": "161aba77-f349-4816-b231-61eaaf93f4e9",
   "metadata": {},
   "source": [
    "### Basic Insights into Data"
   ]
  },
  {
   "cell_type": "code",
   "execution_count": 96,
   "id": "8d32aefc-a668-4524-aa19-f1cb5842d50f",
   "metadata": {},
   "outputs": [
    {
     "data": {
      "text/plain": [
       "3606803"
      ]
     },
     "execution_count": 96,
     "metadata": {},
     "output_type": "execute_result"
    }
   ],
   "source": [
    "df.count()"
   ]
  },
  {
   "cell_type": "code",
   "execution_count": 38,
   "id": "0733c323-182e-4453-898b-f3eb8ef83a89",
   "metadata": {},
   "outputs": [
    {
     "name": "stdout",
     "output_type": "stream",
     "text": [
      "root\n",
      " |-- Origin_airport: string (nullable = true)\n",
      " |-- Destination_airport: string (nullable = true)\n",
      " |-- Origin_city: string (nullable = true)\n",
      " |-- Destination_city: string (nullable = true)\n",
      " |-- Passengers: integer (nullable = true)\n",
      " |-- Seats: integer (nullable = true)\n",
      " |-- Flights: integer (nullable = true)\n",
      " |-- Distance: integer (nullable = true)\n",
      " |-- Fly_date: string (nullable = true)\n",
      " |-- Origin_population: integer (nullable = true)\n",
      " |-- Destination_population: integer (nullable = true)\n",
      " |-- Org_airport_lat: string (nullable = true)\n",
      " |-- Org_airport_long: string (nullable = true)\n",
      " |-- Dest_airport_lat: string (nullable = true)\n",
      " |-- Dest_airport_long: string (nullable = true)\n",
      "\n"
     ]
    }
   ],
   "source": [
    "df.printSchema()"
   ]
  },
  {
   "cell_type": "code",
   "execution_count": 39,
   "id": "1dd59c6d-cbac-4ce6-8ac1-c95dcf6cc5da",
   "metadata": {},
   "outputs": [
    {
     "name": "stdout",
     "output_type": "stream",
     "text": [
      "+-------+--------------+\n",
      "|summary|Origin_airport|\n",
      "+-------+--------------+\n",
      "|  count|       3606803|\n",
      "|   mean|          null|\n",
      "| stddev|          null|\n",
      "|    min|           1B1|\n",
      "|    max|           ZZV|\n",
      "+-------+--------------+\n",
      "\n"
     ]
    }
   ],
   "source": [
    "df.select(\"Origin_airport\").describe().show()"
   ]
  },
  {
   "cell_type": "markdown",
   "id": "8f34973c-7899-485f-9519-003262bb0014",
   "metadata": {},
   "source": [
    "### Spark Transformation and Action Operations"
   ]
  },
  {
   "cell_type": "code",
   "execution_count": 14,
   "id": "f3e4a219-54e5-441e-a42a-8850ecc14c50",
   "metadata": {},
   "outputs": [
    {
     "name": "stdout",
     "output_type": "stream",
     "text": [
      "+--------------+-------------------+----------+-----+\n",
      "|Origin_airport|Destination_airport|Passengers|Seats|\n",
      "+--------------+-------------------+----------+-----+\n",
      "|           MHK|                AMW|        21|   30|\n",
      "|           EUG|                RDM|        41|  396|\n",
      "|           EUG|                RDM|        88|  342|\n",
      "|           EUG|                RDM|        11|   72|\n",
      "|           MFR|                RDM|         0|   18|\n",
      "+--------------+-------------------+----------+-----+\n",
      "only showing top 5 rows\n",
      "\n"
     ]
    }
   ],
   "source": [
    "df.select(\"Origin_airport\",\"Destination_airport\",\"Passengers\",\"Seats\").show(5)"
   ]
  },
  {
   "cell_type": "code",
   "execution_count": 88,
   "id": "884f57d2-b440-4813-b4b3-6dad313b4186",
   "metadata": {},
   "outputs": [
    {
     "name": "stdout",
     "output_type": "stream",
     "text": [
      "+--------------+-------------+\n",
      "|Origin_airport|sum_passenger|\n",
      "+--------------+-------------+\n",
      "|           BGM|      1876537|\n",
      "|           CRS|           29|\n",
      "|           VWD|            0|\n",
      "|           MOR|            0|\n",
      "|           MSY|     83279662|\n",
      "|           RDG|        87401|\n",
      "|           GEG|     23872254|\n",
      "|           DRT|        75152|\n",
      "|           HVR|         1193|\n",
      "|           MML|            0|\n",
      "|           STF|           22|\n",
      "|           SNA|     70464061|\n",
      "|           CGX|        28848|\n",
      "|           GTF|      3901526|\n",
      "|           GRB|      6749419|\n",
      "|           FOD|       112983|\n",
      "|           OPF|         7534|\n",
      "|           JRB|         8094|\n",
      "|           BVX|            0|\n",
      "|           UBS|            0|\n",
      "+--------------+-------------+\n",
      "only showing top 20 rows\n",
      "\n"
     ]
    }
   ],
   "source": [
    "from pyspark.sql import functions as F\n",
    "from pyspark.sql.functions import col\n",
    "from pyspark.sql.functions import desc\n",
    "\n",
    "airportAgg_DF = df.groupBy(\"Origin_airport\").agg(F.sum(\"Passengers\")).withColumnRenamed(\"sum(Passengers)\",\"sum_passenger\")\n",
    "airportAgg_DF.show()"
   ]
  },
  {
   "cell_type": "code",
   "execution_count": 73,
   "id": "799ae0a2-cfad-4c2a-93d6-dc2760938da9",
   "metadata": {},
   "outputs": [
    {
     "name": "stdout",
     "output_type": "stream",
     "text": [
      "+--------------+-------------------+---------------+----------+\n",
      "|Origin_airport|Destination_airport|sum(Passengers)|sum(Seats)|\n",
      "+--------------+-------------------+---------------+----------+\n",
      "|           DMA|                ACT|             30|        68|\n",
      "|           OKC|                MCN|             92|       190|\n",
      "|           TYS|                MIA|           2510|      3926|\n",
      "|           ATL|                OGD|              0|         0|\n",
      "|           LNK|                OMA|           6006|     12041|\n",
      "|           CHS|                UCA|              0|       122|\n",
      "|           HGR|                ALB|              0|         0|\n",
      "|           BNA|                AHN|            487|       850|\n",
      "|           GRK|                BGR|           1346|      2448|\n",
      "|           OPF|                DAL|              0|         0|\n",
      "|           GAD|                ADS|              0|         0|\n",
      "|           OGG|                DAL|              0|       102|\n",
      "|           CHS|                DAY|            212|       310|\n",
      "|           FAR|                DAY|              0|         0|\n",
      "|           DPA|                DAY|              0|         0|\n",
      "|           LRD|                MGY|              0|         0|\n",
      "|           TOL|                DHN|            151|       168|\n",
      "|           HNL|                FAT|            121|       124|\n",
      "|           SOW|                GUP|            144|      2375|\n",
      "|           MDW|                MCE|              0|        60|\n",
      "+--------------+-------------------+---------------+----------+\n",
      "only showing top 20 rows\n",
      "\n"
     ]
    }
   ],
   "source": [
    "df.groupBy(\"Origin_airport\",\"Destination_airport\").agg({'Passengers':'sum','Seats':'sum'}).show()"
   ]
  },
  {
   "cell_type": "code",
   "execution_count": 40,
   "id": "daa08a63-1506-449b-973e-f706954b9ea8",
   "metadata": {},
   "outputs": [
    {
     "name": "stdout",
     "output_type": "stream",
     "text": [
      "+--------------+-----+\n",
      "|Origin_airport|count|\n",
      "+--------------+-----+\n",
      "|           BGM| 1738|\n",
      "|           CRS|    1|\n",
      "|           VWD|    1|\n",
      "|           MOR|   10|\n",
      "|           MSY|30572|\n",
      "|           RDG|  267|\n",
      "|           GEG|11659|\n",
      "|           DRT|  360|\n",
      "|           HVR|   72|\n",
      "|           MML|    1|\n",
      "+--------------+-----+\n",
      "only showing top 10 rows\n",
      "\n"
     ]
    }
   ],
   "source": [
    "airportAgg_DF = df.groupBy(\"Origin_airport\").count()\n",
    "airportAgg_DF.show(10)"
   ]
  },
  {
   "cell_type": "markdown",
   "id": "935e7e0b-55a7-4a5b-b2b4-2bcbc3465deb",
   "metadata": {},
   "source": [
    "### Spark SQL"
   ]
  },
  {
   "cell_type": "code",
   "execution_count": 42,
   "id": "df27fcb8-b720-4789-bcb2-ec70645b606d",
   "metadata": {},
   "outputs": [
    {
     "name": "stdout",
     "output_type": "stream",
     "text": [
      "+--------------+-------+\n",
      "|Origin_Airport|Flights|\n",
      "+--------------+-------+\n",
      "|           ORD|6908482|\n",
      "|           ATL|6558015|\n",
      "|           DFW|5994638|\n",
      "|           LAX|4099901|\n",
      "|           DTW|3452613|\n",
      "|           PHX|3213108|\n",
      "|           MSP|3204923|\n",
      "|           IAH|3195062|\n",
      "|           STL|3181102|\n",
      "|           CLT|2840773|\n",
      "+--------------+-------+\n",
      "\n"
     ]
    }
   ],
   "source": [
    "originAirports = sqlContext.sql(\"\"\"SELECT Origin_Airport, \n",
    "                                          sum(Flights) as Flights \n",
    "                                    FROM df \n",
    "                                    GROUP BY Origin_Airport \n",
    "                                    ORDER BY sum(Flights)\n",
    "                                    DESC limit 10\"\"\")\n",
    "originAirports.show()"
   ]
  },
  {
   "cell_type": "code",
   "execution_count": 59,
   "id": "9406f335-b2d3-4120-b461-2dbc0ff483bf",
   "metadata": {},
   "outputs": [
    {
     "name": "stdout",
     "output_type": "stream",
     "text": [
      "+--------+--------+-------+----------+--------+------------------+\n",
      "|Airport1|Airport2|Flights|Passengers|   Seats|    Occupancy_Rate|\n",
      "+--------+--------+-------+----------+--------+------------------+\n",
      "|     HNL|     OGG| 784873|  62109354|96640901| 64.26818599300931|\n",
      "|     LAX|     SFO| 636449|  51119989|79405656|  64.3782717442697|\n",
      "|     LAS|     LAX| 588151|  52511530|80532768| 65.20517213564546|\n",
      "|     PDX|     SEA| 565707|  18475771|34650955| 53.31965886654495|\n",
      "|     LAX|     PHX| 515093|  42695385|65619395| 65.06519147273455|\n",
      "|     BOS|     LGA| 470737|  31242486|64897330| 48.14140427657039|\n",
      "|     MSP|     ORD| 467514|  31301666|55325318|56.577471457100344|\n",
      "|     LAS|     PHX| 460104|  42979048|64844100| 66.28058373853597|\n",
      "|     DCA|     LGA| 439107|  29471657|60663368|   48.582295991215|\n",
      "|     LAX|     SAN| 431076|  11686171|22820096|51.209999291852235|\n",
      "+--------+--------+-------+----------+--------+------------------+\n",
      "only showing top 10 rows\n",
      "\n"
     ]
    }
   ],
   "source": [
    "distanceQuery = sqlContext.sql(\"\"\"with table1 as \n",
    "                                    (select least(Origin_airport, Destination_airport) as Airport1, \n",
    "                                    greatest(Destination_airport, Origin_airport) as Airport2, \n",
    "                                    sum(Flights) as Flights,\n",
    "                                    sum(Passengers) as Passengers,\n",
    "                                    sum(Seats) as Seats\n",
    "                                    from df\n",
    "                                    group by least(Origin_airport, Destination_airport), greatest(Destination_airport, Origin_airport)\n",
    "                                    order by 1,2)\n",
    "                                    select t.*, (Passengers*100/Seats) as Occupancy_Rate\n",
    "                                    from table1 t\n",
    "                                    order by Flights DESC, Seats DESC, Passengers DESC, Occupancy_Rate DESC\n",
    "                                    limit 15;\"\"\")\n",
    "\n",
    "distanceQuery.show(10)"
   ]
  },
  {
   "cell_type": "code",
   "execution_count": 60,
   "id": "2b4bb7c9-1cdc-4835-bc60-947e45880bb9",
   "metadata": {},
   "outputs": [
    {
     "name": "stdout",
     "output_type": "stream",
     "text": [
      "+--------+--------+-------+----------+--------+------------------+\n",
      "|Airport1|Airport2|Flights|Passengers|   Seats|    Occupancy_Rate|\n",
      "+--------+--------+-------+----------+--------+------------------+\n",
      "|     HNL|     OGG| 784873|  62109354|96640901| 64.26818599300931|\n",
      "|     LAX|     SFO| 636449|  51119989|79405656|  64.3782717442697|\n",
      "|     LAS|     LAX| 588151|  52511530|80532768| 65.20517213564546|\n",
      "|     PDX|     SEA| 565707|  18475771|34650955| 53.31965886654495|\n",
      "|     LAX|     PHX| 515093|  42695385|65619395| 65.06519147273455|\n",
      "|     BOS|     LGA| 470737|  31242486|64897330| 48.14140427657039|\n",
      "|     MSP|     ORD| 467514|  31301666|55325318|56.577471457100344|\n",
      "|     LAS|     PHX| 460104|  42979048|64844100| 66.28058373853597|\n",
      "|     DCA|     LGA| 439107|  29471657|60663368|   48.582295991215|\n",
      "|     LAX|     SAN| 431076|  11686171|22820096|51.209999291852235|\n",
      "|     LGA|     ORD| 424272|  39981416|59616532| 67.06431028225526|\n",
      "|     DAL|     HOU| 408273|  35573141|53054549| 67.05012420329876|\n",
      "|     ATL|     DFW| 399696|  42941213|59978776| 71.59401352238332|\n",
      "|     LAX|     OAK| 381677|  30429561|47045709| 64.68084262477583|\n",
      "|     EWR|     ORD| 372054|  31122785|50434853| 61.70888413216947|\n",
      "+--------+--------+-------+----------+--------+------------------+\n",
      "\n"
     ]
    }
   ],
   "source": [
    "distanceQuery.filter((col(\"Occupancy_Rate\").isNotNull()) & (col(\"Occupancy_Rate\")<=100.0)).show()"
   ]
  },
  {
   "cell_type": "code",
   "execution_count": 54,
   "id": "5ffd140e-939b-4319-8f15-62cbc494edba",
   "metadata": {},
   "outputs": [
    {
     "name": "stdout",
     "output_type": "stream",
     "text": [
      "+--------+--------+-------+----------+--------+------------------+\n",
      "|Airport1|Airport2|Flights|Passengers|   Seats|    Occupancy_Rate|\n",
      "+--------+--------+-------+----------+--------+------------------+\n",
      "|     HNL|     OGG| 784873|  62109354|96640901| 64.26818599300931|\n",
      "|     LAX|     SFO| 636449|  51119989|79405656|  64.3782717442697|\n",
      "|     LAS|     LAX| 588151|  52511530|80532768| 65.20517213564546|\n",
      "|     PDX|     SEA| 565707|  18475771|34650955| 53.31965886654495|\n",
      "|     LAX|     PHX| 515093|  42695385|65619395| 65.06519147273455|\n",
      "|     BOS|     LGA| 470737|  31242486|64897330| 48.14140427657039|\n",
      "|     MSP|     ORD| 467514|  31301666|55325318|56.577471457100344|\n",
      "|     LAS|     PHX| 460104|  42979048|64844100| 66.28058373853597|\n",
      "|     DCA|     LGA| 439107|  29471657|60663368|   48.582295991215|\n",
      "|     LAX|     SAN| 431076|  11686171|22820096|51.209999291852235|\n",
      "|     LGA|     ORD| 424272|  39981416|59616532| 67.06431028225526|\n",
      "|     DAL|     HOU| 408273|  35573141|53054549| 67.05012420329876|\n",
      "|     ATL|     DFW| 399696|  42941213|59978776| 71.59401352238332|\n",
      "|     LAX|     OAK| 381677|  30429561|47045709| 64.68084262477583|\n",
      "|     EWR|     ORD| 372054|  31122785|50434853| 61.70888413216947|\n",
      "+--------+--------+-------+----------+--------+------------------+\n",
      "\n"
     ]
    }
   ],
   "source": [
    "distanceQuery.filter((\"Occupancy_Rate >= 60\") and (\"Occupancy_Rate <= 100\")).show()"
   ]
  },
  {
   "cell_type": "code",
   "execution_count": 61,
   "id": "d10f6555-a6c8-45af-99ee-f888b39776e3",
   "metadata": {},
   "outputs": [
    {
     "name": "stdout",
     "output_type": "stream",
     "text": [
      "+--------+--------+------------------+-------+\n",
      "|Airport1|Airport2|          Distance|Flights|\n",
      "+--------+--------+------------------+-------+\n",
      "|     HNL|     OGG|             100.0| 784873|\n",
      "|     LAX|     SFO|             337.0| 636449|\n",
      "|     LAS|     LAX|             236.0| 588151|\n",
      "|     PDX|     SEA|             129.0| 565707|\n",
      "|     LAX|     PHX|             370.0| 515093|\n",
      "|     BOS|     LGA|             185.0| 470737|\n",
      "|     MSP|     ORD|             334.0| 467514|\n",
      "|     LAS|     PHX|255.96021840873635| 460104|\n",
      "|     DCA|     LGA|             214.0| 439107|\n",
      "|     LAX|     SAN|             109.0| 431076|\n",
      "|     LGA|     ORD|             733.0| 424272|\n",
      "|     DAL|     HOU|             239.0| 408273|\n",
      "|     ATL|     DFW| 731.9746309301993| 399696|\n",
      "|     LAX|     OAK|             337.0| 381677|\n",
      "|     EWR|     ORD|             719.0| 372054|\n",
      "+--------+--------+------------------+-------+\n",
      "\n"
     ]
    }
   ],
   "source": [
    "distanceQuery = sqlContext.sql(\"\"\"with table1 as \n",
    "                                    (select least(Origin_airport, Destination_airport) as Airport1, \n",
    "                                    greatest(Destination_airport, Origin_airport) as Airport2, \n",
    "                                    mean(Distance) as Distance,\n",
    "                                    sum(Flights) as Flights\n",
    "                                    from df\n",
    "                                    group by least(Origin_airport, Destination_airport), greatest(Destination_airport, Origin_airport)\n",
    "                                    order by 1,2)\n",
    "                                    select t.*\n",
    "                                    from table1 t\n",
    "                                    where Flights>0\n",
    "                                    order by Flights DESC\n",
    "                                    limit 15;\"\"\")\n",
    "\n",
    "distanceQuery.show(15)"
   ]
  },
  {
   "cell_type": "code",
   "execution_count": null,
   "id": "ad1a9dae-c3f7-44e2-ad72-62a6456815b8",
   "metadata": {},
   "outputs": [],
   "source": []
  }
 ],
 "metadata": {
  "kernelspec": {
   "display_name": "Python 3",
   "language": "python",
   "name": "python3"
  },
  "language_info": {
   "codemirror_mode": {
    "name": "ipython",
    "version": 3
   },
   "file_extension": ".py",
   "mimetype": "text/x-python",
   "name": "python",
   "nbconvert_exporter": "python",
   "pygments_lexer": "ipython3",
   "version": "3.8.8"
  }
 },
 "nbformat": 4,
 "nbformat_minor": 5
}
