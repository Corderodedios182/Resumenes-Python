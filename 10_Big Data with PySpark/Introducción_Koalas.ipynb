{
 "cells": [
  {
   "cell_type": "markdown",
   "id": "e1a594f6-b02c-4411-b7d2-36c3839f78ee",
   "metadata": {},
   "source": [
    "Koalas proporciona un **remplazo directo de Pandas**, lo que permite un escalado eficiente a cientos de nodos para la ciencia de datos y ML.\n",
    "\n",
    "Pandas no se escala a Big Data.\n",
    "\n",
    "**Pyspark DataFrame** es más compatible con SQL y Koalas DataFrame está más cerca de Python.\n",
    "\n",
    "Koalas y Pyspark DataFrames son diferentes\n"
   ]
  }
 ],
 "metadata": {
  "kernelspec": {
   "display_name": "Python 3 (ipykernel)",
   "language": "python",
   "name": "python3"
  },
  "language_info": {
   "codemirror_mode": {
    "name": "ipython",
    "version": 3
   },
   "file_extension": ".py",
   "mimetype": "text/x-python",
   "name": "python",
   "nbconvert_exporter": "python",
   "pygments_lexer": "ipython3",
   "version": "3.9.7"
  }
 },
 "nbformat": 4,
 "nbformat_minor": 5
}
