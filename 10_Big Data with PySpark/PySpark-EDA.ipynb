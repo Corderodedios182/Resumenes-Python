{
 "cells": [
  {
   "cell_type": "code",
   "execution_count": 2,
   "id": "5a2263b3-69ee-4c44-847f-3b081d0dcf51",
   "metadata": {},
   "outputs": [],
   "source": [
    "#Create Spark and SQLContext Sessions.\n",
    "from pyspark.sql import SparkSession\n",
    "from pyspark.sql import SQLContext\n",
    "\n",
    "spark = SparkSession.builder\\\n",
    "        .master(\"local\")\\\n",
    "        .appName(\"Colab\")\\\n",
    "        .config('spark.ui.port', '4040')\\\n",
    "        .getOrCreate()\n",
    "\n",
    "sqlContext = SQLContext(spark)"
   ]
  },
  {
   "cell_type": "code",
   "execution_count": 5,
   "id": "c62ab2f8-1b8a-4eba-b533-6d8aacadd3d6",
   "metadata": {},
   "outputs": [
    {
     "data": {
      "text/html": [
       "\n",
       "            <div>\n",
       "                <p><b>SparkSession - in-memory</b></p>\n",
       "                \n",
       "        <div>\n",
       "            <p><b>SparkContext</b></p>\n",
       "\n",
       "            <p><a href=\"http://192.168.100.43:4041\">Spark UI</a></p>\n",
       "\n",
       "            <dl>\n",
       "              <dt>Version</dt>\n",
       "                <dd><code>v3.1.2</code></dd>\n",
       "              <dt>Master</dt>\n",
       "                <dd><code>local</code></dd>\n",
       "              <dt>AppName</dt>\n",
       "                <dd><code>Colab</code></dd>\n",
       "            </dl>\n",
       "        </div>\n",
       "        \n",
       "            </div>\n",
       "        "
      ],
      "text/plain": [
       "<pyspark.sql.session.SparkSession at 0x7fc9c1c4e4c0>"
      ]
     },
     "execution_count": 5,
     "metadata": {},
     "output_type": "execute_result"
    }
   ],
   "source": [
    "spark"
   ]
  },
  {
   "cell_type": "code",
   "execution_count": 6,
   "id": "1806f56e-34ac-4b73-becc-9af3d928faca",
   "metadata": {},
   "outputs": [
    {
     "data": {
      "text/plain": [
       "<pyspark.sql.context.SQLContext at 0x7fc9c1c4e520>"
      ]
     },
     "execution_count": 6,
     "metadata": {},
     "output_type": "execute_result"
    }
   ],
   "source": [
    "sqlContext"
   ]
  },
  {
   "cell_type": "code",
   "execution_count": 9,
   "id": "933744d0-2e9b-419f-a807-acecf9533e76",
   "metadata": {},
   "outputs": [],
   "source": [
    "#Read csv\n",
    "df = spark.read.csv(\"Airports2.csv\", header=True, inferSchema=True)\n",
    "df.registerTempTable('df')"
   ]
  },
  {
   "cell_type": "code",
   "execution_count": 16,
   "id": "8d32aefc-a668-4524-aa19-f1cb5842d50f",
   "metadata": {},
   "outputs": [
    {
     "data": {
      "text/plain": [
       "3606803"
      ]
     },
     "execution_count": 16,
     "metadata": {},
     "output_type": "execute_result"
    }
   ],
   "source": [
    "df.count()"
   ]
  },
  {
   "cell_type": "code",
   "execution_count": 10,
   "id": "0733c323-182e-4453-898b-f3eb8ef83a89",
   "metadata": {},
   "outputs": [
    {
     "name": "stdout",
     "output_type": "stream",
     "text": [
      "root\n",
      " |-- Origin_airport: string (nullable = true)\n",
      " |-- Destination_airport: string (nullable = true)\n",
      " |-- Origin_city: string (nullable = true)\n",
      " |-- Destination_city: string (nullable = true)\n",
      " |-- Passengers: integer (nullable = true)\n",
      " |-- Seats: integer (nullable = true)\n",
      " |-- Flights: integer (nullable = true)\n",
      " |-- Distance: integer (nullable = true)\n",
      " |-- Fly_date: string (nullable = true)\n",
      " |-- Origin_population: integer (nullable = true)\n",
      " |-- Destination_population: integer (nullable = true)\n",
      " |-- Org_airport_lat: string (nullable = true)\n",
      " |-- Org_airport_long: string (nullable = true)\n",
      " |-- Dest_airport_lat: string (nullable = true)\n",
      " |-- Dest_airport_long: string (nullable = true)\n",
      "\n"
     ]
    }
   ],
   "source": [
    "df.printSchema()"
   ]
  },
  {
   "cell_type": "code",
   "execution_count": 12,
   "id": "1dd59c6d-cbac-4ce6-8ac1-c95dcf6cc5da",
   "metadata": {},
   "outputs": [
    {
     "name": "stdout",
     "output_type": "stream",
     "text": [
      "+-------+--------------+\n",
      "|summary|Origin_airport|\n",
      "+-------+--------------+\n",
      "|  count|       3606803|\n",
      "|   mean|          null|\n",
      "| stddev|          null|\n",
      "|    min|           1B1|\n",
      "|    max|           ZZV|\n",
      "+-------+--------------+\n",
      "\n"
     ]
    }
   ],
   "source": [
    "df.select(\"Origin_airport\").describe().show()"
   ]
  },
  {
   "cell_type": "code",
   "execution_count": 14,
   "id": "f3e4a219-54e5-441e-a42a-8850ecc14c50",
   "metadata": {},
   "outputs": [
    {
     "name": "stdout",
     "output_type": "stream",
     "text": [
      "+--------------+-------------------+----------+-----+\n",
      "|Origin_airport|Destination_airport|Passengers|Seats|\n",
      "+--------------+-------------------+----------+-----+\n",
      "|           MHK|                AMW|        21|   30|\n",
      "|           EUG|                RDM|        41|  396|\n",
      "|           EUG|                RDM|        88|  342|\n",
      "|           EUG|                RDM|        11|   72|\n",
      "|           MFR|                RDM|         0|   18|\n",
      "+--------------+-------------------+----------+-----+\n",
      "only showing top 5 rows\n",
      "\n"
     ]
    }
   ],
   "source": [
    "df.select(\"Origin_airport\",\"Destination_airport\",\"Passengers\",\"Seats\").show(5)"
   ]
  },
  {
   "cell_type": "code",
   "execution_count": 25,
   "id": "799ae0a2-cfad-4c2a-93d6-dc2760938da9",
   "metadata": {},
   "outputs": [
    {
     "name": "stdout",
     "output_type": "stream",
     "text": [
      "+--------------+---------------+\n",
      "|Origin_airport|sum(Passengers)|\n",
      "+--------------+---------------+\n",
      "|           BGM|        1876537|\n",
      "|           CRS|             29|\n",
      "|           VWD|              0|\n",
      "|           MOR|              0|\n",
      "|           MSY|       83279662|\n",
      "|           RDG|          87401|\n",
      "|           GEG|       23872254|\n",
      "|           DRT|          75152|\n",
      "|           HVR|           1193|\n",
      "|           MML|              0|\n",
      "|           STF|             22|\n",
      "|           SNA|       70464061|\n",
      "|           CGX|          28848|\n",
      "|           GTF|        3901526|\n",
      "|           GRB|        6749419|\n",
      "|           FOD|         112983|\n",
      "|           OPF|           7534|\n",
      "|           JRB|           8094|\n",
      "|           BVX|              0|\n",
      "|           UBS|              0|\n",
      "+--------------+---------------+\n",
      "only showing top 20 rows\n",
      "\n"
     ]
    }
   ],
   "source": [
    "df.groupBy(\"Origin_airport\").agg({'Passengers':'sum'}).show()"
   ]
  },
  {
   "cell_type": "code",
   "execution_count": null,
   "id": "daa08a63-1506-449b-973e-f706954b9ea8",
   "metadata": {},
   "outputs": [],
   "source": [
    "airportAgg_DF = df.groupBy(\"Origin_airport\").count()\n",
    "airportAgg_DF.show(10)"
   ]
  },
  {
   "cell_type": "code",
   "execution_count": 18,
   "id": "df27fcb8-b720-4789-bcb2-ec70645b606d",
   "metadata": {},
   "outputs": [
    {
     "name": "stdout",
     "output_type": "stream",
     "text": [
      "+--------------+-------+\n",
      "|Origin_Airport|Flights|\n",
      "+--------------+-------+\n",
      "|           ORD|6908482|\n",
      "|           ATL|6558015|\n",
      "|           DFW|5994638|\n",
      "|           LAX|4099901|\n",
      "|           DTW|3452613|\n",
      "|           PHX|3213108|\n",
      "|           MSP|3204923|\n",
      "|           IAH|3195062|\n",
      "|           STL|3181102|\n",
      "|           CLT|2840773|\n",
      "+--------------+-------+\n",
      "\n"
     ]
    }
   ],
   "source": [
    "originAirports = sqlContext.sql(\"\"\"select Origin_Airport, sum(Flights) as Flights \n",
    "                                    from df group by Origin_Airport order by sum(Flights) DESC limit 10\"\"\")\n",
    "originAirports.show()\n"
   ]
  },
  {
   "cell_type": "code",
   "execution_count": 30,
   "id": "b5a30271-140c-4627-9e53-dda0bf0d3df6",
   "metadata": {},
   "outputs": [
    {
     "name": "stdout",
     "output_type": "stream",
     "text": [
      "+--------------+-------------------+-------------+----------------+----------+-----+-------+--------+----------+-----------------+----------------------+----------------+-----------------+----------------+-----------------+\n",
      "|Origin_airport|Destination_airport|  Origin_city|Destination_city|Passengers|Seats|Flights|Distance|  Fly_date|Origin_population|Destination_population| Org_airport_lat| Org_airport_long|Dest_airport_lat|Dest_airport_long|\n",
      "+--------------+-------------------+-------------+----------------+----------+-----+-------+--------+----------+-----------------+----------------------+----------------+-----------------+----------------+-----------------+\n",
      "|           MHK|                AMW|Manhattan, KS|        Ames, IA|        21|   30|      1|     254|2008-10-01|           122049|                 86219| 39.140998840332|-96.6707992553711|              NA|               NA|\n",
      "|           EUG|                RDM|   Eugene, OR|        Bend, OR|        41|  396|     22|     103|1990-11-01|           284093|                 76034|44.1245994567871| -123.21199798584|      44.2541008|     -121.1500015|\n",
      "|           EUG|                RDM|   Eugene, OR|        Bend, OR|        88|  342|     19|     103|1990-12-01|           284093|                 76034|44.1245994567871| -123.21199798584|      44.2541008|     -121.1500015|\n",
      "|           EUG|                RDM|   Eugene, OR|        Bend, OR|        11|   72|      4|     103|1990-10-01|           284093|                 76034|44.1245994567871| -123.21199798584|      44.2541008|     -121.1500015|\n",
      "|           MFR|                RDM|  Medford, OR|        Bend, OR|         0|   18|      1|     156|1990-02-01|           147300|                 76034|42.3741989135742|-122.873001098633|      44.2541008|     -121.1500015|\n",
      "|           MFR|                RDM|  Medford, OR|        Bend, OR|        11|   18|      1|     156|1990-03-01|           147300|                 76034|42.3741989135742|-122.873001098633|      44.2541008|     -121.1500015|\n",
      "|           MFR|                RDM|  Medford, OR|        Bend, OR|         2|   72|      4|     156|1990-01-01|           147300|                 76034|42.3741989135742|-122.873001098633|      44.2541008|     -121.1500015|\n",
      "|           MFR|                RDM|  Medford, OR|        Bend, OR|         7|   18|      1|     156|1990-09-01|           147300|                 76034|42.3741989135742|-122.873001098633|      44.2541008|     -121.1500015|\n",
      "|           MFR|                RDM|  Medford, OR|        Bend, OR|         7|   36|      2|     156|1990-11-01|           147300|                 76034|42.3741989135742|-122.873001098633|      44.2541008|     -121.1500015|\n",
      "|           SEA|                RDM|  Seattle, WA|        Bend, OR|         8|   18|      1|     228|1990-02-01|          5154164|                 76034|47.4490013122559| -122.30899810791|      44.2541008|     -121.1500015|\n",
      "|           SEA|                RDM|  Seattle, WA|        Bend, OR|       453| 3128|     23|     228|1990-01-01|          5154164|                 76034|47.4490013122559| -122.30899810791|      44.2541008|     -121.1500015|\n",
      "|           SEA|                RDM|  Seattle, WA|        Bend, OR|       784| 2720|     20|     228|1990-02-01|          5154164|                 76034|47.4490013122559| -122.30899810791|      44.2541008|     -121.1500015|\n",
      "|           SEA|                RDM|  Seattle, WA|        Bend, OR|       749| 2992|     22|     228|1990-03-01|          5154164|                 76034|47.4490013122559| -122.30899810791|      44.2541008|     -121.1500015|\n",
      "|           SEA|                RDM|  Seattle, WA|        Bend, OR|        11|   18|      1|     228|1990-04-01|          5154164|                 76034|47.4490013122559| -122.30899810791|      44.2541008|     -121.1500015|\n",
      "|           PDX|                RDM| Portland, OR|        Bend, OR|       349|  851|     23|     116|1990-01-01|          1534762|                 76034|     45.58869934|     -122.5979996|      44.2541008|     -121.1500015|\n",
      "+--------------+-------------------+-------------+----------------+----------+-----+-------+--------+----------+-----------------+----------------------+----------------+-----------------+----------------+-----------------+\n",
      "only showing top 15 rows\n",
      "\n"
     ]
    }
   ],
   "source": [
    "df.show(15)"
   ]
  },
  {
   "cell_type": "code",
   "execution_count": 31,
   "id": "447103ba-563c-45de-8df9-2d2d249fdb57",
   "metadata": {},
   "outputs": [
    {
     "data": {
      "text/plain": [
       "DataFrame[Origin_airport: string, Destination_airport: string, Origin_city: string, Destination_city: string, Passengers: int, Seats: int, Flights: int, Distance: int, Fly_date: string, Origin_population: int, Destination_population: int, Org_airport_lat: string, Org_airport_long: string, Dest_airport_lat: string, Dest_airport_long: string]"
      ]
     },
     "metadata": {},
     "output_type": "display_data"
    }
   ],
   "source": [
    "display(df)"
   ]
  },
  {
   "cell_type": "code",
   "execution_count": null,
   "id": "c55e3911-ce97-4b00-8a18-7d5de5f33aef",
   "metadata": {},
   "outputs": [],
   "source": []
  }
 ],
 "metadata": {
  "kernelspec": {
   "display_name": "Python 3",
   "language": "python",
   "name": "python3"
  },
  "language_info": {
   "codemirror_mode": {
    "name": "ipython",
    "version": 3
   },
   "file_extension": ".py",
   "mimetype": "text/x-python",
   "name": "python",
   "nbconvert_exporter": "python",
   "pygments_lexer": "ipython3",
   "version": "3.8.8"
  }
 },
 "nbformat": 4,
 "nbformat_minor": 5
}
