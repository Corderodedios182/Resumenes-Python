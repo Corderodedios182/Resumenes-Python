{
 "cells": [
  {
   "cell_type": "markdown",
   "metadata": {},
   "source": [
    "## Conceptos básico de manipulación de textos"
   ]
  },
  {
   "cell_type": "code",
   "execution_count": 5,
   "metadata": {},
   "outputs": [
    {
     "data": {
      "text/plain": [
       "'VESO NURXEOS '"
      ]
     },
     "execution_count": 5,
     "metadata": {},
     "output_type": "execute_result"
    }
   ],
   "source": [
    "import pandas as pd\n",
    "import re\n",
    "import datetime\n",
    "\n",
    "a = \"VEREMOS COMO MANIPULAR EXPRESIONES    \"\n",
    "\n",
    "#Selección de texto de 3 en 3\n",
    "a[::3]"
   ]
  },
  {
   "cell_type": "code",
   "execution_count": 6,
   "metadata": {},
   "outputs": [
    {
     "data": {
      "text/plain": [
       "'veremos como manipular expresiones'"
      ]
     },
     "execution_count": 6,
     "metadata": {},
     "output_type": "execute_result"
    }
   ],
   "source": [
    "#Colocar todo en letras minusculas\n",
    "a.lower()"
   ]
  },
  {
   "cell_type": "code",
   "execution_count": 19,
   "metadata": {},
   "outputs": [
    {
     "data": {
      "text/plain": [
       "'VEREMOS COMO MANIPULAR EXPRESIONES'"
      ]
     },
     "execution_count": 19,
     "metadata": {},
     "output_type": "execute_result"
    }
   ],
   "source": [
    "#elimina espacios a la derecha\n",
    "a.rstrip()"
   ]
  },
  {
   "cell_type": "code",
   "execution_count": 4,
   "metadata": {},
   "outputs": [
    {
     "data": {
      "text/plain": [
       "['mtv',\n",
       " ' films election, a high school comedy, is a current example',\n",
       " 'from there, director steven',\n",
       " ' spielberg wastes no time, taking us into',\n",
       " ' the water on a midnight swim']"
      ]
     },
     "execution_count": 4,
     "metadata": {},
     "output_type": "execute_result"
    }
   ],
   "source": [
    "# separemos el texto cuando tengamos un caracter de espacio como este  \" \\n \"\n",
    "file = 'mtv\\n films election, a high school comedy, is a current example\\nfrom there, director steven\\n spielberg wastes no time, taking us into\\n the water on a midnight swim'\n",
    "\n",
    "# separa el texto con \" \\n \"\n",
    "file_split = file.splitlines()\n",
    "file_split"
   ]
  },
  {
   "cell_type": "code",
   "execution_count": 36,
   "metadata": {},
   "outputs": [
    {
     "data": {
      "text/plain": [
       "[['mtv'],\n",
       " [' films election', ' a high school comedy', ' is a current example'],\n",
       " ['from there', ' director steven'],\n",
       " [' spielberg wastes no time', ' taking us into'],\n",
       " [' the water on a midnight swim']]"
      ]
     },
     "execution_count": 36,
     "metadata": {},
     "output_type": "execute_result"
    }
   ],
   "source": [
    "#Separamos por \",\"\n",
    "[substring.split(\",\") for substring in file_split ]"
   ]
  },
  {
   "cell_type": "code",
   "execution_count": 7,
   "metadata": {},
   "outputs": [
    {
     "name": "stdout",
     "output_type": "stream",
     "text": [
      "the film,however,is all good\n",
      "['the film', 'however', 'is all good']\n",
      "the film pega however pega is all good\n"
     ]
    }
   ],
   "source": [
    "movie = 'the film,however,is all good<\\\\i>'\n",
    "\n",
    "# Remove tags happening at the end and print results\n",
    "movie_tag = movie.rstrip(\"<\\i>\")\n",
    "print(movie_tag)\n",
    "\n",
    "# Split the string using commas and print results\n",
    "movie_no_comma = movie_tag.split(\",\")\n",
    "print(movie_no_comma)\n",
    "\n",
    "# Join back together and print results\n",
    "movie_join = \" pega \".join(movie_no_comma)\n",
    "print(movie_join)"
   ]
  },
  {
   "cell_type": "code",
   "execution_count": 59,
   "metadata": {},
   "outputs": [
    {
     "data": {
      "text/plain": [
       "51"
      ]
     },
     "execution_count": 59,
     "metadata": {},
     "output_type": "execute_result"
    }
   ],
   "source": [
    "len(\"I believe you I always said that the actor actor...\")"
   ]
  },
  {
   "cell_type": "code",
   "execution_count": 60,
   "metadata": {},
   "outputs": [
    {
     "data": {
      "text/plain": [
       "37"
      ]
     },
     "execution_count": 60,
     "metadata": {},
     "output_type": "execute_result"
    }
   ],
   "source": [
    "#Busca la palabra y marca su comienzo\n",
    "\"I believe you I always said that the actor actor...\".find(\"actor\")"
   ]
  },
  {
   "cell_type": "code",
   "execution_count": 61,
   "metadata": {},
   "outputs": [
    {
     "data": {
      "text/plain": [
       "'I believe you I always said that the actores actores...'"
      ]
     },
     "execution_count": 61,
     "metadata": {},
     "output_type": "execute_result"
    }
   ],
   "source": [
    "#Remplaza actor por actores\n",
    "\"I believe you I always said that the actor actor...\".replace(\"actor\",\"actores\")"
   ]
  },
  {
   "cell_type": "code",
   "execution_count": 52,
   "metadata": {},
   "outputs": [
    {
     "data": {
      "text/plain": [
       "2"
      ]
     },
     "execution_count": 52,
     "metadata": {},
     "output_type": "execute_result"
    }
   ],
   "source": [
    "#Conteo de palabras\n",
    "\"I believe you I always said that the actor actor...\".replace(\"actor\",\"actores\").count(\"actores\")"
   ]
  },
  {
   "cell_type": "markdown",
   "metadata": {},
   "source": [
    "## Formato de Texto\n",
    "\n",
    "**¿Cuál debería usar?**\n",
    "\n",
    "**str.format ():**\n",
    "\n",
    "- Bueno para empezar. Los conceptos se aplican a las cuerdas f.\n",
    "- Compatible con todas las versiones de Python.\n",
    "\n",
    "**f-string:**\n",
    "\n",
    "- Siempre recomendable sobre todos los métodos.\n",
    "- No es adecuado si no funciona con versiones modernas de Python (3.6+).\n",
    "\n",
    "**Cadenas de plantilla:**\n",
    "\n",
    "- Cuando trabaje con"
   ]
  },
  {
   "cell_type": "markdown",
   "metadata": {},
   "source": [
    "**Comenzando con str.format()**"
   ]
  },
  {
   "cell_type": "code",
   "execution_count": 38,
   "metadata": {},
   "outputs": [
    {
     "data": {
      "text/plain": [
       "'My dad is called \"John\"'"
      ]
     },
     "execution_count": 38,
     "metadata": {},
     "output_type": "execute_result"
    }
   ],
   "source": [
    "#Escapando de las secuencias\n",
    "\n",
    "\"My dad is called \\\"John\\\"\""
   ]
  },
  {
   "cell_type": "code",
   "execution_count": 24,
   "metadata": {},
   "outputs": [
    {
     "data": {
      "text/plain": [
       "'Colocamos lo que deseamos como colocando en format podemos colocar varias cosas Hola!!'"
      ]
     },
     "execution_count": 24,
     "metadata": {},
     "output_type": "execute_result"
    }
   ],
   "source": [
    "\"Colocamos lo que deseamos como {} podemos colocar varias cosas {}\".format(\"colocando en format\", \"Hola!!\")"
   ]
  },
  {
   "cell_type": "code",
   "execution_count": 27,
   "metadata": {},
   "outputs": [
    {
     "data": {
      "text/plain": [
       "'Tambien ÑLKJADSF podemos nombrar las variables 123'"
      ]
     },
     "execution_count": 27,
     "metadata": {},
     "output_type": "execute_result"
    }
   ],
   "source": [
    "\"Tambien {variable} podemos nombrar las variables {valor}\".format(variable = \"ÑLKJADSF\", valor = \"123\")"
   ]
  },
  {
   "cell_type": "code",
   "execution_count": 29,
   "metadata": {},
   "outputs": [
    {
     "data": {
      "text/plain": [
       "'Cuidando el tipo de datos 3.000000% y texto el siguiente valor no será flotante 3'"
      ]
     },
     "execution_count": 29,
     "metadata": {},
     "output_type": "execute_result"
    }
   ],
   "source": [
    "\"Cuidando el tipo de datos {0:f}% y texto {1} {2}\".format(3, \"el siguiente valor no será flotante\",3)"
   ]
  },
  {
   "cell_type": "code",
   "execution_count": 31,
   "metadata": {},
   "outputs": [
    {
     "name": "stdout",
     "output_type": "stream",
     "text": [
      "Good morning. Today is May 23, 2020. It's 00:22 ... time to work!\n"
     ]
    }
   ],
   "source": [
    "# Import datetime \n",
    "from datetime import datetime\n",
    "\n",
    "get_date = datetime.now()\n",
    "get_date\n",
    "\n",
    "# Agregando el formato de fecha \n",
    "message = \"Good morning. Today is {today:%B %d, %Y}. It's {today:%H:%M} ... time to work!\"\n",
    "\n",
    "# Format date\n",
    "print(message.format(today=get_date))"
   ]
  },
  {
   "cell_type": "markdown",
   "metadata": {},
   "source": [
    "**f-string**"
   ]
  },
  {
   "cell_type": "code",
   "execution_count": 34,
   "metadata": {},
   "outputs": [
    {
     "name": "stdout",
     "output_type": "stream",
     "text": [
      "Data science is considered 'asdf' in the 24st century\n"
     ]
    }
   ],
   "source": [
    "field1 = 'asdf'\n",
    "fact1 = 24\n",
    "\n",
    "# No es necesario colocar format siempre y cuando al inicio pongamos f\"\"\n",
    "print(f\"Data science is considered {field1!r} in the {fact1:d}st century\" )\n",
    "\n",
    "#!s\n",
    "#!r, coloca las comillas haciendo referencia a textos\n",
    "#!a "
   ]
  },
  {
   "cell_type": "code",
   "execution_count": 15,
   "metadata": {},
   "outputs": [
    {
     "name": "stdout",
     "output_type": "stream",
     "text": [
      "About 2.000000e+03 of data is produced daily in the world\n"
     ]
    }
   ],
   "source": [
    "fact2 = 2000\n",
    "field2 = 'data is produced daily'\n",
    "\n",
    "# Complete the f-string\n",
    "print(f\"About {fact2:e} of {field2} in the world\")\n",
    "\n",
    "#e, notación cientifica\n",
    "#d, digito\n",
    "#f, flotante"
   ]
  },
  {
   "cell_type": "code",
   "execution_count": 35,
   "metadata": {},
   "outputs": [
    {
     "name": "stdout",
     "output_type": "stream",
     "text": [
      "asdf create around 2.00% of the data but only 3.0% is analyzed\n"
     ]
    }
   ],
   "source": [
    "field3 = \"asdf\" \n",
    "fact3 = 2\n",
    "fact4 = 3\n",
    "\n",
    "# Completando f\"strings\"\n",
    "print(f\"{field3} create around {fact3:.2f}% of the data but only {fact4:.1f}% is analyzed\")"
   ]
  },
  {
   "cell_type": "code",
   "execution_count": 18,
   "metadata": {},
   "outputs": [
    {
     "name": "stdout",
     "output_type": "stream",
     "text": [
      "10 tweets were downloaded in 2 minutes indicating a speed of 5.0 tweets per min\n"
     ]
    }
   ],
   "source": [
    "number1 = 10\n",
    "number2 = 2\n",
    "\n",
    "# Podemos operar las variables\n",
    "print(f\"{number1} tweets were downloaded in {number2} minutes indicating a speed of {number1/number2:.1f} tweets per min\")"
   ]
  },
  {
   "cell_type": "code",
   "execution_count": 22,
   "metadata": {},
   "outputs": [
    {
     "name": "stdout",
     "output_type": "stream",
     "text": [
      "Tenemos el siguiente sitio web: www.datacamp.com donde contiene https en: 0 \n"
     ]
    }
   ],
   "source": [
    "string1 = 'httpswww.datacamp.com'\n",
    "\n",
    "# Aplicar funciones al texto\n",
    "print(f\"Tenemos el siguiente sitio web: {string1.replace('https', '')} donde contiene https en: {string1.find('https')} \")"
   ]
  },
  {
   "cell_type": "code",
   "execution_count": 87,
   "metadata": {},
   "outputs": [
    {
     "name": "stdout",
     "output_type": "stream",
     "text": [
      "Only 5.83% of the posts contain links\n"
     ]
    }
   ],
   "source": [
    "list_links = ['www.news.com',\n",
    " 'www.google.com',\n",
    " 'www.yahoo.com',\n",
    " 'www.bbc.com',\n",
    " 'www.msn.com',\n",
    " 'www.facebook.com',\n",
    " 'www.news.google.com']\n",
    "\n",
    "# Colocando funciones y operaciones\n",
    "print(f\"Only {(len(list_links)*100/120):.2f}% of the posts contain links\")"
   ]
  },
  {
   "cell_type": "code",
   "execution_count": 41,
   "metadata": {},
   "outputs": [
    {
     "name": "stdout",
     "output_type": "stream",
     "text": [
      "If you sum up 10 and 20 the result is 30\n"
     ]
    }
   ],
   "source": [
    "def my_function(a,b):\n",
    "    return a + b\n",
    "\n",
    "#Aplicando funciones\n",
    "print(f\"If you sum up 10 and 20 the result is {my_function(10, 20)}\")"
   ]
  },
  {
   "cell_type": "code",
   "execution_count": 92,
   "metadata": {},
   "outputs": [
    {
     "name": "stdout",
     "output_type": "stream",
     "text": [
      "The price for a house in the east neighborhood was $1232443 in 04-20-2007\n"
     ]
    }
   ],
   "source": [
    "#Tomando valores de diccionarios.\n",
    "east = {'date': datetime.datetime(2007, 4, 20, 0, 0), 'price': 1232443}\n",
    "\n",
    "# Access values of date and price in east dictionary\n",
    "print(f\"The price for a house in the east neighborhood was ${east['price']} in {east['date']:%m-%d-%Y}\")"
   ]
  },
  {
   "cell_type": "markdown",
   "metadata": {},
   "source": [
    "**Metodo template**\n",
    "\n",
    "Sintaxis más simple\n",
    "\n",
    "Más lento que las cuerdas f\n",
    "\n",
    "Limitado: no permitir formatos de especies\n",
    "\n",
    "Bueno cuando se trabaja con cadenas formateadas externamente"
   ]
  },
  {
   "cell_type": "code",
   "execution_count": 46,
   "metadata": {},
   "outputs": [
    {
     "name": "stdout",
     "output_type": "stream",
     "text": [
      "Natural Language Toolkit is a suite of libraries and programs for\n"
     ]
    }
   ],
   "source": [
    "from string import Template\n",
    "\n",
    "tool1 = 'Natural Language Toolkit'\n",
    "description1 = 'suite of libraries and programs for'\n",
    "\n",
    "# Creamos un template para poder colocar mayor número de variables diferentes\n",
    "wikipedia = Template(\"$tool is a $description\")\n",
    "\n",
    "# Sustituyde la variable del template\n",
    "print(wikipedia.substitute(tool=tool1, description=description1))\n"
   ]
  },
  {
   "cell_type": "code",
   "execution_count": 48,
   "metadata": {},
   "outputs": [
    {
     "name": "stdout",
     "output_type": "stream",
     "text": [
      "We are offering a 3-month beginner course on Natural Language Toolkit just for $ 20 monthly\n"
     ]
    }
   ],
   "source": [
    "# Import template\n",
    "from string import Template\n",
    "\n",
    "tools = ['Natural Language Toolkit', '20', 'month']\n",
    "\n",
    "# Select variables\n",
    "our_tool = tools[0]\n",
    "our_fee = tools[1]\n",
    "our_pay = tools[2]\n",
    "\n",
    "# Creando el template con mayor número de variables de una lista.\n",
    "course = Template(\"We are offering a 3-month beginner course on $tool just for $$ $fee ${pay}ly\")\n",
    "\n",
    "# Sustituyde la variable del template\n",
    "print(course.substitute(tool=our_tool, fee=our_fee, pay=our_pay))"
   ]
  },
  {
   "cell_type": "markdown",
   "metadata": {},
   "source": [
    "## Expresiones regulares.\n",
    "\n",
    "Cadena que contiene una combinación de caracteres normales y metacaracteres especiales que describen patrones para encontrar texto o posiciones dentro de un texto.\n",
    "\n",
    "- Caracteres Normales r'st\n",
    "\n",
    "Patrón: una secuencia de caracteres que se asigna a palabras o puntuación\n",
    "\n",
    "Uso de coincidencia de patrones: buscar y reemplazar texto, Validar cadenas, Muy potente y rápido\n",
    "\n",
    "- Metacaracteres representados por (/d, /s, /w) -> r'st/d/s/w{3,10}'\n",
    "\n",
    "/d gigito, D/ no-digito /s espacio, S/ no-espacio , /w caracter de palabra, /W no-caracter de palabra caracter especial ejemplo #\n",
    "\n",
    "Con **import re** tenemos varios metodos útiles para trabajar con expresiones regulares\n",
    "\n"
   ]
  },
  {
   "cell_type": "code",
   "execution_count": 30,
   "metadata": {},
   "outputs": [
    {
     "data": {
      "text/plain": [
       "['@robot9!', '@robot4&', '@robot9$', '@robot7%']"
      ]
     },
     "execution_count": 30,
     "metadata": {},
     "output_type": "execute_result"
    }
   ],
   "source": [
    "import re\n",
    "\n",
    "sentiment_analysis = '@robot9! @robot4& I have a good feeling that the show isgoing to be amazing! @robot9$ @robot7%'\n",
    "\n",
    "#Busca un patron con @palabra\\digito\\caracter especial\n",
    "re.findall(r\"@robot\\d\\W\",sentiment_analysis)\n"
   ]
  },
  {
   "cell_type": "code",
   "execution_count": 31,
   "metadata": {},
   "outputs": [
    {
     "name": "stdout",
     "output_type": "stream",
     "text": [
      "['number of retweets: 7']\n"
     ]
    }
   ],
   "source": [
    "sentiment_analysis = \"Unfortunately one of those moments wasn't a giant squid monster. User_mentions:2, likes: 9, number of retweets: 7\"\n",
    "\n",
    "#Busca el patron: number \"espacio\" of \"espacio\" retweets \"espacio\" digito\n",
    "print(re.findall(r\"number\\sof\\sretweets:\\s\\d\",\n",
    "                 sentiment_analysis))"
   ]
  },
  {
   "cell_type": "code",
   "execution_count": 34,
   "metadata": {},
   "outputs": [
    {
     "data": {
      "text/plain": [
       "'He#newHis%newTin love with$newPscrappy. remplazo He is&newYmissing him@newLalready'"
      ]
     },
     "execution_count": 34,
     "metadata": {},
     "output_type": "execute_result"
    }
   ],
   "source": [
    "sentiment_analysis = \"He#newHis%newTin love with$newPscrappy. #8break%He is&newYmissing him@newLalready\"\n",
    "\n",
    "#Reemplaza una o varias coincidencias con una cadena, en este caso: \"caracter especial\" \"digito\" break \"caracter especial\"\n",
    "re.sub(r\"\\W\\dbreak\\W\", \"remplazo \", sentiment_analysis)"
   ]
  },
  {
   "cell_type": "code",
   "execution_count": 35,
   "metadata": {},
   "outputs": [
    {
     "data": {
      "text/plain": [
       "'He is in love with scrappy.  He is missing him already'"
      ]
     },
     "execution_count": 35,
     "metadata": {},
     "output_type": "execute_result"
    }
   ],
   "source": [
    "#Remplazando las palabras new con el patrón: \"caracter espacial\" new \"caracter\" y adicional el patron anterio \\W\\dbreak\\W\n",
    "re.sub(r\"\\Wnew\\w\",\n",
    "       \" \",\n",
    "       re.sub(r\"\\W\\dbreak\\W\",\" \", sentiment_analysis))"
   ]
  },
  {
   "cell_type": "markdown",
   "metadata": {},
   "source": [
    "**Buscando repeticiones en los textos**\n",
    "\n",
    "Un metodo util para buscar repeticiones es re.search()"
   ]
  },
  {
   "cell_type": "code",
   "execution_count": 37,
   "metadata": {},
   "outputs": [
    {
     "data": {
      "text/plain": [
       "<re.Match object; span=(0, 12), match='paswword1234'>"
      ]
     },
     "execution_count": 37,
     "metadata": {},
     "output_type": "execute_result"
    }
   ],
   "source": [
    "password = \"paswword1234\"\n",
    "\n",
    "#Busca 8 caracteres y 4 digitos\n",
    "re.search(r\"\\w\\w\\w\\w\\w\\w\\w\\w\\d\\d\\d\\d\", password)"
   ]
  },
  {
   "cell_type": "code",
   "execution_count": 40,
   "metadata": {},
   "outputs": [
    {
     "data": {
      "text/plain": [
       "<re.Match object; span=(0, 12), match='paswword1234'>"
      ]
     },
     "execution_count": 40,
     "metadata": {},
     "output_type": "execute_result"
    }
   ],
   "source": [
    "re.search(r\"\\w{8}\\d{4}\",password)"
   ]
  },
  {
   "cell_type": "markdown",
   "metadata": {},
   "source": [
    "**Cuantificadores**\n",
    "\n",
    "Son caracteres que multiplican el patrón que les precede. Usando los símbolos + , *, ?, {n,m}\n",
    "\n",
    "Mientras que con las clases de caracteres podemos buscar un dígito, o una letra; con los cuantificadores podemos buscar cero o más letras, al menos 7 dígitos, o entre tres y cinco letras mayúsculas.\n",
    "\n",
    "El uso de cuantificadores permite simplificar la escritura para la busqueda de patrones.\n",
    "\n",
    "Una vez o más: +\n",
    "\n",
    "Cero veces o más: *\n",
    "\n",
    "Cero veces o una vez: ?\n",
    "\n",
    "n veces al menos, m veces como máximo: {n,m}"
   ]
  },
  {
   "cell_type": "code",
   "execution_count": 41,
   "metadata": {},
   "outputs": [
    {
     "data": {
      "text/plain": [
       "['4-5', '10-4']"
      ]
     },
     "execution_count": 41,
     "metadata": {},
     "output_type": "execute_result"
    }
   ],
   "source": [
    "text = \"Fecha de inicio: 4-5. Fecha de registro: 10-4\"\n",
    "\n",
    "#Patron; digito+ \"-\" digito+\n",
    "re.findall(r\"\\d+-\\d+\", text)"
   ]
  },
  {
   "cell_type": "code",
   "execution_count": 43,
   "metadata": {},
   "outputs": [
    {
     "data": {
      "text/plain": [
       "['@ameli!a', '@joh&&n', '@mary90']"
      ]
     },
     "execution_count": 43,
     "metadata": {},
     "output_type": "execute_result"
    }
   ],
   "source": [
    "my_string = \"The concert was amazing! @ameli!a @joh&&n @mary90\"\n",
    "\n",
    "#Busca el patrón: @ \"caracteres seguido de un caracter especial seguido de más caracteres normal\"\n",
    "re.findall(r\"@\\w+\\W*\\w+\", my_string)"
   ]
  },
  {
   "cell_type": "code",
   "execution_count": null,
   "metadata": {},
   "outputs": [],
   "source": [
    "text = \"The color of this image is amazing. However, the colour blue could be brighter.\"\n",
    "\n",
    "#Busca el patrín con color\n",
    "re.findall(r\"colou?r\", text)"
   ]
  },
  {
   "cell_type": "markdown",
   "metadata": {},
   "source": [
    "**Un poco de limpieza**\n",
    "\n",
    "Una ves dominados los simbolos de caracteres /d, D/, s/, S/, /w, /W\n",
    "\n",
    "Y los cuantificadores +, *, ?, {n,m}\n",
    "\n",
    "Podemos convinarlos para una mejor tratamiento de nuestros textos."
   ]
  },
  {
   "cell_type": "code",
   "execution_count": 44,
   "metadata": {},
   "outputs": [
    {
     "name": "stdout",
     "output_type": "stream",
     "text": [
      "['https://cienciadedatos']\n",
      "['@charly']\n",
      "['https://abogadosambientales']\n",
      "['@honey']\n"
     ]
    }
   ],
   "source": [
    "#Seleccionando palabras con caracteres especificos\n",
    "sentiment_analysis = pd.Series(['el sitio de @charly es https://cienciadedatos ','@honey sitio de abogados https://abogadosambientales'])\n",
    "\n",
    "for tweet in sentiment_analysis:\n",
    "    print(re.findall(r\"http\\S+\", tweet)) #http \"no espacio con caracteres que contiene hacia delante\"\n",
    "    print(re.findall(r\"@\\w+\", tweet)) #@ \"seguido de caracteres normales\""
   ]
  },
  {
   "cell_type": "code",
   "execution_count": 17,
   "metadata": {},
   "outputs": [
    {
     "name": "stdout",
     "output_type": "stream",
     "text": [
      "['32 minutos ago']\n",
      "[]\n",
      "[]\n",
      "[]\n",
      "['1st May 2019']\n",
      "[]\n",
      "[]\n",
      "['23rd June 2018']\n",
      "['23rd June 2018 17:54']\n"
     ]
    }
   ],
   "source": [
    "#Es de gran utilidad poder definir un patro de fechas\n",
    "sentiment_analysis = pd.Series(['32 minutos ago','1st May 2019','23rd June 2018 17:54'])\n",
    "\n",
    "for date in sentiment_analysis:\n",
    "    print(re.findall(r\"\\d{1,2}\\s\\w+\\sago\", date)) #uno ó dos digitos seguido de un espacio con caracteres hacia delante espacio y la palabra ago\n",
    "    print(re.findall(r\"\\d{1,2}\\w+\\s\\w+\\s\\d{4}\", date)) #uno ó dos digitos caracteres espacio caracteres normales espacio seguido de un numero de 4 cifras\n",
    "    print(re.findall(r\"\\d{1,2}\\w+\\s\\w+\\s\\d{4}\\s\\d{1,2}:\\d{2}\", date)) #uno ó dos digitos caracteres normales hacia delante espacio caracteres normales espacio un numcero de 4 cifras espacio numeero de 1ó2 cifras : numero de 2 cifras"
   ]
  },
  {
   "cell_type": "code",
   "execution_count": 45,
   "metadata": {},
   "outputs": [
    {
     "name": "stdout",
     "output_type": "stream",
     "text": [
      "aasdf    asdf\n",
      "['aasdf', 'asdf']\n"
     ]
    }
   ],
   "source": [
    "regex = r\"#\\w+\"\n",
    "\n",
    "sentiment_analysis = 'aasdf #asdf #asdff #asdfff asdf' \n",
    "\n",
    "no_hashtag = re.sub(regex, \"\", sentiment_analysis) #No mostrando los caracteres con algún caracter especial\n",
    "\n",
    "print(no_hashtag)\n",
    "\n",
    "print(re.split(r\"\\s+\", no_hashtag)) #Separando por algun patron"
   ]
  },
  {
   "cell_type": "markdown",
   "metadata": {},
   "source": [
    "**Patrón de expresiones regulares**"
   ]
  },
  {
   "cell_type": "code",
   "execution_count": 50,
   "metadata": {},
   "outputs": [
    {
     "data": {
      "text/plain": [
       "['www.amazingpics.com']"
      ]
     },
     "execution_count": 50,
     "metadata": {},
     "output_type": "execute_result"
    }
   ],
   "source": [
    "#Coincidir con cualquier personaje (excepto nueva línea):.\n",
    "my_links = \"Just check out this link: www.amazingpics.com. It has amazing photos!\"\n",
    "\n",
    "re.findall(r\"www.+com\", my_links)"
   ]
  },
  {
   "cell_type": "code",
   "execution_count": 49,
   "metadata": {},
   "outputs": [
    {
     "data": {
      "text/plain": [
       "['the 80s']"
      ]
     },
     "execution_count": 49,
     "metadata": {},
     "output_type": "execute_result"
    }
   ],
   "source": [
    "#Inicio de la cadena: ^\n",
    "my_string = \"the 80s music was much better that the 90s\"\n",
    "\n",
    "re.findall(r\"^the\\s\\d+s\", my_string)"
   ]
  },
  {
   "cell_type": "code",
   "execution_count": 51,
   "metadata": {},
   "outputs": [
    {
     "data": {
      "text/plain": [
       "['the 90s']"
      ]
     },
     "execution_count": 51,
     "metadata": {},
     "output_type": "execute_result"
    }
   ],
   "source": [
    "#Fin de la cadena: $\n",
    "my_string = \"the 80s music hits were much better that the 90s\"\n",
    "\n",
    "re.findall(r\"the\\s\\d+s$\", my_string)"
   ]
  },
  {
   "cell_type": "code",
   "execution_count": 53,
   "metadata": {},
   "outputs": [
    {
     "name": "stdout",
     "output_type": "stream",
     "text": [
      "['', 'lov', 'th', 'musi', 'o', 'Mr.Go', 'However', 'th', 'soun', 'wa', 'to', 'loud.']\n",
      "['I love the music of Mr.Go', 'However, the sound was too loud.']\n"
     ]
    }
   ],
   "source": [
    "#Espacio en blanco: \\\n",
    "my_string = \"I love the music of Mr.Go. However, the sound was too loud.\"\n",
    "\n",
    "print(re.split(r\".\\s\", my_string))\n",
    "\n",
    "print(re.split(r\"\\.\\s\", my_string))"
   ]
  },
  {
   "cell_type": "code",
   "execution_count": 61,
   "metadata": {},
   "outputs": [
    {
     "name": "stdout",
     "output_type": "stream",
     "text": [
      "['ouMYTAXES.txt']\n",
      " I am worried that I won't get my $900 even though I paid tax last year\n"
     ]
    }
   ],
   "source": [
    "#Econtrando las palabras que comienzen con 2 o 3 vocales y terminen en txt\n",
    "\n",
    "regex = r\"^[aeiouAEIOU]{2,3}.+txt\"\n",
    "\n",
    "text = \"ouMYTAXES.txt I am worried that I won't get my $900 even though I paid tax last year\"\n",
    "\n",
    "print(re.findall(regex, text))\n",
    "   \n",
    "print(re.sub(regex, \"\", text))"
   ]
  },
  {
   "cell_type": "code",
   "execution_count": 64,
   "metadata": {},
   "outputs": [
    {
     "name": "stdout",
     "output_type": "stream",
     "text": [
      "El correo n.john.smith@gmail.com es valido\n",
      "El correo 87victory@hotmail.com es valido\n",
      "El correo !#mary-=@msca.net no es valido\n"
     ]
    }
   ],
   "source": [
    "#Validador de correos\n",
    "\n",
    "emails = ['n.john.smith@gmail.com', '87victory@hotmail.com', '!#mary-=@msca.net']\n",
    "\n",
    "#Primera parte puede contener A-Z y letras minusculas a-z, numeros, caracteres especiales !, #, %, &, *, $, .\n",
    "#contener @\n",
    "#puede contener caracteres de cualquier palabra\n",
    "#terminar en .com\n",
    "\n",
    "regex = r\"[A-Za-z0-9!#%&*\\$\\.]+@\\w+\\.com\"\n",
    "\n",
    "for example in emails:\n",
    "    if re.match(regex, example):\n",
    "        print(\"El correo {email_example} es valido\".format(email_example=example))\n",
    "    else:\n",
    "        print(\"El correo {email_example} no es valido\".format(email_example=example))   \n"
   ]
  },
  {
   "cell_type": "code",
   "execution_count": 67,
   "metadata": {},
   "outputs": [
    {
     "name": "stdout",
     "output_type": "stream",
     "text": [
      "El password Apple34!rose es valido\n",
      "El password My87hou#4$ es valido\n",
      "El password abc123 no es valido\n"
     ]
    }
   ],
   "source": [
    "#Password invalidos\n",
    "\n",
    "passwords = ['Apple34!rose', 'My87hou#4$', 'abc123']\n",
    "\n",
    "#Puede contener a-z letras minúsculas y mayúsculas A-Z\n",
    "#Puede contener números\n",
    "#Puede contener los símbolos: *, #, $, %, !, &,.\n",
    "#Debe tener al menos 8 caracteres de longitud pero no más de 20\n",
    "\n",
    "# patron de busqueda\n",
    "regex = r\"[A-Za-z0-9!#%&*\\$\\.]{8,20}\" \n",
    "\n",
    "for example in passwords:\n",
    "    if re.search(regex, example):\n",
    "        print(\"El password {pass_example} es valido\".format(pass_example=example))\n",
    "    else:\n",
    "        print(\"El password {pass_example} no es valido\".format(pass_example=example))     "
   ]
  },
  {
   "cell_type": "markdown",
   "metadata": {},
   "source": [
    "**Operador Or**"
   ]
  },
  {
   "cell_type": "code",
   "execution_count": 54,
   "metadata": {},
   "outputs": [
    {
     "data": {
      "text/plain": [
       "['Elephant', 'elephant']"
      ]
     },
     "execution_count": 54,
     "metadata": {},
     "output_type": "execute_result"
    }
   ],
   "source": [
    "#Operador OR, podemos colocar 2 opciones de busqueda\n",
    "my_string = \"Elephants are the world's largest land animal! I would love to see an elephant one day\"\n",
    "\n",
    "re.findall(r\"Elephant|elephant\", my_string)"
   ]
  },
  {
   "cell_type": "code",
   "execution_count": 55,
   "metadata": {},
   "outputs": [
    {
     "data": {
      "text/plain": [
       "['MaryJohn2', 'Clary3']"
      ]
     },
     "execution_count": 55,
     "metadata": {},
     "output_type": "execute_result"
    }
   ],
   "source": [
    "#Conjunto de caracteres: []\n",
    "my_string = \"Yesterday I spent my afternoon with my friends: MaryJohn2 Clary3\"\n",
    "\n",
    "re.findall(r\"[a-zA-Z]+\\d\", my_string)"
   ]
  },
  {
   "cell_type": "code",
   "execution_count": 56,
   "metadata": {},
   "outputs": [
    {
     "data": {
      "text/plain": [
       "'My name is John Smith. I live in London.'"
      ]
     },
     "execution_count": 56,
     "metadata": {},
     "output_type": "execute_result"
    }
   ],
   "source": [
    "my_string = \"My&name&is#John Smith. I%live$in#London.\"\n",
    "\n",
    "re.sub(r\"[#$%&]\", \" \", my_string)"
   ]
  },
  {
   "cell_type": "code",
   "execution_count": 58,
   "metadata": {},
   "outputs": [
    {
     "data": {
      "text/plain": [
       "['www.hola.com']"
      ]
     },
     "execution_count": 58,
     "metadata": {},
     "output_type": "execute_result"
    }
   ],
   "source": [
    "my_links = \"Bad website: www.99.com. Favorite site: www.hola.com\"\n",
    "\n",
    "re.findall(r\"www[^0-9]+com\", my_links)"
   ]
  },
  {
   "cell_type": "markdown",
   "metadata": {},
   "source": [
    "**Emparejamiento codicioso versus no codicioso**\n",
    "\n",
    "Dos tipos de métodos de emparejamiento: \n",
    "    \n",
    "- **codicioso**\n",
    "    \n",
    "- **no codicioso o perezoso**\n",
    "    \n",
    "Los cuantiers estándar son codiciosos por defecto: *, +,? , {num, num}\n",
    "\n",
    "**Emparejamiento codicioso**\n",
    "\n",
    "- Un cuantificador codicioso intentará igualar tanto como sea posible, mientras que un cuantificador no codicioso lo hará tan pocas veces como sea necesario, expandiendo un personaje a la vez y dándonos la coincidencia que estamos buscando.\n",
    "\n",
    "- Codicioso: combina tantos personajes como sea posible\n",
    "\n",
    "- Devuelve el partido más largo"
   ]
  },
  {
   "cell_type": "code",
   "execution_count": 72,
   "metadata": {},
   "outputs": [
    {
     "data": {
      "text/plain": [
       "<re.Match object; span=(0, 5), match='12345'>"
      ]
     },
     "execution_count": 72,
     "metadata": {},
     "output_type": "execute_result"
    }
   ],
   "source": [
    "re.match(r\"\\d+\", \"12345bcada\")"
   ]
  },
  {
   "cell_type": "markdown",
   "metadata": {},
   "source": [
    "- Retrocede cuando coinciden demasiados caracteres.\n",
    "\n",
    "- Entrega caracteres uno a la vez."
   ]
  },
  {
   "cell_type": "code",
   "execution_count": 73,
   "metadata": {},
   "outputs": [
    {
     "data": {
      "text/plain": [
       "<re.Match object; span=(0, 6), match='xhello'>"
      ]
     },
     "execution_count": 73,
     "metadata": {},
     "output_type": "execute_result"
    }
   ],
   "source": [
    "re.match(r\".*hello\", \"xhelloxxxxxx\")"
   ]
  },
  {
   "cell_type": "markdown",
   "metadata": {},
   "source": [
    "**Emparejamiento no codicioso**\n",
    "\n",
    "- Perezoso: empareja tan pocos caracteres como sea necesario\n",
    "\n",
    "- Devuelve el emparejamiento más corto \n",
    "\n",
    "- Agregar ? a los codiciosos cuantificadores"
   ]
  },
  {
   "cell_type": "code",
   "execution_count": 74,
   "metadata": {},
   "outputs": [
    {
     "data": {
      "text/plain": [
       "<re.Match object; span=(0, 1), match='1'>"
      ]
     },
     "execution_count": 74,
     "metadata": {},
     "output_type": "execute_result"
    }
   ],
   "source": [
    "re.match(r\"\\d+?\", \"12345bcada\")"
   ]
  },
  {
   "cell_type": "markdown",
   "metadata": {},
   "source": [
    "- Retrocede cuando coinciden muy pocos caracteres \n",
    "\n",
    "- Expande los caracteres uno por vez"
   ]
  },
  {
   "cell_type": "code",
   "execution_count": 71,
   "metadata": {},
   "outputs": [
    {
     "data": {
      "text/plain": [
       "<re.Match object; span=(0, 6), match='xhello'>"
      ]
     },
     "execution_count": 71,
     "metadata": {},
     "output_type": "execute_result"
    }
   ],
   "source": [
    "re.match(r\".*?hello\", \"xhelloxxxxxx\")"
   ]
  },
  {
   "cell_type": "code",
   "execution_count": 76,
   "metadata": {},
   "outputs": [
    {
     "data": {
      "text/plain": [
       "'I want to see that amazing show again!'"
      ]
     },
     "execution_count": 76,
     "metadata": {},
     "output_type": "execute_result"
    }
   ],
   "source": [
    "#Analizando el etiquetado HTML\n",
    "\n",
    "text = 'I want to see that <strong>amazing show</strong> again!'\n",
    "\n",
    "re.sub(r\"<.+?>\", \"\",text)"
   ]
  },
  {
   "cell_type": "code",
   "execution_count": 80,
   "metadata": {},
   "outputs": [
    {
     "data": {
      "text/plain": [
       "['5', '3', '6', '1', '2']"
      ]
     },
     "execution_count": 80,
     "metadata": {},
     "output_type": "execute_result"
    }
   ],
   "source": [
    "#Extrayendo todos los numeros de forma no codiciosa\n",
    "\n",
    "sentiment_analysis = 'Was intending to finish editing my 536-page novel manuscript tonight, but that will probably not happen. And only 12 pages are left '\n",
    "\n",
    "re.findall(r\"[0-9]+?\", sentiment_analysis)"
   ]
  },
  {
   "cell_type": "code",
   "execution_count": 81,
   "metadata": {},
   "outputs": [
    {
     "data": {
      "text/plain": [
       "['536', '12']"
      ]
     },
     "execution_count": 81,
     "metadata": {},
     "output_type": "execute_result"
    }
   ],
   "source": [
    "#cuantificadores codiciosos\n",
    "re.findall(r\"[0-9]+\", sentiment_analysis)"
   ]
  },
  {
   "cell_type": "markdown",
   "metadata": {},
   "source": [
    "Aunque los cuantificadores codiciosos conducen a coincidencias más largas, a veces son la mejor opción.\n",
    "\n",
    "Debido a que los cuantificadores diferidos coinciden con la menor cantidad posible, devuelven una coincidencia más corta de lo que esperábamos."
   ]
  },
  {
   "cell_type": "code",
   "execution_count": 82,
   "metadata": {},
   "outputs": [
    {
     "data": {
      "text/plain": [
       "[\"(They were so cute) a few yrs ago. PC crashed, and now I forget the name of the site (I'm crying)\"]"
      ]
     },
     "execution_count": 82,
     "metadata": {},
     "output_type": "execute_result"
    }
   ],
   "source": [
    "#cuantificador codicioso para hacer coincidir el texto que aparece entre parentesis en la variable\n",
    "sentiment_analysis = \"Put vacation photos online (They were so cute) a few yrs ago. PC crashed, and now I forget the name of the site (I'm crying). \"\n",
    "\n",
    "re.findall(r\"\\(.*\\)\", sentiment_analysis)"
   ]
  },
  {
   "cell_type": "code",
   "execution_count": 84,
   "metadata": {},
   "outputs": [
    {
     "data": {
      "text/plain": [
       "['(They were so cute)', \"(I'm crying)\"]"
      ]
     },
     "execution_count": 84,
     "metadata": {},
     "output_type": "execute_result"
    }
   ],
   "source": [
    "#cuantificador diferido para hacer coincidir el texto que aparece entre parentesis\n",
    "re.findall(r\"\\(.*?\\)\", sentiment_analysis)"
   ]
  },
  {
   "cell_type": "markdown",
   "metadata": {},
   "source": [
    "Hacer que los cuantificadores sean flojos al agregar ? un patrón más corto es una consideración muy importante a tener en cuenta al manejar datos para la minería de texto."
   ]
  },
  {
   "cell_type": "markdown",
   "metadata": {},
   "source": [
    "## Conceptos avanzados de expresión regular. (aqui me quede)"
   ]
  }
 ],
 "metadata": {
  "kernelspec": {
   "display_name": "Python 3",
   "language": "python",
   "name": "python3"
  },
  "language_info": {
   "codemirror_mode": {
    "name": "ipython",
    "version": 3
   },
   "file_extension": ".py",
   "mimetype": "text/x-python",
   "name": "python",
   "nbconvert_exporter": "python",
   "pygments_lexer": "ipython3",
   "version": "3.7.3"
  },
  "toc-autonumbering": true
 },
 "nbformat": 4,
 "nbformat_minor": 4
}
