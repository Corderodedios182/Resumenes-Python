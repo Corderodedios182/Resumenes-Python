{
 "cells": [
  {
   "cell_type": "markdown",
   "id": "0abb3bf8-8420-4807-a1c5-e5c44a9ce9a1",
   "metadata": {},
   "source": [
    "El método de asignación y desasignación de memoria de Python es automático. \n",
    "\n",
    "El usuario no tiene que preasignar o desasignar memoria de forma similar al uso de la asignación de memoria dinámica en lenguajes como C o C++. \n",
    "Python utiliza dos estrategias para la asignación de memoria: \n",
    "\n",
    "- Recuento de referencias\n",
    "- Recolección de basura\n",
    "\n",
    "Antes de la versión 2.0 de Python, el intérprete de Python solo usaba el conteo de referencias para la administración de la memoria. El recuento de referencias funciona contando el número de veces que otros objetos del sistema hacen referencia a un objeto. Cuando se eliminan las referencias a un objeto, se reduce el recuento de referencias de un objeto. Cuando el recuento de referencias llega a cero, el objeto se desasigna."
   ]
  },
  {
   "cell_type": "markdown",
   "id": "e54b3a55-022e-4f13-a4fb-f6d65ddfd566",
   "metadata": {
    "tags": []
   },
   "source": [
    "**Variables en Memoria**\n",
    "\n",
    "Podemos encontrar la dirección de memoria a la que hace referencia una variable, utilizando la función id().\n",
    "\n",
    "La función id() devuelve la dirección de memoria de su argumento como un número entero de base-10.\n",
    "\n",
    "Podemos utilizar la función hex() para convertir el número de base-10 a base-16."
   ]
  },
  {
   "cell_type": "code",
   "execution_count": 1,
   "id": "67984efe-29ad-43ba-b866-ce15d4ac065f",
   "metadata": {},
   "outputs": [
    {
     "name": "stdout",
     "output_type": "stream",
     "text": [
      "my_var = 10\n",
      "memory address of my_var (decimal): 3046026603088\n",
      "memory address of my_var (hex): 0x2c535556a50\n"
     ]
    }
   ],
   "source": [
    "my_var = 10\n",
    "print('my_var = {0}'.format(my_var))\n",
    "print('memory address of my_var (decimal): {0}'.format(id(my_var)))\n",
    "print('memory address of my_var (hex): {0}'.format(hex(id(my_var))))"
   ]
  },
  {
   "cell_type": "code",
   "execution_count": 2,
   "id": "126eead5-4e0e-4223-ae31-8692b584cf66",
   "metadata": {},
   "outputs": [
    {
     "name": "stdout",
     "output_type": "stream",
     "text": [
      "greeting = Hello\n",
      "memory address of my_var (decimal): 3046113691184\n",
      "memory address of my_var (hex): 0x2c53a864630\n"
     ]
    }
   ],
   "source": [
    "greeting = 'Hello'\n",
    "print('greeting = {0}'.format(greeting))\n",
    "print('memory address of my_var (decimal): {0}'.format(id(greeting)))\n",
    "print('memory address of my_var (hex): {0}'.format(hex(id(greeting))))"
   ]
  },
  {
   "cell_type": "markdown",
   "id": "0c7557b3-4562-4643-b52d-e52700fba83f",
   "metadata": {},
   "source": [
    "Observe cómo la dirección de memoria de mi_var es diferente a la de saludo.\n",
    "\n",
    "Estrictamente hablando, mi_var no es \"igual\" a 10.\n",
    "\n",
    "En cambio, mi_var es una referencia a un objeto (entero) (que contiene el valor 10) situado en la dirección de memoria id(mi_var)\n",
    "\n",
    "Lo mismo ocurre con la variable saludo."
   ]
  },
  {
   "cell_type": "markdown",
   "id": "ba42336c-de75-409e-a89d-ef239e715988",
   "metadata": {},
   "source": [
    "**Recuento de referencias**\n",
    "\n",
    "Veremos qué sucede detrás de escenas cuando asignamos un valor a una variable."
   ]
  },
  {
   "cell_type": "code",
   "execution_count": 33,
   "id": "7ccc7b7d-5e60-4473-9377-dbc3d04fe535",
   "metadata": {},
   "outputs": [
    {
     "name": "stdout",
     "output_type": "stream",
     "text": [
      "[1, 2, 10, 4, 5, 6]\n",
      "[1, 2, 10, 4, 5, 6]\n"
     ]
    }
   ],
   "source": [
    "#En este punto ambas variables tienen asignado el mismo valor, como es de esperar. \n",
    "#A continuación, vemos qué sucede cuando se asignan listas en vez de números a estas variables.\n",
    "a = [1, 2, 3, 4, 5, 6]\n",
    "b = a\n",
    "a[2] = 10\n",
    "print(a)\n",
    "print(b)\n",
    "\n",
    "#¿Cómo puede ser esto? La respuesta es simple. \n",
    "#Cuando asignamos una lista a una variable, lo que guardamos en la misma es en realidad una referencia a la lista y no la lista en sí.\n",
    "#Como consecuencia, al copiar la variable a otra lo que hicimos fue copiar la referencia y no un valor.\n",
    "#De esta manera, al modificar la lista referenciada en a el cambio es también visible en b."
   ]
  },
  {
   "cell_type": "code",
   "execution_count": 38,
   "id": "b93318d0-da4f-479d-9b9e-d89168653eb2",
   "metadata": {},
   "outputs": [
    {
     "name": "stdout",
     "output_type": "stream",
     "text": [
      "[1, 2, 10, 4, 5, 6]\n",
      "[1, 2, 3, 4, 5, 6]\n"
     ]
    }
   ],
   "source": [
    "import copy\n",
    "#Finalmente veamos cómo podemos hacer que la referencia a un elemento mutable no se copie a otro en el escenario anterior.\n",
    "#Es decir, los cambios que se hagan a una variable no se verán reflejados en la otra. \n",
    "#Para eso utilizaremos la función deepcopy() del módulo copy como vemos a continuación:\n",
    "\n",
    "a = [1, 2, 3, 4, 5, 6]\n",
    "b = copy.deepcopy(a)\n",
    "a[2] = 10\n",
    "print(a)\n",
    "print(b)"
   ]
  },
  {
   "cell_type": "code",
   "execution_count": 35,
   "id": "86ad3e7d-86ce-4010-a3c9-b42054f8450c",
   "metadata": {},
   "outputs": [
    {
     "name": "stdout",
     "output_type": "stream",
     "text": [
      "memory address of my_var (decimal): 3046142398592\n",
      "memory address of my_var (hex): 0x2c53c3c5080\n",
      "memory address of my_var (decimal): 3046142069888\n",
      "memory address of my_var (hex): 0x2c53c374c80\n"
     ]
    }
   ],
   "source": [
    "print('memory address of my_var (decimal): {0}'.format(id(a)))\n",
    "print('memory address of my_var (hex): {0}'.format(hex(id(a))))\n",
    "\n",
    "print('memory address of my_var (decimal): {0}'.format(id(b)))\n",
    "print('memory address of my_var (hex): {0}'.format(hex(id(b))))"
   ]
  },
  {
   "cell_type": "code",
   "execution_count": 40,
   "id": "bbb911bb-3b28-4af6-a6e7-270ea0033bfe",
   "metadata": {},
   "outputs": [
    {
     "data": {
      "text/plain": [
       "1"
      ]
     },
     "execution_count": 40,
     "metadata": {},
     "output_type": "execute_result"
    }
   ],
   "source": [
    "import ctypes\n",
    "\n",
    "#Conteo de cuantas veces a sido referenciado.\n",
    "\n",
    "def ref_count(address):\n",
    "    return ctypes.c_long.from_address(address).value\n",
    "\n",
    "ref_count(id(a))"
   ]
  },
  {
   "cell_type": "code",
   "execution_count": 39,
   "id": "ee6236d6-d5cc-448d-ba8b-2b74e64db3e5",
   "metadata": {},
   "outputs": [
    {
     "data": {
      "text/plain": [
       "2"
      ]
     },
     "execution_count": 39,
     "metadata": {},
     "output_type": "execute_result"
    }
   ],
   "source": [
    "#Hay otra función integrada que podemos usar para obtener el recuento de referencia:\n",
    "\n",
    "import sys\n",
    "sys.getrefcount(a)\n",
    "\n",
    "#Pero, ¿por qué devuelve 2, en lugar del esperado 1 que obtuvimos con la función anterior?\n",
    "#Respuesta: La función sys.getrefcount() toma my_var como argumento, lo que significa que también recibe (y almacena) una referencia a la\n",
    "#dirección de memoria de my_var; por lo tanto, el conteo está desfasado en 1.\n",
    "#Por lo tanto, usaremos from_address() en su lugar.\n",
    "\n",
    "#Hacemos otra referencia a la misma referencia que my_var:"
   ]
  },
  {
   "cell_type": "code",
   "execution_count": 41,
   "id": "495f59fd-ca47-4f1f-bb61-ebcbf040a2e5",
   "metadata": {},
   "outputs": [
    {
     "name": "stdout",
     "output_type": "stream",
     "text": [
      "0x2c53c3d0480 0x2c53c3d0480\n",
      "2\n"
     ]
    }
   ],
   "source": [
    "other_var = my_var\n",
    "\n",
    "#Veamos la dirección de memoria de esas dos variables y los recuentos de referencia:\n",
    "\n",
    "print(hex(id(my_var)), hex(id(other_var)))\n",
    "print(ref_count(id(my_var)))"
   ]
  },
  {
   "cell_type": "code",
   "execution_count": 42,
   "id": "10e84294-e725-454a-8c30-aba48a34082b",
   "metadata": {},
   "outputs": [
    {
     "name": "stdout",
     "output_type": "stream",
     "text": [
      "1\n"
     ]
    }
   ],
   "source": [
    "#Forzar una referencia para que desaparezca:\n",
    "other_var = None\n",
    "\n",
    "print(ref_count(id(my_var)))\n",
    "\n",
    "#Probablemente nunca necesites hacer algo como esto en Python. \n",
    "#La administración de la memoria es completamente transparente: esto es solo para ilustrar algo de lo que sucede detrás de escena,\n",
    "#ya que ayuda a comprender los conceptos futuros."
   ]
  },
  {
   "cell_type": "markdown",
   "id": "31b6e3c8-188c-4451-903a-dc47d3285ef8",
   "metadata": {},
   "source": [
    "**Recolección de Basura**\n",
    "\n",
    "Usamos la misma función que usamos en la lección sobre el conteo de referencias para calcular el número de referencias a un objeto específico (usando su dirección de memoria para evitar crear una referencia extra)"
   ]
  },
  {
   "cell_type": "code",
   "execution_count": 45,
   "id": "8257dd8f-be37-467c-b9c2-265bbc3bc673",
   "metadata": {},
   "outputs": [],
   "source": [
    "import ctypes\n",
    "import gc\n",
    "\n",
    "def ref_count(address):\n",
    "    return ctypes.c_long.from_address(address).value\n",
    "\n",
    "#Creamos una función que buscará los objetos en el GC por una identificación específica y nos dirá si el objeto fue encontrado o no:\n",
    "def object_by_id(object_id):\n",
    "    for obj in gc.get_objects():\n",
    "        if id(obj) == object_id:\n",
    "            return \"Object exists\"\n",
    "    return \"Not found\""
   ]
  },
  {
   "cell_type": "markdown",
   "id": "e642f22b-7422-4410-86cb-6aec3238a56e",
   "metadata": {},
   "source": [
    "A continuación definimos dos clases que usaremos para crear una referencia circular\n",
    "\n",
    "El constructor de la clase A creará una instancia de la clase B y se la pasará al constructor de la clase B que luego almacenará esa referencia en alguna variable de instancia."
   ]
  },
  {
   "cell_type": "code",
   "execution_count": 46,
   "id": "279e8d45-5f39-4482-b4db-cc7b488d74f4",
   "metadata": {},
   "outputs": [
    {
     "name": "stdout",
     "output_type": "stream",
     "text": [
      "B: self: 0x2c53b9fbd90, a: 0x2c53ba16280\n",
      "A: self: 0x2c53ba16280, b:0x2c53b9fbd90\n"
     ]
    }
   ],
   "source": [
    "class A:\n",
    "    def __init__(self):\n",
    "        self.b = B(self)\n",
    "        print('A: self: {0}, b:{1}'.format(hex(id(self)), hex(id(self.b))))\n",
    "class B:\n",
    "    def __init__(self, a):\n",
    "        self.a = a\n",
    "        print('B: self: {0}, a: {1}'.format(hex(id(self)), hex(id(self.a))))\n",
    "\n",
    "#Apagamos el GC para que podamos ver cómo se ven afectados los recuentos de referencia cuando el GC no se ejecuta y cuando lo hace (ejecutándolo manualmente).\n",
    "gc.disable()\n",
    "\n",
    "#Ahora creamos una instancia de A, que, a su vez, creará una instancia de B que almacenará una referencia a la instancia de llamada A.\n",
    "my_var = A()"
   ]
  },
  {
   "cell_type": "code",
   "execution_count": 47,
   "id": "e78fa229-b015-491f-b2c4-1efe0387c19d",
   "metadata": {},
   "outputs": [
    {
     "name": "stdout",
     "output_type": "stream",
     "text": [
      "0x2c53ba16280\n"
     ]
    }
   ],
   "source": [
    "#Como podemos ver, se ejecutaron los constructores de A y B, y también vemos en las direcciones de memoria que tenemos una referencia circular.\n",
    "#De hecho, my_var también es una referencia a la misma instancia A:\n",
    "print(hex(id(my_var)))"
   ]
  },
  {
   "cell_type": "code",
   "execution_count": 48,
   "id": "760988bd-7d1e-443f-950d-f672f4255ec5",
   "metadata": {},
   "outputs": [
    {
     "name": "stdout",
     "output_type": "stream",
     "text": [
      "a: \t0x2c53ba16280\n",
      "a.b: \t0x2c53b9fbd90\n",
      "b.a: \t0x2c53ba16280\n"
     ]
    }
   ],
   "source": [
    "#Otra forma de ver esto:\n",
    "print('a: \\t{0}'.format(hex(id(my_var))))\n",
    "print('a.b: \\t{0}'.format(hex(id(my_var.b))))\n",
    "print('b.a: \\t{0}'.format(hex(id(my_var.b.a))))"
   ]
  },
  {
   "cell_type": "code",
   "execution_count": 50,
   "id": "bb56462e-23d5-4c40-ab27-f61e5dbc36a6",
   "metadata": {},
   "outputs": [
    {
     "name": "stdout",
     "output_type": "stream",
     "text": [
      "refcount(a) = 2\n",
      "refcount(b) = 1\n",
      "a: Object exists\n",
      "b: Object exists\n"
     ]
    }
   ],
   "source": [
    "a_id = id(my_var)\n",
    "b_id = id(my_var.b)\n",
    "\n",
    "#Podemos ver cuántas referencias tenemos para a y b:\n",
    "\n",
    "print('refcount(a) = {0}'.format(ref_count(a_id)))\n",
    "print('refcount(b) = {0}'.format(ref_count(b_id)))\n",
    "print('a: {0}'.format(object_by_id(a_id)))\n",
    "print('b: {0}'.format(object_by_id(b_id)))\n",
    "\n",
    "#Como podemos ver, la instancia A tiene dos referencias (una de my_var, la otra de la variable de instancia b en la instancia B)\n",
    "\n",
    "#La instancia B tiene una referencia (de la variable de instancia A a)\n",
    "\n",
    "#Ahora, eliminemos la referencia a la instancia A que está en manos de my_var:"
   ]
  },
  {
   "cell_type": "code",
   "execution_count": 51,
   "id": "93726f65-d2f2-454f-8db4-c0071fbb8223",
   "metadata": {},
   "outputs": [
    {
     "name": "stdout",
     "output_type": "stream",
     "text": [
      "refcount(a) = 1\n",
      "refcount(b) = 1\n",
      "a: Object exists\n",
      "b: Object exists\n"
     ]
    }
   ],
   "source": [
    "my_var= None\n",
    "\n",
    "print('refcount(a) = {0}'.format(ref_count(a_id)))\n",
    "print('refcount(b) = {0}'.format(ref_count(b_id)))\n",
    "print('a: {0}'.format(object_by_id(a_id)))\n",
    "print('b: {0}'.format(object_by_id(b_id)))"
   ]
  },
  {
   "cell_type": "code",
   "execution_count": 52,
   "id": "fb7e6fa3-f398-4a19-a97a-c9f764571519",
   "metadata": {},
   "outputs": [
    {
     "name": "stdout",
     "output_type": "stream",
     "text": [
      "refcount(a) = 0\n",
      "refcount(b) = 0\n",
      "a: Not found\n",
      "b: Not found\n"
     ]
    }
   ],
   "source": [
    "#Como podemos ver, los conteos de referencia ahora son ambos iguales a 1 (una referencia circular pura),\n",
    "#y el conteo de referencia por sí solo no destruyó A y B. \n",
    "\n",
    "#casos - todavía están alrededor. Si no se realiza una recolección de elementos no utilizados, se produciría una fuga de memoria.\n",
    "\n",
    "#Ejecutemos el GC manualmente y volvamos a verificar si los objetos aún existen:\n",
    "\n",
    "gc.collect()\n",
    "print('refcount(a) = {0}'.format(ref_count(a_id)))\n",
    "print('refcount(b) = {0}'.format(ref_count(b_id)))\n",
    "print('a: {0}'.format(object_by_id(a_id)))\n",
    "print('b: {0}'.format(object_by_id(b_id)))"
   ]
  }
 ],
 "metadata": {
  "kernelspec": {
   "display_name": "Python 3 (ipykernel)",
   "language": "python",
   "name": "python3"
  },
  "language_info": {
   "codemirror_mode": {
    "name": "ipython",
    "version": 3
   },
   "file_extension": ".py",
   "mimetype": "text/x-python",
   "name": "python",
   "nbconvert_exporter": "python",
   "pygments_lexer": "ipython3",
   "version": "3.9.12"
  }
 },
 "nbformat": 4,
 "nbformat_minor": 5
}
