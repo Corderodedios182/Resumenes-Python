{
 "cells": [
  {
   "cell_type": "code",
   "execution_count": null,
   "id": "fd7e50ca-ae65-4756-b5ab-9a62c13d958a",
   "metadata": {},
   "outputs": [],
   "source": [
    "#Condicionales\n"
   ]
  },
  {
   "cell_type": "code",
   "execution_count": null,
   "id": "7cc63bbe-e4bd-4fe5-a742-2d8c9ac4a3fa",
   "metadata": {},
   "outputs": [],
   "source": [
    "#Funciones\n"
   ]
  },
  {
   "cell_type": "code",
   "execution_count": null,
   "id": "93a69cd8-bc05-45d1-a170-84fb86d2d9e9",
   "metadata": {},
   "outputs": [],
   "source": [
    "#Funciones lambda\n"
   ]
  },
  {
   "cell_type": "code",
   "execution_count": null,
   "id": "7ea37d6f-1c76-4f0e-95da-44dcee9bc7cb",
   "metadata": {},
   "outputs": [],
   "source": [
    "#While\n"
   ]
  },
  {
   "cell_type": "code",
   "execution_count": null,
   "id": "a4d7212e-4a8b-4bd0-85b1-8a0a346a0e06",
   "metadata": {},
   "outputs": [],
   "source": [
    "#Loop Break and Coninue inside a Try...Except...Finally\n"
   ]
  },
  {
   "cell_type": "code",
   "execution_count": null,
   "id": "caeed8cc-09d8-4e28-b392-cbf5d7c38867",
   "metadata": {},
   "outputs": [],
   "source": [
    "#For loop\n"
   ]
  },
  {
   "cell_type": "code",
   "execution_count": null,
   "id": "fd9da74a-7b10-4a1c-8329-3ce8ebf56adb",
   "metadata": {},
   "outputs": [],
   "source": [
    "#Clases\n",
    "\n"
   ]
  }
 ],
 "metadata": {
  "kernelspec": {
   "display_name": "Python 3 (ipykernel)",
   "language": "python",
   "name": "python3"
  },
  "language_info": {
   "codemirror_mode": {
    "name": "ipython",
    "version": 3
   },
   "file_extension": ".py",
   "mimetype": "text/x-python",
   "name": "python",
   "nbconvert_exporter": "python",
   "pygments_lexer": "ipython3",
   "version": "3.9.12"
  }
 },
 "nbformat": 4,
 "nbformat_minor": 5
}
