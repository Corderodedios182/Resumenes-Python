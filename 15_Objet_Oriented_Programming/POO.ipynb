{
 "cells": [
  {
   "cell_type": "code",
   "execution_count": 1,
   "metadata": {},
   "outputs": [],
   "source": [
    "#Clase (Son prototipos de los cuales pueden crearse objetos)\n",
    "\n",
    "    #Atributos (Estado de un objeto, caracteristicas, propiedades)\n",
    "    #Metodos (Funciones que se aplican al objeto, acciones, funciones)\n",
    "    #Objeto o instancia (Creacion o Resultado de una clase, Objeto = Clase() inicializa un Objeto con las propiedades de la clase)\n",
    "    \n",
    "class Clase:\n",
    "    '''Una clase basica'''\n",
    "    pass"
   ]
  },
  {
   "cell_type": "code",
   "execution_count": 13,
   "metadata": {},
   "outputs": [
    {
     "name": "stdout",
     "output_type": "stream",
     "text": [
      "Help on class Clase in module __main__:\n",
      "\n",
      "class Clase(builtins.object)\n",
      " |  Una clase basica\n",
      " |  \n",
      " |  Data descriptors defined here:\n",
      " |  \n",
      " |  __dict__\n",
      " |      dictionary for instance variables (if defined)\n",
      " |  \n",
      " |  __weakref__\n",
      " |      list of weak references to the object (if defined)\n",
      "\n"
     ]
    }
   ],
   "source": [
    "help(Clase)"
   ]
  },
  {
   "cell_type": "code",
   "execution_count": 5,
   "metadata": {},
   "outputs": [
    {
     "data": {
      "text/plain": [
       "['__class__',\n",
       " '__delattr__',\n",
       " '__dict__',\n",
       " '__dir__',\n",
       " '__doc__',\n",
       " '__eq__',\n",
       " '__format__',\n",
       " '__ge__',\n",
       " '__getattribute__',\n",
       " '__gt__',\n",
       " '__hash__',\n",
       " '__init__',\n",
       " '__init_subclass__',\n",
       " '__le__',\n",
       " '__lt__',\n",
       " '__module__',\n",
       " '__ne__',\n",
       " '__new__',\n",
       " '__reduce__',\n",
       " '__reduce_ex__',\n",
       " '__repr__',\n",
       " '__setattr__',\n",
       " '__sizeof__',\n",
       " '__str__',\n",
       " '__subclasshook__',\n",
       " '__weakref__']"
      ]
     },
     "execution_count": 5,
     "metadata": {},
     "output_type": "execute_result"
    }
   ],
   "source": [
    "#Una clase pode default tienen estos metodos\n",
    "dir(Clase)"
   ]
  },
  {
   "cell_type": "code",
   "execution_count": 6,
   "metadata": {},
   "outputs": [
    {
     "data": {
      "text/plain": [
       "__main__.Clase"
      ]
     },
     "execution_count": 6,
     "metadata": {},
     "output_type": "execute_result"
    }
   ],
   "source": [
    "Objeto = Clase()\n",
    "\n",
    "Objeto.__class__"
   ]
  },
  {
   "cell_type": "code",
   "execution_count": 9,
   "metadata": {},
   "outputs": [],
   "source": [
    "#Una clase pueden ser los dataset\n",
    "#El objeto es un dataset en especifico\n",
    "#Sus atributos serian las caracteristicas (numero de columnas, nombre de columnas)\n",
    "#Metodos funciones o transformaciones que le podemos aplicar al dataset (funcion sum(), group_by(), left_join())"
   ]
  },
  {
   "cell_type": "code",
   "execution_count": 56,
   "metadata": {},
   "outputs": [],
   "source": [
    "class DataSet():\n",
    "    #__init__ es un metodo especial, que nos permite construir o instanciar desde cero un objeto\n",
    "    #Se llama al crear un objeto por una clase, permite inizializar los atributos dentro de la clase\n",
    "    def __init__(self, integerIput): \n",
    "        #parametro self, Permite acceder o definir atributos y metodos \n",
    "        self.data = integerIput"
   ]
  },
  {
   "cell_type": "code",
   "execution_count": 16,
   "metadata": {},
   "outputs": [
    {
     "data": {
      "text/plain": [
       "<__main__.DataSet at 0x7efe8023e710>"
      ]
     },
     "execution_count": 16,
     "metadata": {},
     "output_type": "execute_result"
    }
   ],
   "source": [
    "x = 10\n",
    "DataSet(x)"
   ]
  },
  {
   "cell_type": "code",
   "execution_count": 22,
   "metadata": {},
   "outputs": [
    {
     "data": {
      "text/plain": [
       "10"
      ]
     },
     "execution_count": 22,
     "metadata": {},
     "output_type": "execute_result"
    }
   ],
   "source": [
    "my_data = DataSet(x)\n",
    "my_data.data"
   ]
  },
  {
   "cell_type": "markdown",
   "metadata": {},
   "source": [
    "La programación Orientada a Objetos nos permite plasmar ideas del mundo real al mundo digital\n",
    "\n",
    "Ejemplo: \n",
    "\n",
    " - Creemos la clase, Persona\n",
    " - Que nos arrojara Personas, Nombre_de_la_persona\n",
    " - Los Atributos seran, Caracteristicas fisicas\n",
    " - Los Metodos, acciones que realiza la persona\n",
    " "
   ]
  },
  {
   "cell_type": "code",
   "execution_count": 49,
   "metadata": {},
   "outputs": [],
   "source": [
    "#El metodo __init__ y los parametros self son muy utiles para la definicion de una clase\n",
    "class Persona():\n",
    "    #Recordemos que __init__ da un orden a los atributos \n",
    "    def __init__(self, edad = 0, altura = 0):\n",
    "        #self nos permite usar los atributos dentro de toda la clase\n",
    "        self.edad = edad\n",
    "        self.altura = altura\n",
    "        \n",
    "        #Definicion de un metodo\n",
    "    def hablar(self,mensaje):\n",
    "        self.mensaje = mensaje\n",
    "        print(self.mensaje)"
   ]
  },
  {
   "cell_type": "code",
   "execution_count": 52,
   "metadata": {},
   "outputs": [],
   "source": [
    "#Tenemos valores preterminados dentro de la clase\n",
    "Carlos = Persona()\n",
    "\n",
    "#Ahora coloquemos nuestros propios valores\n",
    "Carlos = Persona(27,1.70)"
   ]
  },
  {
   "cell_type": "code",
   "execution_count": 54,
   "metadata": {},
   "outputs": [
    {
     "name": "stdout",
     "output_type": "stream",
     "text": [
      "1.7\n",
      "27\n"
     ]
    }
   ],
   "source": [
    "#Imprimiento los atributos\n",
    "print(Carlos.altura)\n",
    "print(Carlos.edad)"
   ]
  },
  {
   "cell_type": "code",
   "execution_count": 55,
   "metadata": {},
   "outputs": [
    {
     "name": "stdout",
     "output_type": "stream",
     "text": [
      "Hola, ¿Como estas?\n"
     ]
    }
   ],
   "source": [
    "#Ahora ocupemos el metodo hablar que solo pide un parametro mensaje\n",
    "Carlos.hablar(\"Hola, ¿Como estas?\")"
   ]
  },
  {
   "cell_type": "markdown",
   "metadata": {},
   "source": [
    "### Herencia"
   ]
  },
  {
   "cell_type": "code",
   "execution_count": null,
   "metadata": {},
   "outputs": [],
   "source": []
  }
 ],
 "metadata": {
  "kernelspec": {
   "display_name": "Python 3",
   "language": "python",
   "name": "python3"
  },
  "language_info": {
   "codemirror_mode": {
    "name": "ipython",
    "version": 3
   },
   "file_extension": ".py",
   "mimetype": "text/x-python",
   "name": "python",
   "nbconvert_exporter": "python",
   "pygments_lexer": "ipython3",
   "version": "3.7.3"
  }
 },
 "nbformat": 4,
 "nbformat_minor": 2
}
