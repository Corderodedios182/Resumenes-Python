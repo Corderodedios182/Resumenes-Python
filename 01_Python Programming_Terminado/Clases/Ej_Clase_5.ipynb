{
 "cells": [
  {
   "cell_type": "markdown",
   "metadata": {},
   "source": [
    "#### Demostrando lo Aprendido\n",
    "\n",
    " - Realiza un Análisis Exploratorio de Datos.\n",
    " \n",
    "     Sobre cualquiera de las bases que hemos visto.\n",
    "     \n",
    "     - Analytics\n",
    "     - mtcars\n",
    "     - twiter\n",
    "     "
   ]
  },
  {
   "cell_type": "markdown",
   "metadata": {},
   "source": [
    "#### Primeros pasos en el análisis exploratorio de datos\n",
    "\n",
    "EDA es un ciclo iterativo en el que uno debe: \n",
    "\n",
    "Ir mezclando los contenidos teóricos con los prácticos para ir mostrando el funcionamiento de las diferentes funciones y procedimientos para el análisis inicial de datos.\n",
    "\n",
    "**Pasos recomendados :**\n",
    "\n",
    "1. Generar preguntas sobre los datos.\n",
    "2. Buscar respuestas visualizando, transformando y modelando los datos.\n",
    "3. Usar lo que aprende para refinar sus preguntas y / o generar nuevas preguntas.\n",
    "\n",
    "EDA no es un proceso formal con un conjunto estricto de reglas.\n",
    "\n",
    "Más que nada, EDA es un estado mental.\n",
    "\n",
    "Durante las fases iniciales de EDA, debe sentirse libre de investigar cada idea que se le ocurra.\n",
    "\n",
    "Algunas de estas ideas funcionarán, y algunas serán callejones sin salida.\n",
    "\n",
    "A medida que continúe su exploración, se dirigirá a algunas áreas particularmente productivas que eventualmente escribirá y comunicará a otros.\n",
    "\n",
    "El EDA es una parte importante de cualquier análisis de datos porque siempre debe investigar la calidad de sus datos. \n",
    "\n",
    "La limpieza de datos es solo una aplicación de EDA: el investigador debe hacer preguntas sobre si sus datos cumplen con sus expectativas o no.\n",
    "\n",
    "Para realizar la limpieza de datos, deberá implementar todas las herramientas de EDA: visualización, transformación y modelado."
   ]
  }
 ],
 "metadata": {
  "kernelspec": {
   "display_name": "Python 3",
   "language": "python",
   "name": "python3"
  },
  "language_info": {
   "codemirror_mode": {
    "name": "ipython",
    "version": 3
   },
   "file_extension": ".py",
   "mimetype": "text/x-python",
   "name": "python",
   "nbconvert_exporter": "python",
   "pygments_lexer": "ipython3",
   "version": "3.8.5"
  }
 },
 "nbformat": 4,
 "nbformat_minor": 4
}
