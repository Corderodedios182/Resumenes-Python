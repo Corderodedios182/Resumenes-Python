{
 "cells": [
  {
   "cell_type": "markdown",
   "metadata": {},
   "source": [
    "## Análisis de Audiencia de un sitio Web (fuente Google Analytics).\n",
    "\n",
    "El siguiente cuaderno tiene como objetivo estandarizar un reporte apartir de la información de Google Analytics.\n",
    "\n",
    "Jerarquía de ejecución:\n",
    "\n",
    "    - Unión de información reportes analytics, edad, sexo.\n",
    "    \n",
    "    - Resumenes \n",
    "    \n",
    "    - Gráficas\n",
    "    \n",
    "    - ¿Cómo crear funciones para la creación de un reporte?"
   ]
  },
  {
   "cell_type": "markdown",
   "metadata": {},
   "source": [
    "###### Definiciones de modulos y paquetes a usar."
   ]
  },
  {
   "cell_type": "code",
   "execution_count": 1,
   "metadata": {},
   "outputs": [],
   "source": [
    "import pandas as pd #Paquete pandas manipulación de datos\n",
    "\n",
    "import os #módulo que incluyen muchas funciones para interactuar con el sistema de archivos\n",
    "import glob #El módulo glob encuentra todos los nombres de ruta que coinciden con un patrón especificado\n",
    "\n",
    "pd.set_option('display.float_format', lambda x: '%.f' % x) #Opcion para notación científica"
   ]
  },
  {
   "cell_type": "markdown",
   "metadata": {},
   "source": [
    "###### Trabajar con rutas"
   ]
  },
  {
   "cell_type": "code",
   "execution_count": 2,
   "metadata": {},
   "outputs": [
    {
     "data": {
      "text/plain": [
       "'C:\\\\Users\\\\crf005r\\\\Documents\\\\3_GitHub\\\\Capacitaciones-Python\\\\1_Python Programming'"
      ]
     },
     "execution_count": 2,
     "metadata": {},
     "output_type": "execute_result"
    }
   ],
   "source": [
    "os.getcwd() #Ver la ruta de nuesto cuaderno"
   ]
  },
  {
   "cell_type": "code",
   "execution_count": 3,
   "metadata": {},
   "outputs": [
    {
     "data": {
      "text/plain": [
       "'C:\\\\Users\\\\crf005r\\\\Documents\\\\3_GitHub\\\\Capacitaciones-Python\\\\1_Python Programming'"
      ]
     },
     "execution_count": 3,
     "metadata": {},
     "output_type": "execute_result"
    }
   ],
   "source": [
    "#Especificando manualmente la ruta del cuaderno\n",
    "os.chdir(\"C:/Users/crf005r/Documents/3_GitHub/Capacitaciones-Python/1_Python Programming\")\n",
    "\n",
    "os.getcwd() #Ver la ruta de nuesto cuaderno"
   ]
  },
  {
   "cell_type": "code",
   "execution_count": 4,
   "metadata": {},
   "outputs": [
    {
     "data": {
      "text/plain": [
       "['.ipynb_checkpoints',\n",
       " 'Analytics-officedepot.com-Intereses-20200101-20200131-edad.xlsx',\n",
       " 'Analytics-officedepot.com-Intereses-20200101-20200131-sexo.xlsx',\n",
       " 'Analytics-officedepot.com-Intereses-20200201-20200229-edad.xlsx',\n",
       " 'Analytics-officedepot.com-Intereses-20200201-20200229-sexo.xlsx',\n",
       " 'Clase_1.py',\n",
       " 'Clase_2.ipynb',\n",
       " 'Clase_3.ipynb',\n",
       " 'Clase_4.ipynb',\n",
       " 'Curiosidades',\n",
       " 'Ej_Clase_1_Palindrome.ipynb',\n",
       " 'Ej_Clase_2.ipynb',\n",
       " 'Ej_clase_3.ipynb',\n",
       " 'mtcars.csv',\n",
       " 'twiter.csv']"
      ]
     },
     "execution_count": 4,
     "metadata": {},
     "output_type": "execute_result"
    }
   ],
   "source": [
    "os.listdir()"
   ]
  },
  {
   "cell_type": "markdown",
   "metadata": {},
   "source": [
    "#### Unión de informacion reportes analytics, edad, sexo."
   ]
  },
  {
   "cell_type": "code",
   "execution_count": 327,
   "metadata": {},
   "outputs": [
    {
     "data": {
      "text/plain": [
       "(['Analytics-officedepot.com-Intereses-20200101-20200131-sexo.xlsx',\n",
       "  'Analytics-officedepot.com-Intereses-20200201-20200229-sexo.xlsx'],\n",
       " ['Analytics-officedepot.com-Intereses-20200101-20200131-edad.xlsx',\n",
       "  'Analytics-officedepot.com-Intereses-20200201-20200229-edad.xlsx'])"
      ]
     },
     "execution_count": 327,
     "metadata": {},
     "output_type": "execute_result"
    }
   ],
   "source": [
    "sexo = glob.glob(\"*sexo.xlsx\") #Encontrarn un archivo con un patrón en especifico\n",
    "edad = glob.glob(\"*edad.xlsx\")\n",
    "\n",
    "sexo , edad"
   ]
  },
  {
   "cell_type": "code",
   "execution_count": 328,
   "metadata": {},
   "outputs": [
    {
     "data": {
      "text/plain": [
       "'Analytics-officedepot.com-Intereses-20200101-20200131-sexo.xlsx'"
      ]
     },
     "execution_count": 328,
     "metadata": {},
     "output_type": "execute_result"
    }
   ],
   "source": [
    "#Un archivo de excel \n",
    "sexo[0]"
   ]
  },
  {
   "cell_type": "code",
   "execution_count": 329,
   "metadata": {},
   "outputs": [
    {
     "data": {
      "text/html": [
       "<div>\n",
       "<style scoped>\n",
       "    .dataframe tbody tr th:only-of-type {\n",
       "        vertical-align: middle;\n",
       "    }\n",
       "\n",
       "    .dataframe tbody tr th {\n",
       "        vertical-align: top;\n",
       "    }\n",
       "\n",
       "    .dataframe thead th {\n",
       "        text-align: right;\n",
       "    }\n",
       "</style>\n",
       "<table border=\"1\" class=\"dataframe\">\n",
       "  <thead>\n",
       "    <tr style=\"text-align: right;\">\n",
       "      <th></th>\n",
       "      <th>Categoría de afinidad (cobertura)</th>\n",
       "      <th>Sexo</th>\n",
       "      <th>Usuarios</th>\n",
       "      <th>Usuarios nuevos</th>\n",
       "      <th>Sesiones</th>\n",
       "      <th>Porcentaje de rebote</th>\n",
       "      <th>Páginas/sesión</th>\n",
       "      <th>Duración media de la sesión</th>\n",
       "      <th>Transacciones</th>\n",
       "      <th>Ingresos</th>\n",
       "      <th>Tasa de conversión de comercio electrónico</th>\n",
       "    </tr>\n",
       "  </thead>\n",
       "  <tbody>\n",
       "    <tr>\n",
       "      <th>232</th>\n",
       "      <td>News &amp; Politics/Avid News Readers/Men's Media ...</td>\n",
       "      <td>female</td>\n",
       "      <td>12</td>\n",
       "      <td>9</td>\n",
       "      <td>27</td>\n",
       "      <td>0</td>\n",
       "      <td>25</td>\n",
       "      <td>516</td>\n",
       "      <td>0</td>\n",
       "      <td>0</td>\n",
       "      <td>0</td>\n",
       "    </tr>\n",
       "    <tr>\n",
       "      <th>233</th>\n",
       "      <td>NaN</td>\n",
       "      <td>NaN</td>\n",
       "      <td>10471351</td>\n",
       "      <td>7864353</td>\n",
       "      <td>17184249</td>\n",
       "      <td>0</td>\n",
       "      <td>12</td>\n",
       "      <td>219</td>\n",
       "      <td>96644</td>\n",
       "      <td>218915398</td>\n",
       "      <td>0</td>\n",
       "    </tr>\n",
       "  </tbody>\n",
       "</table>\n",
       "</div>"
      ],
      "text/plain": [
       "                     Categoría de afinidad (cobertura)    Sexo  Usuarios  \\\n",
       "232  News & Politics/Avid News Readers/Men's Media ...  female        12   \n",
       "233                                                NaN     NaN  10471351   \n",
       "\n",
       "     Usuarios nuevos  Sesiones  Porcentaje de rebote  Páginas/sesión  \\\n",
       "232                9        27                     0              25   \n",
       "233          7864353  17184249                     0              12   \n",
       "\n",
       "     Duración media de la sesión  Transacciones  Ingresos  \\\n",
       "232                          516              0         0   \n",
       "233                          219          96644 218915398   \n",
       "\n",
       "     Tasa de conversión de comercio electrónico  \n",
       "232                                           0  \n",
       "233                                           0  "
      ]
     },
     "execution_count": 329,
     "metadata": {},
     "output_type": "execute_result"
    }
   ],
   "source": [
    "#Lectura de un archivo de excel y su hoja\n",
    "tmp = pd.read_excel(sexo[0], sheet_name = 'Conjunto de datos1')\n",
    "tmp.tail(2)"
   ]
  },
  {
   "cell_type": "code",
   "execution_count": 330,
   "metadata": {},
   "outputs": [
    {
     "data": {
      "text/plain": [
       "(234, 11)"
      ]
     },
     "execution_count": 330,
     "metadata": {},
     "output_type": "execute_result"
    }
   ],
   "source": [
    "tmp.shape"
   ]
  },
  {
   "cell_type": "code",
   "execution_count": 58,
   "metadata": {},
   "outputs": [
    {
     "data": {
      "text/html": [
       "<div>\n",
       "<style scoped>\n",
       "    .dataframe tbody tr th:only-of-type {\n",
       "        vertical-align: middle;\n",
       "    }\n",
       "\n",
       "    .dataframe tbody tr th {\n",
       "        vertical-align: top;\n",
       "    }\n",
       "\n",
       "    .dataframe thead th {\n",
       "        text-align: right;\n",
       "    }\n",
       "</style>\n",
       "<table border=\"1\" class=\"dataframe\">\n",
       "  <thead>\n",
       "    <tr style=\"text-align: right;\">\n",
       "      <th></th>\n",
       "      <th>categoria_afinidad</th>\n",
       "      <th>subcategoria</th>\n",
       "      <th>usuarios</th>\n",
       "      <th>usuarios_nuevos</th>\n",
       "      <th>sesiones</th>\n",
       "      <th>porcentaje_rebote</th>\n",
       "      <th>paginas_sesion</th>\n",
       "      <th>duracion_media_sesion</th>\n",
       "      <th>transacciones</th>\n",
       "      <th>ingresos</th>\n",
       "      <th>tasa_conversion_electronico</th>\n",
       "      <th>archivo</th>\n",
       "      <th>categoria</th>\n",
       "    </tr>\n",
       "  </thead>\n",
       "  <tbody>\n",
       "    <tr>\n",
       "      <th>230</th>\n",
       "      <td>Sports &amp; Fitness/Sports Fans/Rugby Enthusiasts</td>\n",
       "      <td>female</td>\n",
       "      <td>27</td>\n",
       "      <td>21</td>\n",
       "      <td>36</td>\n",
       "      <td>0.083333</td>\n",
       "      <td>14.861111</td>\n",
       "      <td>284.500000</td>\n",
       "      <td>1</td>\n",
       "      <td>3599.0</td>\n",
       "      <td>0.027778</td>\n",
       "      <td>Analytics-officedepot.com-Intereses-20200101-2...</td>\n",
       "      <td>sexo</td>\n",
       "    </tr>\n",
       "    <tr>\n",
       "      <th>231</th>\n",
       "      <td>Sports &amp; Fitness/Sports Fans/Australian Footba...</td>\n",
       "      <td>male</td>\n",
       "      <td>20</td>\n",
       "      <td>17</td>\n",
       "      <td>44</td>\n",
       "      <td>0.000000</td>\n",
       "      <td>9.750000</td>\n",
       "      <td>186.159091</td>\n",
       "      <td>1</td>\n",
       "      <td>1099.0</td>\n",
       "      <td>0.022727</td>\n",
       "      <td>Analytics-officedepot.com-Intereses-20200101-2...</td>\n",
       "      <td>sexo</td>\n",
       "    </tr>\n",
       "    <tr>\n",
       "      <th>232</th>\n",
       "      <td>News &amp; Politics/Avid News Readers/Men's Media ...</td>\n",
       "      <td>female</td>\n",
       "      <td>12</td>\n",
       "      <td>9</td>\n",
       "      <td>27</td>\n",
       "      <td>0.000000</td>\n",
       "      <td>25.333333</td>\n",
       "      <td>515.666667</td>\n",
       "      <td>0</td>\n",
       "      <td>0.0</td>\n",
       "      <td>0.000000</td>\n",
       "      <td>Analytics-officedepot.com-Intereses-20200101-2...</td>\n",
       "      <td>sexo</td>\n",
       "    </tr>\n",
       "  </tbody>\n",
       "</table>\n",
       "</div>"
      ],
      "text/plain": [
       "                                    categoria_afinidad subcategoria  usuarios  \\\n",
       "230     Sports & Fitness/Sports Fans/Rugby Enthusiasts       female        27   \n",
       "231  Sports & Fitness/Sports Fans/Australian Footba...         male        20   \n",
       "232  News & Politics/Avid News Readers/Men's Media ...       female        12   \n",
       "\n",
       "     usuarios_nuevos  sesiones  porcentaje_rebote  paginas_sesion  \\\n",
       "230               21        36           0.083333       14.861111   \n",
       "231               17        44           0.000000        9.750000   \n",
       "232                9        27           0.000000       25.333333   \n",
       "\n",
       "     duracion_media_sesion  transacciones  ingresos  \\\n",
       "230             284.500000              1    3599.0   \n",
       "231             186.159091              1    1099.0   \n",
       "232             515.666667              0       0.0   \n",
       "\n",
       "     tasa_conversion_electronico  \\\n",
       "230                     0.027778   \n",
       "231                     0.022727   \n",
       "232                     0.000000   \n",
       "\n",
       "                                               archivo categoria  \n",
       "230  Analytics-officedepot.com-Intereses-20200101-2...      sexo  \n",
       "231  Analytics-officedepot.com-Intereses-20200101-2...      sexo  \n",
       "232  Analytics-officedepot.com-Intereses-20200101-2...      sexo  "
      ]
     },
     "execution_count": 58,
     "metadata": {},
     "output_type": "execute_result"
    }
   ],
   "source": [
    "#Un poco de formato despues de leer los datos de la hoja de excell\n",
    "archivo = [\"sexo\", \"edad\"]\n",
    "\n",
    "tmp['archivo'] = sexo[0]\n",
    "tmp = tmp.iloc[:-1]\n",
    "tmp['categoria'] = archivo[0]\n",
    "tmp.columns = ['categoria_afinidad', 'subcategoria', 'usuarios', 'usuarios_nuevos', 'sesiones',\n",
    "               'porcentaje_rebote', 'paginas_sesion','duracion_media_sesion', 'transacciones',\n",
    "               'ingresos', 'tasa_conversion_electronico', 'archivo','categoria']\n",
    "tmp.tail(2)"
   ]
  },
  {
   "cell_type": "code",
   "execution_count": 102,
   "metadata": {},
   "outputs": [
    {
     "data": {
      "text/plain": [
       "0"
      ]
     },
     "execution_count": 102,
     "metadata": {},
     "output_type": "execute_result"
    }
   ],
   "source": [
    "analytics_union = []\n",
    "\n",
    "len(analytics_union)"
   ]
  },
  {
   "cell_type": "code",
   "execution_count": 103,
   "metadata": {},
   "outputs": [
    {
     "data": {
      "text/plain": [
       "1"
      ]
     },
     "execution_count": 103,
     "metadata": {},
     "output_type": "execute_result"
    }
   ],
   "source": [
    "analytics_union.append(tmp) #Agregación del primer archivo a una lista\n",
    "\n",
    "len(analytics_union)"
   ]
  },
  {
   "cell_type": "code",
   "execution_count": 104,
   "metadata": {},
   "outputs": [
    {
     "data": {
      "text/plain": [
       "Analytics-officedepot.com-Intereses-20200101-20200131-sexo.xlsx    233\n",
       "Name: archivo, dtype: int64"
      ]
     },
     "execution_count": 104,
     "metadata": {},
     "output_type": "execute_result"
    }
   ],
   "source": [
    "analytics_union = pd.concat(analytics_union) #Concatena todos los archivos en la lista analytics_union = []\n",
    "\n",
    "analytics_union.archivo.value_counts()"
   ]
  },
  {
   "cell_type": "code",
   "execution_count": 107,
   "metadata": {},
   "outputs": [
    {
     "data": {
      "text/html": [
       "<div>\n",
       "<style scoped>\n",
       "    .dataframe tbody tr th:only-of-type {\n",
       "        vertical-align: middle;\n",
       "    }\n",
       "\n",
       "    .dataframe tbody tr th {\n",
       "        vertical-align: top;\n",
       "    }\n",
       "\n",
       "    .dataframe thead th {\n",
       "        text-align: right;\n",
       "    }\n",
       "</style>\n",
       "<table border=\"1\" class=\"dataframe\">\n",
       "  <thead>\n",
       "    <tr style=\"text-align: right;\">\n",
       "      <th></th>\n",
       "      <th>categoria_afinidad</th>\n",
       "      <th>subcategoria</th>\n",
       "      <th>usuarios</th>\n",
       "      <th>usuarios_nuevos</th>\n",
       "      <th>sesiones</th>\n",
       "      <th>porcentaje_rebote</th>\n",
       "      <th>paginas_sesion</th>\n",
       "      <th>duracion_media_sesion</th>\n",
       "      <th>transacciones</th>\n",
       "      <th>ingresos</th>\n",
       "      <th>tasa_conversion_electronico</th>\n",
       "      <th>archivo</th>\n",
       "      <th>categoria</th>\n",
       "    </tr>\n",
       "  </thead>\n",
       "  <tbody>\n",
       "    <tr>\n",
       "      <th>0</th>\n",
       "      <td>Food &amp; Dining/Cooking Enthusiasts/30 Minute Chefs</td>\n",
       "      <td>female</td>\n",
       "      <td>218757</td>\n",
       "      <td>168308</td>\n",
       "      <td>354557</td>\n",
       "      <td>0.056132</td>\n",
       "      <td>12.146885</td>\n",
       "      <td>222.034217</td>\n",
       "      <td>1867</td>\n",
       "      <td>4032142.78</td>\n",
       "      <td>0.005266</td>\n",
       "      <td>Analytics-officedepot.com-Intereses-20200101-2...</td>\n",
       "      <td>sexo</td>\n",
       "    </tr>\n",
       "    <tr>\n",
       "      <th>1</th>\n",
       "      <td>Shoppers/Value Shoppers</td>\n",
       "      <td>female</td>\n",
       "      <td>196414</td>\n",
       "      <td>145640</td>\n",
       "      <td>324263</td>\n",
       "      <td>0.054770</td>\n",
       "      <td>12.483259</td>\n",
       "      <td>224.122317</td>\n",
       "      <td>2017</td>\n",
       "      <td>4446559.57</td>\n",
       "      <td>0.006220</td>\n",
       "      <td>Analytics-officedepot.com-Intereses-20200101-2...</td>\n",
       "      <td>sexo</td>\n",
       "    </tr>\n",
       "  </tbody>\n",
       "</table>\n",
       "</div>"
      ],
      "text/plain": [
       "                                  categoria_afinidad subcategoria  usuarios  \\\n",
       "0  Food & Dining/Cooking Enthusiasts/30 Minute Chefs       female    218757   \n",
       "1                            Shoppers/Value Shoppers       female    196414   \n",
       "\n",
       "   usuarios_nuevos  sesiones  porcentaje_rebote  paginas_sesion  \\\n",
       "0           168308    354557           0.056132       12.146885   \n",
       "1           145640    324263           0.054770       12.483259   \n",
       "\n",
       "   duracion_media_sesion  transacciones    ingresos  \\\n",
       "0             222.034217           1867  4032142.78   \n",
       "1             224.122317           2017  4446559.57   \n",
       "\n",
       "   tasa_conversion_electronico  \\\n",
       "0                     0.005266   \n",
       "1                     0.006220   \n",
       "\n",
       "                                             archivo categoria  \n",
       "0  Analytics-officedepot.com-Intereses-20200101-2...      sexo  \n",
       "1  Analytics-officedepot.com-Intereses-20200101-2...      sexo  "
      ]
     },
     "execution_count": 107,
     "metadata": {},
     "output_type": "execute_result"
    }
   ],
   "source": [
    "analytics_union.head(2)"
   ]
  },
  {
   "cell_type": "markdown",
   "metadata": {},
   "source": [
    "#### ¿Como unimos todos los arhivos?\n",
    "\n",
    "Ayuda a realizar una misma tarea varias veces.\n",
    "\n",
    "Con un bucle for podemos iterar un proceso."
   ]
  },
  {
   "cell_type": "code",
   "execution_count": 108,
   "metadata": {},
   "outputs": [
    {
     "name": "stdout",
     "output_type": "stream",
     "text": [
      "sexo\n",
      "edad\n"
     ]
    }
   ],
   "source": [
    "archivos = [\"sexo\", \"edad\"]\n",
    "\n",
    "for archivo in archivos:\n",
    "    \n",
    "  print(archivo)"
   ]
  },
  {
   "cell_type": "code",
   "execution_count": 115,
   "metadata": {},
   "outputs": [
    {
     "name": "stdout",
     "output_type": "stream",
     "text": [
      "sexo\n",
      "Analytics-officedepot.com-Intereses-20200101-20200131-sexo.xlsx\n",
      "sexo\n",
      "Analytics-officedepot.com-Intereses-20200201-20200229-sexo.xlsx\n",
      "edad\n",
      "Analytics-officedepot.com-Intereses-20200101-20200131-edad.xlsx\n",
      "edad\n",
      "Analytics-officedepot.com-Intereses-20200201-20200229-edad.xlsx\n"
     ]
    }
   ],
   "source": [
    "for archivo in archivos:\n",
    "    \n",
    "    for xls in eval(archivo):\n",
    "        print(archivo)\n",
    "        print(xls)"
   ]
  },
  {
   "cell_type": "markdown",
   "metadata": {},
   "source": [
    "##### Proceso para unir todos los archivos"
   ]
  },
  {
   "cell_type": "code",
   "execution_count": 111,
   "metadata": {},
   "outputs": [],
   "source": [
    "analytics_union = []\n",
    "\n",
    "sexo = glob.glob(\"*sexo.xlsx\") #Encontrarn un archivo con un patrón en especifico\n",
    "edad = glob.glob(\"*edad.xlsx\")\n",
    "\n",
    "archivos = [\"sexo\", \"edad\"]\n",
    "\n",
    "# Productos por Campaña #\n",
    "for archivo in archivos:\n",
    "    \n",
    "    for xls in eval(archivo):\n",
    "        tmp = pd.read_excel(xls, 'Conjunto de datos1') #Lectura de un archivo de excel y su hoja\n",
    "        #Un poco de formato despues de leer los datos de la hoja de excell\n",
    "        tmp['archivo'] = xls\n",
    "        tmp = tmp.iloc[:-1]\n",
    "        tmp['categoria'] = archivo\n",
    "        tmp.columns = ['categoria_afinidad', 'subcategoria', 'usuarios', 'usuarios_nuevos', 'sesiones',\n",
    "                       'porcentaje_rebote', 'paginas_sesion','duracion_media_sesion', 'transacciones',\n",
    "                       'ingresos', 'tasa_conversion_electronico', 'archivo','categoria']\n",
    "        analytics_union.append(tmp) #Agregación del primer archivo a una lista\n",
    "                    \n",
    "analytics_union = pd.concat(analytics_union) #Concatena todos los archivos en la lista analytics_union = []"
   ]
  },
  {
   "cell_type": "code",
   "execution_count": 112,
   "metadata": {},
   "outputs": [
    {
     "data": {
      "text/plain": [
       "Analytics-officedepot.com-Intereses-20200201-20200229-edad.xlsx    695\n",
       "Analytics-officedepot.com-Intereses-20200101-20200131-edad.xlsx    691\n",
       "Analytics-officedepot.com-Intereses-20200201-20200229-sexo.xlsx    233\n",
       "Analytics-officedepot.com-Intereses-20200101-20200131-sexo.xlsx    233\n",
       "Name: archivo, dtype: int64"
      ]
     },
     "execution_count": 112,
     "metadata": {},
     "output_type": "execute_result"
    }
   ],
   "source": [
    "analytics_union.archivo.value_counts()"
   ]
  },
  {
   "cell_type": "markdown",
   "metadata": {},
   "source": [
    "##### Definir una función para este proceso"
   ]
  },
  {
   "cell_type": "code",
   "execution_count": 120,
   "metadata": {},
   "outputs": [
    {
     "data": {
      "text/plain": [
       "3.0"
      ]
     },
     "execution_count": 120,
     "metadata": {},
     "output_type": "execute_result"
    }
   ],
   "source": [
    "def operacion(x, y):\n",
    "    return (x/y) + 1\n",
    "\n",
    "operacion(20,10)"
   ]
  },
  {
   "cell_type": "code",
   "execution_count": 336,
   "metadata": {},
   "outputs": [],
   "source": [
    "def union_datos():\n",
    "    \n",
    "    analytics_union = []\n",
    "\n",
    "    sexo = glob.glob(\"*sexo.xlsx\") #Encontrarn un archivo con un patrón en especifico\n",
    "    edad = glob.glob(\"*edad.xlsx\")\n",
    "\n",
    "    archivos = [\"sexo\", \"edad\"]\n",
    "\n",
    "    # Productos por Campaña #\n",
    "    for archivo in archivos:\n",
    "\n",
    "        for xls in eval(archivo):\n",
    "            tmp = pd.read_excel(xls, 'Conjunto de datos1') #Lectura de un archivo de excel y su hoja\n",
    "            #Un poco de formato despues de leer los datos de la hoja de excell\n",
    "            tmp['archivo'] = xls\n",
    "            tmp = tmp.iloc[:-1]\n",
    "            tmp['categoria'] = archivo\n",
    "            tmp.columns = ['categoria_afinidad', 'subcategoria', 'usuarios', 'usuarios_nuevos', 'sesiones',\n",
    "                           'porcentaje_rebote', 'paginas_sesion','duracion_media_sesion', 'transacciones',\n",
    "                           'ingresos', 'tasa_conversion_electronico', 'archivo','categoria']\n",
    "            analytics_union.append(tmp) #Agregación del primer archivo a una lista\n",
    "\n",
    "    analytics_union = pd.concat(analytics_union) #Concatena todos los archivos en la lista analytics_union = []\n",
    "    \n",
    "    return analytics_union"
   ]
  },
  {
   "cell_type": "code",
   "execution_count": 332,
   "metadata": {},
   "outputs": [
    {
     "data": {
      "text/plain": [
       "Analytics-officedepot.com-Intereses-20200201-20200229-edad.xlsx    695\n",
       "Analytics-officedepot.com-Intereses-20200101-20200131-edad.xlsx    691\n",
       "Analytics-officedepot.com-Intereses-20200201-20200229-sexo.xlsx    233\n",
       "Analytics-officedepot.com-Intereses-20200101-20200131-sexo.xlsx    233\n",
       "Name: archivo, dtype: int64"
      ]
     },
     "execution_count": 332,
     "metadata": {},
     "output_type": "execute_result"
    }
   ],
   "source": [
    "analytics_union = union_datos() #Uso de la función creada para unir los archivos\n",
    "\n",
    "analytics_union.archivo.value_counts()"
   ]
  },
  {
   "cell_type": "markdown",
   "metadata": {},
   "source": [
    "### Resumenes y Graficas."
   ]
  },
  {
   "cell_type": "code",
   "execution_count": 333,
   "metadata": {},
   "outputs": [
    {
     "data": {
      "text/html": [
       "<div>\n",
       "<style scoped>\n",
       "    .dataframe tbody tr th:only-of-type {\n",
       "        vertical-align: middle;\n",
       "    }\n",
       "\n",
       "    .dataframe tbody tr th {\n",
       "        vertical-align: top;\n",
       "    }\n",
       "\n",
       "    .dataframe thead th {\n",
       "        text-align: right;\n",
       "    }\n",
       "</style>\n",
       "<table border=\"1\" class=\"dataframe\">\n",
       "  <thead>\n",
       "    <tr style=\"text-align: right;\">\n",
       "      <th></th>\n",
       "      <th>categoria_afinidad</th>\n",
       "      <th>subcategoria</th>\n",
       "      <th>usuarios</th>\n",
       "      <th>usuarios_nuevos</th>\n",
       "      <th>sesiones</th>\n",
       "      <th>porcentaje_rebote</th>\n",
       "      <th>paginas_sesion</th>\n",
       "      <th>duracion_media_sesion</th>\n",
       "      <th>transacciones</th>\n",
       "      <th>ingresos</th>\n",
       "      <th>tasa_conversion_electronico</th>\n",
       "      <th>archivo</th>\n",
       "      <th>categoria</th>\n",
       "    </tr>\n",
       "  </thead>\n",
       "  <tbody>\n",
       "    <tr>\n",
       "      <th>0</th>\n",
       "      <td>Food &amp; Dining/Cooking Enthusiasts/30 Minute Chefs</td>\n",
       "      <td>female</td>\n",
       "      <td>218757</td>\n",
       "      <td>168308</td>\n",
       "      <td>354557</td>\n",
       "      <td>0</td>\n",
       "      <td>12</td>\n",
       "      <td>222</td>\n",
       "      <td>1867</td>\n",
       "      <td>4032143</td>\n",
       "      <td>0</td>\n",
       "      <td>Analytics-officedepot.com-Intereses-20200101-2...</td>\n",
       "      <td>sexo</td>\n",
       "    </tr>\n",
       "    <tr>\n",
       "      <th>1</th>\n",
       "      <td>Shoppers/Value Shoppers</td>\n",
       "      <td>female</td>\n",
       "      <td>196414</td>\n",
       "      <td>145640</td>\n",
       "      <td>324263</td>\n",
       "      <td>0</td>\n",
       "      <td>12</td>\n",
       "      <td>224</td>\n",
       "      <td>2017</td>\n",
       "      <td>4446560</td>\n",
       "      <td>0</td>\n",
       "      <td>Analytics-officedepot.com-Intereses-20200101-2...</td>\n",
       "      <td>sexo</td>\n",
       "    </tr>\n",
       "  </tbody>\n",
       "</table>\n",
       "</div>"
      ],
      "text/plain": [
       "                                  categoria_afinidad subcategoria  usuarios  \\\n",
       "0  Food & Dining/Cooking Enthusiasts/30 Minute Chefs       female    218757   \n",
       "1                            Shoppers/Value Shoppers       female    196414   \n",
       "\n",
       "   usuarios_nuevos  sesiones  porcentaje_rebote  paginas_sesion  \\\n",
       "0           168308    354557                  0              12   \n",
       "1           145640    324263                  0              12   \n",
       "\n",
       "   duracion_media_sesion  transacciones  ingresos  \\\n",
       "0                    222           1867   4032143   \n",
       "1                    224           2017   4446560   \n",
       "\n",
       "   tasa_conversion_electronico  \\\n",
       "0                            0   \n",
       "1                            0   \n",
       "\n",
       "                                             archivo categoria  \n",
       "0  Analytics-officedepot.com-Intereses-20200101-2...      sexo  \n",
       "1  Analytics-officedepot.com-Intereses-20200101-2...      sexo  "
      ]
     },
     "execution_count": 333,
     "metadata": {},
     "output_type": "execute_result"
    }
   ],
   "source": [
    "analytics_union.head(2)"
   ]
  },
  {
   "cell_type": "markdown",
   "metadata": {},
   "source": [
    "#### Un poco más de limpieza"
   ]
  },
  {
   "cell_type": "code",
   "execution_count": 334,
   "metadata": {},
   "outputs": [
    {
     "data": {
      "text/html": [
       "<div>\n",
       "<style scoped>\n",
       "    .dataframe tbody tr th:only-of-type {\n",
       "        vertical-align: middle;\n",
       "    }\n",
       "\n",
       "    .dataframe tbody tr th {\n",
       "        vertical-align: top;\n",
       "    }\n",
       "\n",
       "    .dataframe thead th {\n",
       "        text-align: right;\n",
       "    }\n",
       "</style>\n",
       "<table border=\"1\" class=\"dataframe\">\n",
       "  <thead>\n",
       "    <tr style=\"text-align: right;\">\n",
       "      <th></th>\n",
       "      <th>categoria_afinidad</th>\n",
       "      <th>subcategoria</th>\n",
       "      <th>usuarios</th>\n",
       "      <th>usuarios_nuevos</th>\n",
       "      <th>sesiones</th>\n",
       "      <th>porcentaje_rebote</th>\n",
       "      <th>paginas_sesion</th>\n",
       "      <th>duracion_media_sesion</th>\n",
       "      <th>transacciones</th>\n",
       "      <th>ingresos</th>\n",
       "      <th>tasa_conversion_electronico</th>\n",
       "      <th>archivo</th>\n",
       "      <th>categoria</th>\n",
       "      <th>subcategoria_afinidad</th>\n",
       "    </tr>\n",
       "  </thead>\n",
       "  <tbody>\n",
       "    <tr>\n",
       "      <th>0</th>\n",
       "      <td>food &amp; dining</td>\n",
       "      <td>female</td>\n",
       "      <td>218757</td>\n",
       "      <td>168308</td>\n",
       "      <td>354557</td>\n",
       "      <td>0</td>\n",
       "      <td>12</td>\n",
       "      <td>222</td>\n",
       "      <td>1867</td>\n",
       "      <td>4032143</td>\n",
       "      <td>0</td>\n",
       "      <td>Analytics-officedepot.com-Intereses-20200101-2...</td>\n",
       "      <td>sexo</td>\n",
       "      <td>cooking enthusiasts</td>\n",
       "    </tr>\n",
       "    <tr>\n",
       "      <th>1</th>\n",
       "      <td>shoppers</td>\n",
       "      <td>female</td>\n",
       "      <td>196414</td>\n",
       "      <td>145640</td>\n",
       "      <td>324263</td>\n",
       "      <td>0</td>\n",
       "      <td>12</td>\n",
       "      <td>224</td>\n",
       "      <td>2017</td>\n",
       "      <td>4446560</td>\n",
       "      <td>0</td>\n",
       "      <td>Analytics-officedepot.com-Intereses-20200101-2...</td>\n",
       "      <td>sexo</td>\n",
       "      <td>value shoppers</td>\n",
       "    </tr>\n",
       "  </tbody>\n",
       "</table>\n",
       "</div>"
      ],
      "text/plain": [
       "  categoria_afinidad subcategoria  usuarios  usuarios_nuevos  sesiones  \\\n",
       "0      food & dining       female    218757           168308    354557   \n",
       "1           shoppers       female    196414           145640    324263   \n",
       "\n",
       "   porcentaje_rebote  paginas_sesion  duracion_media_sesion  transacciones  \\\n",
       "0                  0              12                    222           1867   \n",
       "1                  0              12                    224           2017   \n",
       "\n",
       "   ingresos  tasa_conversion_electronico  \\\n",
       "0   4032143                            0   \n",
       "1   4446560                            0   \n",
       "\n",
       "                                             archivo categoria  \\\n",
       "0  Analytics-officedepot.com-Intereses-20200101-2...      sexo   \n",
       "1  Analytics-officedepot.com-Intereses-20200101-2...      sexo   \n",
       "\n",
       "  subcategoria_afinidad  \n",
       "0   cooking enthusiasts  \n",
       "1        value shoppers  "
      ]
     },
     "execution_count": 334,
     "metadata": {},
     "output_type": "execute_result"
    }
   ],
   "source": [
    "analytics_union['categoria_afinidad'] = analytics_union.loc[:,'categoria_afinidad'].str.lower() #convierte el texto en minusculas\n",
    "tmp = analytics_union['categoria_afinidad'].str.split(\"/\", 20, expand=True).iloc[:,:2] #separa por /\n",
    "analytics_union['categoria_afinidad'] = tmp.iloc[:,0] #creamos una columna de la categoria\n",
    "analytics_union['subcategoria_afinidad'] = tmp.iloc[:,1] #cregamos una columna de la subcategoria\n",
    "\n",
    "analytics_union.head(2)"
   ]
  },
  {
   "cell_type": "code",
   "execution_count": 218,
   "metadata": {},
   "outputs": [
    {
     "data": {
      "text/html": [
       "<div>\n",
       "<style scoped>\n",
       "    .dataframe tbody tr th:only-of-type {\n",
       "        vertical-align: middle;\n",
       "    }\n",
       "\n",
       "    .dataframe tbody tr th {\n",
       "        vertical-align: top;\n",
       "    }\n",
       "\n",
       "    .dataframe thead th {\n",
       "        text-align: right;\n",
       "    }\n",
       "</style>\n",
       "<table border=\"1\" class=\"dataframe\">\n",
       "  <thead>\n",
       "    <tr style=\"text-align: right;\">\n",
       "      <th></th>\n",
       "      <th>categoria</th>\n",
       "      <th>subcategoria</th>\n",
       "      <th>categoria_afinidad</th>\n",
       "      <th>subcategoria_afinidad</th>\n",
       "      <th>transacciones</th>\n",
       "      <th>sesiones</th>\n",
       "      <th>ingresos</th>\n",
       "      <th>audiencia</th>\n",
       "    </tr>\n",
       "  </thead>\n",
       "  <tbody>\n",
       "    <tr>\n",
       "      <th>22</th>\n",
       "      <td>sexo</td>\n",
       "      <td>male</td>\n",
       "      <td>banking &amp; finance</td>\n",
       "      <td>avid investors</td>\n",
       "      <td>1176</td>\n",
       "      <td>214682</td>\n",
       "      <td>3162994</td>\n",
       "      <td>banking &amp; finance - avid investors - male</td>\n",
       "    </tr>\n",
       "    <tr>\n",
       "      <th>41</th>\n",
       "      <td>sexo</td>\n",
       "      <td>female</td>\n",
       "      <td>banking &amp; finance</td>\n",
       "      <td>avid investors</td>\n",
       "      <td>1077</td>\n",
       "      <td>151104</td>\n",
       "      <td>2764380</td>\n",
       "      <td>banking &amp; finance - avid investors - female</td>\n",
       "    </tr>\n",
       "    <tr>\n",
       "      <th>21</th>\n",
       "      <td>sexo</td>\n",
       "      <td>male</td>\n",
       "      <td>banking &amp; finance</td>\n",
       "      <td>avid investors</td>\n",
       "      <td>2119</td>\n",
       "      <td>332841</td>\n",
       "      <td>6890745</td>\n",
       "      <td>banking &amp; finance - avid investors - male</td>\n",
       "    </tr>\n",
       "    <tr>\n",
       "      <th>42</th>\n",
       "      <td>sexo</td>\n",
       "      <td>female</td>\n",
       "      <td>banking &amp; finance</td>\n",
       "      <td>avid investors</td>\n",
       "      <td>1529</td>\n",
       "      <td>196113</td>\n",
       "      <td>4327254</td>\n",
       "      <td>banking &amp; finance - avid investors - female</td>\n",
       "    </tr>\n",
       "  </tbody>\n",
       "</table>\n",
       "</div>"
      ],
      "text/plain": [
       "   categoria subcategoria categoria_afinidad subcategoria_afinidad  \\\n",
       "22      sexo         male  banking & finance        avid investors   \n",
       "41      sexo       female  banking & finance        avid investors   \n",
       "21      sexo         male  banking & finance        avid investors   \n",
       "42      sexo       female  banking & finance        avid investors   \n",
       "\n",
       "    transacciones  sesiones  ingresos  \\\n",
       "22           1176    214682   3162994   \n",
       "41           1077    151104   2764380   \n",
       "21           2119    332841   6890745   \n",
       "42           1529    196113   4327254   \n",
       "\n",
       "                                      audiencia  \n",
       "22    banking & finance - avid investors - male  \n",
       "41  banking & finance - avid investors - female  \n",
       "21    banking & finance - avid investors - male  \n",
       "42  banking & finance - avid investors - female  "
      ]
     },
     "execution_count": 218,
     "metadata": {},
     "output_type": "execute_result"
    }
   ],
   "source": [
    "analytics = analytics_union.loc[:,[\"categoria\",\"subcategoria\",\"categoria_afinidad\",\"subcategoria_afinidad\",\n",
    "                                   \"transacciones\", \"sesiones\", \"ingresos\"]]\n",
    "\n",
    "#concatenamos 3 columnas\n",
    "analytics[\"audiencia\"] = analytics[\"categoria_afinidad\"] +  \" - \" + analytics[\"subcategoria_afinidad\"] + \" - \" + analytics[\"subcategoria\"]\n",
    "\n",
    "#Tenemos repetidos por los meses que unimos\n",
    "analytics.sort_values([\"categoria_afinidad\",\"subcategoria_afinidad\"]).head(4)"
   ]
  },
  {
   "cell_type": "code",
   "execution_count": 219,
   "metadata": {},
   "outputs": [
    {
     "data": {
      "text/plain": [
       "(1852, 8)"
      ]
     },
     "execution_count": 219,
     "metadata": {},
     "output_type": "execute_result"
    }
   ],
   "source": [
    "analytics.shape"
   ]
  },
  {
   "cell_type": "markdown",
   "metadata": {},
   "source": [
    "### Resumenes de la información"
   ]
  },
  {
   "cell_type": "code",
   "execution_count": 220,
   "metadata": {},
   "outputs": [
    {
     "data": {
      "text/html": [
       "<div>\n",
       "<style scoped>\n",
       "    .dataframe tbody tr th:only-of-type {\n",
       "        vertical-align: middle;\n",
       "    }\n",
       "\n",
       "    .dataframe tbody tr th {\n",
       "        vertical-align: top;\n",
       "    }\n",
       "\n",
       "    .dataframe thead th {\n",
       "        text-align: right;\n",
       "    }\n",
       "</style>\n",
       "<table border=\"1\" class=\"dataframe\">\n",
       "  <thead>\n",
       "    <tr style=\"text-align: right;\">\n",
       "      <th></th>\n",
       "      <th>categoria</th>\n",
       "      <th>subcategoria</th>\n",
       "      <th>categoria_afinidad</th>\n",
       "      <th>subcategoria_afinidad</th>\n",
       "      <th>audiencia</th>\n",
       "      <th>ingresos</th>\n",
       "      <th>transacciones</th>\n",
       "      <th>sesiones</th>\n",
       "    </tr>\n",
       "  </thead>\n",
       "  <tbody>\n",
       "    <tr>\n",
       "      <th>0</th>\n",
       "      <td>edad</td>\n",
       "      <td>18-24</td>\n",
       "      <td>banking &amp; finance</td>\n",
       "      <td>avid investors</td>\n",
       "      <td>banking &amp; finance - avid investors - 18-24</td>\n",
       "      <td>1673857</td>\n",
       "      <td>641</td>\n",
       "      <td>109398</td>\n",
       "    </tr>\n",
       "    <tr>\n",
       "      <th>1</th>\n",
       "      <td>edad</td>\n",
       "      <td>18-24</td>\n",
       "      <td>beauty &amp; wellness</td>\n",
       "      <td>beauty mavens</td>\n",
       "      <td>beauty &amp; wellness - beauty mavens - 18-24</td>\n",
       "      <td>1919101</td>\n",
       "      <td>860</td>\n",
       "      <td>129262</td>\n",
       "    </tr>\n",
       "    <tr>\n",
       "      <th>2</th>\n",
       "      <td>edad</td>\n",
       "      <td>18-24</td>\n",
       "      <td>beauty &amp; wellness</td>\n",
       "      <td>frequently visits salons</td>\n",
       "      <td>beauty &amp; wellness - frequently visits salons -...</td>\n",
       "      <td>2090788</td>\n",
       "      <td>832</td>\n",
       "      <td>141198</td>\n",
       "    </tr>\n",
       "    <tr>\n",
       "      <th>3</th>\n",
       "      <td>edad</td>\n",
       "      <td>18-24</td>\n",
       "      <td>food &amp; dining</td>\n",
       "      <td>coffee shop regulars</td>\n",
       "      <td>food &amp; dining - coffee shop regulars - 18-24</td>\n",
       "      <td>1505596</td>\n",
       "      <td>642</td>\n",
       "      <td>106803</td>\n",
       "    </tr>\n",
       "    <tr>\n",
       "      <th>4</th>\n",
       "      <td>edad</td>\n",
       "      <td>18-24</td>\n",
       "      <td>food &amp; dining</td>\n",
       "      <td>cooking enthusiasts</td>\n",
       "      <td>food &amp; dining - cooking enthusiasts - 18-24</td>\n",
       "      <td>2941802</td>\n",
       "      <td>1366</td>\n",
       "      <td>265547</td>\n",
       "    </tr>\n",
       "    <tr>\n",
       "      <th>...</th>\n",
       "      <td>...</td>\n",
       "      <td>...</td>\n",
       "      <td>...</td>\n",
       "      <td>...</td>\n",
       "      <td>...</td>\n",
       "      <td>...</td>\n",
       "      <td>...</td>\n",
       "      <td>...</td>\n",
       "    </tr>\n",
       "    <tr>\n",
       "      <th>331</th>\n",
       "      <td>sexo</td>\n",
       "      <td>male</td>\n",
       "      <td>technology</td>\n",
       "      <td>social media enthusiasts</td>\n",
       "      <td>technology - social media enthusiasts - male</td>\n",
       "      <td>1018568</td>\n",
       "      <td>406</td>\n",
       "      <td>100333</td>\n",
       "    </tr>\n",
       "    <tr>\n",
       "      <th>332</th>\n",
       "      <td>sexo</td>\n",
       "      <td>male</td>\n",
       "      <td>technology</td>\n",
       "      <td>technophiles</td>\n",
       "      <td>technology - technophiles - male</td>\n",
       "      <td>8924193</td>\n",
       "      <td>3280</td>\n",
       "      <td>615983</td>\n",
       "    </tr>\n",
       "    <tr>\n",
       "      <th>333</th>\n",
       "      <td>sexo</td>\n",
       "      <td>male</td>\n",
       "      <td>travel</td>\n",
       "      <td>business travelers</td>\n",
       "      <td>travel - business travelers - male</td>\n",
       "      <td>7986669</td>\n",
       "      <td>2734</td>\n",
       "      <td>495273</td>\n",
       "    </tr>\n",
       "    <tr>\n",
       "      <th>334</th>\n",
       "      <td>sexo</td>\n",
       "      <td>male</td>\n",
       "      <td>travel</td>\n",
       "      <td>travel buffs</td>\n",
       "      <td>travel - travel buffs - male</td>\n",
       "      <td>8667198</td>\n",
       "      <td>2961</td>\n",
       "      <td>541467</td>\n",
       "    </tr>\n",
       "    <tr>\n",
       "      <th>335</th>\n",
       "      <td>sexo</td>\n",
       "      <td>male</td>\n",
       "      <td>vehicles &amp; transportation</td>\n",
       "      <td>auto enthusiasts</td>\n",
       "      <td>vehicles &amp; transportation - auto enthusiasts -...</td>\n",
       "      <td>11327389</td>\n",
       "      <td>3816</td>\n",
       "      <td>795858</td>\n",
       "    </tr>\n",
       "  </tbody>\n",
       "</table>\n",
       "<p>336 rows × 8 columns</p>\n",
       "</div>"
      ],
      "text/plain": [
       "    categoria subcategoria         categoria_afinidad  \\\n",
       "0        edad        18-24          banking & finance   \n",
       "1        edad        18-24          beauty & wellness   \n",
       "2        edad        18-24          beauty & wellness   \n",
       "3        edad        18-24              food & dining   \n",
       "4        edad        18-24              food & dining   \n",
       "..        ...          ...                        ...   \n",
       "331      sexo         male                 technology   \n",
       "332      sexo         male                 technology   \n",
       "333      sexo         male                     travel   \n",
       "334      sexo         male                     travel   \n",
       "335      sexo         male  vehicles & transportation   \n",
       "\n",
       "        subcategoria_afinidad  \\\n",
       "0              avid investors   \n",
       "1               beauty mavens   \n",
       "2    frequently visits salons   \n",
       "3        coffee shop regulars   \n",
       "4         cooking enthusiasts   \n",
       "..                        ...   \n",
       "331  social media enthusiasts   \n",
       "332              technophiles   \n",
       "333        business travelers   \n",
       "334              travel buffs   \n",
       "335          auto enthusiasts   \n",
       "\n",
       "                                             audiencia  ingresos  \\\n",
       "0           banking & finance - avid investors - 18-24   1673857   \n",
       "1            beauty & wellness - beauty mavens - 18-24   1919101   \n",
       "2    beauty & wellness - frequently visits salons -...   2090788   \n",
       "3         food & dining - coffee shop regulars - 18-24   1505596   \n",
       "4          food & dining - cooking enthusiasts - 18-24   2941802   \n",
       "..                                                 ...       ...   \n",
       "331       technology - social media enthusiasts - male   1018568   \n",
       "332                   technology - technophiles - male   8924193   \n",
       "333                 travel - business travelers - male   7986669   \n",
       "334                       travel - travel buffs - male   8667198   \n",
       "335  vehicles & transportation - auto enthusiasts -...  11327389   \n",
       "\n",
       "     transacciones  sesiones  \n",
       "0              641    109398  \n",
       "1              860    129262  \n",
       "2              832    141198  \n",
       "3              642    106803  \n",
       "4             1366    265547  \n",
       "..             ...       ...  \n",
       "331            406    100333  \n",
       "332           3280    615983  \n",
       "333           2734    495273  \n",
       "334           2961    541467  \n",
       "335           3816    795858  \n",
       "\n",
       "[336 rows x 8 columns]"
      ]
     },
     "execution_count": 220,
     "metadata": {},
     "output_type": "execute_result"
    }
   ],
   "source": [
    "analytics  = analytics.groupby([\"categoria\",\"subcategoria\",\"categoria_afinidad\",\"subcategoria_afinidad\",\"audiencia\"], as_index = True).sum()[[\"ingresos\",\"transacciones\",\"sesiones\"]].reset_index()\n",
    "\n",
    "analytics"
   ]
  },
  {
   "cell_type": "markdown",
   "metadata": {},
   "source": [
    "#### Resumen por categoría"
   ]
  },
  {
   "cell_type": "code",
   "execution_count": 236,
   "metadata": {},
   "outputs": [
    {
     "data": {
      "text/html": [
       "<div>\n",
       "<style scoped>\n",
       "    .dataframe tbody tr th:only-of-type {\n",
       "        vertical-align: middle;\n",
       "    }\n",
       "\n",
       "    .dataframe tbody tr th {\n",
       "        vertical-align: top;\n",
       "    }\n",
       "\n",
       "    .dataframe thead th {\n",
       "        text-align: right;\n",
       "    }\n",
       "</style>\n",
       "<table border=\"1\" class=\"dataframe\">\n",
       "  <thead>\n",
       "    <tr style=\"text-align: right;\">\n",
       "      <th></th>\n",
       "      <th>categoria</th>\n",
       "      <th>ingresos</th>\n",
       "      <th>transacciones</th>\n",
       "      <th>sesiones</th>\n",
       "      <th>tasa_conversion_electronico</th>\n",
       "    </tr>\n",
       "  </thead>\n",
       "  <tbody>\n",
       "    <tr>\n",
       "      <th>1</th>\n",
       "      <td>sexo</td>\n",
       "      <td>651181197</td>\n",
       "      <td>259466</td>\n",
       "      <td>43264129</td>\n",
       "      <td>60</td>\n",
       "    </tr>\n",
       "    <tr>\n",
       "      <th>0</th>\n",
       "      <td>edad</td>\n",
       "      <td>621246550</td>\n",
       "      <td>243721</td>\n",
       "      <td>40091579</td>\n",
       "      <td>61</td>\n",
       "    </tr>\n",
       "  </tbody>\n",
       "</table>\n",
       "</div>"
      ],
      "text/plain": [
       "  categoria  ingresos  transacciones  sesiones  tasa_conversion_electronico\n",
       "1      sexo 651181197         259466  43264129                           60\n",
       "0      edad 621246550         243721  40091579                           61"
      ]
     },
     "execution_count": 236,
     "metadata": {},
     "output_type": "execute_result"
    }
   ],
   "source": [
    "categoria = analytics.groupby([\"categoria\"], as_index = True).sum()[[\"ingresos\",\"transacciones\",\"sesiones\"]].reset_index()\n",
    "\n",
    "categoria[\"tasa_conversion_electronico\"] = (categoria[\"transacciones\"] / categoria[\"sesiones\"]) *10000\n",
    "\n",
    "categoria.sort_values(([\"ingresos\",\"tasa_conversion_electronico\"]), ascending = False)"
   ]
  },
  {
   "cell_type": "markdown",
   "metadata": {},
   "source": [
    "#### Resumen por subcategoría"
   ]
  },
  {
   "cell_type": "code",
   "execution_count": 242,
   "metadata": {},
   "outputs": [
    {
     "data": {
      "text/html": [
       "<div>\n",
       "<style scoped>\n",
       "    .dataframe tbody tr th:only-of-type {\n",
       "        vertical-align: middle;\n",
       "    }\n",
       "\n",
       "    .dataframe tbody tr th {\n",
       "        vertical-align: top;\n",
       "    }\n",
       "\n",
       "    .dataframe thead th {\n",
       "        text-align: right;\n",
       "    }\n",
       "</style>\n",
       "<table border=\"1\" class=\"dataframe\">\n",
       "  <thead>\n",
       "    <tr style=\"text-align: right;\">\n",
       "      <th></th>\n",
       "      <th>subcategoria</th>\n",
       "      <th>ingresos</th>\n",
       "      <th>transacciones</th>\n",
       "      <th>sesiones</th>\n",
       "      <th>tasa_conversion_electronico</th>\n",
       "    </tr>\n",
       "  </thead>\n",
       "  <tbody>\n",
       "    <tr>\n",
       "      <th>6</th>\n",
       "      <td>female</td>\n",
       "      <td>348414836</td>\n",
       "      <td>149440</td>\n",
       "      <td>21817206</td>\n",
       "      <td>68</td>\n",
       "    </tr>\n",
       "    <tr>\n",
       "      <th>7</th>\n",
       "      <td>male</td>\n",
       "      <td>302766361</td>\n",
       "      <td>110026</td>\n",
       "      <td>21446923</td>\n",
       "      <td>51</td>\n",
       "    </tr>\n",
       "    <tr>\n",
       "      <th>1</th>\n",
       "      <td>25-34</td>\n",
       "      <td>246002067</td>\n",
       "      <td>100715</td>\n",
       "      <td>16084414</td>\n",
       "      <td>63</td>\n",
       "    </tr>\n",
       "    <tr>\n",
       "      <th>2</th>\n",
       "      <td>35-44</td>\n",
       "      <td>139559554</td>\n",
       "      <td>49925</td>\n",
       "      <td>8434434</td>\n",
       "      <td>59</td>\n",
       "    </tr>\n",
       "    <tr>\n",
       "      <th>0</th>\n",
       "      <td>18-24</td>\n",
       "      <td>97111445</td>\n",
       "      <td>43557</td>\n",
       "      <td>7861523</td>\n",
       "      <td>55</td>\n",
       "    </tr>\n",
       "    <tr>\n",
       "      <th>3</th>\n",
       "      <td>45-54</td>\n",
       "      <td>81392929</td>\n",
       "      <td>29699</td>\n",
       "      <td>4529478</td>\n",
       "      <td>66</td>\n",
       "    </tr>\n",
       "    <tr>\n",
       "      <th>4</th>\n",
       "      <td>55-64</td>\n",
       "      <td>40403821</td>\n",
       "      <td>13411</td>\n",
       "      <td>2208176</td>\n",
       "      <td>61</td>\n",
       "    </tr>\n",
       "    <tr>\n",
       "      <th>5</th>\n",
       "      <td>65+</td>\n",
       "      <td>16776735</td>\n",
       "      <td>6414</td>\n",
       "      <td>973554</td>\n",
       "      <td>66</td>\n",
       "    </tr>\n",
       "  </tbody>\n",
       "</table>\n",
       "</div>"
      ],
      "text/plain": [
       "  subcategoria  ingresos  transacciones  sesiones  tasa_conversion_electronico\n",
       "6       female 348414836         149440  21817206                           68\n",
       "7         male 302766361         110026  21446923                           51\n",
       "1        25-34 246002067         100715  16084414                           63\n",
       "2        35-44 139559554          49925   8434434                           59\n",
       "0        18-24  97111445          43557   7861523                           55\n",
       "3        45-54  81392929          29699   4529478                           66\n",
       "4        55-64  40403821          13411   2208176                           61\n",
       "5          65+  16776735           6414    973554                           66"
      ]
     },
     "execution_count": 242,
     "metadata": {},
     "output_type": "execute_result"
    }
   ],
   "source": [
    "subcategoria = analytics.groupby([\"subcategoria\"], as_index = True).sum()[[\"ingresos\",\"transacciones\",\"sesiones\"]].reset_index()\n",
    "\n",
    "subcategoria[\"tasa_conversion_electronico\"] = (subcategoria[\"transacciones\"] / subcategoria[\"sesiones\"]) *10000\n",
    "\n",
    "subcategoria.sort_values([\"ingresos\",\"tasa_conversion_electronico\"], ascending = False)"
   ]
  },
  {
   "cell_type": "markdown",
   "metadata": {},
   "source": [
    "#### Resumen por categoria afinidad"
   ]
  },
  {
   "cell_type": "code",
   "execution_count": 244,
   "metadata": {},
   "outputs": [
    {
     "data": {
      "text/html": [
       "<div>\n",
       "<style scoped>\n",
       "    .dataframe tbody tr th:only-of-type {\n",
       "        vertical-align: middle;\n",
       "    }\n",
       "\n",
       "    .dataframe tbody tr th {\n",
       "        vertical-align: top;\n",
       "    }\n",
       "\n",
       "    .dataframe thead th {\n",
       "        text-align: right;\n",
       "    }\n",
       "</style>\n",
       "<table border=\"1\" class=\"dataframe\">\n",
       "  <thead>\n",
       "    <tr style=\"text-align: right;\">\n",
       "      <th></th>\n",
       "      <th>categoria_afinidad</th>\n",
       "      <th>ingresos</th>\n",
       "      <th>transacciones</th>\n",
       "      <th>sesiones</th>\n",
       "      <th>tasa_conversion_electronico</th>\n",
       "    </tr>\n",
       "  </thead>\n",
       "  <tbody>\n",
       "    <tr>\n",
       "      <th>5</th>\n",
       "      <td>media &amp; entertainment</td>\n",
       "      <td>263578437</td>\n",
       "      <td>113888</td>\n",
       "      <td>19194688</td>\n",
       "      <td>59</td>\n",
       "    </tr>\n",
       "    <tr>\n",
       "      <th>4</th>\n",
       "      <td>lifestyles &amp; hobbies</td>\n",
       "      <td>241011208</td>\n",
       "      <td>94583</td>\n",
       "      <td>14949748</td>\n",
       "      <td>63</td>\n",
       "    </tr>\n",
       "    <tr>\n",
       "      <th>7</th>\n",
       "      <td>shoppers</td>\n",
       "      <td>165922945</td>\n",
       "      <td>65509</td>\n",
       "      <td>10068936</td>\n",
       "      <td>65</td>\n",
       "    </tr>\n",
       "    <tr>\n",
       "      <th>2</th>\n",
       "      <td>food &amp; dining</td>\n",
       "      <td>158026975</td>\n",
       "      <td>63105</td>\n",
       "      <td>10200993</td>\n",
       "      <td>62</td>\n",
       "    </tr>\n",
       "    <tr>\n",
       "      <th>6</th>\n",
       "      <td>news &amp; politics</td>\n",
       "      <td>82908025</td>\n",
       "      <td>30735</td>\n",
       "      <td>6021686</td>\n",
       "      <td>51</td>\n",
       "    </tr>\n",
       "    <tr>\n",
       "      <th>8</th>\n",
       "      <td>sports &amp; fitness</td>\n",
       "      <td>75451817</td>\n",
       "      <td>27786</td>\n",
       "      <td>5661472</td>\n",
       "      <td>49</td>\n",
       "    </tr>\n",
       "    <tr>\n",
       "      <th>10</th>\n",
       "      <td>travel</td>\n",
       "      <td>74118262</td>\n",
       "      <td>27330</td>\n",
       "      <td>4005311</td>\n",
       "      <td>68</td>\n",
       "    </tr>\n",
       "    <tr>\n",
       "      <th>9</th>\n",
       "      <td>technology</td>\n",
       "      <td>54600549</td>\n",
       "      <td>22335</td>\n",
       "      <td>3900359</td>\n",
       "      <td>57</td>\n",
       "    </tr>\n",
       "    <tr>\n",
       "      <th>1</th>\n",
       "      <td>beauty &amp; wellness</td>\n",
       "      <td>49497988</td>\n",
       "      <td>19041</td>\n",
       "      <td>2818509</td>\n",
       "      <td>68</td>\n",
       "    </tr>\n",
       "    <tr>\n",
       "      <th>3</th>\n",
       "      <td>home &amp; garden</td>\n",
       "      <td>44232268</td>\n",
       "      <td>16965</td>\n",
       "      <td>2848413</td>\n",
       "      <td>60</td>\n",
       "    </tr>\n",
       "    <tr>\n",
       "      <th>0</th>\n",
       "      <td>banking &amp; finance</td>\n",
       "      <td>33518367</td>\n",
       "      <td>11540</td>\n",
       "      <td>1734451</td>\n",
       "      <td>67</td>\n",
       "    </tr>\n",
       "    <tr>\n",
       "      <th>11</th>\n",
       "      <td>vehicles &amp; transportation</td>\n",
       "      <td>29560905</td>\n",
       "      <td>10370</td>\n",
       "      <td>1951142</td>\n",
       "      <td>53</td>\n",
       "    </tr>\n",
       "  </tbody>\n",
       "</table>\n",
       "</div>"
      ],
      "text/plain": [
       "           categoria_afinidad  ingresos  transacciones  sesiones  \\\n",
       "5       media & entertainment 263578437         113888  19194688   \n",
       "4        lifestyles & hobbies 241011208          94583  14949748   \n",
       "7                    shoppers 165922945          65509  10068936   \n",
       "2               food & dining 158026975          63105  10200993   \n",
       "6             news & politics  82908025          30735   6021686   \n",
       "8            sports & fitness  75451817          27786   5661472   \n",
       "10                     travel  74118262          27330   4005311   \n",
       "9                  technology  54600549          22335   3900359   \n",
       "1           beauty & wellness  49497988          19041   2818509   \n",
       "3               home & garden  44232268          16965   2848413   \n",
       "0           banking & finance  33518367          11540   1734451   \n",
       "11  vehicles & transportation  29560905          10370   1951142   \n",
       "\n",
       "    tasa_conversion_electronico  \n",
       "5                            59  \n",
       "4                            63  \n",
       "7                            65  \n",
       "2                            62  \n",
       "6                            51  \n",
       "8                            49  \n",
       "10                           68  \n",
       "9                            57  \n",
       "1                            68  \n",
       "3                            60  \n",
       "0                            67  \n",
       "11                           53  "
      ]
     },
     "execution_count": 244,
     "metadata": {},
     "output_type": "execute_result"
    }
   ],
   "source": [
    "categoria_afinidad = analytics.groupby([\"categoria_afinidad\"], as_index = True).sum()[[\"ingresos\",\"transacciones\",\"sesiones\"]].reset_index()\n",
    "\n",
    "categoria_afinidad[\"tasa_conversion_electronico\"] = (categoria_afinidad [\"transacciones\"] / categoria_afinidad [\"sesiones\"]) *10000\n",
    "\n",
    "categoria_afinidad.sort_values([\"ingresos\",\"tasa_conversion_electronico\"], ascending = False)"
   ]
  },
  {
   "cell_type": "markdown",
   "metadata": {},
   "source": [
    "#### Subcategoria_afinidad"
   ]
  },
  {
   "cell_type": "code",
   "execution_count": 248,
   "metadata": {},
   "outputs": [
    {
     "data": {
      "text/html": [
       "<div>\n",
       "<style scoped>\n",
       "    .dataframe tbody tr th:only-of-type {\n",
       "        vertical-align: middle;\n",
       "    }\n",
       "\n",
       "    .dataframe tbody tr th {\n",
       "        vertical-align: top;\n",
       "    }\n",
       "\n",
       "    .dataframe thead th {\n",
       "        text-align: right;\n",
       "    }\n",
       "</style>\n",
       "<table border=\"1\" class=\"dataframe\">\n",
       "  <thead>\n",
       "    <tr style=\"text-align: right;\">\n",
       "      <th></th>\n",
       "      <th>categoria_afinidad</th>\n",
       "      <th>subcategoria_afinidad</th>\n",
       "      <th>ingresos</th>\n",
       "      <th>transacciones</th>\n",
       "      <th>sesiones</th>\n",
       "      <th>tasa_conversion_electronico</th>\n",
       "    </tr>\n",
       "  </thead>\n",
       "  <tbody>\n",
       "    <tr>\n",
       "      <th>26</th>\n",
       "      <td>media &amp; entertainment</td>\n",
       "      <td>music lovers</td>\n",
       "      <td>90331243</td>\n",
       "      <td>37550</td>\n",
       "      <td>4810627</td>\n",
       "      <td>78</td>\n",
       "    </tr>\n",
       "    <tr>\n",
       "      <th>28</th>\n",
       "      <td>news &amp; politics</td>\n",
       "      <td>avid news readers</td>\n",
       "      <td>82908025</td>\n",
       "      <td>30735</td>\n",
       "      <td>6021686</td>\n",
       "      <td>51</td>\n",
       "    </tr>\n",
       "    <tr>\n",
       "      <th>35</th>\n",
       "      <td>sports &amp; fitness</td>\n",
       "      <td>sports fans</td>\n",
       "      <td>55180472</td>\n",
       "      <td>20460</td>\n",
       "      <td>4320003</td>\n",
       "      <td>47</td>\n",
       "    </tr>\n",
       "    <tr>\n",
       "      <th>25</th>\n",
       "      <td>media &amp; entertainment</td>\n",
       "      <td>movie lovers</td>\n",
       "      <td>48662283</td>\n",
       "      <td>21711</td>\n",
       "      <td>3980126</td>\n",
       "      <td>55</td>\n",
       "    </tr>\n",
       "    <tr>\n",
       "      <th>4</th>\n",
       "      <td>food &amp; dining</td>\n",
       "      <td>cooking enthusiasts</td>\n",
       "      <td>48294880</td>\n",
       "      <td>20040</td>\n",
       "      <td>3522323</td>\n",
       "      <td>57</td>\n",
       "    </tr>\n",
       "    <tr>\n",
       "      <th>11</th>\n",
       "      <td>lifestyles &amp; hobbies</td>\n",
       "      <td>business professionals</td>\n",
       "      <td>45298138</td>\n",
       "      <td>16425</td>\n",
       "      <td>2374477</td>\n",
       "      <td>69</td>\n",
       "    </tr>\n",
       "    <tr>\n",
       "      <th>33</th>\n",
       "      <td>shoppers</td>\n",
       "      <td>value shoppers</td>\n",
       "      <td>44235959</td>\n",
       "      <td>17793</td>\n",
       "      <td>2893058</td>\n",
       "      <td>62</td>\n",
       "    </tr>\n",
       "    <tr>\n",
       "      <th>40</th>\n",
       "      <td>travel</td>\n",
       "      <td>travel buffs</td>\n",
       "      <td>44015689</td>\n",
       "      <td>16705</td>\n",
       "      <td>2468315</td>\n",
       "      <td>68</td>\n",
       "    </tr>\n",
       "    <tr>\n",
       "      <th>27</th>\n",
       "      <td>media &amp; entertainment</td>\n",
       "      <td>tv lovers</td>\n",
       "      <td>42885463</td>\n",
       "      <td>18930</td>\n",
       "      <td>3448127</td>\n",
       "      <td>55</td>\n",
       "    </tr>\n",
       "    <tr>\n",
       "      <th>7</th>\n",
       "      <td>food &amp; dining</td>\n",
       "      <td>frequently dines out</td>\n",
       "      <td>39995254</td>\n",
       "      <td>15000</td>\n",
       "      <td>2289555</td>\n",
       "      <td>66</td>\n",
       "    </tr>\n",
       "  </tbody>\n",
       "</table>\n",
       "</div>"
      ],
      "text/plain": [
       "       categoria_afinidad   subcategoria_afinidad  ingresos  transacciones  \\\n",
       "26  media & entertainment            music lovers  90331243          37550   \n",
       "28        news & politics       avid news readers  82908025          30735   \n",
       "35       sports & fitness             sports fans  55180472          20460   \n",
       "25  media & entertainment            movie lovers  48662283          21711   \n",
       "4           food & dining     cooking enthusiasts  48294880          20040   \n",
       "11   lifestyles & hobbies  business professionals  45298138          16425   \n",
       "33               shoppers          value shoppers  44235959          17793   \n",
       "40                 travel            travel buffs  44015689          16705   \n",
       "27  media & entertainment               tv lovers  42885463          18930   \n",
       "7           food & dining    frequently dines out  39995254          15000   \n",
       "\n",
       "    sesiones  tasa_conversion_electronico  \n",
       "26   4810627                           78  \n",
       "28   6021686                           51  \n",
       "35   4320003                           47  \n",
       "25   3980126                           55  \n",
       "4    3522323                           57  \n",
       "11   2374477                           69  \n",
       "33   2893058                           62  \n",
       "40   2468315                           68  \n",
       "27   3448127                           55  \n",
       "7    2289555                           66  "
      ]
     },
     "execution_count": 248,
     "metadata": {},
     "output_type": "execute_result"
    }
   ],
   "source": [
    "subcategoria_afinidad = analytics.groupby([\"categoria_afinidad\",\"subcategoria_afinidad\"], as_index = True).sum()[[\"ingresos\",\"transacciones\",\"sesiones\"]].reset_index()\n",
    "\n",
    "subcategoria_afinidad[\"tasa_conversion_electronico\"] = (subcategoria_afinidad[\"transacciones\"] / subcategoria_afinidad[\"sesiones\"]) *10000\n",
    "\n",
    "subcategoria_afinidad.sort_values([\"ingresos\",\"tasa_conversion_electronico\"], ascending = False).head(10)"
   ]
  },
  {
   "cell_type": "markdown",
   "metadata": {},
   "source": [
    "#### Función para resumenes de Analytics"
   ]
  },
  {
   "cell_type": "code",
   "execution_count": 296,
   "metadata": {},
   "outputs": [],
   "source": [
    "def Resumenes_analytics(analytics_union):\n",
    "    \n",
    "    #Un poco más de limpieza\n",
    "    analytics_union['categoria_afinidad'] = analytics_union.loc[:,'categoria_afinidad'].str.lower() #convierte el texto en minusculas\n",
    "    tmp = analytics_union['categoria_afinidad'].str.split(\"/\", 20, expand=True).iloc[:,:2] #separa por /\n",
    "    analytics_union['categoria_afinidad'] = tmp.iloc[:,0] #creamos una columna de la categoria\n",
    "    analytics_union['subcategoria_afinidad'] = tmp.iloc[:,1] #cregamos una columna de la subcategoria\n",
    "    \n",
    "    analytics = analytics_union.loc[:,[\"categoria\",\"subcategoria\",\"categoria_afinidad\",\"subcategoria_afinidad\",\n",
    "                                       \"transacciones\", \"sesiones\", \"ingresos\"]]\n",
    "    \n",
    "    #concatenamos 3 columnas\n",
    "    analytics[\"audiencia\"] = analytics[\"categoria_afinidad\"] +  \" - \" + analytics[\"subcategoria_afinidad\"] + \" - \" + analytics[\"subcategoria\"]\n",
    "    \n",
    "    #Agrupación evitar duplicados  \n",
    "    analytics  = analytics.groupby([\"categoria\",\"subcategoria\",\"categoria_afinidad\",\"subcategoria_afinidad\",\"audiencia\"], as_index = True).sum()[[\"ingresos\",\"transacciones\",\"sesiones\"]].reset_index()\n",
    "    analytics[\"tasa_conversion_electronico\"] = (analytics[\"transacciones\"] / analytics[\"sesiones\"]) *10000\n",
    "    analytics.sort_values(([\"ingresos\",\"tasa_conversion_electronico\"]), ascending = False)\n",
    "    \n",
    "    #Resumen por categoría\n",
    "    categoria = analytics.groupby([\"categoria\"], as_index = True).sum()[[\"ingresos\",\"transacciones\",\"sesiones\"]].reset_index()\n",
    "    categoria[\"tasa_conversion_electronico\"] = (categoria[\"transacciones\"] / categoria[\"sesiones\"]) *10000\n",
    "    categoria.sort_values(([\"ingresos\",\"tasa_conversion_electronico\"]), ascending = False)\n",
    "    \n",
    "    #Resumen por subcategoría\n",
    "    subcategoria = analytics.groupby([\"subcategoria\"], as_index = True).sum()[[\"ingresos\",\"transacciones\",\"sesiones\"]].reset_index()\n",
    "    subcategoria[\"tasa_conversion_electronico\"] = (subcategoria[\"transacciones\"] / subcategoria[\"sesiones\"]) *10000\n",
    "    subcategoria.sort_values([\"ingresos\",\"tasa_conversion_electronico\"], ascending = False)\n",
    "    \n",
    "    #Resumen por categoría afinidad\n",
    "    categoria_afinidad = analytics.groupby([\"categoria_afinidad\"], as_index = True).sum()[[\"ingresos\",\"transacciones\",\"sesiones\"]].reset_index()\n",
    "    categoria_afinidad[\"tasa_conversion_electronico\"] = (categoria_afinidad [\"transacciones\"] / categoria_afinidad [\"sesiones\"]) *10000\n",
    "    categoria_afinidad.sort_values([\"ingresos\",\"tasa_conversion_electronico\"], ascending = False)\n",
    "    \n",
    "    #Resumen por Subcategoría afinidad\n",
    "    subcategoria_afinidad = analytics.groupby([\"categoria_afinidad\",\"subcategoria_afinidad\"], as_index = True).sum()[[\"ingresos\",\"transacciones\",\"sesiones\"]].reset_index()\n",
    "    subcategoria_afinidad[\"tasa_conversion_electronico\"] = (subcategoria_afinidad[\"transacciones\"] / subcategoria_afinidad[\"sesiones\"]) *10000\n",
    "    subcategoria_afinidad.sort_values([\"ingresos\",\"tasa_conversion_electronico\"], ascending = False).head(10)\n",
    "\n",
    "    return analytics, categoria, subcategoria, categoria_afinidad, subcategoria_afinidad \n"
   ]
  },
  {
   "cell_type": "markdown",
   "metadata": {},
   "source": [
    "#### Uso de la función Resumenes_analytics\n",
    "\n",
    "La salida de la función almacena cada Base dentro de una tupla.\n",
    "\n",
    "Cada elemento de la tupla es una Base\n",
    "\n",
    "Tenemos que seleccionar el elemento que deseamos extraer de la tupla."
   ]
  },
  {
   "cell_type": "code",
   "execution_count": 288,
   "metadata": {},
   "outputs": [],
   "source": [
    "def operacion(x,y):\n",
    "    \n",
    "    suma = x + y \n",
    "    \n",
    "    resta = x - y\n",
    "    \n",
    "    multiplicacion = x * y\n",
    "    \n",
    "    division = x / y\n",
    "\n",
    "    return suma, resta, multiplicacion, division"
   ]
  },
  {
   "cell_type": "code",
   "execution_count": 289,
   "metadata": {},
   "outputs": [
    {
     "data": {
      "text/plain": [
       "(3, -1, 2, 0.5)"
      ]
     },
     "execution_count": 289,
     "metadata": {},
     "output_type": "execute_result"
    }
   ],
   "source": [
    "operacion(1,2)"
   ]
  },
  {
   "cell_type": "code",
   "execution_count": 291,
   "metadata": {},
   "outputs": [
    {
     "data": {
      "text/plain": [
       "3"
      ]
     },
     "execution_count": 291,
     "metadata": {},
     "output_type": "execute_result"
    }
   ],
   "source": [
    "resultados = operacion(1,2)\n",
    "\n",
    "resultados[0]"
   ]
  },
  {
   "cell_type": "code",
   "execution_count": 292,
   "metadata": {},
   "outputs": [
    {
     "data": {
      "text/plain": [
       "-1"
      ]
     },
     "execution_count": 292,
     "metadata": {},
     "output_type": "execute_result"
    }
   ],
   "source": [
    "resultados[1]"
   ]
  },
  {
   "cell_type": "code",
   "execution_count": 301,
   "metadata": {},
   "outputs": [
    {
     "data": {
      "text/plain": [
       "Analytics-officedepot.com-Intereses-20200201-20200229-edad.xlsx    695\n",
       "Analytics-officedepot.com-Intereses-20200101-20200131-edad.xlsx    691\n",
       "Analytics-officedepot.com-Intereses-20200201-20200229-sexo.xlsx    233\n",
       "Analytics-officedepot.com-Intereses-20200101-20200131-sexo.xlsx    233\n",
       "Name: archivo, dtype: int64"
      ]
     },
     "execution_count": 301,
     "metadata": {},
     "output_type": "execute_result"
    }
   ],
   "source": [
    "#Uso de la función creada para unir los archivos\n",
    "analytics_union = union_datos() \n",
    "\n",
    "analytics_union.archivo.value_counts()"
   ]
  },
  {
   "cell_type": "markdown",
   "metadata": {},
   "source": [
    "La función Resumenes_analytics() tiene la misma lógica que la función anterior operacion()"
   ]
  },
  {
   "cell_type": "code",
   "execution_count": 300,
   "metadata": {},
   "outputs": [
    {
     "data": {
      "text/plain": [
       "tuple"
      ]
     },
     "execution_count": 300,
     "metadata": {},
     "output_type": "execute_result"
    }
   ],
   "source": [
    "#Uso de la función creada para resumir los archivos\n",
    "Resumenes = Resumenes_analytics(analytics_union)\n",
    "\n",
    "type(Resumenes)"
   ]
  },
  {
   "cell_type": "code",
   "execution_count": 304,
   "metadata": {},
   "outputs": [
    {
     "data": {
      "text/html": [
       "<div>\n",
       "<style scoped>\n",
       "    .dataframe tbody tr th:only-of-type {\n",
       "        vertical-align: middle;\n",
       "    }\n",
       "\n",
       "    .dataframe tbody tr th {\n",
       "        vertical-align: top;\n",
       "    }\n",
       "\n",
       "    .dataframe thead th {\n",
       "        text-align: right;\n",
       "    }\n",
       "</style>\n",
       "<table border=\"1\" class=\"dataframe\">\n",
       "  <thead>\n",
       "    <tr style=\"text-align: right;\">\n",
       "      <th></th>\n",
       "      <th>categoria</th>\n",
       "      <th>subcategoria</th>\n",
       "      <th>categoria_afinidad</th>\n",
       "      <th>subcategoria_afinidad</th>\n",
       "      <th>audiencia</th>\n",
       "      <th>ingresos</th>\n",
       "      <th>transacciones</th>\n",
       "      <th>sesiones</th>\n",
       "      <th>tasa_conversion_electronico</th>\n",
       "    </tr>\n",
       "  </thead>\n",
       "  <tbody>\n",
       "    <tr>\n",
       "      <th>0</th>\n",
       "      <td>edad</td>\n",
       "      <td>18-24</td>\n",
       "      <td>banking &amp; finance</td>\n",
       "      <td>avid investors</td>\n",
       "      <td>banking &amp; finance - avid investors - 18-24</td>\n",
       "      <td>1673857</td>\n",
       "      <td>641</td>\n",
       "      <td>109398</td>\n",
       "      <td>59</td>\n",
       "    </tr>\n",
       "    <tr>\n",
       "      <th>1</th>\n",
       "      <td>edad</td>\n",
       "      <td>18-24</td>\n",
       "      <td>beauty &amp; wellness</td>\n",
       "      <td>beauty mavens</td>\n",
       "      <td>beauty &amp; wellness - beauty mavens - 18-24</td>\n",
       "      <td>1919101</td>\n",
       "      <td>860</td>\n",
       "      <td>129262</td>\n",
       "      <td>67</td>\n",
       "    </tr>\n",
       "  </tbody>\n",
       "</table>\n",
       "</div>"
      ],
      "text/plain": [
       "  categoria subcategoria categoria_afinidad subcategoria_afinidad  \\\n",
       "0      edad        18-24  banking & finance        avid investors   \n",
       "1      edad        18-24  beauty & wellness         beauty mavens   \n",
       "\n",
       "                                    audiencia  ingresos  transacciones  \\\n",
       "0  banking & finance - avid investors - 18-24   1673857            641   \n",
       "1   beauty & wellness - beauty mavens - 18-24   1919101            860   \n",
       "\n",
       "   sesiones  tasa_conversion_electronico  \n",
       "0    109398                           59  \n",
       "1    129262                           67  "
      ]
     },
     "execution_count": 304,
     "metadata": {},
     "output_type": "execute_result"
    }
   ],
   "source": [
    "Resumenes[0].head(2)"
   ]
  },
  {
   "cell_type": "code",
   "execution_count": 267,
   "metadata": {},
   "outputs": [
    {
     "data": {
      "text/html": [
       "<div>\n",
       "<style scoped>\n",
       "    .dataframe tbody tr th:only-of-type {\n",
       "        vertical-align: middle;\n",
       "    }\n",
       "\n",
       "    .dataframe tbody tr th {\n",
       "        vertical-align: top;\n",
       "    }\n",
       "\n",
       "    .dataframe thead th {\n",
       "        text-align: right;\n",
       "    }\n",
       "</style>\n",
       "<table border=\"1\" class=\"dataframe\">\n",
       "  <thead>\n",
       "    <tr style=\"text-align: right;\">\n",
       "      <th></th>\n",
       "      <th>categoria</th>\n",
       "      <th>ingresos</th>\n",
       "      <th>transacciones</th>\n",
       "      <th>sesiones</th>\n",
       "      <th>tasa_conversion_electronico</th>\n",
       "    </tr>\n",
       "  </thead>\n",
       "  <tbody>\n",
       "    <tr>\n",
       "      <th>0</th>\n",
       "      <td>edad</td>\n",
       "      <td>621246550</td>\n",
       "      <td>243721</td>\n",
       "      <td>40091579</td>\n",
       "      <td>61</td>\n",
       "    </tr>\n",
       "    <tr>\n",
       "      <th>1</th>\n",
       "      <td>sexo</td>\n",
       "      <td>651181197</td>\n",
       "      <td>259466</td>\n",
       "      <td>43264129</td>\n",
       "      <td>60</td>\n",
       "    </tr>\n",
       "  </tbody>\n",
       "</table>\n",
       "</div>"
      ],
      "text/plain": [
       "  categoria  ingresos  transacciones  sesiones  tasa_conversion_electronico\n",
       "0      edad 621246550         243721  40091579                           61\n",
       "1      sexo 651181197         259466  43264129                           60"
      ]
     },
     "execution_count": 267,
     "metadata": {},
     "output_type": "execute_result"
    }
   ],
   "source": [
    "Resumenes[1]"
   ]
  },
  {
   "cell_type": "code",
   "execution_count": 268,
   "metadata": {},
   "outputs": [
    {
     "data": {
      "text/html": [
       "<div>\n",
       "<style scoped>\n",
       "    .dataframe tbody tr th:only-of-type {\n",
       "        vertical-align: middle;\n",
       "    }\n",
       "\n",
       "    .dataframe tbody tr th {\n",
       "        vertical-align: top;\n",
       "    }\n",
       "\n",
       "    .dataframe thead th {\n",
       "        text-align: right;\n",
       "    }\n",
       "</style>\n",
       "<table border=\"1\" class=\"dataframe\">\n",
       "  <thead>\n",
       "    <tr style=\"text-align: right;\">\n",
       "      <th></th>\n",
       "      <th>subcategoria</th>\n",
       "      <th>ingresos</th>\n",
       "      <th>transacciones</th>\n",
       "      <th>sesiones</th>\n",
       "      <th>tasa_conversion_electronico</th>\n",
       "    </tr>\n",
       "  </thead>\n",
       "  <tbody>\n",
       "    <tr>\n",
       "      <th>0</th>\n",
       "      <td>18-24</td>\n",
       "      <td>97111445</td>\n",
       "      <td>43557</td>\n",
       "      <td>7861523</td>\n",
       "      <td>55</td>\n",
       "    </tr>\n",
       "    <tr>\n",
       "      <th>1</th>\n",
       "      <td>25-34</td>\n",
       "      <td>246002067</td>\n",
       "      <td>100715</td>\n",
       "      <td>16084414</td>\n",
       "      <td>63</td>\n",
       "    </tr>\n",
       "    <tr>\n",
       "      <th>2</th>\n",
       "      <td>35-44</td>\n",
       "      <td>139559554</td>\n",
       "      <td>49925</td>\n",
       "      <td>8434434</td>\n",
       "      <td>59</td>\n",
       "    </tr>\n",
       "    <tr>\n",
       "      <th>3</th>\n",
       "      <td>45-54</td>\n",
       "      <td>81392929</td>\n",
       "      <td>29699</td>\n",
       "      <td>4529478</td>\n",
       "      <td>66</td>\n",
       "    </tr>\n",
       "    <tr>\n",
       "      <th>4</th>\n",
       "      <td>55-64</td>\n",
       "      <td>40403821</td>\n",
       "      <td>13411</td>\n",
       "      <td>2208176</td>\n",
       "      <td>61</td>\n",
       "    </tr>\n",
       "    <tr>\n",
       "      <th>5</th>\n",
       "      <td>65+</td>\n",
       "      <td>16776735</td>\n",
       "      <td>6414</td>\n",
       "      <td>973554</td>\n",
       "      <td>66</td>\n",
       "    </tr>\n",
       "    <tr>\n",
       "      <th>6</th>\n",
       "      <td>female</td>\n",
       "      <td>348414836</td>\n",
       "      <td>149440</td>\n",
       "      <td>21817206</td>\n",
       "      <td>68</td>\n",
       "    </tr>\n",
       "    <tr>\n",
       "      <th>7</th>\n",
       "      <td>male</td>\n",
       "      <td>302766361</td>\n",
       "      <td>110026</td>\n",
       "      <td>21446923</td>\n",
       "      <td>51</td>\n",
       "    </tr>\n",
       "  </tbody>\n",
       "</table>\n",
       "</div>"
      ],
      "text/plain": [
       "  subcategoria  ingresos  transacciones  sesiones  tasa_conversion_electronico\n",
       "0        18-24  97111445          43557   7861523                           55\n",
       "1        25-34 246002067         100715  16084414                           63\n",
       "2        35-44 139559554          49925   8434434                           59\n",
       "3        45-54  81392929          29699   4529478                           66\n",
       "4        55-64  40403821          13411   2208176                           61\n",
       "5          65+  16776735           6414    973554                           66\n",
       "6       female 348414836         149440  21817206                           68\n",
       "7         male 302766361         110026  21446923                           51"
      ]
     },
     "execution_count": 268,
     "metadata": {},
     "output_type": "execute_result"
    }
   ],
   "source": [
    "Resumenes[2]"
   ]
  },
  {
   "cell_type": "code",
   "execution_count": 269,
   "metadata": {},
   "outputs": [
    {
     "data": {
      "text/html": [
       "<div>\n",
       "<style scoped>\n",
       "    .dataframe tbody tr th:only-of-type {\n",
       "        vertical-align: middle;\n",
       "    }\n",
       "\n",
       "    .dataframe tbody tr th {\n",
       "        vertical-align: top;\n",
       "    }\n",
       "\n",
       "    .dataframe thead th {\n",
       "        text-align: right;\n",
       "    }\n",
       "</style>\n",
       "<table border=\"1\" class=\"dataframe\">\n",
       "  <thead>\n",
       "    <tr style=\"text-align: right;\">\n",
       "      <th></th>\n",
       "      <th>categoria_afinidad</th>\n",
       "      <th>ingresos</th>\n",
       "      <th>transacciones</th>\n",
       "      <th>sesiones</th>\n",
       "      <th>tasa_conversion_electronico</th>\n",
       "    </tr>\n",
       "  </thead>\n",
       "  <tbody>\n",
       "    <tr>\n",
       "      <th>0</th>\n",
       "      <td>banking &amp; finance</td>\n",
       "      <td>33518367</td>\n",
       "      <td>11540</td>\n",
       "      <td>1734451</td>\n",
       "      <td>67</td>\n",
       "    </tr>\n",
       "    <tr>\n",
       "      <th>1</th>\n",
       "      <td>beauty &amp; wellness</td>\n",
       "      <td>49497988</td>\n",
       "      <td>19041</td>\n",
       "      <td>2818509</td>\n",
       "      <td>68</td>\n",
       "    </tr>\n",
       "    <tr>\n",
       "      <th>2</th>\n",
       "      <td>food &amp; dining</td>\n",
       "      <td>158026975</td>\n",
       "      <td>63105</td>\n",
       "      <td>10200993</td>\n",
       "      <td>62</td>\n",
       "    </tr>\n",
       "    <tr>\n",
       "      <th>3</th>\n",
       "      <td>home &amp; garden</td>\n",
       "      <td>44232268</td>\n",
       "      <td>16965</td>\n",
       "      <td>2848413</td>\n",
       "      <td>60</td>\n",
       "    </tr>\n",
       "    <tr>\n",
       "      <th>4</th>\n",
       "      <td>lifestyles &amp; hobbies</td>\n",
       "      <td>241011208</td>\n",
       "      <td>94583</td>\n",
       "      <td>14949748</td>\n",
       "      <td>63</td>\n",
       "    </tr>\n",
       "    <tr>\n",
       "      <th>5</th>\n",
       "      <td>media &amp; entertainment</td>\n",
       "      <td>263578437</td>\n",
       "      <td>113888</td>\n",
       "      <td>19194688</td>\n",
       "      <td>59</td>\n",
       "    </tr>\n",
       "    <tr>\n",
       "      <th>6</th>\n",
       "      <td>news &amp; politics</td>\n",
       "      <td>82908025</td>\n",
       "      <td>30735</td>\n",
       "      <td>6021686</td>\n",
       "      <td>51</td>\n",
       "    </tr>\n",
       "    <tr>\n",
       "      <th>7</th>\n",
       "      <td>shoppers</td>\n",
       "      <td>165922945</td>\n",
       "      <td>65509</td>\n",
       "      <td>10068936</td>\n",
       "      <td>65</td>\n",
       "    </tr>\n",
       "    <tr>\n",
       "      <th>8</th>\n",
       "      <td>sports &amp; fitness</td>\n",
       "      <td>75451817</td>\n",
       "      <td>27786</td>\n",
       "      <td>5661472</td>\n",
       "      <td>49</td>\n",
       "    </tr>\n",
       "    <tr>\n",
       "      <th>9</th>\n",
       "      <td>technology</td>\n",
       "      <td>54600549</td>\n",
       "      <td>22335</td>\n",
       "      <td>3900359</td>\n",
       "      <td>57</td>\n",
       "    </tr>\n",
       "    <tr>\n",
       "      <th>10</th>\n",
       "      <td>travel</td>\n",
       "      <td>74118262</td>\n",
       "      <td>27330</td>\n",
       "      <td>4005311</td>\n",
       "      <td>68</td>\n",
       "    </tr>\n",
       "    <tr>\n",
       "      <th>11</th>\n",
       "      <td>vehicles &amp; transportation</td>\n",
       "      <td>29560905</td>\n",
       "      <td>10370</td>\n",
       "      <td>1951142</td>\n",
       "      <td>53</td>\n",
       "    </tr>\n",
       "  </tbody>\n",
       "</table>\n",
       "</div>"
      ],
      "text/plain": [
       "           categoria_afinidad  ingresos  transacciones  sesiones  \\\n",
       "0           banking & finance  33518367          11540   1734451   \n",
       "1           beauty & wellness  49497988          19041   2818509   \n",
       "2               food & dining 158026975          63105  10200993   \n",
       "3               home & garden  44232268          16965   2848413   \n",
       "4        lifestyles & hobbies 241011208          94583  14949748   \n",
       "5       media & entertainment 263578437         113888  19194688   \n",
       "6             news & politics  82908025          30735   6021686   \n",
       "7                    shoppers 165922945          65509  10068936   \n",
       "8            sports & fitness  75451817          27786   5661472   \n",
       "9                  technology  54600549          22335   3900359   \n",
       "10                     travel  74118262          27330   4005311   \n",
       "11  vehicles & transportation  29560905          10370   1951142   \n",
       "\n",
       "    tasa_conversion_electronico  \n",
       "0                            67  \n",
       "1                            68  \n",
       "2                            62  \n",
       "3                            60  \n",
       "4                            63  \n",
       "5                            59  \n",
       "6                            51  \n",
       "7                            65  \n",
       "8                            49  \n",
       "9                            57  \n",
       "10                           68  \n",
       "11                           53  "
      ]
     },
     "execution_count": 269,
     "metadata": {},
     "output_type": "execute_result"
    }
   ],
   "source": [
    "Resumenes[3]"
   ]
  },
  {
   "cell_type": "code",
   "execution_count": 271,
   "metadata": {},
   "outputs": [
    {
     "data": {
      "text/html": [
       "<div>\n",
       "<style scoped>\n",
       "    .dataframe tbody tr th:only-of-type {\n",
       "        vertical-align: middle;\n",
       "    }\n",
       "\n",
       "    .dataframe tbody tr th {\n",
       "        vertical-align: top;\n",
       "    }\n",
       "\n",
       "    .dataframe thead th {\n",
       "        text-align: right;\n",
       "    }\n",
       "</style>\n",
       "<table border=\"1\" class=\"dataframe\">\n",
       "  <thead>\n",
       "    <tr style=\"text-align: right;\">\n",
       "      <th></th>\n",
       "      <th>categoria_afinidad</th>\n",
       "      <th>subcategoria_afinidad</th>\n",
       "      <th>ingresos</th>\n",
       "      <th>transacciones</th>\n",
       "      <th>sesiones</th>\n",
       "      <th>tasa_conversion_electronico</th>\n",
       "    </tr>\n",
       "  </thead>\n",
       "  <tbody>\n",
       "    <tr>\n",
       "      <th>0</th>\n",
       "      <td>banking &amp; finance</td>\n",
       "      <td>avid investors</td>\n",
       "      <td>33518367</td>\n",
       "      <td>11540</td>\n",
       "      <td>1734451</td>\n",
       "      <td>67</td>\n",
       "    </tr>\n",
       "    <tr>\n",
       "      <th>1</th>\n",
       "      <td>beauty &amp; wellness</td>\n",
       "      <td>beauty mavens</td>\n",
       "      <td>19414777</td>\n",
       "      <td>8044</td>\n",
       "      <td>1114045</td>\n",
       "      <td>72</td>\n",
       "    </tr>\n",
       "    <tr>\n",
       "      <th>2</th>\n",
       "      <td>beauty &amp; wellness</td>\n",
       "      <td>frequently visits salons</td>\n",
       "      <td>30083211</td>\n",
       "      <td>10997</td>\n",
       "      <td>1704464</td>\n",
       "      <td>65</td>\n",
       "    </tr>\n",
       "    <tr>\n",
       "      <th>3</th>\n",
       "      <td>food &amp; dining</td>\n",
       "      <td>coffee shop regulars</td>\n",
       "      <td>14724558</td>\n",
       "      <td>5932</td>\n",
       "      <td>894383</td>\n",
       "      <td>66</td>\n",
       "    </tr>\n",
       "    <tr>\n",
       "      <th>4</th>\n",
       "      <td>food &amp; dining</td>\n",
       "      <td>cooking enthusiasts</td>\n",
       "      <td>48294880</td>\n",
       "      <td>20040</td>\n",
       "      <td>3522323</td>\n",
       "      <td>57</td>\n",
       "    </tr>\n",
       "    <tr>\n",
       "      <th>5</th>\n",
       "      <td>food &amp; dining</td>\n",
       "      <td>fast food cravers</td>\n",
       "      <td>28178436</td>\n",
       "      <td>11366</td>\n",
       "      <td>1820479</td>\n",
       "      <td>62</td>\n",
       "    </tr>\n",
       "    <tr>\n",
       "      <th>6</th>\n",
       "      <td>food &amp; dining</td>\n",
       "      <td>foodies</td>\n",
       "      <td>26833848</td>\n",
       "      <td>10767</td>\n",
       "      <td>1674253</td>\n",
       "      <td>64</td>\n",
       "    </tr>\n",
       "    <tr>\n",
       "      <th>7</th>\n",
       "      <td>food &amp; dining</td>\n",
       "      <td>frequently dines out</td>\n",
       "      <td>39995254</td>\n",
       "      <td>15000</td>\n",
       "      <td>2289555</td>\n",
       "      <td>66</td>\n",
       "    </tr>\n",
       "    <tr>\n",
       "      <th>8</th>\n",
       "      <td>home &amp; garden</td>\n",
       "      <td>do-it-yourselfers</td>\n",
       "      <td>29039771</td>\n",
       "      <td>10513</td>\n",
       "      <td>1846219</td>\n",
       "      <td>57</td>\n",
       "    </tr>\n",
       "    <tr>\n",
       "      <th>9</th>\n",
       "      <td>home &amp; garden</td>\n",
       "      <td>home decor enthusiasts</td>\n",
       "      <td>15192498</td>\n",
       "      <td>6452</td>\n",
       "      <td>1002194</td>\n",
       "      <td>64</td>\n",
       "    </tr>\n",
       "  </tbody>\n",
       "</table>\n",
       "</div>"
      ],
      "text/plain": [
       "  categoria_afinidad     subcategoria_afinidad  ingresos  transacciones  \\\n",
       "0  banking & finance            avid investors  33518367          11540   \n",
       "1  beauty & wellness             beauty mavens  19414777           8044   \n",
       "2  beauty & wellness  frequently visits salons  30083211          10997   \n",
       "3      food & dining      coffee shop regulars  14724558           5932   \n",
       "4      food & dining       cooking enthusiasts  48294880          20040   \n",
       "5      food & dining         fast food cravers  28178436          11366   \n",
       "6      food & dining                   foodies  26833848          10767   \n",
       "7      food & dining      frequently dines out  39995254          15000   \n",
       "8      home & garden         do-it-yourselfers  29039771          10513   \n",
       "9      home & garden    home decor enthusiasts  15192498           6452   \n",
       "\n",
       "   sesiones  tasa_conversion_electronico  \n",
       "0   1734451                           67  \n",
       "1   1114045                           72  \n",
       "2   1704464                           65  \n",
       "3    894383                           66  \n",
       "4   3522323                           57  \n",
       "5   1820479                           62  \n",
       "6   1674253                           64  \n",
       "7   2289555                           66  \n",
       "8   1846219                           57  \n",
       "9   1002194                           64  "
      ]
     },
     "execution_count": 271,
     "metadata": {},
     "output_type": "execute_result"
    }
   ],
   "source": [
    "Resumenes[4].head(10)"
   ]
  },
  {
   "cell_type": "markdown",
   "metadata": {},
   "source": [
    "### Gráficas"
   ]
  },
  {
   "cell_type": "code",
   "execution_count": 306,
   "metadata": {},
   "outputs": [
    {
     "data": {
      "text/html": [
       "<div>\n",
       "<style scoped>\n",
       "    .dataframe tbody tr th:only-of-type {\n",
       "        vertical-align: middle;\n",
       "    }\n",
       "\n",
       "    .dataframe tbody tr th {\n",
       "        vertical-align: top;\n",
       "    }\n",
       "\n",
       "    .dataframe thead th {\n",
       "        text-align: right;\n",
       "    }\n",
       "</style>\n",
       "<table border=\"1\" class=\"dataframe\">\n",
       "  <thead>\n",
       "    <tr style=\"text-align: right;\">\n",
       "      <th></th>\n",
       "      <th>categoria</th>\n",
       "      <th>subcategoria</th>\n",
       "      <th>categoria_afinidad</th>\n",
       "      <th>subcategoria_afinidad</th>\n",
       "      <th>audiencia</th>\n",
       "      <th>ingresos</th>\n",
       "      <th>transacciones</th>\n",
       "      <th>sesiones</th>\n",
       "      <th>tasa_conversion_electronico</th>\n",
       "    </tr>\n",
       "  </thead>\n",
       "  <tbody>\n",
       "    <tr>\n",
       "      <th>0</th>\n",
       "      <td>edad</td>\n",
       "      <td>18-24</td>\n",
       "      <td>banking &amp; finance</td>\n",
       "      <td>avid investors</td>\n",
       "      <td>banking &amp; finance - avid investors - 18-24</td>\n",
       "      <td>1673857</td>\n",
       "      <td>641</td>\n",
       "      <td>109398</td>\n",
       "      <td>59</td>\n",
       "    </tr>\n",
       "    <tr>\n",
       "      <th>1</th>\n",
       "      <td>edad</td>\n",
       "      <td>18-24</td>\n",
       "      <td>beauty &amp; wellness</td>\n",
       "      <td>beauty mavens</td>\n",
       "      <td>beauty &amp; wellness - beauty mavens - 18-24</td>\n",
       "      <td>1919101</td>\n",
       "      <td>860</td>\n",
       "      <td>129262</td>\n",
       "      <td>67</td>\n",
       "    </tr>\n",
       "  </tbody>\n",
       "</table>\n",
       "</div>"
      ],
      "text/plain": [
       "  categoria subcategoria categoria_afinidad subcategoria_afinidad  \\\n",
       "0      edad        18-24  banking & finance        avid investors   \n",
       "1      edad        18-24  beauty & wellness         beauty mavens   \n",
       "\n",
       "                                    audiencia  ingresos  transacciones  \\\n",
       "0  banking & finance - avid investors - 18-24   1673857            641   \n",
       "1   beauty & wellness - beauty mavens - 18-24   1919101            860   \n",
       "\n",
       "   sesiones  tasa_conversion_electronico  \n",
       "0    109398                           59  \n",
       "1    129262                           67  "
      ]
     },
     "execution_count": 306,
     "metadata": {},
     "output_type": "execute_result"
    }
   ],
   "source": [
    "#Información de analytics transformada y limpia por la función Resumenes.\n",
    "analytics = Resumenes[0]\n",
    "\n",
    "analytics.head(2)"
   ]
  },
  {
   "cell_type": "markdown",
   "metadata": {},
   "source": [
    "##### Histograma ingresos"
   ]
  },
  {
   "cell_type": "code",
   "execution_count": 318,
   "metadata": {},
   "outputs": [
    {
     "data": {
      "image/png": "[encoded data removed]",
      "text/plain": [
       "<Figure size 1800x360 with 1 Axes>"
      ]
     },
     "metadata": {},
     "output_type": "display_data"
    }
   ],
   "source": [
    "import numpy as np #Paquete para matrices\n",
    "import seaborn as sns\n",
    "import matplotlib.pyplot as plt \n",
    "\n",
    "plt.rcParams['figure.figsize'] = [25, 5]\n",
    "plt.style.use('ggplot')\n",
    "\n",
    "#Es buena practica calcular los grupos adecuados para visualizar mejor el histograma.\n",
    "n_data = len(analytics)\n",
    "n_bins = int(np.sqrt(n_data))\n",
    "\n",
    "_ = plt.hist(analytics['ingresos'], bins=n_bins, color = \"green\")\n",
    "_ = plt.xlabel('Ingresos') \n",
    "_ = plt.ylabel('Conteo de ingresos')\n",
    "_ = plt.title('Ingresos de Analytics')\n",
    "\n",
    "plt.show()"
   ]
  },
  {
   "cell_type": "markdown",
   "metadata": {},
   "source": [
    "##### Grafico de abejas para apreciar la dispersión de los datos por categoria afinidad."
   ]
  },
  {
   "cell_type": "code",
   "execution_count": 319,
   "metadata": {},
   "outputs": [
    {
     "data": {
      "image/png": "[encoded data removed]",
      "text/plain": [
       "<Figure size 1800x360 with 1 Axes>"
      ]
     },
     "metadata": {},
     "output_type": "display_data"
    }
   ],
   "source": [
    "plt.rcParams['figure.figsize'] = [25, 5]\n",
    "\n",
    "_ = sns.swarmplot(x='categoria_afinidad', y='ingresos', data=analytics) \n",
    "_ = plt.xlabel('Categoria afinidad')\n",
    "_ = plt.ylabel('Ingresos')\n",
    "_ = plt.title('Resultados por cagetoria afinidad')\n",
    "\n",
    "plt.show()"
   ]
  },
  {
   "cell_type": "code",
   "execution_count": 320,
   "metadata": {},
   "outputs": [
    {
     "data": {
      "image/png": "[encoded data removed]",
      "text/plain": [
       "<Figure size 720x576 with 1 Axes>"
      ]
     },
     "metadata": {},
     "output_type": "display_data"
    }
   ],
   "source": [
    "plt.rcParams['figure.figsize'] = [10, 8]\n",
    "\n",
    "_ = sns.swarmplot(x='categoria', y='ingresos', data=analytics) \n",
    "_ = plt.ylabel('Ingresos')\n",
    "_ = plt.title('Ingresos por categoría')\n",
    "\n",
    "plt.show()"
   ]
  },
  {
   "cell_type": "code",
   "execution_count": 321,
   "metadata": {},
   "outputs": [
    {
     "data": {
      "image/png": "[encoded data removed]",
      "text/plain": [
       "<Figure size 720x576 with 1 Axes>"
      ]
     },
     "metadata": {},
     "output_type": "display_data"
    }
   ],
   "source": [
    "sns.scatterplot(x=\"ingresos\",\n",
    "                y=\"tasa_conversion_electronico\",\n",
    "                hue=\"categoria_afinidad\",\n",
    "                data=subcategoria_afinidad)\n",
    "\n",
    "plt.xlabel(\"ingresos\", size=16)\n",
    "plt.ylabel(\"tasa_conversion_electronico\", size=16)\n",
    "plt.title(\"Subcategorias Afinidad\", size=24)\n",
    "plt.show()"
   ]
  }
 ],
 "metadata": {
  "kernelspec": {
   "display_name": "Python 3",
   "language": "python",
   "name": "python3"
  },
  "language_info": {
   "codemirror_mode": {
    "name": "ipython",
    "version": 3
   },
   "file_extension": ".py",
   "mimetype": "text/x-python",
   "name": "python",
   "nbconvert_exporter": "python",
   "pygments_lexer": "ipython3",
   "version": "3.8.5"
  }
 },
 "nbformat": 4,
 "nbformat_minor": 4
}
