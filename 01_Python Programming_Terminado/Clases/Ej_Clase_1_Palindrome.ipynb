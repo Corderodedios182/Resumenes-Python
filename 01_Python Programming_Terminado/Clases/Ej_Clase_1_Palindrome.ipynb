{
 "cells": [
  {
   "cell_type": "markdown",
   "metadata": {},
   "source": [
    "###### Escribe un scrip para poder detectar una palabra es palindromo"
   ]
  },
  {
   "cell_type": "code",
   "execution_count": 1,
   "metadata": {},
   "outputs": [
    {
     "name": "stdout",
     "output_type": "stream",
     "text": [
      "Program to review if a string is a palindrome\n",
      "Enter the string:Ana\n",
      "Ana  is a palindrome\n"
     ]
    }
   ],
   "source": [
    "#Solucion:\n",
    "\n",
    "print(\"Program to review if a string is a palindrome\")\n",
    "\n",
    "a = input(\"Enter the string:\") \n",
    "b = \"\"\n",
    "\n",
    "#La sentencia for ayuda a realizar una tarea n-veces\n",
    "for i in a:\n",
    "    b = i + b\n",
    "\n",
    "#sentencias logicas\n",
    "if a.upper() == b.upper():\n",
    "    print(f'{a}  is a palindrome')\n",
    "else:\n",
    "    print(f'{a} is not a palindrome')"
   ]
  }
 ],
 "metadata": {
  "kernelspec": {
   "display_name": "Python 3",
   "language": "python",
   "name": "python3"
  },
  "language_info": {
   "codemirror_mode": {
    "name": "ipython",
    "version": 3
   },
   "file_extension": ".py",
   "mimetype": "text/x-python",
   "name": "python",
   "nbconvert_exporter": "python",
   "pygments_lexer": "ipython3",
   "version": "3.8.3"
  }
 },
 "nbformat": 4,
 "nbformat_minor": 4
}
