{
 "cells": [
  {
   "cell_type": "markdown",
   "metadata": {},
   "source": [
    "Se revisan conceptos de objetos iterables e iteradores, ayudan a eficientar y escribir codigo.\n",
    "\n",
    "- Iterable (Objeto inicial)\n",
    "\n",
    "- Iterador (Arroja los valores del Iterable)\n",
    "\n",
    "- Contenedores (if 1 in [1,2])\n",
    "\n",
    "- Modulo itertools (funciones para iteradores, count(),cycle())\n",
    "\n",
    "- Funcion enumerate() (enumera los valores de una lista), zip() (concatena listas)\n",
    "\n",
    "- Listas generadoras (x * 2 for x in range(10)) y listas de comprension [x * 2 for x in range(10)]\n",
    "\n",
    "- Lectura de datos con iteradores."
   ]
  },
  {
   "cell_type": "markdown",
   "metadata": {},
   "source": [
    "# 1. Objetos Iteradores e Iterables."
   ]
  },
  {
   "cell_type": "markdown",
   "metadata": {},
   "source": [
    "Los iteradores son los espíritus omnipresentes de Python. Están en todas partes y debes haberte encontrado con ellos en algún programa u otro. \n",
    "Los iteradores son objetos que le permiten recorrer todos los elementos de una colección, independientemente de su implementación específica.\n",
    "\n",
    "Eso significa que, si alguna vez usó bucles para iterar o ejecutar los valores en un contenedor, habrá utilizado un iterador.\n",
    "\n",
    "Iterable : Objeto donde se iteran sobre sus elementos, devuelven un iterador.\n",
    "\n",
    "Iterador : Objeto que mantiene el estado y produce el siguiente valor."
   ]
  },
  {
   "cell_type": "code",
   "execution_count": 140,
   "metadata": {},
   "outputs": [],
   "source": [
    "#Ejemplo; Vamos a iterar los elementos\n",
    "Iterable = ['jay garrick', 'barry allen', 'wally west', 'bart allen']"
   ]
  },
  {
   "cell_type": "code",
   "execution_count": 74,
   "metadata": {},
   "outputs": [
    {
     "name": "stdout",
     "output_type": "stream",
     "text": [
      "<list_iterator object at 0x0000021A544BEE80>\n"
     ]
    }
   ],
   "source": [
    "#Extraemos el elemento iterador del objeto Iterable.\n",
    "#Con la funcion iter(), convertimos el Objeto Iterable en Iterador para que nos pueda devolver sus elementos\n",
    "#como si corrieramos un for.\n",
    "Iterador = iter(Iterable) \n",
    "print(Iterador)"
   ]
  },
  {
   "cell_type": "code",
   "execution_count": 75,
   "metadata": {},
   "outputs": [
    {
     "name": "stdout",
     "output_type": "stream",
     "text": [
      "jay garrick\n",
      "barry allen\n",
      "wally west\n",
      "bart allen\n"
     ]
    }
   ],
   "source": [
    "#Ya tenemos un objeto iterador, cada vez que lo llamemos nos arrojara el siguiente elemento que contiene.\n",
    "#next() Funcion para recuperar los valores uno por uno del objeto iterador.\n",
    "print(next(Iterador)) \n",
    "print(next(Iterador))\n",
    "print(next(Iterador))\n",
    "print(next(Iterador))"
   ]
  },
  {
   "cell_type": "markdown",
   "metadata": {},
   "source": [
    "El iterador es aquel elemento con el cual se opera el Iterable."
   ]
  },
  {
   "cell_type": "code",
   "execution_count": 76,
   "metadata": {},
   "outputs": [
    {
     "name": "stdout",
     "output_type": "stream",
     "text": [
      "jay garrick\n",
      "barry allen\n",
      "wally west\n",
      "bart allen\n"
     ]
    }
   ],
   "source": [
    "for Iterador in Iterable:\n",
    "    print(Iterador)"
   ]
  },
  {
   "cell_type": "markdown",
   "metadata": {},
   "source": [
    "La funcion iter() coniverte un objeto en Iterador, que significa que cuando lo llamemos con la funcion\n",
    "next() arrojara los elementos como si corrieramos un for.\n",
    "\n",
    "Un uso util seria creando secuencias.\n",
    "\n",
    "Un gran uso de la funcion iter() es que nos permite tener un codigo mas limpio y eficiente, puesto que \n",
    "no es necesario dejar especificado un for para realizar acciones ciclicas,"
   ]
  },
  {
   "cell_type": "code",
   "execution_count": 77,
   "metadata": {},
   "outputs": [
    {
     "name": "stdout",
     "output_type": "stream",
     "text": [
      "0\n",
      "1\n",
      "2\n"
     ]
    }
   ],
   "source": [
    "Iterador = iter(range(3))\n",
    "print(next(Iterador))\n",
    "print(next(Iterador))\n",
    "print(next(Iterador))"
   ]
  },
  {
   "cell_type": "markdown",
   "metadata": {},
   "source": [
    "Los iteradores en todo momento los hemos tenido presentes.\n",
    "\n",
    "Por ejemplo, las funciones list() y sum() devuelven una lista y la suma de elementos, respectivamente."
   ]
  },
  {
   "cell_type": "code",
   "execution_count": 78,
   "metadata": {},
   "outputs": [
    {
     "name": "stdout",
     "output_type": "stream",
     "text": [
      "range(10, 21)\n",
      "[10, 11, 12, 13, 14, 15, 16, 17, 18, 19, 20]\n",
      "165\n"
     ]
    }
   ],
   "source": [
    "valores = range(10,21)\n",
    "print(valores)\n",
    "valores_lista = list(valores)\n",
    "print(valores_lista)\n",
    "valores_suma = sum(valores)\n",
    "print(valores_suma)"
   ]
  },
  {
   "cell_type": "markdown",
   "metadata": {},
   "source": [
    "¿Nos preguntamos como es que fuciona un iterador internamente para procudir la secuencia cuando se le pregunta?\n",
    "\n",
    "Construyendo un iterador que devuelva una serie de numeros."
   ]
  },
  {
   "cell_type": "code",
   "execution_count": 153,
   "metadata": {},
   "outputs": [
    {
     "data": {
      "text/plain": [
       "[0, 1, 2, 3, 4, 5, 6, 7, 8, 9, 10]"
      ]
     },
     "execution_count": 153,
     "metadata": {},
     "output_type": "execute_result"
    }
   ],
   "source": [
    "#La forma facil de ver un iterable\n",
    "[i for i in range(0,11)]"
   ]
  },
  {
   "cell_type": "code",
   "execution_count": 154,
   "metadata": {},
   "outputs": [
    {
     "name": "stdout",
     "output_type": "stream",
     "text": [
      "[1, 2, 3, 4, 5, 6, 7, 8, 9, 10]\n"
     ]
    }
   ],
   "source": [
    "#Parte interna de un Iterable\n",
    "class Series(object):\n",
    "    def __init__(self, low, high):\n",
    "        self.current = low\n",
    "        self.high = high\n",
    "\n",
    "    def __iter__(self):\n",
    "        return self\n",
    "\n",
    "    def __next__(self):\n",
    "        if self.current > self.high:\n",
    "            raise StopIteration\n",
    "        else:\n",
    "            self.current += 1\n",
    "            return self.current - 1\n",
    "\n",
    "n_list = Series(1,10)    \n",
    "print(list(n_list))"
   ]
  },
  {
   "cell_type": "markdown",
   "metadata": {},
   "source": [
    "__iter__  devuelve el objeto iterador en sí y el __next__  método devuelve el siguiente valor del iterador.\n",
    "\n",
    "Si no hay más elementos para devolver, se genera una StopIterationexcepción.\n",
    "\n",
    "Está perfectamente bien si no podemos escribir el código de un iterador en este momento,\n",
    "\n",
    "pero es importante que aprendamos el concepto básico detrás de él.\n",
    "\n",
    "Veremos generadores más adelante, que es una forma mucho más fácil de implementar iteradores.\n"
   ]
  },
  {
   "cell_type": "markdown",
   "metadata": {},
   "source": [
    "# Contenedores"
   ]
  },
  {
   "cell_type": "markdown",
   "metadata": {},
   "source": [
    "Los contenedores son los objetos que tienen valores de datos.\n",
    "\n",
    "Son compatibles con las pruebas de membresía, lo que significa se verifica si existe un valor en el contenedor.\n",
    "\n",
    "Los contenedores son iterables: las listas, los conjuntos, el diccionario, la tupla y las cadenas son todos contenedores. Pero también hay otros iterables, como los archivos abiertos y los sockets abiertos."
   ]
  },
  {
   "cell_type": "code",
   "execution_count": 80,
   "metadata": {},
   "outputs": [
    {
     "name": "stdout",
     "output_type": "stream",
     "text": [
      "List\n",
      "Tuple\n",
      "String\n"
     ]
    }
   ],
   "source": [
    "if 1 in [1,2,3]:\n",
    "    print('List')\n",
    "\n",
    "if 4 not in {1,2,3}:\n",
    "    print('Tuple')\n",
    "\n",
    "if 'apple' in 'pineapple':\n",
    "    print('String') "
   ]
  },
  {
   "cell_type": "markdown",
   "metadata": {},
   "source": [
    "# Modulo Itertools"
   ]
  },
  {
   "cell_type": "markdown",
   "metadata": {},
   "source": [
    "Itertools es un módulo de Python incorporado que contiene funciones para crear iteradores para un bucle eficiente.\n",
    "\n",
    "En resumen, ¡ofrece muchas herramientas interesantes para trabajar con iteradores!\n",
    "\n",
    "Algunos siguen proporcionando valores para un rango infinito, por lo tanto, solo se debe acceder mediante funciones o bucles que de hecho dejan de llamar para obtener más valores.\n",
    "\n",
    "Vamos a ver algunas cosas interesantes que puedes hacer con la count función del itertoolsmódulo:"
   ]
  },
  {
   "cell_type": "code",
   "execution_count": 1,
   "metadata": {},
   "outputs": [
    {
     "name": "stdout",
     "output_type": "stream",
     "text": [
      "1\n",
      "3\n",
      "5\n",
      "7\n",
      "9\n",
      "11\n"
     ]
    }
   ],
   "source": [
    "from itertools import count\n",
    "\n",
    "sequence = count(start=0, step=1) #Comienza la secuencia en 0 \n",
    "\n",
    "while(next(sequence) <= 10): #Cada que le aplicamos la funcion next() incrementamos en 1 la secuencia comienza en 0,2,4,6,8,10\n",
    "    print(next(sequence)) #Como se volvio aplicar next(), se imprime el siguiente valor 1,3,5,7,9,11"
   ]
  },
  {
   "cell_type": "code",
   "execution_count": 2,
   "metadata": {},
   "outputs": [
    {
     "name": "stdout",
     "output_type": "stream",
     "text": [
      "Q. What do we have for dessert? A: Icecream\n",
      "Q. What do we have for dessert? A: Cake\n",
      "Q. What do we have for dessert? A: Icecream\n",
      "Q. What do we have for dessert? A: Cake\n"
     ]
    }
   ],
   "source": [
    "from itertools import cycle\n",
    "dessert = cycle(['Icecream','Cake']) #Funcion cycle convierte la lista en iterador\n",
    "count = 0\n",
    "while(count != 4): #Nos detenemos cuando la condicion sea Falsa count == 4\n",
    "    print('Q. What do we have for dessert? A: ' + next(dessert)) #Se imprime un elemento de dessert\n",
    "    count+=1"
   ]
  },
  {
   "cell_type": "markdown",
   "metadata": {},
   "source": [
    "# Importando una base lista para iterar"
   ]
  },
  {
   "cell_type": "code",
   "execution_count": 156,
   "metadata": {},
   "outputs": [
    {
     "name": "stdout",
     "output_type": "stream",
     "text": [
      "<pandas.io.parsers.TextFileReader object at 0x000001FB37DB07F0>\n"
     ]
    }
   ],
   "source": [
    "import pandas as pd\n",
    "#El parametro chunksize Devuelve el objeto para iteracion.\n",
    "#Base de datos mtcars traida de una url dl github a una ruta local.\n",
    "datos = pd.read_csv(\"C:/Users/Finanzas/Documents/GitHub/Lecciones-python/mtcars.csv\",chunksize = 10) \n",
    "print(datos)"
   ]
  },
  {
   "cell_type": "code",
   "execution_count": 157,
   "metadata": {},
   "outputs": [
    {
     "name": "stdout",
     "output_type": "stream",
     "text": [
      "{6: 7, 4: 11, 8: 14}\n"
     ]
    }
   ],
   "source": [
    "#Se puede iterar el objeto datos, gracias al argumento chunksize\n",
    "conteo_diccionario = {}\n",
    "\n",
    "for x in datos :\n",
    "    for y in x['cyl']:\n",
    "        if y in conteo_diccionario.keys():\n",
    "            conteo_diccionario[y] += 1\n",
    "        else:\n",
    "            conteo_diccionario[y] = 1\n",
    "                \n",
    "print(conteo_diccionario)"
   ]
  },
  {
   "cell_type": "markdown",
   "metadata": {},
   "source": [
    "Incorporando los dos ejemplos anteriores, cramos una funcion que solo coloquemos la ruta del archivo, los elementos que deseamos trabajar\n",
    "y la columna en la que deseamos contar"
   ]
  },
  {
   "cell_type": "code",
   "execution_count": 160,
   "metadata": {},
   "outputs": [],
   "source": [
    "def count_entries(csv_file, c_size, colname):\n",
    "    \"\"\"Return a dictionary with counts of\n",
    "    occurrences as value for each key.\"\"\"\n",
    "    \n",
    "    # Initialize an empty dictionary: counts_dict\n",
    "    counts_dict = {}\n",
    "\n",
    "    # Iterate over the file chunk by chunk\n",
    "    for chunk in pd.read_csv(csv_file, chunksize=c_size):\n",
    "\n",
    "        # Iterate over the column in DataFrame\n",
    "        for entry in chunk[colname]:\n",
    "            if entry in counts_dict.keys():\n",
    "                counts_dict[entry] += 1\n",
    "            else:\n",
    "                counts_dict[entry] = 1\n",
    "\n",
    "    # Return counts_dict\n",
    "    return counts_dict"
   ]
  },
  {
   "cell_type": "code",
   "execution_count": 161,
   "metadata": {},
   "outputs": [
    {
     "data": {
      "text/plain": [
       "{1: 13, 0: 19}"
      ]
     },
     "execution_count": 161,
     "metadata": {},
     "output_type": "execute_result"
    }
   ],
   "source": [
    "count_entries(\"C:/Users/Finanzas/Documents/GitHub/Lecciones-python/mtcars.csv\",10,'am')"
   ]
  },
  {
   "cell_type": "markdown",
   "metadata": {},
   "source": [
    "# Funciones enumerate() y zip()"
   ]
  },
  {
   "cell_type": "markdown",
   "metadata": {},
   "source": [
    "Otra funcion util es enumerate() devuelve un enumerate objeto que produce una secuencia de tuplas, y cada una de las tuplas es un par índice-valor ."
   ]
  },
  {
   "cell_type": "code",
   "execution_count": 162,
   "metadata": {},
   "outputs": [
    {
     "name": "stdout",
     "output_type": "stream",
     "text": [
      "[(0, 'charles xavier'), (1, 'bobby drake'), (2, 'kurt wagner'), (3, 'max eisenhardt'), (4, 'kitty pride')]\n"
     ]
    }
   ],
   "source": [
    "# Creacion de la lista mutants\n",
    "mutants = ['charles xavier', \n",
    "            'bobby drake', \n",
    "            'kurt wagner', \n",
    "            'max eisenhardt', \n",
    "            'kitty pride']\n",
    "\n",
    "# Creacion de la lista con tuplas.\n",
    "mutant_list = list(enumerate(mutants))\n",
    "\n",
    "print(mutant_list)\n"
   ]
  },
  {
   "cell_type": "markdown",
   "metadata": {},
   "source": [
    "Se genero la variable Index1 en la lista mutants al momento de enumerar los registros, corremos un for."
   ]
  },
  {
   "cell_type": "code",
   "execution_count": 88,
   "metadata": {},
   "outputs": [
    {
     "name": "stdout",
     "output_type": "stream",
     "text": [
      "0 charles xavier\n",
      "1 bobby drake\n",
      "2 kurt wagner\n",
      "3 max eisenhardt\n",
      "4 kitty pride\n"
     ]
    }
   ],
   "source": [
    "for index1, value1 in enumerate(mutants):\n",
    "    print(index1, value1)"
   ]
  },
  {
   "cell_type": "markdown",
   "metadata": {},
   "source": [
    "Podemos modificar el parametro de la funcion enumerate para que la indexacion comienze en 1."
   ]
  },
  {
   "cell_type": "code",
   "execution_count": 89,
   "metadata": {},
   "outputs": [
    {
     "name": "stdout",
     "output_type": "stream",
     "text": [
      "1 charles xavier\n",
      "2 bobby drake\n",
      "3 kurt wagner\n",
      "4 max eisenhardt\n",
      "5 kitty pride\n"
     ]
    }
   ],
   "source": [
    "for index2, value2 in enumerate(mutants, start=1):\n",
    "    print(index2, value2)"
   ]
  },
  {
   "cell_type": "markdown",
   "metadata": {},
   "source": [
    "zip() Unifica y agrupas las listas.\n",
    "\n",
    "zip() que toma cualquier número de iterables y devuelve un zip objeto que es un iterador de tuplas.\n",
    "\n",
    "Si desea imprimir los valores de un zip objeto, puede convertirlo en una lista y luego imprimirlo.\n",
    "\n",
    "Imprimir solo un zip objeto no devolverá los valores a menos que lo desempaquete primero."
   ]
  },
  {
   "cell_type": "code",
   "execution_count": 6,
   "metadata": {
    "scrolled": true
   },
   "outputs": [
    {
     "name": "stdout",
     "output_type": "stream",
     "text": [
      "[('charles xavier', 'profesor x', 'telepathy'), ('bobby drake', 'iceman', 'thermokinesis'), ('kurt wagner', 'nightcrawler', 'teleportation'), ('max eisenhardt', 'magneto', 'magnetokinesis'), ('kitty pride', 'shadowcat', 'intangibility')]\n"
     ]
    }
   ],
   "source": [
    "alias = ['profesor x','iceman','nightcrawler','magneto','shadowcat']\n",
    "poderes = ['telepathy','thermokinesis','teleportation','magnetokinesis','intangibility']\n",
    "\n",
    "# Uniendo 3 listas con la funcion zip()\n",
    "mutant_data = list(zip(mutants, alias, poderes))\n",
    "\n",
    "print(mutant_data)"
   ]
  },
  {
   "cell_type": "markdown",
   "metadata": {},
   "source": [
    "Otra forma de agrupar todo con la funcion zip()."
   ]
  },
  {
   "cell_type": "code",
   "execution_count": 91,
   "metadata": {},
   "outputs": [
    {
     "name": "stdout",
     "output_type": "stream",
     "text": [
      "<zip object at 0x0000021A53574B08>\n"
     ]
    }
   ],
   "source": [
    "mutant_zip = zip(mutants, alias, poderes)\n",
    "\n",
    "print(mutant_zip)"
   ]
  },
  {
   "cell_type": "markdown",
   "metadata": {},
   "source": [
    "Corremos un for para ver la agrupacion."
   ]
  },
  {
   "cell_type": "code",
   "execution_count": 92,
   "metadata": {},
   "outputs": [
    {
     "name": "stdout",
     "output_type": "stream",
     "text": [
      "charles xavier profesor x telepathy\n",
      "bobby drake iceman thermokinesis\n",
      "kurt wagner nightcrawler teleportation\n",
      "max eisenhardt magneto magnetokinesis\n",
      "kitty pride shadowcat intangibility\n"
     ]
    }
   ],
   "source": [
    "for value1, value2, value3 in mutant_zip:\n",
    "    print(value1, value2, value3)"
   ]
  },
  {
   "cell_type": "markdown",
   "metadata": {},
   "source": [
    "Juguemos con zip() un poco más.\n",
    "\n",
    "No hay función de descompresión para hacer lo contrario de lo que zip() hace.\n",
    "\n",
    "Sin embargo, podemos revertir lo que se ha zip usando zip() junto con una pequeña ayuda *! * desempaqueta un iterable como una\n",
    "\n",
    "lista o una tupla en argumentos posicionales en una llamada a función."
   ]
  },
  {
   "cell_type": "code",
   "execution_count": 93,
   "metadata": {},
   "outputs": [
    {
     "name": "stdout",
     "output_type": "stream",
     "text": [
      "('charles xavier', 'telepathy') ('bobby drake', 'thermokinesis') ('kurt wagner', 'teleportation') ('max eisenhardt', 'magnetokinesis') ('kitty pride', 'intangibility')\n"
     ]
    }
   ],
   "source": [
    "z1 = zip(mutants, poderes)\n",
    "\n",
    "# Separamos los elementos de zip con *\n",
    "print(*z1)"
   ]
  },
  {
   "cell_type": "code",
   "execution_count": 94,
   "metadata": {},
   "outputs": [
    {
     "name": "stdout",
     "output_type": "stream",
     "text": [
      "False\n",
      "False\n",
      "<class 'tuple'>\n",
      "<class 'list'>\n"
     ]
    }
   ],
   "source": [
    "# Unimos dos listas\n",
    "z1 = zip(mutants, poderes)\n",
    "\n",
    "# Separamos las listas que acabamos de unir y cada una la guardamos en dos varibles distintas\n",
    "result1, result2 = zip(*z1)\n",
    "\n",
    "# Vemos que no son iguales pasamos de tener listas a tuplas.\n",
    "print(result1 == mutants)\n",
    "print(result2 == poderes)\n",
    "print(type(result1))\n",
    "print(type(mutants))\n"
   ]
  },
  {
   "cell_type": "markdown",
   "metadata": {},
   "source": [
    "# Segunda Parte: Listas Comprension y Generadoras"
   ]
  },
  {
   "cell_type": "markdown",
   "metadata": {},
   "source": [
    "Las listas de Comprension, son listas en las que podemos escribir un for de manera simplificada."
   ]
  },
  {
   "cell_type": "code",
   "execution_count": 95,
   "metadata": {},
   "outputs": [
    {
     "name": "stdout",
     "output_type": "stream",
     "text": [
      "[11, 21, 31, 41, 51, 61]\n"
     ]
    }
   ],
   "source": [
    "#Completando la lista con un bucle for:\n",
    "numeros = [10,20,30,40,50,60]\n",
    "nuevos_numeros = []\n",
    "\n",
    "for numeros in numeros:\n",
    "    nuevos_numeros.append(numeros + 1)\n",
    "\n",
    "print(nuevos_numeros)"
   ]
  },
  {
   "cell_type": "code",
   "execution_count": 96,
   "metadata": {},
   "outputs": [
    {
     "name": "stdout",
     "output_type": "stream",
     "text": [
      "[11, 21, 31, 41, 51, 61]\n"
     ]
    }
   ],
   "source": [
    "#Completando la misma lista con una lista de comprension\n",
    "numeros = [10,20,30,40,50,60]\n",
    "nuevos_numeros = [(num + 1) for num in numeros]\n",
    "print(nuevos_numeros)"
   ]
  },
  {
   "cell_type": "code",
   "execution_count": 97,
   "metadata": {},
   "outputs": [
    {
     "name": "stdout",
     "output_type": "stream",
     "text": [
      "[0, 1, 2, 3, 4, 5, 6, 7, 8, 9, 10]\n"
     ]
    }
   ],
   "source": [
    "#Otro ejemplo de lista de comprension\n",
    "secuencias = [num for num in range(11)]\n",
    "print(secuencias)"
   ]
  },
  {
   "cell_type": "markdown",
   "metadata": {},
   "source": [
    "Mas sobre listas de Comprension.\n",
    "\n",
    "Contraer bucles para compilar listas en una sola linea.\n",
    "\n",
    "Listas de Comprension se pueden construir sobre objetos Iterables.\n",
    "\n",
    "Componentes;\n",
    "\n",
    "    -Tienen estructura de un Iterable\n",
    "    -Cuentan con variables Iteradoras\n",
    "    -Necesitamos definir una expresion de salida\n"
   ]
  },
  {
   "cell_type": "code",
   "execution_count": 98,
   "metadata": {},
   "outputs": [
    {
     "name": "stdout",
     "output_type": "stream",
     "text": [
      "[(0, 6), (0, 7), (1, 6), (1, 7)]\n"
     ]
    }
   ],
   "source": [
    "#En el siguiente ejemplo, correremos dos for de manera \"tradicional\"\n",
    "pairs_1 = []\n",
    "for num1 in range(0,2):\n",
    "    for num2 in range(6,8):\n",
    "        pairs_1.append((num1,num2))\n",
    "print(pairs_1)"
   ]
  },
  {
   "cell_type": "code",
   "execution_count": 99,
   "metadata": {},
   "outputs": [
    {
     "name": "stdout",
     "output_type": "stream",
     "text": [
      "[(0, 6), (0, 7), (1, 6), (1, 7)]\n"
     ]
    }
   ],
   "source": [
    "#Generando la misma lista con una lista de comprension\n",
    "pairs_1 = [(num1, num2) for num1 in range(0, 2) for num2 in range(6, 8)]\n",
    "print(pairs_1)"
   ]
  },
  {
   "cell_type": "code",
   "execution_count": 100,
   "metadata": {},
   "outputs": [
    {
     "data": {
      "text/plain": [
       "[0, 1, 4, 9, 16, 25, 36, 49, 64, 81]"
      ]
     },
     "execution_count": 100,
     "metadata": {},
     "output_type": "execute_result"
    }
   ],
   "source": [
    "#Otro ejemplo para listas de Comprension\n",
    "cuadrados = [(i**2) for i in range(0,10)]\n",
    "cuadrados"
   ]
  },
  {
   "cell_type": "markdown",
   "metadata": {},
   "source": [
    "Podemos anhidar en las listas de comprension, en el siguiente ejemplo la primera parte del codigo\n",
    "se genera una lista del 0 a 4 y luego esa misma lista se creara 5 veces."
   ]
  },
  {
   "cell_type": "code",
   "execution_count": 101,
   "metadata": {},
   "outputs": [
    {
     "name": "stdout",
     "output_type": "stream",
     "text": [
      "[[0, 1, 2, 3, 4], [0, 1, 2, 3, 4], [0, 1, 2, 3, 4], [0, 1, 2, 3, 4], [0, 1, 2, 3, 4]]\n",
      "[0, 1, 2, 3, 4]\n",
      "[0, 1, 2, 3, 4]\n",
      "[0, 1, 2, 3, 4]\n",
      "[0, 1, 2, 3, 4]\n",
      "[0, 1, 2, 3, 4]\n"
     ]
    }
   ],
   "source": [
    "matriz = [[col for col in range(5)] for row in range(5)]\n",
    "\n",
    "print(matriz)\n",
    "\n",
    "for row in matriz:\n",
    "    print(row)"
   ]
  },
  {
   "cell_type": "markdown",
   "metadata": {},
   "source": [
    "Tambien podemos colocar condicionales dentro de nuestras listas de Comprension."
   ]
  },
  {
   "cell_type": "code",
   "execution_count": 102,
   "metadata": {},
   "outputs": [
    {
     "name": "stdout",
     "output_type": "stream",
     "text": [
      "['charles xavier', 'bobby drake', 'kurt wagner', 'max eisenhardt', 'kitty pride']\n",
      "['charles xavier', 'max eisenhardt']\n"
     ]
    }
   ],
   "source": [
    "print(mutants)\n",
    "#Solicitaremos que solo se muestren los nombres que tienen mas de 14 caracteres\n",
    "nuevos = [miembro for miembro in mutants if len(miembro) >= 14]\n",
    "\n",
    "print(nuevos)"
   ]
  },
  {
   "cell_type": "markdown",
   "metadata": {},
   "source": [
    "Cambiemos un poco el orden en que escribimos el condicional y agreguemos un else"
   ]
  },
  {
   "cell_type": "code",
   "execution_count": 103,
   "metadata": {},
   "outputs": [
    {
     "name": "stdout",
     "output_type": "stream",
     "text": [
      "['charles xavier', '', '', 'max eisenhardt', '']\n"
     ]
    }
   ],
   "source": [
    "#Misma condicion,pero en vez de borara los elementos que no cumplen se sustituyen por ''\n",
    "nuevos = [miembro if len(miembro) >= 14 else '' for miembro in mutants]\n",
    "print(nuevos)"
   ]
  },
  {
   "cell_type": "markdown",
   "metadata": {},
   "source": [
    "Tambien existen los Diccionarios de Comprension"
   ]
  },
  {
   "cell_type": "code",
   "execution_count": 104,
   "metadata": {},
   "outputs": [
    {
     "name": "stdout",
     "output_type": "stream",
     "text": [
      "{'charles xavier': 14, 'bobby drake': 11, 'kurt wagner': 11, 'max eisenhardt': 14, 'kitty pride': 11}\n"
     ]
    }
   ],
   "source": [
    "nuevos = {miembro:len(miembro) for miembro in mutants}\n",
    "print(nuevos)"
   ]
  },
  {
   "cell_type": "markdown",
   "metadata": {},
   "source": [
    "# Expresiones Generadoras"
   ]
  },
  {
   "cell_type": "markdown",
   "metadata": {},
   "source": [
    "Diferencias;\n",
    "\n",
    "    -Tienen la misma que las listas de comprension pero se escriben con ()\n",
    "    -Las listas de comprension regresan una lista\n",
    "    -Las Generadoras regresan un objeto generador\n",
    "    -Ambas pueden iterarse\n",
    "    -Listas Generadoras permiten trabajar con grandes datos y operaciones ya que la info no se guarda en memoria."
   ]
  },
  {
   "cell_type": "code",
   "execution_count": 105,
   "metadata": {},
   "outputs": [
    {
     "data": {
      "text/plain": [
       "[0, 2, 4, 6, 8, 10, 12, 14, 16, 18]"
      ]
     },
     "execution_count": 105,
     "metadata": {},
     "output_type": "execute_result"
    }
   ],
   "source": [
    "#Lista Comprension\n",
    "[x * 2 for x in range(10)]"
   ]
  },
  {
   "cell_type": "code",
   "execution_count": 106,
   "metadata": {},
   "outputs": [
    {
     "data": {
      "text/plain": [
       "<generator object <genexpr> at 0x0000021A5355B570>"
      ]
     },
     "execution_count": 106,
     "metadata": {},
     "output_type": "execute_result"
    }
   ],
   "source": [
    "#Lista Generadora\n",
    "(x * 2 for x in range(10))"
   ]
  },
  {
   "cell_type": "markdown",
   "metadata": {},
   "source": [
    "Podemos ver que los resultados son diferentes."
   ]
  },
  {
   "cell_type": "code",
   "execution_count": 107,
   "metadata": {},
   "outputs": [
    {
     "name": "stdout",
     "output_type": "stream",
     "text": [
      "0\n",
      "2\n",
      "4\n",
      "6\n",
      "8\n",
      "10\n",
      "12\n",
      "14\n",
      "16\n",
      "18\n"
     ]
    }
   ],
   "source": [
    "#Para imprimir los resultados de una lista generadora\n",
    "Generador = (x * 2 for x in range(10))\n",
    "\n",
    "for num in Generador:\n",
    "    print(num)"
   ]
  },
  {
   "cell_type": "markdown",
   "metadata": {},
   "source": [
    "En los generadores se arroja elemento por elemento, se pueden guardar los valores en una lista."
   ]
  },
  {
   "cell_type": "code",
   "execution_count": 108,
   "metadata": {},
   "outputs": [
    {
     "data": {
      "text/plain": [
       "[0, 2, 4, 6, 8, 10, 12, 14, 16, 18]"
      ]
     },
     "execution_count": 108,
     "metadata": {},
     "output_type": "execute_result"
    }
   ],
   "source": [
    "Generador = (x * 2 for x in range(10))\n",
    "list(Generador)"
   ]
  },
  {
   "cell_type": "markdown",
   "metadata": {},
   "source": [
    "Un buen ejemplo para demostrar la gran diferencia entre listas de Comprension y Generadoras es el siguiente:\n",
    "\n",
    "Intetaremos crear una lista con 10**1000000 elementos, suena a que una computadora colapsaria."
   ]
  },
  {
   "cell_type": "code",
   "execution_count": 109,
   "metadata": {
    "collapsed": true,
    "jupyter": {
     "outputs_hidden": true
    }
   },
   "outputs": [],
   "source": [
    "#En el caso de una lista de comprension no es posible correr el codigo\n",
    "#Ya que necesitamos mucha memoria y la maquina nos marca un error o colapsa.\n",
    "#[num for num in range(10*1000000)]"
   ]
  },
  {
   "cell_type": "code",
   "execution_count": 110,
   "metadata": {},
   "outputs": [
    {
     "name": "stdout",
     "output_type": "stream",
     "text": [
      "0\n",
      "1\n",
      "2\n",
      "3\n",
      "4\n",
      "5\n"
     ]
    }
   ],
   "source": [
    "#En el caso de una lista Generadora si es posible\n",
    "#Ya que el objeto que arroja es un iterador y no ocupa espacio en la memoria\n",
    "a = (num for num in range(10**1000000))\n",
    "print(next(a))\n",
    "print(next(a))\n",
    "print(next(a))\n",
    "print(next(a))\n",
    "print(next(a))\n",
    "print(next(a))"
   ]
  },
  {
   "cell_type": "markdown",
   "metadata": {},
   "source": [
    "Aplicacion de funciones en listas generadoras."
   ]
  },
  {
   "cell_type": "code",
   "execution_count": 1,
   "metadata": {},
   "outputs": [
    {
     "name": "stdout",
     "output_type": "stream",
     "text": [
      "6\n",
      "5\n",
      "5\n",
      "6\n",
      "7\n"
     ]
    }
   ],
   "source": [
    "#Se va guardando el valor sobre cada elemento y no se guarda en memoria hasta que se imprime.\n",
    "lannister = ['cersei','jaime','tywin','tyrion','joffrey']\n",
    "\n",
    "longitud = (len(persona) for persona in lannister)\n",
    "\n",
    "for valor in longitud:\n",
    "    print(valor)"
   ]
  },
  {
   "cell_type": "markdown",
   "metadata": {},
   "source": [
    "En ejemplos anteriores, nos hemos ocupado principalmente de escribir expresiones generadoras, que usan sintaxis de comprensión.\n",
    "\n",
    "¡Poder usar la sintaxis de comprensión para las expresiones del generador hizo el trabajo mucho más fácil!\n",
    "\n",
    "Ahora no solo hay expresiones de generador, también hay funciones de generador.\n",
    "\n",
    "Las funciones del generador son funciones que, al igual que las expresiones generadoras,\n",
    "\n",
    "producen una serie de valores, en lugar de devolver un solo valor.\n",
    "\n",
    "Una función de generador se define como una función normal, pero cada vez que genera un valor,\n",
    "\n",
    "utiliza la palabra clave en yield en lugar de return."
   ]
  },
  {
   "cell_type": "code",
   "execution_count": 112,
   "metadata": {
    "collapsed": true,
    "jupyter": {
     "outputs_hidden": true
    }
   },
   "outputs": [],
   "source": [
    "#Ejemplo; Funcion Generadora (en vez de escribir return para devolver un valor se coloca yield)\n",
    "lannister = ['cersei','jaime','tywin','tyrion','joffrey']\n",
    "\n",
    "def generador_longitud(lista_entrada):\n",
    "    \n",
    "    for persona in lista_entrada:\n",
    "        yield len(persona)"
   ]
  },
  {
   "cell_type": "code",
   "execution_count": 113,
   "metadata": {},
   "outputs": [
    {
     "name": "stdout",
     "output_type": "stream",
     "text": [
      "6\n",
      "5\n",
      "5\n",
      "6\n",
      "7\n"
     ]
    }
   ],
   "source": [
    "#Imprimimos los valors de nuestra funcion generadora\n",
    "for valores in generador_longitud(lannister):\n",
    "    print(valores)"
   ]
  },
  {
   "cell_type": "markdown",
   "metadata": {},
   "source": [
    "# Unificando Todo"
   ]
  },
  {
   "cell_type": "markdown",
   "metadata": {},
   "source": [
    "En esta seccion veremos crearemos distintas funciones, en las que el motor son los objetos iterables,funciones como zip,\n",
    "objetos generadores y todo lo que vimos anteriormente."
   ]
  },
  {
   "cell_type": "markdown",
   "metadata": {},
   "source": [
    "# Funcion que une listas en diccionarios."
   ]
  },
  {
   "cell_type": "code",
   "execution_count": 7,
   "metadata": {},
   "outputs": [
    {
     "name": "stdout",
     "output_type": "stream",
     "text": [
      "{'charles xavier': 'profesor x', 'bobby drake': 'iceman', 'kurt wagner': 'nightcrawler', 'max eisenhardt': 'magneto', 'kitty pride': 'shadowcat'}\n"
     ]
    }
   ],
   "source": [
    "#Reunimos un grupo de listas para almacenarlas en un diccionario\n",
    "z_lista = zip(mutants,alias)\n",
    "z_dict = dict(z_lista)\n",
    "print(z_dict)"
   ]
  },
  {
   "cell_type": "markdown",
   "metadata": {},
   "source": [
    " Para no tener que escribir el codigo anterior cada que queramos unir dos listas, definimos una funcion."
   ]
  },
  {
   "cell_type": "code",
   "execution_count": 8,
   "metadata": {},
   "outputs": [
    {
     "name": "stdout",
     "output_type": "stream",
     "text": [
      "{'charles xavier': 'profesor x', 'bobby drake': 'iceman', 'kurt wagner': 'nightcrawler', 'max eisenhardt': 'magneto', 'kitty pride': 'shadowcat'}\n"
     ]
    }
   ],
   "source": [
    "# Definimos lists2dict()\n",
    "def lists2dict(list1, list2):\n",
    "    \"\"\"list1 devuelve las llaves y list2 los elementos\"\"\"\n",
    "\n",
    "    # Unimos con la funcion zip()\n",
    "    zipped_lists = zip(list1, list2)\n",
    "\n",
    "    # Lo volvemos diccionario\n",
    "    rs_dict = dict(zipped_lists)\n",
    "\n",
    "    return rs_dict\n",
    "\n",
    "rs_fxn = lists2dict(mutants,alias)\n",
    "\n",
    "print(rs_fxn)"
   ]
  },
  {
   "cell_type": "markdown",
   "metadata": {},
   "source": [
    "# Funcion que cuenta los distintos registro por medio de generadores"
   ]
  },
  {
   "cell_type": "markdown",
   "metadata": {},
   "source": [
    "Antes de trabajar con DataFrames es util conocer como se estructuraria el dataFrame por medio de listas.\n",
    "\n",
    "Para esto crearemos un diccionario por medio de lista de comprension"
   ]
  },
  {
   "cell_type": "code",
   "execution_count": 16,
   "metadata": {},
   "outputs": [
    {
     "data": {
      "text/html": [
       "<div>\n",
       "<style scoped>\n",
       "    .dataframe tbody tr th:only-of-type {\n",
       "        vertical-align: middle;\n",
       "    }\n",
       "\n",
       "    .dataframe tbody tr th {\n",
       "        vertical-align: top;\n",
       "    }\n",
       "\n",
       "    .dataframe thead th {\n",
       "        text-align: right;\n",
       "    }\n",
       "</style>\n",
       "<table border=\"1\" class=\"dataframe\">\n",
       "  <thead>\n",
       "    <tr style=\"text-align: right;\">\n",
       "      <th></th>\n",
       "      <th>alias</th>\n",
       "      <th>mutante</th>\n",
       "      <th>poder</th>\n",
       "    </tr>\n",
       "  </thead>\n",
       "  <tbody>\n",
       "    <tr>\n",
       "      <th>0</th>\n",
       "      <td>profesor x</td>\n",
       "      <td>charles xavier</td>\n",
       "      <td>telepathy</td>\n",
       "    </tr>\n",
       "    <tr>\n",
       "      <th>1</th>\n",
       "      <td>iceman</td>\n",
       "      <td>bobby drake</td>\n",
       "      <td>thermokinesis</td>\n",
       "    </tr>\n",
       "    <tr>\n",
       "      <th>2</th>\n",
       "      <td>nightcrawler</td>\n",
       "      <td>kurt wagner</td>\n",
       "      <td>teleportation</td>\n",
       "    </tr>\n",
       "    <tr>\n",
       "      <th>3</th>\n",
       "      <td>magneto</td>\n",
       "      <td>max eisenhardt</td>\n",
       "      <td>magnetokinesis</td>\n",
       "    </tr>\n",
       "    <tr>\n",
       "      <th>4</th>\n",
       "      <td>shadowcat</td>\n",
       "      <td>kitty pride</td>\n",
       "      <td>intangibility</td>\n",
       "    </tr>\n",
       "  </tbody>\n",
       "</table>\n",
       "</div>"
      ],
      "text/plain": [
       "          alias         mutante           poder\n",
       "0    profesor x  charles xavier       telepathy\n",
       "1        iceman     bobby drake   thermokinesis\n",
       "2  nightcrawler     kurt wagner   teleportation\n",
       "3       magneto  max eisenhardt  magnetokinesis\n",
       "4     shadowcat     kitty pride   intangibility"
      ]
     },
     "execution_count": 16,
     "metadata": {},
     "output_type": "execute_result"
    }
   ],
   "source": [
    "lista = zip(mutants,poderes,alias)\n",
    "columna = ['mutante','poder','alias']\n",
    "test = [lists2dict(columna,sublista) for sublista in lista]\n",
    "test\n",
    "pd.DataFrame(test)"
   ]
  },
  {
   "cell_type": "markdown",
   "metadata": {},
   "source": [
    "Recordemos los objetos Iterables y la velocidad con la que obtenemos respuesta de ellos.\n",
    "\n",
    "En los siguientes ejemplos, veremos como seria la estructura de un DataFrame para ser trabajada como Iterable.\n",
    "\n",
    "Procesamiento de datos fragmentados."
   ]
  },
  {
   "cell_type": "code",
   "execution_count": 61,
   "metadata": {},
   "outputs": [
    {
     "name": "stdout",
     "output_type": "stream",
     "text": [
      "C:\\Users\\Finanzas\\Documents\\GitHub\\Lecciones-Python\n",
      "<_io.TextIOWrapper name='mtcars.csv' mode='r' encoding='cp1252'>\n"
     ]
    }
   ],
   "source": [
    "import os \n",
    "print(os.getcwd()) #Vemos la ruta en la que tenemos el archivo \n",
    "#Con las funciones with open(), Abrimos una conexion con el administrador de contexto.\n",
    "#Su proposito es garantizr que los recursos se asignen eficientemente al abrir la conexion con el archivo.\n",
    "with open('mtcars.csv') as file: \n",
    "    file.readline()\n",
    "    \n",
    "print(file)"
   ]
  },
  {
   "cell_type": "markdown",
   "metadata": {},
   "source": [
    "En el siguiente ejemplo se busca procesar los datos por partes, en caso de tener una gran cantidad de informacion.\n",
    "\n",
    "Se procesa linea por linea para no almacenar la informacion en Memoria.\n",
    "\n",
    "Lo que haremos es ir contanto los registro distintos."
   ]
  },
  {
   "cell_type": "code",
   "execution_count": 79,
   "metadata": {},
   "outputs": [
    {
     "name": "stdout",
     "output_type": "stream",
     "text": [
      "{'\"Mazda RX4\"': 1, '\"Mazda RX4 Wag\"': 1, '\"Datsun 710\"': 1, '\"Hornet 4 Drive\"': 1, '\"Hornet Sportabout\"': 1, '\"Valiant\"': 1, '\"Duster 360\"': 1, '\"Merc 240D\"': 1, '\"Merc 230\"': 1, '\"Merc 280\"': 1}\n"
     ]
    }
   ],
   "source": [
    "#Abre la conexion con el administrador de contexto\n",
    "with open('mtcars.csv') as file:\n",
    "\n",
    "    # Omite el nombre de las Columnas\n",
    "    file.readline()\n",
    "\n",
    "    # Creamos el diccionario\n",
    "    counts_dict = {}\n",
    "\n",
    "    # Procesa las 10 primeras lineas del archivo\n",
    "    for j in range(0,10):\n",
    "\n",
    "        # Fivide la linea actual en una lista\n",
    "        line = file.readline().split(',')\n",
    "\n",
    "        # Obtenemos el valor de la primer columna\n",
    "        first_col = line[0]\n",
    "\n",
    "        # Si el valor de la columa esta en el diccionario incrementamos su valor\n",
    "        if first_col in counts_dict.keys():\n",
    "            counts_dict[first_col] += 1\n",
    "\n",
    "        # En otro caso agregamos el nuevo valor a la columna\n",
    "        else:\n",
    "            counts_dict[first_col] = 1\n",
    "\n",
    "# Print the resulting dictionary\n",
    "print(counts_dict)\n"
   ]
  },
  {
   "cell_type": "markdown",
   "metadata": {},
   "source": [
    "Escribir un generador para cargar los datos a trozos, es un ejercicio para ver el funcionamiento de carga de un arhivo.\n",
    "\n",
    "En el ejemplo anterior se vio como ir leyendo por partes un archivo, per que pasa si queremos leer todo el arhivo.\n",
    "\n",
    "Para esto veremos la estructura de un Iterable y es como ver el motor de la funcion pd.read_csv(\"mtcars.csv\". chunksize=10)."
   ]
  },
  {
   "cell_type": "code",
   "execution_count": 80,
   "metadata": {},
   "outputs": [
    {
     "name": "stdout",
     "output_type": "stream",
     "text": [
      "\"\",\"mpg\",\"cyl\",\"disp\",\"hp\",\"drat\",\"wt\",\"qsec\",\"vs\",\"am\",\"gear\",\"carb\"\n",
      "\n",
      "\"Mazda RX4\",21,6,160,110,3.9,2.62,16.46,0,1,4,4\n",
      "\n",
      "\"Mazda RX4 Wag\",21,6,160,110,3.9,2.875,17.02,0,1,4,4\n",
      "\n"
     ]
    }
   ],
   "source": [
    "# Funcion, que evalua los datos de forma perezosa\n",
    "def read_large_file(file_object):\n",
    "    \"\"\"Una función de generador para leer un archivo grande perezosamente\"\"\"\n",
    "\n",
    "    # Bucle que va hasta el final del archivo\n",
    "    while True:\n",
    "\n",
    "        # Lemos una linea del archivo\n",
    "        data = file_object.readline()\n",
    "\n",
    "        # Rompe si es el final del archivo\n",
    "        if not data:\n",
    "            break\n",
    "\n",
    "        # Yield (Retorna) la linea de datos\n",
    "        yield data\n",
    "        \n",
    "# Abrimos la conexcion del administrador de contexto\n",
    "with open('mtcars.csv') as file:\n",
    "\n",
    "    # Creamos el objeto generador con la funcion que acabamos de definir\n",
    "    gen_file = read_large_file(file)\n",
    "\n",
    "    # Imprimimos el archivo de manera Iterable\n",
    "    print(next(gen_file))\n",
    "    print(next(gen_file))\n",
    "    print(next(gen_file))"
   ]
  },
  {
   "cell_type": "markdown",
   "metadata": {},
   "source": [
    "Combinando los dos ejemplos anteriores ya no seria necesario leer el archivo por partes.\n",
    "\n",
    "Podriamos contar todos los datos de la base, gracias a la funcion que creamos read_large_file()"
   ]
  },
  {
   "cell_type": "code",
   "execution_count": 82,
   "metadata": {},
   "outputs": [
    {
     "name": "stdout",
     "output_type": "stream",
     "text": [
      "{'\"\"': 1, '\"Mazda RX4\"': 1, '\"Mazda RX4 Wag\"': 1, '\"Datsun 710\"': 1, '\"Hornet 4 Drive\"': 1, '\"Hornet Sportabout\"': 1, '\"Valiant\"': 1, '\"Duster 360\"': 1, '\"Merc 240D\"': 1, '\"Merc 230\"': 1, '\"Merc 280\"': 1, '\"Merc 280C\"': 1, '\"Merc 450SE\"': 1, '\"Merc 450SL\"': 1, '\"Merc 450SLC\"': 1, '\"Cadillac Fleetwood\"': 1, '\"Lincoln Continental\"': 1, '\"Chrysler Imperial\"': 1, '\"Fiat 128\"': 1, '\"Honda Civic\"': 1, '\"Toyota Corolla\"': 1, '\"Toyota Corona\"': 1, '\"Dodge Challenger\"': 1, '\"AMC Javelin\"': 1, '\"Camaro Z28\"': 1, '\"Pontiac Firebird\"': 1, '\"Fiat X1-9\"': 1, '\"Porsche 914-2\"': 1, '\"Lotus Europa\"': 1, '\"Ford Pantera L\"': 1, '\"Ferrari Dino\"': 1, '\"Maserati Bora\"': 1, '\"Volvo 142E\"': 1}\n"
     ]
    }
   ],
   "source": [
    "counts_dict = {}\n",
    "\n",
    "with open('mtcars.csv') as file:\n",
    "\n",
    "    for line in read_large_file(file): #Recordemos que esta parte la definiamos con un range() para leer el archivo por partes\n",
    "\n",
    "        row = line.split(',')\n",
    "        first_col = row[0]\n",
    "\n",
    "        if first_col in counts_dict.keys():\n",
    "            counts_dict[first_col] += 1\n",
    "        else:\n",
    "            counts_dict[first_col] = 1\n",
    "\n",
    "print(counts_dict)\n"
   ]
  },
  {
   "cell_type": "markdown",
   "metadata": {},
   "source": [
    "# Funcion para filtrar valores y graficar, por medio de objetos iterables."
   ]
  },
  {
   "cell_type": "markdown",
   "metadata": {},
   "source": [
    "No siempre es necesario cargar los arhivos con tanta dificultad, el paquete pandas ya incluye funciones que \n",
    "\n",
    "devuelven los datos iterables (especificando en chunksize la cantidad de datos que deseamos trabajar)."
   ]
  },
  {
   "cell_type": "code",
   "execution_count": 84,
   "metadata": {},
   "outputs": [
    {
     "name": "stdout",
     "output_type": "stream",
     "text": [
      "      Unnamed: 0   mpg  cyl  disp   hp  drat     wt   qsec  vs  am  gear  carb\n",
      "0      Mazda RX4  21.0    6   160  110  3.90  2.620  16.46   0   1     4     4\n",
      "1  Mazda RX4 Wag  21.0    6   160  110  3.90  2.875  17.02   0   1     4     4\n",
      "2     Datsun 710  22.8    4   108   93  3.85  2.320  18.61   1   1     4     1\n",
      "          Unnamed: 0   mpg  cyl  disp   hp  drat     wt   qsec  vs  am  gear  \\\n",
      "3     Hornet 4 Drive  21.4    6   258  110  3.08  3.215  19.44   1   0     3   \n",
      "4  Hornet Sportabout  18.7    8   360  175  3.15  3.440  17.02   0   0     3   \n",
      "5            Valiant  18.1    6   225  105  2.76  3.460  20.22   1   0     3   \n",
      "\n",
      "   carb  \n",
      "3     1  \n",
      "4     2  \n",
      "5     1  \n"
     ]
    }
   ],
   "source": [
    "import pandas as pd\n",
    "\n",
    "df_reader = pd.read_csv('mtcars.csv', chunksize=3)\n",
    "\n",
    "print(next(df_reader))\n",
    "print(next(df_reader))"
   ]
  },
  {
   "cell_type": "markdown",
   "metadata": {},
   "source": [
    "Haremos el proceso inverso sobre un DataFrame pasando a valores de lista."
   ]
  },
  {
   "cell_type": "code",
   "execution_count": 116,
   "metadata": {},
   "outputs": [
    {
     "name": "stdout",
     "output_type": "stream",
     "text": [
      "[(4, 18.61), (4, 20.0), (4, 22.9), (4, 19.47), (4, 18.52), (4, 19.9), (4, 20.01), (4, 18.9), (4, 16.7), (4, 16.9), (4, 18.6)]\n"
     ]
    }
   ],
   "source": [
    "df_reader = pd.read_csv('mtcars.csv', chunksize=100)\n",
    "base = next(df_reader)\n",
    "filtro = base[base['cyl'] == 4]\n",
    "zip_filtro = zip(filtro.iloc[:,2],filtro.iloc[:,7])\n",
    "lista = list(zip_filtro)\n",
    "print(lista)"
   ]
  },
  {
   "cell_type": "markdown",
   "metadata": {},
   "source": [
    "Crearemos una nueva columna apartir de los valores extraidos de la lista."
   ]
  },
  {
   "cell_type": "code",
   "execution_count": 129,
   "metadata": {},
   "outputs": [
    {
     "name": "stderr",
     "output_type": "stream",
     "text": [
      "C:\\Users\\Finanzas\\Anaconda3\\lib\\site-packages\\ipykernel_launcher.py:1: SettingWithCopyWarning: \n",
      "A value is trying to be set on a copy of a slice from a DataFrame.\n",
      "Try using .loc[row_indexer,col_indexer] = value instead\n",
      "\n",
      "See the caveats in the documentation: http://pandas.pydata.org/pandas-docs/stable/indexing.html#indexing-view-versus-copy\n",
      "  \"\"\"Entry point for launching an IPython kernel.\n"
     ]
    },
    {
     "data": {
      "text/html": [
       "<div>\n",
       "<style scoped>\n",
       "    .dataframe tbody tr th:only-of-type {\n",
       "        vertical-align: middle;\n",
       "    }\n",
       "\n",
       "    .dataframe tbody tr th {\n",
       "        vertical-align: top;\n",
       "    }\n",
       "\n",
       "    .dataframe thead th {\n",
       "        text-align: right;\n",
       "    }\n",
       "</style>\n",
       "<table border=\"1\" class=\"dataframe\">\n",
       "  <thead>\n",
       "    <tr style=\"text-align: right;\">\n",
       "      <th></th>\n",
       "      <th>Unnamed: 0</th>\n",
       "      <th>mpg</th>\n",
       "      <th>cyl</th>\n",
       "      <th>disp</th>\n",
       "      <th>hp</th>\n",
       "      <th>drat</th>\n",
       "      <th>wt</th>\n",
       "      <th>qsec</th>\n",
       "      <th>vs</th>\n",
       "      <th>am</th>\n",
       "      <th>gear</th>\n",
       "      <th>carb</th>\n",
       "      <th>Nueva_Columna</th>\n",
       "    </tr>\n",
       "  </thead>\n",
       "  <tbody>\n",
       "    <tr>\n",
       "      <th>2</th>\n",
       "      <td>Datsun 710</td>\n",
       "      <td>22.8</td>\n",
       "      <td>4</td>\n",
       "      <td>108.0</td>\n",
       "      <td>93</td>\n",
       "      <td>3.85</td>\n",
       "      <td>2.320</td>\n",
       "      <td>18.61</td>\n",
       "      <td>1</td>\n",
       "      <td>1</td>\n",
       "      <td>4</td>\n",
       "      <td>1</td>\n",
       "      <td>744</td>\n",
       "    </tr>\n",
       "    <tr>\n",
       "      <th>7</th>\n",
       "      <td>Merc 240D</td>\n",
       "      <td>24.4</td>\n",
       "      <td>4</td>\n",
       "      <td>146.7</td>\n",
       "      <td>62</td>\n",
       "      <td>3.69</td>\n",
       "      <td>3.190</td>\n",
       "      <td>20.00</td>\n",
       "      <td>1</td>\n",
       "      <td>0</td>\n",
       "      <td>4</td>\n",
       "      <td>2</td>\n",
       "      <td>800</td>\n",
       "    </tr>\n",
       "    <tr>\n",
       "      <th>8</th>\n",
       "      <td>Merc 230</td>\n",
       "      <td>22.8</td>\n",
       "      <td>4</td>\n",
       "      <td>140.8</td>\n",
       "      <td>95</td>\n",
       "      <td>3.92</td>\n",
       "      <td>3.150</td>\n",
       "      <td>22.90</td>\n",
       "      <td>1</td>\n",
       "      <td>0</td>\n",
       "      <td>4</td>\n",
       "      <td>2</td>\n",
       "      <td>916</td>\n",
       "    </tr>\n",
       "    <tr>\n",
       "      <th>17</th>\n",
       "      <td>Fiat 128</td>\n",
       "      <td>32.4</td>\n",
       "      <td>4</td>\n",
       "      <td>78.7</td>\n",
       "      <td>66</td>\n",
       "      <td>4.08</td>\n",
       "      <td>2.200</td>\n",
       "      <td>19.47</td>\n",
       "      <td>1</td>\n",
       "      <td>1</td>\n",
       "      <td>4</td>\n",
       "      <td>1</td>\n",
       "      <td>778</td>\n",
       "    </tr>\n",
       "    <tr>\n",
       "      <th>18</th>\n",
       "      <td>Honda Civic</td>\n",
       "      <td>30.4</td>\n",
       "      <td>4</td>\n",
       "      <td>75.7</td>\n",
       "      <td>52</td>\n",
       "      <td>4.93</td>\n",
       "      <td>1.615</td>\n",
       "      <td>18.52</td>\n",
       "      <td>1</td>\n",
       "      <td>1</td>\n",
       "      <td>4</td>\n",
       "      <td>2</td>\n",
       "      <td>740</td>\n",
       "    </tr>\n",
       "    <tr>\n",
       "      <th>19</th>\n",
       "      <td>Toyota Corolla</td>\n",
       "      <td>33.9</td>\n",
       "      <td>4</td>\n",
       "      <td>71.1</td>\n",
       "      <td>65</td>\n",
       "      <td>4.22</td>\n",
       "      <td>1.835</td>\n",
       "      <td>19.90</td>\n",
       "      <td>1</td>\n",
       "      <td>1</td>\n",
       "      <td>4</td>\n",
       "      <td>1</td>\n",
       "      <td>796</td>\n",
       "    </tr>\n",
       "    <tr>\n",
       "      <th>20</th>\n",
       "      <td>Toyota Corona</td>\n",
       "      <td>21.5</td>\n",
       "      <td>4</td>\n",
       "      <td>120.1</td>\n",
       "      <td>97</td>\n",
       "      <td>3.70</td>\n",
       "      <td>2.465</td>\n",
       "      <td>20.01</td>\n",
       "      <td>1</td>\n",
       "      <td>0</td>\n",
       "      <td>3</td>\n",
       "      <td>1</td>\n",
       "      <td>800</td>\n",
       "    </tr>\n",
       "    <tr>\n",
       "      <th>25</th>\n",
       "      <td>Fiat X1-9</td>\n",
       "      <td>27.3</td>\n",
       "      <td>4</td>\n",
       "      <td>79.0</td>\n",
       "      <td>66</td>\n",
       "      <td>4.08</td>\n",
       "      <td>1.935</td>\n",
       "      <td>18.90</td>\n",
       "      <td>1</td>\n",
       "      <td>1</td>\n",
       "      <td>4</td>\n",
       "      <td>1</td>\n",
       "      <td>756</td>\n",
       "    </tr>\n",
       "    <tr>\n",
       "      <th>26</th>\n",
       "      <td>Porsche 914-2</td>\n",
       "      <td>26.0</td>\n",
       "      <td>4</td>\n",
       "      <td>120.3</td>\n",
       "      <td>91</td>\n",
       "      <td>4.43</td>\n",
       "      <td>2.140</td>\n",
       "      <td>16.70</td>\n",
       "      <td>0</td>\n",
       "      <td>1</td>\n",
       "      <td>5</td>\n",
       "      <td>2</td>\n",
       "      <td>668</td>\n",
       "    </tr>\n",
       "    <tr>\n",
       "      <th>27</th>\n",
       "      <td>Lotus Europa</td>\n",
       "      <td>30.4</td>\n",
       "      <td>4</td>\n",
       "      <td>95.1</td>\n",
       "      <td>113</td>\n",
       "      <td>3.77</td>\n",
       "      <td>1.513</td>\n",
       "      <td>16.90</td>\n",
       "      <td>1</td>\n",
       "      <td>1</td>\n",
       "      <td>5</td>\n",
       "      <td>2</td>\n",
       "      <td>676</td>\n",
       "    </tr>\n",
       "    <tr>\n",
       "      <th>31</th>\n",
       "      <td>Volvo 142E</td>\n",
       "      <td>21.4</td>\n",
       "      <td>4</td>\n",
       "      <td>121.0</td>\n",
       "      <td>109</td>\n",
       "      <td>4.11</td>\n",
       "      <td>2.780</td>\n",
       "      <td>18.60</td>\n",
       "      <td>1</td>\n",
       "      <td>1</td>\n",
       "      <td>4</td>\n",
       "      <td>2</td>\n",
       "      <td>744</td>\n",
       "    </tr>\n",
       "  </tbody>\n",
       "</table>\n",
       "</div>"
      ],
      "text/plain": [
       "        Unnamed: 0   mpg  cyl   disp   hp  drat     wt   qsec  vs  am  gear  \\\n",
       "2       Datsun 710  22.8    4  108.0   93  3.85  2.320  18.61   1   1     4   \n",
       "7        Merc 240D  24.4    4  146.7   62  3.69  3.190  20.00   1   0     4   \n",
       "8         Merc 230  22.8    4  140.8   95  3.92  3.150  22.90   1   0     4   \n",
       "17        Fiat 128  32.4    4   78.7   66  4.08  2.200  19.47   1   1     4   \n",
       "18     Honda Civic  30.4    4   75.7   52  4.93  1.615  18.52   1   1     4   \n",
       "19  Toyota Corolla  33.9    4   71.1   65  4.22  1.835  19.90   1   1     4   \n",
       "20   Toyota Corona  21.5    4  120.1   97  3.70  2.465  20.01   1   0     3   \n",
       "25       Fiat X1-9  27.3    4   79.0   66  4.08  1.935  18.90   1   1     4   \n",
       "26   Porsche 914-2  26.0    4  120.3   91  4.43  2.140  16.70   0   1     5   \n",
       "27    Lotus Europa  30.4    4   95.1  113  3.77  1.513  16.90   1   1     5   \n",
       "31      Volvo 142E  21.4    4  121.0  109  4.11  2.780  18.60   1   1     4   \n",
       "\n",
       "    carb  Nueva_Columna  \n",
       "2      1            744  \n",
       "7      2            800  \n",
       "8      2            916  \n",
       "17     1            778  \n",
       "18     2            740  \n",
       "19     1            796  \n",
       "20     1            800  \n",
       "25     1            756  \n",
       "26     2            668  \n",
       "27     2            676  \n",
       "31     2            744  "
      ]
     },
     "execution_count": 129,
     "metadata": {},
     "output_type": "execute_result"
    }
   ],
   "source": [
    "filtro['Nueva_Columna'] = [int(tup[0] * tup[1] * 10) for tup in lista] \n",
    "filtro"
   ]
  },
  {
   "cell_type": "code",
   "execution_count": 135,
   "metadata": {},
   "outputs": [
    {
     "data": {
      "image/png": "[encoded data removed]",
      "text/plain": [
       "<Figure size 432x288 with 1 Axes>"
      ]
     },
     "metadata": {},
     "output_type": "display_data"
    }
   ],
   "source": [
    "import matplotlib.pyplot as plt\n",
    "filtro.plot(kind = 'scatter', x = 'mpg', y = 'Nueva_Columna')\n",
    "plt.show()"
   ]
  },
  {
   "cell_type": "code",
   "execution_count": 139,
   "metadata": {
    "scrolled": true
   },
   "outputs": [
    {
     "name": "stderr",
     "output_type": "stream",
     "text": [
      "C:\\Users\\Finanzas\\Anaconda3\\lib\\site-packages\\ipykernel_launcher.py:22: SettingWithCopyWarning: \n",
      "A value is trying to be set on a copy of a slice from a DataFrame.\n",
      "Try using .loc[row_indexer,col_indexer] = value instead\n",
      "\n",
      "See the caveats in the documentation: http://pandas.pydata.org/pandas-docs/stable/indexing.html#indexing-view-versus-copy\n"
     ]
    },
    {
     "data": {
      "image/png": "[encoded data removed]",
      "text/plain": [
       "<Figure size 432x288 with 1 Axes>"
      ]
     },
     "metadata": {},
     "output_type": "display_data"
    },
    {
     "data": {
      "image/png": "[encoded data removed]",
      "text/plain": [
       "<Figure size 432x288 with 1 Axes>"
      ]
     },
     "metadata": {},
     "output_type": "display_data"
    }
   ],
   "source": [
    "# Funcion para general para graficar por cyl\n",
    "def plot_pop(filename, country_code):\n",
    "\n",
    "    # Inicializamos el objeto Iterable\n",
    "    urb_pop_reader = pd.read_csv(filename, chunksize=1000)\n",
    "\n",
    "    data = pd.DataFrame()\n",
    "    \n",
    "    # Iteramos sobre el urb_pop_reader\n",
    "    for df_urb_pop in urb_pop_reader:\n",
    "        # Filtro \n",
    "        df_pop_ceb = df_urb_pop[df_urb_pop['cyl'] == country_code]\n",
    "\n",
    "        # Union zip de las listas\n",
    "        pops = zip(df_pop_ceb['mpg'],\n",
    "                    df_pop_ceb['disp'])\n",
    "\n",
    "        # Regresamos el objeto como lista\n",
    "        pops_list = list(pops)\n",
    "\n",
    "        # Usamo una lista de comprension para crear la nueva columna\n",
    "        df_pop_ceb['Nueva_Columna'] = [int(tup[0] * tup[1]) for tup in pops_list]\n",
    "    \n",
    "        # Agregamos la nueva columna\n",
    "        data = data.append(df_pop_ceb)\n",
    "\n",
    "    # Graficamos\n",
    "    data.plot(kind='scatter', x='mpg', y='Nueva_Columna')\n",
    "    plt.show()\n",
    "\n",
    "#Uso de la funcion \n",
    "fn = 'mtcars.csv'\n",
    "\n",
    "plot_pop(fn, 4)\n",
    "plot_pop(fn, 6)\n"
   ]
  }
 ],
 "metadata": {
  "kernelspec": {
   "display_name": "Python 3",
   "language": "python",
   "name": "python3"
  },
  "language_info": {
   "codemirror_mode": {
    "name": "ipython",
    "version": 3
   },
   "file_extension": ".py",
   "mimetype": "text/x-python",
   "name": "python",
   "nbconvert_exporter": "python",
   "pygments_lexer": "ipython3",
   "version": "3.8.5"
  }
 },
 "nbformat": 4,
 "nbformat_minor": 4
}
