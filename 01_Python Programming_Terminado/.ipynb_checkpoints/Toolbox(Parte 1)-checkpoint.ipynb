{
 "cells": [
  {
   "cell_type": "markdown",
   "metadata": {
    "collapsed": true
   },
   "source": [
    "Se revisan los conceptos basico para crear nuestras propias funciones, dividido de la siguiente manera;\n",
    "\n",
    "- Definicion simple de una funcion\n",
    "\n",
    "\n",
    "- Mejorando la flexibilidad de los parametros de nuestras funciones con: Funciones Anhidadas, Valores Globales (global y nonlocal), Argumentos (*arg y *karg), parametros predefinidos.\n",
    "\n",
    "\n",
    "- Definicion de funciones lambda, son funciones cortas que facilitan la escritura y lectura del codigo\n",
    "\n",
    "\n",
    "- Uso de funciones map() (Ayuda a implementar una funciones varias veces), filter(Filtrado condicional) y reduce(Agrupacion de resultados) con funciones (lambda x: x + 1)\n",
    "\n",
    "\n",
    "- Mensajes para usuarios, try (Si los parametros se colocan correctamente se ejecuta la funcion) y except (En caso de que un parametro no se coloque correctamente se lanza un mensaje de ayuda)\n",
    "\n",
    "\n",
    "- Marcar algun error que no permita ejecutar la funcion, raise ValueError('Mensaje del error')\n"
   ]
  },
  {
   "cell_type": "code",
   "execution_count": 94,
   "metadata": {},
   "outputs": [],
   "source": [
    "#Primera Parte:\n",
    "#Definicion de Funciones\n",
    "def Saludo(Saludo,Frase):\n",
    "    A = Saludo + '!'*3 + Frase + '.'*3\n",
    "    return A"
   ]
  },
  {
   "cell_type": "code",
   "execution_count": 95,
   "metadata": {},
   "outputs": [
    {
     "data": {
      "text/plain": [
       "'Hola!!!¿Como estas?...'"
      ]
     },
     "execution_count": 95,
     "metadata": {},
     "output_type": "execute_result"
    }
   ],
   "source": [
    "#Utilizando la Funcion que creamos\n",
    "Saludo('Hola','¿Como estas?')"
   ]
  },
  {
   "cell_type": "code",
   "execution_count": 96,
   "metadata": {},
   "outputs": [],
   "source": [
    "#Funcion con Multiples Parametros\n",
    "def Saludo(Saludo,Frase):\n",
    "    A = Saludo + '!'*3\n",
    "    B = Frase + '.'*3\n",
    "    Junto = (A,B)\n",
    "    return Junto"
   ]
  },
  {
   "cell_type": "code",
   "execution_count": 97,
   "metadata": {},
   "outputs": [],
   "source": [
    "#Asignacion de Multiples Valores\n",
    "A , B = Saludo('Hola','¿Como estas?')"
   ]
  },
  {
   "cell_type": "code",
   "execution_count": 98,
   "metadata": {},
   "outputs": [
    {
     "name": "stdout",
     "output_type": "stream",
     "text": [
      "Hola!!!\n"
     ]
    },
    {
     "data": {
      "text/plain": [
       "'¿Como estas?...'"
      ]
     },
     "execution_count": 98,
     "metadata": {},
     "output_type": "execute_result"
    }
   ],
   "source": [
    "print(A)\n",
    "B"
   ]
  },
  {
   "cell_type": "code",
   "execution_count": 1,
   "metadata": {},
   "outputs": [
    {
     "data": {
      "text/html": [
       "<div>\n",
       "<style scoped>\n",
       "    .dataframe tbody tr th:only-of-type {\n",
       "        vertical-align: middle;\n",
       "    }\n",
       "\n",
       "    .dataframe tbody tr th {\n",
       "        vertical-align: top;\n",
       "    }\n",
       "\n",
       "    .dataframe thead th {\n",
       "        text-align: right;\n",
       "    }\n",
       "</style>\n",
       "<table border=\"1\" class=\"dataframe\">\n",
       "  <thead>\n",
       "    <tr style=\"text-align: right;\">\n",
       "      <th></th>\n",
       "      <th>Unnamed: 0</th>\n",
       "      <th>mpg</th>\n",
       "      <th>cyl</th>\n",
       "      <th>disp</th>\n",
       "      <th>hp</th>\n",
       "      <th>drat</th>\n",
       "      <th>wt</th>\n",
       "      <th>qsec</th>\n",
       "      <th>vs</th>\n",
       "      <th>am</th>\n",
       "      <th>gear</th>\n",
       "      <th>carb</th>\n",
       "    </tr>\n",
       "  </thead>\n",
       "  <tbody>\n",
       "    <tr>\n",
       "      <th>0</th>\n",
       "      <td>Mazda RX4</td>\n",
       "      <td>21.0</td>\n",
       "      <td>6</td>\n",
       "      <td>160.0</td>\n",
       "      <td>110</td>\n",
       "      <td>3.90</td>\n",
       "      <td>2.620</td>\n",
       "      <td>16.46</td>\n",
       "      <td>0</td>\n",
       "      <td>1</td>\n",
       "      <td>4</td>\n",
       "      <td>4</td>\n",
       "    </tr>\n",
       "    <tr>\n",
       "      <th>1</th>\n",
       "      <td>Mazda RX4 Wag</td>\n",
       "      <td>21.0</td>\n",
       "      <td>6</td>\n",
       "      <td>160.0</td>\n",
       "      <td>110</td>\n",
       "      <td>3.90</td>\n",
       "      <td>2.875</td>\n",
       "      <td>17.02</td>\n",
       "      <td>0</td>\n",
       "      <td>1</td>\n",
       "      <td>4</td>\n",
       "      <td>4</td>\n",
       "    </tr>\n",
       "    <tr>\n",
       "      <th>2</th>\n",
       "      <td>Datsun 710</td>\n",
       "      <td>22.8</td>\n",
       "      <td>4</td>\n",
       "      <td>108.0</td>\n",
       "      <td>93</td>\n",
       "      <td>3.85</td>\n",
       "      <td>2.320</td>\n",
       "      <td>18.61</td>\n",
       "      <td>1</td>\n",
       "      <td>1</td>\n",
       "      <td>4</td>\n",
       "      <td>1</td>\n",
       "    </tr>\n",
       "    <tr>\n",
       "      <th>3</th>\n",
       "      <td>Hornet 4 Drive</td>\n",
       "      <td>21.4</td>\n",
       "      <td>6</td>\n",
       "      <td>258.0</td>\n",
       "      <td>110</td>\n",
       "      <td>3.08</td>\n",
       "      <td>3.215</td>\n",
       "      <td>19.44</td>\n",
       "      <td>1</td>\n",
       "      <td>0</td>\n",
       "      <td>3</td>\n",
       "      <td>1</td>\n",
       "    </tr>\n",
       "    <tr>\n",
       "      <th>4</th>\n",
       "      <td>Hornet Sportabout</td>\n",
       "      <td>18.7</td>\n",
       "      <td>8</td>\n",
       "      <td>360.0</td>\n",
       "      <td>175</td>\n",
       "      <td>3.15</td>\n",
       "      <td>3.440</td>\n",
       "      <td>17.02</td>\n",
       "      <td>0</td>\n",
       "      <td>0</td>\n",
       "      <td>3</td>\n",
       "      <td>2</td>\n",
       "    </tr>\n",
       "  </tbody>\n",
       "</table>\n",
       "</div>"
      ],
      "text/plain": [
       "          Unnamed: 0   mpg  cyl   disp   hp  drat     wt   qsec  vs  am  gear  \\\n",
       "0          Mazda RX4  21.0    6  160.0  110  3.90  2.620  16.46   0   1     4   \n",
       "1      Mazda RX4 Wag  21.0    6  160.0  110  3.90  2.875  17.02   0   1     4   \n",
       "2         Datsun 710  22.8    4  108.0   93  3.85  2.320  18.61   1   1     4   \n",
       "3     Hornet 4 Drive  21.4    6  258.0  110  3.08  3.215  19.44   1   0     3   \n",
       "4  Hornet Sportabout  18.7    8  360.0  175  3.15  3.440  17.02   0   0     3   \n",
       "\n",
       "   carb  \n",
       "0     4  \n",
       "1     4  \n",
       "2     1  \n",
       "3     1  \n",
       "4     2  "
      ]
     },
     "execution_count": 1,
     "metadata": {},
     "output_type": "execute_result"
    }
   ],
   "source": [
    "#Crearemos una funcion que nos ayude a contar el numero de registros distintos, especificando la base y la columna.\n",
    "#1.Antes de comenzar necesitamos conocer los datos con los que vamos a trabajar.\n",
    "import pandas as pd\n",
    "df = pd.read_csv('mtcars.csv')\n",
    "df.head() #Es una base de datos con las especificaciones de automoviles"
   ]
  },
  {
   "cell_type": "code",
   "execution_count": 9,
   "metadata": {},
   "outputs": [
    {
     "data": {
      "text/plain": [
       "0    6\n",
       "1    6\n",
       "2    4\n",
       "3    6\n",
       "Name: cyl, dtype: int64"
      ]
     },
     "execution_count": 9,
     "metadata": {},
     "output_type": "execute_result"
    }
   ],
   "source": [
    "#2.Seleccion de datos\n",
    "col = df['cyl'] #Seleccion de la columna cyl\n",
    "conteo = {} \n",
    "col.head(4)"
   ]
  },
  {
   "cell_type": "code",
   "execution_count": 101,
   "metadata": {},
   "outputs": [
    {
     "name": "stdout",
     "output_type": "stream",
     "text": [
      "{6: 7, 4: 11, 8: 14}\n"
     ]
    }
   ],
   "source": [
    "#3.Proceso de Conteo, for que cuenta los grupos de cyl (Esta seccion sera el motor de nuestra funcion)\n",
    "for x in col:\n",
    "    if x in conteo.keys():\n",
    "        conteo[x] += 1\n",
    "    else:\n",
    "        conteo[x] = 1\n",
    "#Resultado de Conteo\n",
    "print(conteo)"
   ]
  },
  {
   "cell_type": "code",
   "execution_count": 102,
   "metadata": {},
   "outputs": [],
   "source": [
    "#Funcion de Conteo generalizada.\n",
    "#Uniendo 2 y 3\n",
    "def Conteo(df, col_name):\n",
    "    conteo = {}\n",
    "    col = df[col_name]\n",
    "    for x in col:\n",
    "        if x in conteo.keys():\n",
    "            conteo[x] += 1\n",
    "        else:\n",
    "            conteo[x] = 1\n",
    "            \n",
    "    return(conteo)"
   ]
  },
  {
   "cell_type": "code",
   "execution_count": 103,
   "metadata": {},
   "outputs": [
    {
     "name": "stdout",
     "output_type": "stream",
     "text": [
      "Index(['Unnamed: 0', 'mpg', 'cyl', 'disp', 'hp', 'drat', 'wt', 'qsec', 'vs',\n",
      "       'am', 'gear', 'carb'],\n",
      "      dtype='object')\n",
      "{1: 13, 0: 19}\n",
      "{6: 7, 4: 11, 8: 14}\n"
     ]
    }
   ],
   "source": [
    "#Uso de la funcion Generalizada\n",
    "print(df.keys())\n",
    "print(Conteo(df,'am'))\n",
    "print(Conteo(df,'cyl'))"
   ]
  },
  {
   "cell_type": "markdown",
   "metadata": {},
   "source": [
    "Segunda Parte\n",
    "\n",
    "Se muestran funciones anhidadas, Valores Globales y locales en una funcion, argumentos preterminados, \n",
    "Condicionales."
   ]
  },
  {
   "cell_type": "code",
   "execution_count": 104,
   "metadata": {},
   "outputs": [
    {
     "name": "stdout",
     "output_type": "stream",
     "text": [
      "('Vengadores_0!!!!!', 'Vengadores_1!!!!!', 'Vengadores_2!!!!!')\n"
     ]
    }
   ],
   "source": [
    "#Funciones Anhidadas (Ayudan a optimizar operaciones dentro de la misma funcion);\n",
    "def Equipo(A,B,C, n = 1):\n",
    "    \n",
    "    def Exclamacion(A_0):\n",
    "        A_0 = A_0 + '!' * n\n",
    "        return A_0\n",
    "\n",
    "    return (Exclamacion(A),Exclamacion(B),Exclamacion(C))\n",
    "\n",
    "print(Equipo('Vengadores_0','Vengadores_1','Vengadores_2', 5))\n"
   ]
  },
  {
   "cell_type": "code",
   "execution_count": 105,
   "metadata": {},
   "outputs": [
    {
     "name": "stdout",
     "output_type": "stream",
     "text": [
      "inner: 2\n",
      "outer: 1\n",
      "global: 0\n"
     ]
    }
   ],
   "source": [
    "#Cambio de Variables Globales e internas de una funcion.\n",
    "#Podremos ver como se compartan los valores dentro de una funcion y como afectan \n",
    "#a las variables globales.\n",
    "\n",
    "#1.El Valor de x cambiara, dependiendo de la seccion de la funcion.\n",
    "x = 0\n",
    "def outer():\n",
    "    x = 1\n",
    "    def inner():\n",
    "        x = 2\n",
    "        print(\"inner:\", x)\n",
    "\n",
    "    inner() #Termino de la funcion anhidada inner\n",
    "    print(\"outer:\", x) #Termino de la funcion outer\n",
    "\n",
    "outer() #Corremos la Funcion\n",
    "\n",
    "print(\"global:\", x) #Fuera de la Funcion"
   ]
  },
  {
   "cell_type": "code",
   "execution_count": 106,
   "metadata": {},
   "outputs": [
    {
     "name": "stdout",
     "output_type": "stream",
     "text": [
      "inner: 2\n",
      "outer: 2\n",
      "global: 0\n"
     ]
    }
   ],
   "source": [
    "#2.Valor homogeneo dentro de la funcion.\n",
    "x = 0\n",
    "def outer():\n",
    "    x = 1\n",
    "    def inner():\n",
    "        nonlocal x #El valor de x sera el mismo en toda la funcion\n",
    "        x = 2\n",
    "        print(\"inner:\", x)\n",
    "\n",
    "    inner()\n",
    "    print(\"outer:\", x)\n",
    "\n",
    "outer()\n",
    "print(\"global:\", x)"
   ]
  },
  {
   "cell_type": "code",
   "execution_count": 107,
   "metadata": {},
   "outputs": [
    {
     "name": "stdout",
     "output_type": "stream",
     "text": [
      "inner: 2\n",
      "outer: 1\n",
      "global: 2\n"
     ]
    }
   ],
   "source": [
    "#3.Cambiamos el valor global de x\n",
    "x = 0\n",
    "def outer():\n",
    "    x = 1\n",
    "    def inner():\n",
    "        global x #Cambiara el valor Global de x\n",
    "        x = 2\n",
    "        print(\"inner:\", x)\n",
    "\n",
    "    inner()\n",
    "    print(\"outer:\", x)\n",
    "\n",
    "outer()\n",
    "print(\"global:\", x)"
   ]
  },
  {
   "cell_type": "code",
   "execution_count": 108,
   "metadata": {},
   "outputs": [],
   "source": [
    "#Funciones con Multiples Argumentos y Condicionales.\n",
    "#Se definen valores Preterminados al momento de ejecutar la funcion, y Condiciones \n",
    "#en caso de cumplir ciertos valores.\n",
    "\n",
    "def Operaciones(x,y,Operacion = 'suma'):\n",
    "    if Operacion == 'suma':\n",
    "        z = x + y\n",
    "    elif Operacion == 'resta':\n",
    "        z = abs(x - y)\n",
    "    elif Operacion == 'division':\n",
    "        z = round(x/y,2)\n",
    "    elif Operacion == 'Multiplicacion':\n",
    "        z = x*y\n",
    "    return z\n",
    "\n"
   ]
  },
  {
   "cell_type": "code",
   "execution_count": 109,
   "metadata": {},
   "outputs": [
    {
     "data": {
      "text/plain": [
       "2"
      ]
     },
     "execution_count": 109,
     "metadata": {},
     "output_type": "execute_result"
    }
   ],
   "source": [
    "Operaciones(1,3,'resta')"
   ]
  },
  {
   "cell_type": "code",
   "execution_count": 110,
   "metadata": {},
   "outputs": [],
   "source": [
    "#Funciones con Argumentos Flexibles (*args) permite pasar a la funcion multiples argumentos.\n",
    "\n",
    "def Concatenar(*argumentos):\n",
    "    Cadena = ''\n",
    "    for x in argumentos:\n",
    "        Cadena += x\n",
    "     \n",
    "    return Cadena"
   ]
  },
  {
   "cell_type": "code",
   "execution_count": 111,
   "metadata": {},
   "outputs": [
    {
     "data": {
      "text/plain": [
       "'SeJuntaTodo'"
      ]
     },
     "execution_count": 111,
     "metadata": {},
     "output_type": "execute_result"
    }
   ],
   "source": [
    "Concatenar('Se','Junta','Todo')"
   ]
  },
  {
   "cell_type": "code",
   "execution_count": 112,
   "metadata": {},
   "outputs": [],
   "source": [
    "#Funciones con Argumentos Flexibles (**kwargs), la diferencia es que podemos nombrar los argumentos.\n",
    "\n",
    "def Reporte(**kargumentos):\n",
    "    \n",
    "    print(\"\\nInicio: Perfil\\n\")\n",
    "    \n",
    "    for llave,valor in kargumentos.items():\n",
    "        print(llave + \": \" + valor)\n",
    "    \n",
    "    print(\"\\nFin del Perfil\")    "
   ]
  },
  {
   "cell_type": "code",
   "execution_count": 113,
   "metadata": {},
   "outputs": [
    {
     "name": "stdout",
     "output_type": "stream",
     "text": [
      "\n",
      "Inicio: Perfil\n",
      "\n",
      "Nombre: Carlos\n",
      "Gusto: Juegos de Mesa\n",
      "Deporte: Natacion\n",
      "\n",
      "Fin del Perfil\n"
     ]
    }
   ],
   "source": [
    "Reporte(Nombre = 'Carlos', Gusto = 'Juegos de Mesa', Deporte = 'Natacion')"
   ]
  },
  {
   "cell_type": "code",
   "execution_count": 114,
   "metadata": {},
   "outputs": [],
   "source": [
    "#Al final de la Primera Parte se realizo una funcion Conteo Generalizada.\n",
    "#Modificaremos la funcion de tal forma que acepte multiples columnas para realizar el conteo.\n",
    "\n",
    "def Conteo(df, *args):\n",
    "    \n",
    "    conteo = {}\n",
    "    \n",
    "    for col_name in args:\n",
    "        \n",
    "        col = df[col_name]\n",
    "    \n",
    "        for x in col:\n",
    "            if x in conteo.keys():\n",
    "                conteo[x] += 1\n",
    "            else:\n",
    "                conteo[x] = 1\n",
    "            \n",
    "    return(conteo)"
   ]
  },
  {
   "cell_type": "code",
   "execution_count": 115,
   "metadata": {},
   "outputs": [
    {
     "data": {
      "text/plain": [
       "{0: 19, 1: 13, 4: 11, 6: 7, 8: 14}"
      ]
     },
     "execution_count": 115,
     "metadata": {},
     "output_type": "execute_result"
    }
   ],
   "source": [
    "Conteo(df,'am','cyl')"
   ]
  },
  {
   "cell_type": "markdown",
   "metadata": {},
   "source": [
    "Tercer Parte\n",
    "\n",
    "Se muestran herramientas para escribir funciones compactas (lambda,map,filter,reduce,etc) y agregar mensajes de errores para\n",
    "el usuario final."
   ]
  },
  {
   "cell_type": "code",
   "execution_count": 11,
   "metadata": {},
   "outputs": [
    {
     "data": {
      "text/plain": [
       "2.449489742783178"
      ]
     },
     "execution_count": 11,
     "metadata": {},
     "output_type": "execute_result"
    }
   ],
   "source": [
    "#Funciones Lambda; Son funciones compactas que se utilizan para definir funciones pequeñas\n",
    "import math \n",
    "funcion = lambda x, y: math.sqrt(x*y)\n",
    "funcion(2,3)"
   ]
  },
  {
   "cell_type": "code",
   "execution_count": 12,
   "metadata": {},
   "outputs": [
    {
     "data": {
      "text/plain": [
       "[10, 20, 30, 45, 50, 75]"
      ]
     },
     "execution_count": 12,
     "metadata": {},
     "output_type": "execute_result"
    }
   ],
   "source": [
    "#Funcion map() permite aplicar la misma funcion a los elementos de un objeto.\n",
    "vector = {2,4,6,9,10,15}\n",
    "funcion = map(lambda x : x*5 , vector)\n",
    "list(funcion)"
   ]
  },
  {
   "cell_type": "code",
   "execution_count": 13,
   "metadata": {},
   "outputs": [
    {
     "data": {
      "text/plain": [
       "['Roberto', 'Bernardo']"
      ]
     },
     "execution_count": 13,
     "metadata": {},
     "output_type": "execute_result"
    }
   ],
   "source": [
    "#Funcion filter() nos da los resultados que cumplan ciertos criterios.\n",
    "vector = ['Carlos','Roberto','Bernardo','Tere']\n",
    "funcion = filter(lambda x: len(x) > 6, vector)\n",
    "list(funcion)"
   ]
  },
  {
   "cell_type": "code",
   "execution_count": 14,
   "metadata": {},
   "outputs": [
    {
     "name": "stdout",
     "output_type": "stream",
     "text": [
      "Equipo :  Carlos,Roberto,Bernardo,Tere\n"
     ]
    }
   ],
   "source": [
    "#Funcion reduce(), agrupa los resultados.\n",
    "from functools import reduce\n",
    "funcion = reduce(lambda x , y : x + ',' + y, vector)\n",
    "print('Equipo : ', funcion)"
   ]
  },
  {
   "cell_type": "code",
   "execution_count": 120,
   "metadata": {},
   "outputs": [],
   "source": [
    "#Integrar mensajes de errores en las funciones\n",
    "#try (Colocamos las operaciones)\n",
    "#except (En caso de no poder realizar las operaciones, arrojamos un mensaje)\n",
    "def Texto(texto, n = 1):\n",
    "    texto_0 = ''\n",
    "    texto_1 = ''\n",
    "    try:\n",
    "        texto_0 = texto * n\n",
    "        texto_1 = texto_0 + '!'*n\n",
    "    except:\n",
    "        print('Colocar una cadena y un numero')\n",
    "    return texto_1\n"
   ]
  },
  {
   "cell_type": "code",
   "execution_count": 121,
   "metadata": {},
   "outputs": [
    {
     "name": "stdout",
     "output_type": "stream",
     "text": [
      "Colocar una cadena y un numero\n"
     ]
    },
    {
     "data": {
      "text/plain": [
       "'HolaHola!!'"
      ]
     },
     "execution_count": 121,
     "metadata": {},
     "output_type": "execute_result"
    }
   ],
   "source": [
    "Texto(5,2)\n",
    "Texto('Hola',2)"
   ]
  },
  {
   "cell_type": "code",
   "execution_count": 122,
   "metadata": {},
   "outputs": [],
   "source": [
    "#Errores condicionales algun parametro no deseado (Seccion if y raise)\n",
    "def Texto(texto, n = 1):\n",
    "    if n < 0:\n",
    "        raise ValueError('El valor numerico debe ser mayor a 0')\n",
    "    texto_0 = texto * n\n",
    "    texto_1 = texto + '!'*n\n",
    "    return texto_1"
   ]
  },
  {
   "cell_type": "code",
   "execution_count": 123,
   "metadata": {
    "scrolled": true
   },
   "outputs": [
    {
     "ename": "ValueError",
     "evalue": "El valor numerico debe ser mayor a 0",
     "output_type": "error",
     "traceback": [
      "\u001b[1;31m---------------------------------------------------------------------------\u001b[0m",
      "\u001b[1;31mValueError\u001b[0m                                Traceback (most recent call last)",
      "\u001b[1;32m<ipython-input-123-fdea09a39b77>\u001b[0m in \u001b[0;36m<module>\u001b[1;34m()\u001b[0m\n\u001b[1;32m----> 1\u001b[1;33m \u001b[0mTexto\u001b[0m\u001b[1;33m(\u001b[0m\u001b[1;34m'Hola'\u001b[0m\u001b[1;33m,\u001b[0m\u001b[1;33m-\u001b[0m\u001b[1;36m1\u001b[0m\u001b[1;33m)\u001b[0m\u001b[1;33m\u001b[0m\u001b[0m\n\u001b[0m",
      "\u001b[1;32m<ipython-input-122-8f7823056ed0>\u001b[0m in \u001b[0;36mTexto\u001b[1;34m(texto, n)\u001b[0m\n\u001b[0;32m      2\u001b[0m \u001b[1;32mdef\u001b[0m \u001b[0mTexto\u001b[0m\u001b[1;33m(\u001b[0m\u001b[0mtexto\u001b[0m\u001b[1;33m,\u001b[0m \u001b[0mn\u001b[0m \u001b[1;33m=\u001b[0m \u001b[1;36m1\u001b[0m\u001b[1;33m)\u001b[0m\u001b[1;33m:\u001b[0m\u001b[1;33m\u001b[0m\u001b[0m\n\u001b[0;32m      3\u001b[0m     \u001b[1;32mif\u001b[0m \u001b[0mn\u001b[0m \u001b[1;33m<\u001b[0m \u001b[1;36m0\u001b[0m\u001b[1;33m:\u001b[0m\u001b[1;33m\u001b[0m\u001b[0m\n\u001b[1;32m----> 4\u001b[1;33m         \u001b[1;32mraise\u001b[0m \u001b[0mValueError\u001b[0m\u001b[1;33m(\u001b[0m\u001b[1;34m'El valor numerico debe ser mayor a 0'\u001b[0m\u001b[1;33m)\u001b[0m\u001b[1;33m\u001b[0m\u001b[0m\n\u001b[0m\u001b[0;32m      5\u001b[0m     \u001b[0mtexto_0\u001b[0m \u001b[1;33m=\u001b[0m \u001b[0mtexto\u001b[0m \u001b[1;33m*\u001b[0m \u001b[0mn\u001b[0m\u001b[1;33m\u001b[0m\u001b[0m\n\u001b[0;32m      6\u001b[0m     \u001b[0mtexto_1\u001b[0m \u001b[1;33m=\u001b[0m \u001b[0mtexto\u001b[0m \u001b[1;33m+\u001b[0m \u001b[1;34m'!'\u001b[0m\u001b[1;33m*\u001b[0m\u001b[0mn\u001b[0m\u001b[1;33m\u001b[0m\u001b[0m\n",
      "\u001b[1;31mValueError\u001b[0m: El valor numerico debe ser mayor a 0"
     ]
    }
   ],
   "source": [
    "Texto('Hola',-1)"
   ]
  },
  {
   "cell_type": "code",
   "execution_count": 124,
   "metadata": {},
   "outputs": [],
   "source": [
    "#Juntaremos todo lo aprendido para crear una funcion mas compleja.\n",
    "def Conteo(df, col_name = 'cyl'):\n",
    "    conteo = {}\n",
    "    try:\n",
    "        col = df[col_name]\n",
    "        for x in col:\n",
    "            if x in conteo.keys():\n",
    "                conteo[x] += 1\n",
    "            else:\n",
    "                conteo[x] = 1\n",
    "            \n",
    "        return(conteo)\n",
    "    except:\n",
    "        print('El Data Frame no contiene la columna \"' + col_name + '\" puedes verificar las columnas con la funcion .keys')"
   ]
  },
  {
   "cell_type": "code",
   "execution_count": 125,
   "metadata": {},
   "outputs": [
    {
     "name": "stdout",
     "output_type": "stream",
     "text": [
      "El Data Frame no contiene la columna \"a\" puedes verificar las columnas con la funcion .keys\n"
     ]
    }
   ],
   "source": [
    "Conteo(df,'a')"
   ]
  },
  {
   "cell_type": "code",
   "execution_count": 126,
   "metadata": {},
   "outputs": [],
   "source": [
    "def Conteo(df, col_name = 'cyl'):\n",
    "    \n",
    "    if col_name not in df.columns:\n",
    "        raise VelueError('El Data Frame no contiene la columna \"' + col_name + '\" pudes ver el nombre de las columnas con la funcion .columns ')\n",
    "    \n",
    "    conteo = {}\n",
    "    \n",
    "    col = df[col_name]\n",
    "    \n",
    "    for x in col:\n",
    "        if x in conteo.keys():\n",
    "            conteo[x] += 1\n",
    "        else:\n",
    "             conteo[x] = 1\n",
    "            \n",
    "        return(conteo)    "
   ]
  },
  {
   "cell_type": "code",
   "execution_count": 127,
   "metadata": {},
   "outputs": [
    {
     "ename": "NameError",
     "evalue": "name 'VelueError' is not defined",
     "output_type": "error",
     "traceback": [
      "\u001b[1;31m---------------------------------------------------------------------------\u001b[0m",
      "\u001b[1;31mNameError\u001b[0m                                 Traceback (most recent call last)",
      "\u001b[1;32m<ipython-input-127-0c9391dce6fe>\u001b[0m in \u001b[0;36m<module>\u001b[1;34m()\u001b[0m\n\u001b[1;32m----> 1\u001b[1;33m \u001b[0mConteo\u001b[0m\u001b[1;33m(\u001b[0m\u001b[0mdf\u001b[0m\u001b[1;33m,\u001b[0m\u001b[1;34m'a'\u001b[0m\u001b[1;33m)\u001b[0m\u001b[1;33m\u001b[0m\u001b[0m\n\u001b[0m",
      "\u001b[1;32m<ipython-input-126-42e1160126d8>\u001b[0m in \u001b[0;36mConteo\u001b[1;34m(df, col_name)\u001b[0m\n\u001b[0;32m      2\u001b[0m \u001b[1;33m\u001b[0m\u001b[0m\n\u001b[0;32m      3\u001b[0m     \u001b[1;32mif\u001b[0m \u001b[0mcol_name\u001b[0m \u001b[1;32mnot\u001b[0m \u001b[1;32min\u001b[0m \u001b[0mdf\u001b[0m\u001b[1;33m.\u001b[0m\u001b[0mcolumns\u001b[0m\u001b[1;33m:\u001b[0m\u001b[1;33m\u001b[0m\u001b[0m\n\u001b[1;32m----> 4\u001b[1;33m         \u001b[1;32mraise\u001b[0m \u001b[0mVelueError\u001b[0m\u001b[1;33m(\u001b[0m\u001b[1;34m'El Data Frame no contiene la columna \"'\u001b[0m \u001b[1;33m+\u001b[0m \u001b[0mcol_name\u001b[0m \u001b[1;33m+\u001b[0m \u001b[1;34m'\" pudes ver el nombre de las columnas con la funcion .columns '\u001b[0m\u001b[1;33m)\u001b[0m\u001b[1;33m\u001b[0m\u001b[0m\n\u001b[0m\u001b[0;32m      5\u001b[0m \u001b[1;33m\u001b[0m\u001b[0m\n\u001b[0;32m      6\u001b[0m     \u001b[0mconteo\u001b[0m \u001b[1;33m=\u001b[0m \u001b[1;33m{\u001b[0m\u001b[1;33m}\u001b[0m\u001b[1;33m\u001b[0m\u001b[0m\n",
      "\u001b[1;31mNameError\u001b[0m: name 'VelueError' is not defined"
     ]
    }
   ],
   "source": [
    "Conteo(df,'a')"
   ]
  },
  {
   "cell_type": "code",
   "execution_count": 23,
   "metadata": {},
   "outputs": [],
   "source": [
    "# Funcion final para contar los elementos de una columna\n",
    "def Conteo(df, col_name='cyl'):\n",
    "    \n",
    "    # Raise a ValueError si la columna del dataframe no se encuentra en la base\n",
    "    if col_name not in df.columns:\n",
    "        raise ValueError('The DataFrame does not have a ' + col_name + ' column.')\n",
    "\n",
    "    # Inicializa el conteo con diccionario\n",
    "    cols_count = {}\n",
    "    \n",
    "    # Extraemos la columna del dataframe\n",
    "    col = df[col_name]\n",
    "    \n",
    "    # Iteramos sobre el dataframe \n",
    "    for entry in col:\n",
    "\n",
    "        # Conteo \n",
    "        if entry in cols_count.keys():\n",
    "            cols_count[entry] += 1\n",
    "            # \n",
    "        else:\n",
    "            cols_count[entry] = 1\n",
    "        \n",
    "        \n",
    "    return cols_count\n"
   ]
  },
  {
   "cell_type": "code",
   "execution_count": 28,
   "metadata": {},
   "outputs": [
    {
     "data": {
      "text/plain": [
       "{6: 7, 4: 11, 8: 14}"
      ]
     },
     "execution_count": 28,
     "metadata": {},
     "output_type": "execute_result"
    }
   ],
   "source": [
    "#Automaticamente tomara como parametro la columna 'cyl'\n",
    "Conteo(df)"
   ]
  },
  {
   "cell_type": "code",
   "execution_count": 29,
   "metadata": {},
   "outputs": [
    {
     "data": {
      "text/plain": [
       "{1: 13, 0: 19}"
      ]
     },
     "execution_count": 29,
     "metadata": {},
     "output_type": "execute_result"
    }
   ],
   "source": [
    "Conteo(df, 'am')"
   ]
  }
 ],
 "metadata": {
  "kernelspec": {
   "display_name": "Python 3",
   "language": "python",
   "name": "python3"
  },
  "language_info": {
   "codemirror_mode": {
    "name": "ipython",
    "version": 3
   },
   "file_extension": ".py",
   "mimetype": "text/x-python",
   "name": "python",
   "nbconvert_exporter": "python",
   "pygments_lexer": "ipython3",
   "version": "3.7.0"
  }
 },
 "nbformat": 4,
 "nbformat_minor": 2
}
