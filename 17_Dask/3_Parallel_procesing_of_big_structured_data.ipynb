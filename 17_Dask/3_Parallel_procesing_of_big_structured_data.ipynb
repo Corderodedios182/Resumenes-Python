{
 "cells": [
  {
   "cell_type": "markdown",
   "id": "51e06553-b90e-46d3-90d9-3bba504789cb",
   "metadata": {},
   "source": [
    "#### Procesamiento paralelo grandes estructuras de datos.\n",
    "\n",
    "Aquí aprenderá a analizar grandes datos estructurados utilizando arreglos Dask y Dask DataFrames.\n",
    "\n",
    "Aprenderá cómo todo lo que sabe sobre NumPy y pandas se puede aplicar fácilmente a datos que son demasiado grandes para caber en la memoria."
   ]
  },
  {
   "cell_type": "code",
   "execution_count": 6,
   "id": "d0395e5a-4950-42dc-a81d-13970c06bd8c",
   "metadata": {},
   "outputs": [],
   "source": [
    "import matplotlib.pyplot as plt"
   ]
  },
  {
   "cell_type": "markdown",
   "id": "632a0a5d-ac71-4461-9712-65934e58a591",
   "metadata": {},
   "source": [
    "**Dask arrays**"
   ]
  },
  {
   "cell_type": "code",
   "execution_count": 1,
   "id": "48053e40-af70-4fe0-a8ed-32da6c2ad420",
   "metadata": {},
   "outputs": [
    {
     "ename": "ValueError",
     "evalue": "No files found under name data/asl/*.jpeg",
     "output_type": "error",
     "traceback": [
      "\u001b[1;31m---------------------------------------------------------------------------\u001b[0m",
      "\u001b[1;31mValueError\u001b[0m                                Traceback (most recent call last)",
      "\u001b[1;32m~\\AppData\\Local\\Temp/ipykernel_12812/691567818.py\u001b[0m in \u001b[0;36m<module>\u001b[1;34m\u001b[0m\n\u001b[0;32m      3\u001b[0m \u001b[1;33m\u001b[0m\u001b[0m\n\u001b[0;32m      4\u001b[0m \u001b[1;31m# Lazily load in all jpegs inside all subdirectories inside data/asl\u001b[0m\u001b[1;33m\u001b[0m\u001b[1;33m\u001b[0m\u001b[0m\n\u001b[1;32m----> 5\u001b[1;33m \u001b[0mimage_array\u001b[0m \u001b[1;33m=\u001b[0m \u001b[0mimage\u001b[0m\u001b[1;33m.\u001b[0m\u001b[0mimread\u001b[0m\u001b[1;33m(\u001b[0m\u001b[1;34m'data/asl/*.jpeg'\u001b[0m\u001b[1;33m)\u001b[0m\u001b[1;33m\u001b[0m\u001b[1;33m\u001b[0m\u001b[0m\n\u001b[0m\u001b[0;32m      6\u001b[0m \u001b[1;33m\u001b[0m\u001b[0m\n\u001b[0;32m      7\u001b[0m \u001b[1;31m# Load only the zeroth image into memory\u001b[0m\u001b[1;33m\u001b[0m\u001b[1;33m\u001b[0m\u001b[0m\n",
      "\u001b[1;32m~\\anaconda3\\lib\\site-packages\\dask\\array\\image.py\u001b[0m in \u001b[0;36mimread\u001b[1;34m(filename, imread, preprocess)\u001b[0m\n\u001b[0;32m     48\u001b[0m     \u001b[0mfilenames\u001b[0m \u001b[1;33m=\u001b[0m \u001b[0msorted\u001b[0m\u001b[1;33m(\u001b[0m\u001b[0mglob\u001b[0m\u001b[1;33m(\u001b[0m\u001b[0mfilename\u001b[0m\u001b[1;33m)\u001b[0m\u001b[1;33m)\u001b[0m\u001b[1;33m\u001b[0m\u001b[1;33m\u001b[0m\u001b[0m\n\u001b[0;32m     49\u001b[0m     \u001b[1;32mif\u001b[0m \u001b[1;32mnot\u001b[0m \u001b[0mfilenames\u001b[0m\u001b[1;33m:\u001b[0m\u001b[1;33m\u001b[0m\u001b[1;33m\u001b[0m\u001b[0m\n\u001b[1;32m---> 50\u001b[1;33m         \u001b[1;32mraise\u001b[0m \u001b[0mValueError\u001b[0m\u001b[1;33m(\u001b[0m\u001b[1;34m\"No files found under name %s\"\u001b[0m \u001b[1;33m%\u001b[0m \u001b[0mfilename\u001b[0m\u001b[1;33m)\u001b[0m\u001b[1;33m\u001b[0m\u001b[1;33m\u001b[0m\u001b[0m\n\u001b[0m\u001b[0;32m     51\u001b[0m \u001b[1;33m\u001b[0m\u001b[0m\n\u001b[0;32m     52\u001b[0m     \u001b[0mname\u001b[0m \u001b[1;33m=\u001b[0m \u001b[1;34m\"imread-%s\"\u001b[0m \u001b[1;33m%\u001b[0m \u001b[0mtokenize\u001b[0m\u001b[1;33m(\u001b[0m\u001b[0mfilenames\u001b[0m\u001b[1;33m,\u001b[0m \u001b[0mmap\u001b[0m\u001b[1;33m(\u001b[0m\u001b[0mos\u001b[0m\u001b[1;33m.\u001b[0m\u001b[0mpath\u001b[0m\u001b[1;33m.\u001b[0m\u001b[0mgetmtime\u001b[0m\u001b[1;33m,\u001b[0m \u001b[0mfilenames\u001b[0m\u001b[1;33m)\u001b[0m\u001b[1;33m)\u001b[0m\u001b[1;33m\u001b[0m\u001b[1;33m\u001b[0m\u001b[0m\n",
      "\u001b[1;31mValueError\u001b[0m: No files found under name data/asl/*.jpeg"
     ]
    }
   ],
   "source": [
    "import matplotlib.pyplot as plt\n",
    "from dask.array import image\n",
    "\n",
    "# Lazily load in all jpegs inside all subdirectories inside data/asl\n",
    "image_array = image.imread('data/asl/*.jpeg')\n",
    "\n",
    "# Load only the zeroth image into memory\n",
    "zeroth_image = image_array[0].compute()\n",
    "\n",
    "# Plot the image\n",
    "plt.imshow(zeroth_image)\n",
    "plt.show()"
   ]
  },
  {
   "cell_type": "code",
   "execution_count": null,
   "id": "d81eaf16-d25f-4070-85c3-5c4444917e35",
   "metadata": {},
   "outputs": [],
   "source": [
    "# Convert the color photos to grayscale\n",
    "grayscale_images = image_array.mean(axis=-1)\n",
    "\n",
    "# Apply the edge detection function\n",
    "edge_images = grayscale_images.map_blocks(compute_edges)\n",
    "\n",
    "# Select the zeroth image and compute its values\n",
    "sample_image = edge_images[0].compute()\n",
    "\n",
    "# Show the result\n",
    "plt.imshow(sample_image, cmap='gray')\n",
    "plt.show()"
   ]
  },
  {
   "cell_type": "markdown",
   "id": "609af6d2-3007-43d5-b1cb-ae4384c14a63",
   "metadata": {},
   "source": [
    "**Dask DataFrames**"
   ]
  },
  {
   "cell_type": "markdown",
   "id": "e7aafea3-0dc5-445e-8645-6ca699015984",
   "metadata": {},
   "source": [
    "Anteriormente, analizó los datos de las canciones de Spotify utilizando bucles y funciones retrasadas.\n",
    "\n",
    "Ahora sabe que puede lograr lo mismo más fácilmente usando un Dask DataFrame.\n",
    "\n",
    "Veamos cuánto más fáciles son las mismas tareas que hizo anteriormente si las hace usando estos métodos en lugar de bucles.\n",
    "\n",
    "Sin embargo, primero deberá cargar el conjunto de datos en un Dask DataFrame."
   ]
  },
  {
   "cell_type": "code",
   "execution_count": 4,
   "id": "3338101d-e3a6-486a-ab2c-81fd67556587",
   "metadata": {},
   "outputs": [
    {
     "name": "stdout",
     "output_type": "stream",
     "text": [
      "                       id                         name  popularity  \\\n",
      "0  2fASnKww9WIi2YMp8s7sDi                        Sueño          37   \n",
      "1  2j7mtIlWmFfvodCFAAYd3E                   Confiésame          39   \n",
      "2  2lGNHYGWS80iu0EJDyqsHw  Pulkstens deviņus jau zvana          17   \n",
      "\n",
      "   duration_ms  explicit      artists release_date  danceability key  \\\n",
      "0       251480         0  ['Fonseca']   2005-01-02         0.511   F   \n",
      "1       243000         0  ['Fonseca']   2005-01-02         0.700  F#   \n",
      "2       173907         0    ['Prego']   2005-01-02         0.381   F   \n",
      "\n",
      "   acousticness  instrumentalness    tempo  \n",
      "0        0.0841          0.000028  114.025  \n",
      "1        0.0813          0.000000  112.038  \n",
      "2        0.9530          0.000000  120.822  \n"
     ]
    }
   ],
   "source": [
    "import dask.dataframe as dd\n",
    "\n",
    "df  = dd.read_csv(\"spotify/*.csv\", blocksize=\"1MB\")\n",
    "#df = dd.read_parquet(\"spotify_parquet\") \n",
    "df['release_date'] = dd.to_datetime(df['release_date'])\n",
    "print(df.head(3))"
   ]
  },
  {
   "cell_type": "markdown",
   "id": "745045ae-99c4-47ee-805f-27c137c6bc27",
   "metadata": {},
   "source": [
    "¡Buen trabajo! Cargó perezosamente el conjunto de datos completo en un solo Dask DataFrame.\n",
    "\n",
    "Una vez que tenga esto, puede ejecutar comandos en este DataFrame como si fuera un DataFrame de pandas.\n",
    "\n",
    "Esto le permite olvidarse por completo de que incluso está fragmentado y simplemente dejar que Dask haga el trabajo de cargar y analizar fragmentos de manera eficiente."
   ]
  },
  {
   "cell_type": "markdown",
   "id": "26c2ca4c-e7e3-41cc-9873-1f263e42b9fd",
   "metadata": {},
   "source": [
    "**Ritmo de Verano**\n",
    "\n",
    "En el notebook *Building_delayed_pipelines*, descubrió que la capacidad de baile promedio de las canciones ha aumentado desde 2005.\n",
    "\n",
    "Ahora, tiene la tarea de encontrar la capacidad de baile promedio de las canciones lanzadas en diferentes meses.\n",
    "\n",
    "*¿Hay alguna parte del año donde se lanzan más canciones bailables?*\n",
    "\n",
    "Si fueras un músico que hubiera escrito una nueva canción de baile, *¿hay una mejor época del año para lanzarla?* Vamos a averiguar."
   ]
  },
  {
   "cell_type": "code",
   "execution_count": 7,
   "id": "10525568-9fe2-4b2e-9430-5ede2b41df5c",
   "metadata": {},
   "outputs": [
    {
     "data": {
      "image/png": "[encoded data removed]",
      "text/plain": [
       "<Figure size 432x288 with 1 Axes>"
      ]
     },
     "metadata": {
      "needs_background": "light"
     },
     "output_type": "display_data"
    }
   ],
   "source": [
    "months = df['release_date'].dt.month\n",
    "\n",
    "monthly_groupby = df['danceability'].groupby(months)\n",
    "\n",
    "monthly_danceability = monthly_groupby.mean()\n",
    "\n",
    "monthly_danceability_result = monthly_danceability.compute()\n",
    "\n",
    "monthly_danceability_result.plot()\n",
    "plt.show()"
   ]
  },
  {
   "cell_type": "markdown",
   "id": "22b2b56d-4ba5-421e-bed6-dcd0a9d14f6b",
   "metadata": {},
   "source": [
    "¡Agradable! En la gráfica, el eje x muestra los meses 1-12, lo que significa enero-diciembre.\n",
    "\n",
    "**Parece que la música de verano es mucho más bailable.**\n",
    "\n",
    "Esta tarea habría sido mucho más difícil de programar usando los bucles for y las llamadas a funciones retrasadas.\n",
    "\n",
    "El flujo de trabajo que aprendió en *building_delayed_pipelin* solo es bueno cuando está usando funciones personalizadas para las que Dask no tiene bibliotecas especiales."
   ]
  },
  {
   "cell_type": "markdown",
   "id": "be99b37b-308e-48f4-a450-8e04327bfdb3",
   "metadata": {},
   "source": [
    "### Matrices multidimensionales."
   ]
  },
  {
   "cell_type": "markdown",
   "id": "f57b96b6-373d-4281-8c6a-7d1de84b5d16",
   "metadata": {},
   "source": [
    "*Explorando archivos HDF5*\n",
    "\n",
    "Con las matrices Dask, puede cargar datos del popular formato de archivo HDF5 en fragmentos.\n",
    "\n",
    "Esto significa que puede usar todas las funciones de programación de Dask para acelerar el procesamiento de estos datos."
   ]
  },
  {
   "cell_type": "code",
   "execution_count": null,
   "id": "26cfb534-7186-430b-ac43-9b3c065240f6",
   "metadata": {},
   "outputs": [],
   "source": [
    "# Open the HDF5 dataset using h5py\n",
    "hdf5_file = h5py.File('data/era_eu.hdf5')\n",
    "\n",
    "# Load the file into a Dask array with a reasonable chunk size\n",
    "precip = da.from_array(hdf5_file['/precip'], chunks=(12, 15, 15))\n",
    "\n",
    "# Select only the months of January\n",
    "january_rainfalls = precip[0::12]\n",
    "\n",
    "# Calculate the mean rainfall in January for each location\n",
    "january_mean_rainfall = january_rainfalls.mean(axis=0)\n",
    "\n",
    "plt.imshow(january_mean_rainfall.compute())\n",
    "plt.show()"
   ]
  },
  {
   "cell_type": "markdown",
   "id": "72a06010-362f-4902-a4dd-8a49514dc639",
   "metadata": {},
   "source": [
    "Matrices Dask de conjuntos de datos Zarr\n",
    "\n",
    "Tiene la tarea de analizar las temperaturas europeas y se le proporciona el mismo conjunto de datos que estaba en era_eu.hdf pero esta vez en formato Zarr. \n",
    "\n",
    "Zarr es un formato de conjunto de datos moderno y potente para almacenar datos fragmentados.\n",
    "\n",
    "Es particularmente bueno para usar en servicios de computación en la nube, pero también es excelente en su propia computadora."
   ]
  },
  {
   "cell_type": "code",
   "execution_count": null,
   "id": "47ba599e-d6fd-4053-a795-b23036a40fb2",
   "metadata": {},
   "outputs": [],
   "source": [
    "# Load the temperature data from the Zarr dataset\n",
    "temps = da.from_zarr(\"data/era_eu.zarr\", component=\"temp\")\n",
    "\n",
    "# Print the Dask array of temperatures to see the chunk sizes\n",
    "print(temps)\n",
    "\n",
    "# Find the minimum of the mean monthly temperatures\n",
    "all_time_low = temps.min()\n",
    "\n",
    "# Compute the answer\n",
    "all_time_low_value = all_time_low.compute()\n",
    "\n",
    "print(all_time_low_value, \"°C\")"
   ]
  },
  {
   "cell_type": "markdown",
   "id": "6a7a5586-237e-4893-bc06-b43d4ceba187",
   "metadata": {},
   "source": [
    "**Análisis exploratorio de datos con xarray**\n",
    "\n",
    "Xarray facilita el trabajo con datos multidimensionales, al igual que pandas facilita el trabajo con datos tabulares.\n",
    "\n",
    "Lo mejor de todo es que Xarray puede usar Dask en segundo plano para ayudarlo a procesar los datos de manera rápida y eficiente.\n",
    "\n",
    "Se le ha encomendado analizar más a fondo el conjunto de datos meteorológicos europeos.\n",
    "\n",
    "Ahora que sabe cómo usar Xarray, comenzará con un análisis exploratorio de datos."
   ]
  },
  {
   "cell_type": "code",
   "execution_count": null,
   "id": "3b37bc37-346f-48aa-8cc3-64a9603b2018",
   "metadata": {},
   "outputs": [],
   "source": [
    "# Open the ERA5 dataset\n",
    "ds = xr.open_zarr(\"data/era_eu.zarr\")\n",
    "\n",
    "# Select the zeroth time in the DataSet\n",
    "ds_sel = ds.isel(time=0)\n",
    "\n",
    "fig, (ax1, ax2) = plt.subplots(1,2, figsize=(8, 3))\n",
    "\n",
    "# Plot the zeroth temperature field on ax1\n",
    "ds_sel['temp'].plot(ax=ax1)\n",
    "\n",
    "# Plot the zeroth precipitation field on ax2\n",
    "ds_sel['precip'].plot(ax=ax2)\n",
    "plt.show()"
   ]
  },
  {
   "cell_type": "markdown",
   "id": "2acfaa2e-e3aa-40b2-9624-094163605111",
   "metadata": {},
   "source": [
    "¡Buen trabajo! Xarray hace que EDA con datos de matriz sea realmente fácil de hacer, al igual que pandas hace que EDA con datos tabulares sea realmente fácil.\n",
    "\n",
    "Basado en las parcelas, ¡parece que fue un día bastante lluvioso!"
   ]
  },
  {
   "cell_type": "markdown",
   "id": "1898bb23-9905-45b6-89e9-4bf21291eee2",
   "metadata": {},
   "source": [
    "**Temperaturas medias mensuales**\n",
    "\n",
    "Después de ver el análisis de las temperaturas medias, solo falta ver el resto de meses.\n",
    "\n",
    "Esto sería bastante molesto de hacer usando el método que usamos antes, ya que implica una gran cantidad de complicados cortes en el tiempo para seleccionar los meses correctos.\n",
    "\n",
    "Afortunadamente, con Xarray, es mucho más simple."
   ]
  },
  {
   "cell_type": "code",
   "execution_count": null,
   "id": "d2f283b4-d958-4015-8e77-14520f53e955",
   "metadata": {},
   "outputs": [],
   "source": [
    "# Extract the months from the time coordinates\n",
    "months = ds['time'].dt.month\n",
    "\n",
    "# Select the temp DataArray and group by months\n",
    "monthly_groupby = ds['temp'].groupby(months)\n",
    "\n",
    "# Find the mean temp by month\n",
    "monthly_mean_temps = monthly_groupby.mean()\n",
    "\n",
    "# Compute the result\n",
    "monthly_mean_temps_computed = monthly_mean_temps.compute()\n",
    "\n",
    "monthly_mean_temps_computed.plot(col='month', col_wrap=4, add_colorbar=False)\n",
    "plt.show()"
   ]
  },
  {
   "cell_type": "markdown",
   "id": "f2bed919-0a93-41f1-be69-dcbf18960d12",
   "metadata": {},
   "source": [
    "¡Buen trabajo! ¿Te diste cuenta de lo similar que era este ejercicio al ejercicio en el que calculaste la bailabilidad mensual?\n",
    "\n",
    "Xarray fue diseñado para ser similar a los pandas, así que si conoces a los pandas, ¡podrás ser bueno en Xarray muy rápidamente!"
   ]
  },
  {
   "cell_type": "markdown",
   "id": "6e9beb27-a88c-4405-b65e-6aba7a54f7a3",
   "metadata": {},
   "source": [
    "**Cálculo de la tendencia de las temperaturas europeas**\n",
    "\n",
    "Desea calcular la temperatura media europea desde 1980 hasta la actualidad utilizando el conjunto de datos ERA5.\n",
    "\n",
    "Estos datos son un conjunto de datos de Zarr de temperatura y precipitación media mensual, en una cuadrícula de latitudes y longitudes.\n",
    "\n",
    "El archivo Zarr está fragmentado para que cada subarchivo en el disco sea una matriz de 15 latitudes, 15 longitudes y 12 meses."
   ]
  },
  {
   "cell_type": "code",
   "execution_count": null,
   "id": "3873b725-7e56-4e59-9682-a62b9e3d235a",
   "metadata": {},
   "outputs": [],
   "source": [
    "# Open the ERA5 dataset\n",
    "ds = xr.open_zarr(\"data/era_eu.zarr\")\n",
    "\n",
    "# Select the temperature dataset and take the latitude and longitude mean\n",
    "temp_timeseries = ds['temp'].mean(dim=('lat', 'lon'))\n",
    "\n",
    "# Calculate the 12 month rolling mean\n",
    "temp_rolling_mean = temp_timeseries.rolling(time=12).mean()\n",
    "\n",
    "# Plot the result\n",
    "temp_rolling_mean.plot()\n",
    "plt.show()"
   ]
  },
  {
   "cell_type": "markdown",
   "id": "dcb388cb-6201-45a3-9321-70a243351062",
   "metadata": {},
   "source": [
    "Bien hecho, esta es una tendencia bastante importante.\n",
    "\n",
    "Usar **xarray** e **dask** hizo esta tarea realmente fácil.\n",
    "\n",
    "Piense cuánto código necesitaría escribir para cargar en los archivos separados, tome los promedios en todas las latitudes y longitudes, y luego ejecute un promedio móvil, ¡todo mientras mantiene bajo el uso de la memoria! \n",
    "\n",
    "Esto implica pasar mucha información entre fragmentos de datos, por dask lo que se trabajó mucho para optimizar esto detrás de escena."
   ]
  }
 ],
 "metadata": {
  "kernelspec": {
   "display_name": "Python 3 (ipykernel)",
   "language": "python",
   "name": "python3"
  },
  "language_info": {
   "codemirror_mode": {
    "name": "ipython",
    "version": 3
   },
   "file_extension": ".py",
   "mimetype": "text/x-python",
   "name": "python",
   "nbconvert_exporter": "python",
   "pygments_lexer": "ipython3",
   "version": "3.9.7"
  }
 },
 "nbformat": 4,
 "nbformat_minor": 5
}
