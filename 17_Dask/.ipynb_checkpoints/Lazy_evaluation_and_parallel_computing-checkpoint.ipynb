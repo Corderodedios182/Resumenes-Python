{
 "cells": [
  {
   "cell_type": "markdown",
   "id": "98956e17-49b0-43fe-b94e-beaada5ddf84",
   "metadata": {},
   "source": [
    "Python comenzará a trabajar hasta el método *compute()*\n",
    "\n",
    "A veces, los problemas no encajan en una de las colecciones como dask.array o dask.dataframe.\n",
    "\n",
    "En estos casos, los usuarios pueden paralelizar algoritmos personalizados utilizando la dask.delayed interfaz más simple.\n",
    "\n",
    "Esto le permite crear gráficos directamente con una ligera anotación de código python normal."
   ]
  },
  {
   "cell_type": "code",
   "execution_count": 11,
   "id": "8bafe634-5e09-461c-a16b-a0d28a083e5c",
   "metadata": {},
   "outputs": [
    {
     "data": {
      "text/plain": [
       "50"
      ]
     },
     "execution_count": 11,
     "metadata": {},
     "output_type": "execute_result"
    }
   ],
   "source": [
    "import dask\n",
    "import numpy as np\n",
    "from dask import delayed\n",
    "\n",
    "@dask.delayed\n",
    "def inc(x):\n",
    "    return x + 1\n",
    "\n",
    "@dask.delayed\n",
    "def double(x):\n",
    "    return x * 2\n",
    "\n",
    "@dask.delayed\n",
    "def add(x, y):\n",
    "    return x + y\n",
    "\n",
    "data = [1, 2, 3, 4, 5]\n",
    "\n",
    "output = []\n",
    "for x in data:\n",
    "    a = inc(x)\n",
    "    b = double(x)\n",
    "    c = add(a, b)\n",
    "    output.append(c)\n",
    "\n",
    "total = dask.delayed(sum)(output)\n",
    "total.compute()"
   ]
  },
  {
   "cell_type": "code",
   "execution_count": 18,
   "id": "379cad94-925c-4008-8a74-56f45cd78da2",
   "metadata": {},
   "outputs": [
    {
     "data": {
      "text/plain": [
       "16"
      ]
     },
     "execution_count": 18,
     "metadata": {},
     "output_type": "execute_result"
    }
   ],
   "source": [
    "def my_square_function(x):\n",
    "    return x**2\n",
    "\n",
    "delayed_square_function = delayed(my_square_function)\n",
    "\n",
    "delayed_square_function(4).compute()"
   ]
  },
  {
   "cell_type": "code",
   "execution_count": 23,
   "id": "8e7eb7cc-623a-49bf-8bd4-81cbd379972a",
   "metadata": {},
   "outputs": [
    {
     "data": {
      "text/plain": [
       "100"
      ]
     },
     "execution_count": 23,
     "metadata": {},
     "output_type": "execute_result"
    }
   ],
   "source": [
    "#Uso de los resultados de un decorator delayed()\n",
    "result_delayed = delayed(my_square_function)(4)\n",
    "\n",
    "((4 + result_delayed) * 5).compute()"
   ]
  },
  {
   "cell_type": "code",
   "execution_count": 25,
   "id": "28782305-fe48-4d33-b3e5-5e07eaacadba",
   "metadata": {},
   "outputs": [
    {
     "data": {
      "text/plain": [
       "27268"
      ]
     },
     "execution_count": 25,
     "metadata": {},
     "output_type": "execute_result"
    }
   ],
   "source": [
    "x_list = [30, 85, 14, 12, 27, 62, 89, 15, 78,  0]\n",
    "\n",
    "sum_of_squares = 0\n",
    "\n",
    "for x in x_list:\n",
    "    \n",
    "    sum_of_squares += delayed(my_square_function)(x)\n",
    "\n",
    "sum_of_squares.compute()"
   ]
  },
  {
   "cell_type": "code",
   "execution_count": 4,
   "id": "4aec7e5b-32a1-4f23-a3f7-09b230a4086a",
   "metadata": {},
   "outputs": [
    {
     "name": "stdout",
     "output_type": "stream",
     "text": [
      "Converting to percentage\n",
      "Delayed('fraction_to_percent-8075248f-fcfa-4d25-8b56-3e5fbfc37742')\n",
      "0.3\n"
     ]
    }
   ],
   "source": [
    "def fraction_to_percent(x):\n",
    "     percentage = x * 100\n",
    "     print('Converting to percentage')\n",
    "     return x\n",
    "\n",
    "frac = 0.3\n",
    "percentage = delayed(fraction_to_percent)(frac)\n",
    "computed_percentage = percentage.compute()\n",
    "\n",
    "print(percentage)\n",
    "print(computed_percentage)"
   ]
  },
  {
   "cell_type": "code",
   "execution_count": 15,
   "id": "c26c1b2b-5db9-48be-9d1f-d970c3b889c6",
   "metadata": {},
   "outputs": [
    {
     "name": "stdout",
     "output_type": "stream",
     "text": [
      "13032\n"
     ]
    }
   ],
   "source": [
    "costs_week_1 = [121, 729, 441, 961, 841, 729, 25, 225, 256, 441, 400, 484, 900]\n",
    "costs_week_2 = [196,361,81,441,49,100,729,841,676,256,121,576,49,100,49,16,961,36,841]\n",
    "\n",
    "sum1 = delayed(np.sum)(costs_week_1)\n",
    "sum2 = delayed(np.sum)(costs_week_2)\n",
    "\n",
    "total = sum1 + sum2\n",
    "\n",
    "print(total.compute())"
   ]
  }
 ],
 "metadata": {
  "kernelspec": {
   "display_name": "Python 3 (ipykernel)",
   "language": "python",
   "name": "python3"
  },
  "language_info": {
   "codemirror_mode": {
    "name": "ipython",
    "version": 3
   },
   "file_extension": ".py",
   "mimetype": "text/x-python",
   "name": "python",
   "nbconvert_exporter": "python",
   "pygments_lexer": "ipython3",
   "version": "3.9.7"
  }
 },
 "nbformat": 4,
 "nbformat_minor": 5
}
