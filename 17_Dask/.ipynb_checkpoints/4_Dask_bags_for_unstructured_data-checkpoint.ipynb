{
 "cells": [
  {
   "cell_type": "markdown",
   "id": "0ec2f8b9-394e-4131-aaf8-c3cd7307c9c8",
   "metadata": {},
   "source": [
    "*¿Qué es un dask bag?*\n",
    "\n",
    "Dask Bag implementa operaciones como map, filter, fold y groupby en colecciones de objetos genéricos de Python.\n",
    "\n",
    "Hace esto en paralelo con una pequeña huella de memoria usando iteradores de Python.\n",
    "\n",
    "Es similar a una versión paralela de PyToolz o una versión Pythonic de PySpark RDD.\n",
    "\n",
    "Las bolsas Dask coordinan muchas listas de Python o iteradores, cada uno de los cuales forma una partición de una colección más grande."
   ]
  },
  {
   "cell_type": "markdown",
   "id": "9d7d6372-2620-486c-9e5d-faca5f53d3a9",
   "metadata": {},
   "source": [
    "#### Operaciones dask bag"
   ]
  },
  {
   "cell_type": "code",
   "execution_count": 33,
   "id": "9e17ce51-f248-4332-be10-63b49f48dcf1",
   "metadata": {},
   "outputs": [
    {
     "data": {
      "text/plain": [
       "dask.bag<from_sequence, npartitions=4>"
      ]
     },
     "execution_count": 33,
     "metadata": {},
     "output_type": "execute_result"
    }
   ],
   "source": [
    "import dask.bag as db\n",
    "import json\n",
    "\n",
    "b = db.from_sequence([1,2,3,4,5,6,7,8,9,10], npartitions= 4)\n",
    "b"
   ]
  },
  {
   "cell_type": "code",
   "execution_count": 39,
   "id": "75bc48f6-9679-4079-a68f-4a24cf12e621",
   "metadata": {},
   "outputs": [
    {
     "data": {
      "text/plain": [
       "[1, 4, 9, 16, 25, 36, 49, 64, 81, 100]"
      ]
     },
     "execution_count": 39,
     "metadata": {},
     "output_type": "execute_result"
    }
   ],
   "source": [
    "b.map(lambda x : x**2).compute()"
   ]
  },
  {
   "cell_type": "code",
   "execution_count": 38,
   "id": "b26a8af0-5fb3-4c0d-9818-fdf4ae145dae",
   "metadata": {},
   "outputs": [
    {
     "data": {
      "text/plain": [
       "1"
      ]
     },
     "execution_count": 38,
     "metadata": {},
     "output_type": "execute_result"
    }
   ],
   "source": [
    "b.filter(lambda x: x % 2 == 0).map(lambda x: x == 2).sum().compute()"
   ]
  },
  {
   "cell_type": "markdown",
   "id": "7513bcc6-5b75-4e79-8a28-1732983ab450",
   "metadata": {},
   "source": [
    "¿Como trabajar con dask bag y json?"
   ]
  },
  {
   "cell_type": "code",
   "execution_count": 145,
   "id": "4f27da65-eeaa-4297-b5a3-6c26deb340b6",
   "metadata": {},
   "outputs": [
    {
     "name": "stdout",
     "output_type": "stream",
     "text": [
      "({'gender': 'male', 'id': '0067809f-2146-46ee-9249-a0d1be5ecb4f', 'identifiers': [{'identifier': '1771', 'scheme': 'everypolitician_legacy'}], 'image': 'http://www.wolesi.website/Media/Images/mine/m-abduljabbar.jpg', 'images': [{'url': 'http://www.wolesi.website/Media/Images/mine/m-abduljabbar.jpg'}], 'name': 'Haji Abdul Jabar , Takhar'},)\n"
     ]
    }
   ],
   "source": [
    "text_bag = db.read_text(\"data/politicians/*.json\")\n",
    "\n",
    "dict_bag = text_bag.map(json.loads)\n",
    "\n",
    "print(dict_bag.take(1))"
   ]
  },
  {
   "cell_type": "markdown",
   "id": "97aae550-081a-4dec-8aca-767b67ed041e",
   "metadata": {},
   "source": [
    "Sabemos que algunos diccionarios tienen la llave birth_date.\n",
    "\n",
    "¿Cuantos registros tienen esta llave birth_date?"
   ]
  },
  {
   "cell_type": "code",
   "execution_count": 146,
   "id": "3b0255bc-8242-4e71-ac2e-3ffba98ea0ba",
   "metadata": {},
   "outputs": [
    {
     "name": "stdout",
     "output_type": "stream",
     "text": [
      "3860\n",
      "3120\n"
     ]
    }
   ],
   "source": [
    "print(dict_bag.count().compute())\n",
    "\n",
    "def has_birth_date(dictionary):\n",
    "  return 'birth_date' in dictionary\n",
    "\n",
    "filtered_bag = dict_bag.filter(has_birth_date)\n",
    "\n",
    "print(filtered_bag.count().compute())"
   ]
  },
  {
   "cell_type": "markdown",
   "id": "dfbb78d0-b037-4ea6-b1c9-b85bf821f73a",
   "metadata": {},
   "source": [
    "¿Cual será el minímo, máximo y promedio de años de nacimiento?"
   ]
  },
  {
   "cell_type": "code",
   "execution_count": 147,
   "id": "f3834752-c35f-409e-9a46-8359a6ecc09e",
   "metadata": {},
   "outputs": [
    {
     "data": {
      "text/plain": [
       "('1972',\n",
       " '1962',\n",
       " '1961',\n",
       " '1954',\n",
       " '1979',\n",
       " '1969',\n",
       " '1981-04-19',\n",
       " '1974',\n",
       " '1975',\n",
       " '1965',\n",
       " '1957',\n",
       " '1985-03-22',\n",
       " '1962',\n",
       " '1964',\n",
       " '1946')"
      ]
     },
     "execution_count": 147,
     "metadata": {},
     "output_type": "execute_result"
    }
   ],
   "source": [
    "filtered_bag.pluck('birth_date').take(15) #Selección de la llave 'birth_date'"
   ]
  },
  {
   "cell_type": "code",
   "execution_count": 148,
   "id": "bf5f7153-0cfd-4861-960b-200e3da3708f",
   "metadata": {},
   "outputs": [
    {
     "name": "stdout",
     "output_type": "stream",
     "text": [
      "(1886, 1995, 1957.8483974358974)\n"
     ]
    }
   ],
   "source": [
    "birth_date_bag = filtered_bag.pluck('birth_date')\n",
    "\n",
    "# Extae el año como un número entero de la cadenas de fecha de nacimiento\n",
    "birth_year_bag = birth_date_bag.map(lambda x: int(x[:4])) #1985-03-22 => tomará 1985\n",
    "\n",
    "min_year = birth_year_bag.min()\n",
    "max_year = birth_year_bag.max()\n",
    "mean_year = birth_year_bag.mean()\n",
    "\n",
    "print(dask.compute(min_year, max_year, mean_year))"
   ]
  },
  {
   "cell_type": "markdown",
   "id": "21837c5a-d20a-451f-b15a-dcd8dd4ca875",
   "metadata": {},
   "source": [
    "**Convertir datos no estructurados en DataFrames**"
   ]
  },
  {
   "cell_type": "markdown",
   "id": "c7db7ca0-ff67-4257-9c69-c9c3a498f5a6",
   "metadata": {},
   "source": [
    "Puede ser complicado trabajar con map, filter en objetos Json.\n",
    "\n",
    "Para esto podemos convertir en marcos de datos DataFrame."
   ]
  },
  {
   "cell_type": "code",
   "execution_count": 107,
   "id": "af22e8d2-cc28-48ae-841c-91c53f164f12",
   "metadata": {},
   "outputs": [
    {
     "data": {
      "text/plain": [
       "({'gender': 'male',\n",
       "  'id': '0067809f-2146-46ee-9249-a0d1be5ecb4f',\n",
       "  'identifiers': [{'identifier': '1771', 'scheme': 'everypolitician_legacy'}],\n",
       "  'image': 'http://www.wolesi.website/Media/Images/mine/m-abduljabbar.jpg',\n",
       "  'images': [{'url': 'http://www.wolesi.website/Media/Images/mine/m-abduljabbar.jpg'}],\n",
       "  'name': 'Haji Abdul Jabar , Takhar'},)"
      ]
     },
     "execution_count": 107,
     "metadata": {},
     "output_type": "execute_result"
    }
   ],
   "source": [
    "dict_bag.take(1)"
   ]
  },
  {
   "cell_type": "code",
   "execution_count": 115,
   "id": "a0a0d55d-6f88-4ef1-9558-f38bb60c6093",
   "metadata": {},
   "outputs": [
    {
     "data": {
      "text/html": [
       "<div>\n",
       "<style scoped>\n",
       "    .dataframe tbody tr th:only-of-type {\n",
       "        vertical-align: middle;\n",
       "    }\n",
       "\n",
       "    .dataframe tbody tr th {\n",
       "        vertical-align: top;\n",
       "    }\n",
       "\n",
       "    .dataframe thead th {\n",
       "        text-align: right;\n",
       "    }\n",
       "</style>\n",
       "<table border=\"1\" class=\"dataframe\">\n",
       "  <thead>\n",
       "    <tr style=\"text-align: right;\">\n",
       "      <th></th>\n",
       "      <th>gender</th>\n",
       "      <th>id</th>\n",
       "      <th>identifiers</th>\n",
       "      <th>image</th>\n",
       "      <th>images</th>\n",
       "      <th>name</th>\n",
       "    </tr>\n",
       "  </thead>\n",
       "  <tbody>\n",
       "    <tr>\n",
       "      <th>0</th>\n",
       "      <td>male</td>\n",
       "      <td>0067809f-2146-46ee-9249-a0d1be5ecb4f</td>\n",
       "      <td>[{'identifier': '1771', 'scheme': 'everypoliti...</td>\n",
       "      <td>http://www.wolesi.website/Media/Images/mine/m-...</td>\n",
       "      <td>[{'url': 'http://www.wolesi.website/Media/Imag...</td>\n",
       "      <td>Haji Abdul Jabar , Takhar</td>\n",
       "    </tr>\n",
       "    <tr>\n",
       "      <th>1</th>\n",
       "      <td>female</td>\n",
       "      <td>0282b3d6-c7a4-47ab-bcbe-cdc3e2b26437</td>\n",
       "      <td>[{'identifier': '1936', 'scheme': 'everypoliti...</td>\n",
       "      <td>http://www.wolesi.website/Media/Images/mine/sh...</td>\n",
       "      <td>[{'url': 'http://www.wolesi.website/Media/Imag...</td>\n",
       "      <td>Alhaj Shakila Hashimi-Logar</td>\n",
       "    </tr>\n",
       "    <tr>\n",
       "      <th>2</th>\n",
       "      <td>female</td>\n",
       "      <td>030b25fb-05d6-4acb-809d-c122db9e0f94</td>\n",
       "      <td>[{'identifier': '1847', 'scheme': 'everypoliti...</td>\n",
       "      <td>http://www.wolesi.website/Media/Images/mine/sh...</td>\n",
       "      <td>[{'url': 'http://www.wolesi.website/Media/Imag...</td>\n",
       "      <td>Shukria Barakzai-Kabul</td>\n",
       "    </tr>\n",
       "  </tbody>\n",
       "</table>\n",
       "</div>"
      ],
      "text/plain": [
       "   gender                                    id  \\\n",
       "0    male  0067809f-2146-46ee-9249-a0d1be5ecb4f   \n",
       "1  female  0282b3d6-c7a4-47ab-bcbe-cdc3e2b26437   \n",
       "2  female  030b25fb-05d6-4acb-809d-c122db9e0f94   \n",
       "\n",
       "                                         identifiers  \\\n",
       "0  [{'identifier': '1771', 'scheme': 'everypoliti...   \n",
       "1  [{'identifier': '1936', 'scheme': 'everypoliti...   \n",
       "2  [{'identifier': '1847', 'scheme': 'everypoliti...   \n",
       "\n",
       "                                               image  \\\n",
       "0  http://www.wolesi.website/Media/Images/mine/m-...   \n",
       "1  http://www.wolesi.website/Media/Images/mine/sh...   \n",
       "2  http://www.wolesi.website/Media/Images/mine/sh...   \n",
       "\n",
       "                                              images  \\\n",
       "0  [{'url': 'http://www.wolesi.website/Media/Imag...   \n",
       "1  [{'url': 'http://www.wolesi.website/Media/Imag...   \n",
       "2  [{'url': 'http://www.wolesi.website/Media/Imag...   \n",
       "\n",
       "                          name  \n",
       "0    Haji Abdul Jabar , Takhar  \n",
       "1  Alhaj Shakila Hashimi-Logar  \n",
       "2       Shukria Barakzai-Kabul  "
      ]
     },
     "execution_count": 115,
     "metadata": {},
     "output_type": "execute_result"
    }
   ],
   "source": [
    "df_bag = dict_bag.to_dataframe()\n",
    "df_bag.head(3)"
   ]
  },
  {
   "cell_type": "markdown",
   "id": "75c5fc98-fd5f-4200-aef7-939cd02d9d41",
   "metadata": {},
   "source": [
    "**Reestructuración de un diccionario**\n",
    "\n",
    "Ahora desea limpiar los datos de los políticos y moverlos a un Dask DataFrame.\n",
    "\n",
    "Sin embargo, los datos de los políticos están anidados, por lo que deberá procesarlos un poco más antes de que encajen en un DataFrame.\n",
    "\n",
    "Una parte particular de los datos que desea extraer está enterrada en algunas capas dentro del diccionario."
   ]
  },
  {
   "cell_type": "code",
   "execution_count": 135,
   "id": "8a3d17ea-b504-40e5-ad84-6f2f48199f51",
   "metadata": {},
   "outputs": [
    {
     "name": "stdout",
     "output_type": "stream",
     "text": [
      "({'gender': 'male', 'id': '0067809f-2146-46ee-9249-a0d1be5ecb4f', 'identifiers': [{'identifier': '1771', 'scheme': 'everypolitician_legacy'}], 'image': 'http://www.wolesi.website/Media/Images/mine/m-abduljabbar.jpg', 'images': [{'url': 'http://www.wolesi.website/Media/Images/mine/m-abduljabbar.jpg'}], 'name': 'Haji Abdul Jabar , Takhar', 'url': 'http://www.wolesi.website/Media/Images/mine/m-abduljabbar.jpg', 'images_url': 'http://www.wolesi.website/Media/Images/mine/m-abduljabbar.jpg'},)\n"
     ]
    }
   ],
   "source": [
    "def extract_images_url(x):\n",
    "    x['images_url'] = x['images'][0]['url'] #Selección de la llave images valor 0 y url.\n",
    "    return x\n",
    "  \n",
    "# Función que corre para cada elemento del dask bak.\n",
    "dict_bag = dict_bag.map(extract_url)\n",
    "\n",
    "print(dict_bag.take(1))"
   ]
  },
  {
   "cell_type": "markdown",
   "id": "5b7a13b2-9021-4744-b7b9-a4c1857246eb",
   "metadata": {},
   "source": [
    "**Conversión a marco de datos**\n",
    "\n",
    "Desea hacer un DataFrame a partir de los datos JSON del político.\n",
    "\n",
    "Ahora que ha anidado los datos, todo lo que necesita hacer es seleccionar las claves para \n",
    "mantenerlas como columnas en el DataFrame."
   ]
  },
  {
   "cell_type": "code",
   "execution_count": 154,
   "id": "a39a3d6e-350a-4d71-b356-5153ef51d9e6",
   "metadata": {},
   "outputs": [
    {
     "name": "stdout",
     "output_type": "stream",
     "text": [
      "                                              images\n",
      "0  [{'url': 'http://www.wolesi.website/Media/Imag...\n",
      "1  [{'url': 'http://www.wolesi.website/Media/Imag...\n",
      "2  [{'url': 'http://www.wolesi.website/Media/Imag...\n",
      "3  [{'url': 'http://www.wolesi.website/Media/Imag...\n",
      "4  [{'url': 'http://www.wolesi.website/Media/Imag...\n"
     ]
    }
   ],
   "source": [
    "def select_keys(dictionary, keys_to_keep):\n",
    "  new_dict = {}\n",
    "  # Loop through kept keys and add them to new dictionary\n",
    "  for k in keys_to_keep:\n",
    "    new_dict[k] = dictionary[k]\n",
    "  return new_dict\n",
    "\n",
    "# Use the select_keys to reduce to the 4 required keys\n",
    "filtered_bag = dict_bag.map(select_keys, keys_to_keep=['images'])\n",
    "\n",
    "# Convert the restructured bag to a DataFrame\n",
    "df = filtered_bag.to_dataframe()\n",
    "\n",
    "# Print the first few rows of the DataFrame\n",
    "print(df.head())"
   ]
  },
  {
   "cell_type": "markdown",
   "id": "993d84b6-474a-4016-bdf5-999ad6a1d0f3",
   "metadata": {},
   "source": [
    "**Usando cualquier datos en dask bags.**"
   ]
  },
  {
   "cell_type": "markdown",
   "id": "bcae35f7-1097-42ab-b183-ac829870263a",
   "metadata": {},
   "source": [
    "Es posible trabajar con archivos .mp4 y almacenar los registros en dask bag."
   ]
  }
 ],
 "metadata": {
  "kernelspec": {
   "display_name": "Python 3 (ipykernel)",
   "language": "python",
   "name": "python3"
  },
  "language_info": {
   "codemirror_mode": {
    "name": "ipython",
    "version": 3
   },
   "file_extension": ".py",
   "mimetype": "text/x-python",
   "name": "python",
   "nbconvert_exporter": "python",
   "pygments_lexer": "ipython3",
   "version": "3.9.7"
  }
 },
 "nbformat": 4,
 "nbformat_minor": 5
}
