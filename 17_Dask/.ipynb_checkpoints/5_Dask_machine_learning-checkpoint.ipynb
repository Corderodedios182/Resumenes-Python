{
 "cells": [
  {
   "cell_type": "markdown",
   "id": "efedba35-341d-461d-9d52-7c75ae2bafbf",
   "metadata": {},
   "source": [
    "**Programador preterminado dask**\n",
    "    \n",
    "**Threads vs. processes**\n",
    "\n",
    "*Thredas (Hilos) :*\n",
    "\n",
    "    - Dask arrays\n",
    "    - Dask dataframes\n",
    "    - Delayed pipelines creados con dask.delayed()\n",
    "    - Son muy rápidos para inicia\n",
    "    - No es necesario transferirles datos\n",
    "    - Están limitados por el GIL, lo que permite que un subproceso lea el código de una sola vez\n",
    "    \n",
    "*Processes (Procesos) :*\n",
    "    \n",
    "    - Dask bags\n",
    "    - Tómese el tiempo para configurar\n",
    "    - Lento para transferir datos\n",
    "    - Cada uno tiene su propio GIL, por lo que no es necesario turnarse para leer el código\n",
    "\n",
    "*Elegir el programador*"
   ]
  },
  {
   "cell_type": "code",
   "execution_count": 1,
   "id": "b020c57c-55c3-4176-81e1-0a116d0b4fcc",
   "metadata": {},
   "outputs": [],
   "source": [
    "import dask.dataframe as dd\n",
    "import dask\n",
    "\n",
    "df  = dd.read_csv(\"spotify/*.csv\", blocksize=\"1MB\")"
   ]
  },
  {
   "cell_type": "code",
   "execution_count": 2,
   "id": "0184b394-9893-4aa3-ab52-505dd877815f",
   "metadata": {},
   "outputs": [
    {
     "data": {
      "text/plain": [
       "(0       114.0\n",
       " 1       112.0\n",
       " 2       121.0\n",
       " 3       170.0\n",
       " 4       160.0\n",
       "         ...  \n",
       " 5378    120.0\n",
       " 5379    140.0\n",
       " 5380    127.0\n",
       " 5381     90.0\n",
       " 5382     92.0\n",
       " Name: tempo, Length: 161738, dtype: float64,)"
      ]
     },
     "execution_count": 2,
     "metadata": {},
     "output_type": "execute_result"
    }
   ],
   "source": [
    "x = df[\"tempo\"].round()\n",
    "\n",
    "#Uso normal\n",
    "result = x.compute()\n",
    "result = dask.compute(x)\n",
    "result"
   ]
  },
  {
   "cell_type": "code",
   "execution_count": 3,
   "id": "0d3fcafe-7e9a-4108-9074-dde80c68c293",
   "metadata": {},
   "outputs": [
    {
     "data": {
      "text/plain": [
       "(0       114.0\n",
       " 1       112.0\n",
       " 2       121.0\n",
       " 3       170.0\n",
       " 4       160.0\n",
       "         ...  \n",
       " 5378    120.0\n",
       " 5379    140.0\n",
       " 5380    127.0\n",
       " 5381     90.0\n",
       " 5382     92.0\n",
       " Name: tempo, Length: 161738, dtype: float64,)"
      ]
     },
     "execution_count": 3,
     "metadata": {},
     "output_type": "execute_result"
    }
   ],
   "source": [
    "#Uso de threads (hilos)\n",
    "result = x.compute(scheduler = 'threads')\n",
    "result = dask.compute(x, sheduler = 'threads')\n",
    "result"
   ]
  },
  {
   "cell_type": "code",
   "execution_count": 4,
   "id": "0d20d99a-c29d-4024-9c52-b00dec8c7a6a",
   "metadata": {},
   "outputs": [
    {
     "data": {
      "text/plain": [
       "(0       114.0\n",
       " 1       112.0\n",
       " 2       121.0\n",
       " 3       170.0\n",
       " 4       160.0\n",
       "         ...  \n",
       " 5378    120.0\n",
       " 5379    140.0\n",
       " 5380    127.0\n",
       " 5381     90.0\n",
       " 5382     92.0\n",
       " Name: tempo, Length: 161738, dtype: float64,)"
      ]
     },
     "execution_count": 4,
     "metadata": {},
     "output_type": "execute_result"
    }
   ],
   "source": [
    "# Use processes\n",
    "result = x.compute(scheduler='processes')\n",
    "result = dask.compute(x, scheduler='processes')\n",
    "result"
   ]
  },
  {
   "cell_type": "markdown",
   "id": "e5a7d1ae-3ef3-44a6-ba30-987f58fbf7d6",
   "metadata": {},
   "source": [
    "**Clústeres y clientes**\n",
    "\n",
    "Según el hardware de su computadora y el cálculo que está tratando de completar, puede ser más rápido ejecutarlo usando una combinación de subprocesos y procesos.\n",
    "\n",
    "Para ello, debe configurar un clúster local.\n",
    "\n",
    "Hay dos formas de configurar un clúster local que usará Dask.\n",
    "\n",
    "La primera forma es crear el clúster local y pasarlo a un cliente.\n",
    "\n",
    "¡Esto es muy similar a cómo configuraría un cliente para que se ejecute en un grupo de computadoras! \n",
    "\n",
    "La segunda forma es usar el cliente directamente y permitirle crear el clúster local por sí mismo.\n",
    "\n",
    "Este es un atajo que funciona para clústeres locales, pero no para otros tipos de clústeres.\n",
    "\n",
    "Creamos clientes utilizando ambos métodos.\n",
    "\n",
    "Tenga cuidado al crear el clúster y los clientes. Si los configura incorrectamente, su sesión puede expirar."
   ]
  },
  {
   "cell_type": "markdown",
   "id": "6b8be780-93f3-463c-9dbc-5f7d49c4df24",
   "metadata": {},
   "source": [
    "**Creación de un cluster local**"
   ]
  },
  {
   "cell_type": "code",
   "execution_count": 5,
   "id": "323a8cbe-4b8f-4038-a537-9872d2a975be",
   "metadata": {},
   "outputs": [
    {
     "name": "stdout",
     "output_type": "stream",
     "text": [
      "LocalCluster(63d35828, 'tcp://127.0.0.1:51446', workers=2, threads=4, memory=39.69 GiB)\n"
     ]
    }
   ],
   "source": [
    "from dask.distributed import Client, LocalCluster\n",
    "\n",
    "cluster = LocalCluster(\n",
    "    processes=True,\n",
    "    n_workers=2,\n",
    "    threads_per_worker=2)\n",
    "\n",
    "print(cluster)"
   ]
  },
  {
   "cell_type": "code",
   "execution_count": null,
   "id": "519870e7-dd1e-4e5d-8498-dae1f91b73b4",
   "metadata": {},
   "outputs": [],
   "source": [
    "cluster = LocalCluster(\n",
    "    processes=False,\n",
    "    n_workers=2,\n",
    "    threads_per_worker=2)\n",
    "\n",
    "print(cluster)"
   ]
  },
  {
   "cell_type": "markdown",
   "id": "a3719605-926e-443a-9df9-974174e2b5dd",
   "metadata": {},
   "source": [
    "**Un cluster simple**"
   ]
  },
  {
   "cell_type": "code",
   "execution_count": null,
   "id": "c3353c61-bb3c-4bc2-8468-8b7efebcddd8",
   "metadata": {},
   "outputs": [],
   "source": [
    "cluster = LocalCluster(processes=True)\n",
    "\n",
    "print(cluster)"
   ]
  },
  {
   "cell_type": "markdown",
   "id": "178aec18-2493-4a79-ace3-40ab06ba570e",
   "metadata": {},
   "source": [
    "**Creación de un cliente**"
   ]
  },
  {
   "cell_type": "code",
   "execution_count": 6,
   "id": "51b066e3-5aa2-438e-bbf5-145a3f3b725b",
   "metadata": {},
   "outputs": [
    {
     "name": "stdout",
     "output_type": "stream",
     "text": [
      "<Client: 'tcp://127.0.0.1:51446' processes=2 threads=4, memory=39.69 GiB>\n"
     ]
    }
   ],
   "source": [
    "client = Client(cluster)\n",
    "\n",
    "print(client)"
   ]
  },
  {
   "cell_type": "markdown",
   "id": "6a6ceecf-3233-4948-8761-7457327d071c",
   "metadata": {},
   "source": [
    "Uso del cluster"
   ]
  },
  {
   "cell_type": "code",
   "execution_count": 9,
   "id": "ce0ba6a5-6057-4a80-9ec9-1899ca7eccbc",
   "metadata": {},
   "outputs": [],
   "source": [
    "result = x.compute()\n",
    "result = x.compute(scheduler='threads')\n",
    "result = client.compute(x)"
   ]
  },
  {
   "cell_type": "code",
   "execution_count": 10,
   "id": "1b1637e3-5f43-4b94-bf04-48ac5e9d81d2",
   "metadata": {},
   "outputs": [
    {
     "data": {
      "text/html": [
       "<strong>Future: finalize</strong>\n",
       "<span style=\"color: var(--jp-ui-font-color2, gray)\"> status: </span>\n",
       "\n",
       "\n",
       "<span style=\"color: var(--jp-error-color0, black)\">finished</span>,\n",
       "\n",
       "\n",
       "\n",
       "<span style=\"color: var(--jp-ui-font-color2, gray)\"> type:</span> pandas.core.series.Series,\n",
       "\n",
       "\n",
       "<span style=\"color: var(--jp-ui-font-color2, gray)\"> key:</span> finalize-cf31f672400f671f54038bf826501b96"
      ],
      "text/plain": [
       "<Future: finished, type: pandas.core.series.Series, key: finalize-cf31f672400f671f54038bf826501b96>"
      ]
     },
     "execution_count": 10,
     "metadata": {},
     "output_type": "execute_result"
    }
   ],
   "source": [
    "result"
   ]
  },
  {
   "cell_type": "markdown",
   "id": "b6f91091-66d2-4738-95d0-b82d57b77cfe",
   "metadata": {},
   "source": [
    "### Entrenamiento de modelos machine learning con grandes conjuntos de datos"
   ]
  },
  {
   "cell_type": "code",
   "execution_count": null,
   "id": "065eb745-ac67-4409-b7dc-421ec47bf12c",
   "metadata": {},
   "outputs": [],
   "source": []
  }
 ],
 "metadata": {
  "kernelspec": {
   "display_name": "Python 3 (ipykernel)",
   "language": "python",
   "name": "python3"
  },
  "language_info": {
   "codemirror_mode": {
    "name": "ipython",
    "version": 3
   },
   "file_extension": ".py",
   "mimetype": "text/x-python",
   "name": "python",
   "nbconvert_exporter": "python",
   "pygments_lexer": "ipython3",
   "version": "3.9.7"
  }
 },
 "nbformat": 4,
 "nbformat_minor": 5
}
