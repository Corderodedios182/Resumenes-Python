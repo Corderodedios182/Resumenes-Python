{
 "cells": [
  {
   "cell_type": "markdown",
   "id": "47db2c9a-efbc-43cc-a3d8-1a3e4e927066",
   "metadata": {},
   "source": [
    "**Analizando canciones en Spotify con dask**\n",
    "\n",
    "Tiene una lista de archivos CSV que desea agregar para investigar el catálogo de música de Spotify.\n",
    "\n",
    "Es importante destacar que desea poder hacer esto rápidamente y utilizar toda su potencia informática disponible para hacerlo.\n",
    "\n",
    "Cada archivo CSV contiene todas las canciones lanzadas en un año determinado y cada fila brinda información sobre una canción individual.\n",
    "\n",
    "dasky delayed() se han importado para usted, y la lista de nombres de archivos está disponible en su entorno como filenames. pandasha sido importado como pd."
   ]
  },
  {
   "cell_type": "code",
   "execution_count": 1,
   "id": "88216eeb-a2aa-4a9e-af13-7cb1513c318a",
   "metadata": {},
   "outputs": [
    {
     "name": "stdout",
     "output_type": "stream",
     "text": [
      " El volumen de la unidad C es OS\n",
      " El número de serie del volumen es: 2283-15A7\n",
      "\n",
      " Directorio de C:\\Users\\indra\\Documents\\Github\\Resumenes-Python\\17_Dask\\spotify\n",
      "\n",
      "19/08/2022  12:14 a. m.    <DIR>          .\n",
      "20/08/2022  08:59 p. m.    <DIR>          ..\n",
      "19/08/2022  12:14 a. m.           666,495 2005_tracks.csv\n",
      "19/08/2022  12:14 a. m.         1,017,535 2006_tracks.csv\n",
      "19/08/2022  12:14 a. m.         1,025,131 2007_tracks.csv\n",
      "19/08/2022  12:14 a. m.         1,143,021 2008_tracks.csv\n",
      "19/08/2022  12:14 a. m.         1,115,136 2009_tracks.csv\n",
      "19/08/2022  12:14 a. m.         1,129,611 2010_tracks.csv\n",
      "19/08/2022  12:14 a. m.         1,141,184 2011_tracks.csv\n",
      "19/08/2022  12:14 a. m.         1,158,224 2012_tracks.csv\n",
      "19/08/2022  12:14 a. m.         1,264,548 2013_tracks.csv\n",
      "19/08/2022  12:14 a. m.         1,349,637 2014_tracks.csv\n",
      "19/08/2022  12:14 a. m.         1,268,323 2015_tracks.csv\n",
      "19/08/2022  12:14 a. m.         1,313,592 2016_tracks.csv\n",
      "19/08/2022  12:14 a. m.         1,163,416 2017_tracks.csv\n",
      "19/08/2022  12:14 a. m.         1,286,281 2018_tracks.csv\n",
      "19/08/2022  12:14 a. m.         1,400,372 2019_tracks.csv\n",
      "19/08/2022  12:14 a. m.         1,644,139 2020_tracks.csv\n",
      "19/08/2022  12:14 a. m.            11,478 LICENSE.txt\n",
      "              17 archivos     19,098,123 bytes\n",
      "               2 dirs  55,470,854,144 bytes libres\n"
     ]
    }
   ],
   "source": [
    "import os\n",
    "import pandas as pd\n",
    "import matplotlib.pyplot as plt\n",
    "import dask\n",
    "from dask import delayed\n",
    "\n",
    "os.chdir('spotify')\n",
    "%ls"
   ]
  },
  {
   "cell_type": "markdown",
   "id": "356460c1-db3c-405f-973b-4337032d9dc1",
   "metadata": {},
   "source": [
    "Lectura de datos sin dask."
   ]
  },
  {
   "cell_type": "code",
   "execution_count": 12,
   "id": "d5583919-efcd-4269-99d6-930fc31c84c4",
   "metadata": {},
   "outputs": [
    {
     "name": "stdout",
     "output_type": "stream",
     "text": [
      "296 ms ± 7.03 ms per loop (mean ± std. dev. of 7 runs, 1 loop each)\n"
     ]
    }
   ],
   "source": [
    "%%timeit\n",
    "files = os.listdir()[:-1]\n",
    "\n",
    "sizes = []\n",
    "columns = []\n",
    "n = []\n",
    "\n",
    "for file in files:\n",
    "    df = pd.read_csv(file)\n",
    "    size = df.shape[0]\n",
    "    sizes.append(size)\n",
    "    \n",
    "    column = df.shape[1]\n",
    "    columns.append(column)\n",
    "    \n",
    "    n.append((df['key'] == 'C').sum()) #Más abajo contamos las columnas que tienen una letra C en la columna key, pero con delayed."
   ]
  },
  {
   "cell_type": "code",
   "execution_count": 6,
   "id": "4e7e2dbc-8f1b-419b-bd3e-8814afa413c6",
   "metadata": {},
   "outputs": [
    {
     "data": {
      "text/html": [
       "<div>\n",
       "<style scoped>\n",
       "    .dataframe tbody tr th:only-of-type {\n",
       "        vertical-align: middle;\n",
       "    }\n",
       "\n",
       "    .dataframe tbody tr th {\n",
       "        vertical-align: top;\n",
       "    }\n",
       "\n",
       "    .dataframe thead th {\n",
       "        text-align: right;\n",
       "    }\n",
       "</style>\n",
       "<table border=\"1\" class=\"dataframe\">\n",
       "  <thead>\n",
       "    <tr style=\"text-align: right;\">\n",
       "      <th></th>\n",
       "      <th>file</th>\n",
       "      <th>rows</th>\n",
       "      <th>columns</th>\n",
       "      <th>n</th>\n",
       "    </tr>\n",
       "  </thead>\n",
       "  <tbody>\n",
       "    <tr>\n",
       "      <th>0</th>\n",
       "      <td>2005_tracks.csv</td>\n",
       "      <td>5728</td>\n",
       "      <td>12</td>\n",
       "      <td>702</td>\n",
       "    </tr>\n",
       "    <tr>\n",
       "      <th>1</th>\n",
       "      <td>2006_tracks.csv</td>\n",
       "      <td>8751</td>\n",
       "      <td>12</td>\n",
       "      <td>1091</td>\n",
       "    </tr>\n",
       "    <tr>\n",
       "      <th>2</th>\n",
       "      <td>2007_tracks.csv</td>\n",
       "      <td>8770</td>\n",
       "      <td>12</td>\n",
       "      <td>1054</td>\n",
       "    </tr>\n",
       "    <tr>\n",
       "      <th>3</th>\n",
       "      <td>2008_tracks.csv</td>\n",
       "      <td>9714</td>\n",
       "      <td>12</td>\n",
       "      <td>1221</td>\n",
       "    </tr>\n",
       "    <tr>\n",
       "      <th>4</th>\n",
       "      <td>2009_tracks.csv</td>\n",
       "      <td>9593</td>\n",
       "      <td>12</td>\n",
       "      <td>1215</td>\n",
       "    </tr>\n",
       "    <tr>\n",
       "      <th>5</th>\n",
       "      <td>2010_tracks.csv</td>\n",
       "      <td>9597</td>\n",
       "      <td>12</td>\n",
       "      <td>1189</td>\n",
       "    </tr>\n",
       "    <tr>\n",
       "      <th>6</th>\n",
       "      <td>2011_tracks.csv</td>\n",
       "      <td>9689</td>\n",
       "      <td>12</td>\n",
       "      <td>1173</td>\n",
       "    </tr>\n",
       "    <tr>\n",
       "      <th>7</th>\n",
       "      <td>2012_tracks.csv</td>\n",
       "      <td>9744</td>\n",
       "      <td>12</td>\n",
       "      <td>1184</td>\n",
       "    </tr>\n",
       "    <tr>\n",
       "      <th>8</th>\n",
       "      <td>2013_tracks.csv</td>\n",
       "      <td>10557</td>\n",
       "      <td>12</td>\n",
       "      <td>1274</td>\n",
       "    </tr>\n",
       "    <tr>\n",
       "      <th>9</th>\n",
       "      <td>2014_tracks.csv</td>\n",
       "      <td>11252</td>\n",
       "      <td>12</td>\n",
       "      <td>1320</td>\n",
       "    </tr>\n",
       "    <tr>\n",
       "      <th>10</th>\n",
       "      <td>2015_tracks.csv</td>\n",
       "      <td>10591</td>\n",
       "      <td>12</td>\n",
       "      <td>1290</td>\n",
       "    </tr>\n",
       "    <tr>\n",
       "      <th>11</th>\n",
       "      <td>2016_tracks.csv</td>\n",
       "      <td>11083</td>\n",
       "      <td>12</td>\n",
       "      <td>1288</td>\n",
       "    </tr>\n",
       "    <tr>\n",
       "      <th>12</th>\n",
       "      <td>2017_tracks.csv</td>\n",
       "      <td>9889</td>\n",
       "      <td>12</td>\n",
       "      <td>1077</td>\n",
       "    </tr>\n",
       "    <tr>\n",
       "      <th>13</th>\n",
       "      <td>2018_tracks.csv</td>\n",
       "      <td>10936</td>\n",
       "      <td>12</td>\n",
       "      <td>1180</td>\n",
       "    </tr>\n",
       "    <tr>\n",
       "      <th>14</th>\n",
       "      <td>2019_tracks.csv</td>\n",
       "      <td>11907</td>\n",
       "      <td>12</td>\n",
       "      <td>1278</td>\n",
       "    </tr>\n",
       "    <tr>\n",
       "      <th>15</th>\n",
       "      <td>2020_tracks.csv</td>\n",
       "      <td>13937</td>\n",
       "      <td>12</td>\n",
       "      <td>1589</td>\n",
       "    </tr>\n",
       "  </tbody>\n",
       "</table>\n",
       "</div>"
      ],
      "text/plain": [
       "               file   rows  columns     n\n",
       "0   2005_tracks.csv   5728       12   702\n",
       "1   2006_tracks.csv   8751       12  1091\n",
       "2   2007_tracks.csv   8770       12  1054\n",
       "3   2008_tracks.csv   9714       12  1221\n",
       "4   2009_tracks.csv   9593       12  1215\n",
       "5   2010_tracks.csv   9597       12  1189\n",
       "6   2011_tracks.csv   9689       12  1173\n",
       "7   2012_tracks.csv   9744       12  1184\n",
       "8   2013_tracks.csv  10557       12  1274\n",
       "9   2014_tracks.csv  11252       12  1320\n",
       "10  2015_tracks.csv  10591       12  1290\n",
       "11  2016_tracks.csv  11083       12  1288\n",
       "12  2017_tracks.csv   9889       12  1077\n",
       "13  2018_tracks.csv  10936       12  1180\n",
       "14  2019_tracks.csv  11907       12  1278\n",
       "15  2020_tracks.csv  13937       12  1589"
      ]
     },
     "execution_count": 6,
     "metadata": {},
     "output_type": "execute_result"
    }
   ],
   "source": [
    "#Número de filas por archivo\n",
    "tmp = pd.DataFrame(zip(files,sizes,columns,n), columns = [\"file\",\"rows\",\"columns\",\"n\"])\n",
    "tmp"
   ]
  },
  {
   "cell_type": "code",
   "execution_count": 19,
   "id": "a1886c28-6ba3-4445-a914-5b77a7875c2a",
   "metadata": {},
   "outputs": [
    {
     "name": "stdout",
     "output_type": "stream",
     "text": [
      "Cantidad de registros :  161738\n",
      "Cantidad de columnas con una C :  19125\n"
     ]
    }
   ],
   "source": [
    "print(\"Cantidad de registros : \", sum(tmp[\"rows\"]))\n",
    "print(\"Cantidad de columnas con una C : \", sum(tmp[\"n\"]))"
   ]
  },
  {
   "cell_type": "code",
   "execution_count": 11,
   "id": "5375109f-e72c-44f7-b1e5-91b0ebe8d2b9",
   "metadata": {},
   "outputs": [
    {
     "data": {
      "text/html": [
       "<div>\n",
       "<style scoped>\n",
       "    .dataframe tbody tr th:only-of-type {\n",
       "        vertical-align: middle;\n",
       "    }\n",
       "\n",
       "    .dataframe tbody tr th {\n",
       "        vertical-align: top;\n",
       "    }\n",
       "\n",
       "    .dataframe thead th {\n",
       "        text-align: right;\n",
       "    }\n",
       "</style>\n",
       "<table border=\"1\" class=\"dataframe\">\n",
       "  <thead>\n",
       "    <tr style=\"text-align: right;\">\n",
       "      <th></th>\n",
       "      <th>id</th>\n",
       "      <th>name</th>\n",
       "      <th>popularity</th>\n",
       "      <th>duration_ms</th>\n",
       "      <th>explicit</th>\n",
       "      <th>artists</th>\n",
       "      <th>release_date</th>\n",
       "      <th>danceability</th>\n",
       "      <th>key</th>\n",
       "      <th>acousticness</th>\n",
       "      <th>instrumentalness</th>\n",
       "      <th>tempo</th>\n",
       "    </tr>\n",
       "  </thead>\n",
       "  <tbody>\n",
       "    <tr>\n",
       "      <th>0</th>\n",
       "      <td>0VoyCzfd4M5p23pu5HL1Vy</td>\n",
       "      <td>Can't Stop This Feeling (Deep House Dance Part...</td>\n",
       "      <td>25</td>\n",
       "      <td>185803</td>\n",
       "      <td>0</td>\n",
       "      <td>['Greg Sletteland']</td>\n",
       "      <td>2020-01-01</td>\n",
       "      <td>0.637</td>\n",
       "      <td>G#</td>\n",
       "      <td>0.008390</td>\n",
       "      <td>0.077700</td>\n",
       "      <td>123.912</td>\n",
       "    </tr>\n",
       "    <tr>\n",
       "      <th>1</th>\n",
       "      <td>2m50HsnzEczYBaYrcf7duI</td>\n",
       "      <td>מים שקופים</td>\n",
       "      <td>48</td>\n",
       "      <td>180880</td>\n",
       "      <td>0</td>\n",
       "      <td>['Omer Adam']</td>\n",
       "      <td>2020-01-01</td>\n",
       "      <td>0.625</td>\n",
       "      <td>B</td>\n",
       "      <td>0.470000</td>\n",
       "      <td>0.000000</td>\n",
       "      <td>91.606</td>\n",
       "    </tr>\n",
       "    <tr>\n",
       "      <th>2</th>\n",
       "      <td>1HibPS9XZcq91JkEFVNdHx</td>\n",
       "      <td>המלכה של השכונה</td>\n",
       "      <td>41</td>\n",
       "      <td>155427</td>\n",
       "      <td>0</td>\n",
       "      <td>['Omer Adam']</td>\n",
       "      <td>2020-01-01</td>\n",
       "      <td>0.786</td>\n",
       "      <td>F#</td>\n",
       "      <td>0.241000</td>\n",
       "      <td>0.000000</td>\n",
       "      <td>111.992</td>\n",
       "    </tr>\n",
       "    <tr>\n",
       "      <th>3</th>\n",
       "      <td>1QD7KtRE3D1IUHhPsSRpz5</td>\n",
       "      <td>I Have a Dream (Deep House Dance Party Remix)</td>\n",
       "      <td>25</td>\n",
       "      <td>141640</td>\n",
       "      <td>0</td>\n",
       "      <td>['Greg Sletteland']</td>\n",
       "      <td>2020-01-01</td>\n",
       "      <td>0.809</td>\n",
       "      <td>G</td>\n",
       "      <td>0.011900</td>\n",
       "      <td>0.837000</td>\n",
       "      <td>122.010</td>\n",
       "    </tr>\n",
       "    <tr>\n",
       "      <th>4</th>\n",
       "      <td>5pFAe3583L3RgD4UBczqrC</td>\n",
       "      <td>Searching</td>\n",
       "      <td>0</td>\n",
       "      <td>254280</td>\n",
       "      <td>0</td>\n",
       "      <td>['The Silent Deeds']</td>\n",
       "      <td>2020-01-01</td>\n",
       "      <td>0.421</td>\n",
       "      <td>E</td>\n",
       "      <td>0.000855</td>\n",
       "      <td>0.000213</td>\n",
       "      <td>125.004</td>\n",
       "    </tr>\n",
       "  </tbody>\n",
       "</table>\n",
       "</div>"
      ],
      "text/plain": [
       "                       id                                               name  \\\n",
       "0  0VoyCzfd4M5p23pu5HL1Vy  Can't Stop This Feeling (Deep House Dance Part...   \n",
       "1  2m50HsnzEczYBaYrcf7duI                                         מים שקופים   \n",
       "2  1HibPS9XZcq91JkEFVNdHx                                    המלכה של השכונה   \n",
       "3  1QD7KtRE3D1IUHhPsSRpz5      I Have a Dream (Deep House Dance Party Remix)   \n",
       "4  5pFAe3583L3RgD4UBczqrC                                          Searching   \n",
       "\n",
       "   popularity  duration_ms  explicit               artists release_date  \\\n",
       "0          25       185803         0   ['Greg Sletteland']   2020-01-01   \n",
       "1          48       180880         0         ['Omer Adam']   2020-01-01   \n",
       "2          41       155427         0         ['Omer Adam']   2020-01-01   \n",
       "3          25       141640         0   ['Greg Sletteland']   2020-01-01   \n",
       "4           0       254280         0  ['The Silent Deeds']   2020-01-01   \n",
       "\n",
       "   danceability key  acousticness  instrumentalness    tempo  \n",
       "0         0.637  G#      0.008390          0.077700  123.912  \n",
       "1         0.625   B      0.470000          0.000000   91.606  \n",
       "2         0.786  F#      0.241000          0.000000  111.992  \n",
       "3         0.809   G      0.011900          0.837000  122.010  \n",
       "4         0.421   E      0.000855          0.000213  125.004  "
      ]
     },
     "execution_count": 11,
     "metadata": {},
     "output_type": "execute_result"
    }
   ],
   "source": [
    "df.head()"
   ]
  },
  {
   "cell_type": "code",
   "execution_count": 18,
   "id": "2579f167-e6bd-4145-83f7-f34ef916f9b6",
   "metadata": {},
   "outputs": [
    {
     "data": {
      "text/plain": [
       "pandas.core.frame.DataFrame"
      ]
     },
     "execution_count": 18,
     "metadata": {},
     "output_type": "execute_result"
    }
   ],
   "source": [
    "type(df)"
   ]
  },
  {
   "cell_type": "markdown",
   "id": "b13fb4fe-7ef9-4133-8ae0-43f533eb3a6e",
   "metadata": {},
   "source": [
    "**Lectura de datos con delayed**"
   ]
  },
  {
   "cell_type": "code",
   "execution_count": 20,
   "id": "920c69aa-4127-40a0-ad2c-f7d42810b5df",
   "metadata": {},
   "outputs": [
    {
     "name": "stdout",
     "output_type": "stream",
     "text": [
      "2.32 ms ± 69.9 µs per loop (mean ± std. dev. of 7 runs, 100 loops each)\n"
     ]
    }
   ],
   "source": [
    "%%timeit\n",
    "files = os.listdir()[:-1]\n",
    "\n",
    "sizes = []\n",
    "columns = []\n",
    "\n",
    "for file in files:\n",
    "    df = delayed(pd.read_csv)(file)\n",
    "    size = df.shape[0]\n",
    "    sizes.append(size)\n",
    "    \n",
    "    column = df.shape[1]\n",
    "    columns.append(column)"
   ]
  },
  {
   "cell_type": "markdown",
   "id": "976c2938-f893-40ea-a771-5e6f2be642df",
   "metadata": {},
   "source": [
    "Gracias al delayed la lectura de datos no se ejecuta cada vez en el for.\n",
    "\n",
    "Soló se evalua la última vez cuando es necesario tener el último dataframe.\n",
    "\n",
    "Pasando de tener 300ms a 2.32ms"
   ]
  },
  {
   "cell_type": "code",
   "execution_count": 21,
   "id": "db0006a5-8d68-40cf-9657-5b78b0f98f47",
   "metadata": {},
   "outputs": [
    {
     "data": {
      "text/plain": [
       "[Delayed('getitem-47ed92ff8821ed1351fe22b58915c533'),\n",
       " Delayed('getitem-9b040aa4054e32a38b41cb1f0b1989d5'),\n",
       " Delayed('getitem-cf266561a7b40ad45d3c7cba5ebb809f'),\n",
       " Delayed('getitem-4222c252fae9e39090dc6d485a18f5a1'),\n",
       " Delayed('getitem-de22f7cfecdd2e336bc432d084628058')]"
      ]
     },
     "execution_count": 21,
     "metadata": {},
     "output_type": "execute_result"
    }
   ],
   "source": [
    "sizes[:5]"
   ]
  },
  {
   "cell_type": "code",
   "execution_count": 23,
   "id": "c2f3f61c-d046-456c-86cb-bf46e5b54d68",
   "metadata": {},
   "outputs": [
    {
     "data": {
      "text/plain": [
       "dask.delayed.Delayed"
      ]
     },
     "execution_count": 23,
     "metadata": {},
     "output_type": "execute_result"
    }
   ],
   "source": [
    "type(df)"
   ]
  },
  {
   "cell_type": "code",
   "execution_count": 24,
   "id": "8009a232-e4f6-428f-b72c-59c9987fe73f",
   "metadata": {},
   "outputs": [
    {
     "data": {
      "text/plain": [
       "Delayed('read_csv-fa429d28-c8e0-4c00-a073-6db3f152c8ec')"
      ]
     },
     "execution_count": 24,
     "metadata": {},
     "output_type": "execute_result"
    }
   ],
   "source": [
    "df"
   ]
  },
  {
   "cell_type": "markdown",
   "id": "075f5465-935f-48e9-9a86-b96011c07fe8",
   "metadata": {},
   "source": [
    "#### Iterando de forma perezosa por cada dataframe.\n",
    "\n",
    "Calculando de manera eficiente el número total de canciones y el número total de canciones con C, asegurándose de que cada archivo se cargue solo una vez.\n",
    "\n",
    "- Encuentramos el número de canciones en cada archivo que tienen una letra 'C' en columna *key* y se agrega al total acumulado n_songs_in_c."
   ]
  },
  {
   "cell_type": "code",
   "execution_count": 14,
   "id": "26d834d0-d45c-4d21-9e98-3806d8769f43",
   "metadata": {},
   "outputs": [],
   "source": [
    "n_songs_in_c, n_songs = 0, 0 \n",
    "\n",
    "for file in files:\n",
    "    # Load in the data\n",
    "    df = delayed(pd.read_csv)(file)\n",
    "    \n",
    "    # Add to running totals\n",
    "    n_songs_in_c += (df['key'] == 'C').sum() #Filas con una C\n",
    "    n_songs += df.shape[0] #Cantidad de registros"
   ]
  },
  {
   "cell_type": "code",
   "execution_count": 18,
   "id": "1d92977d-f416-4568-bdfc-012e1d4b9113",
   "metadata": {},
   "outputs": [
    {
     "name": "stdout",
     "output_type": "stream",
     "text": [
      "Cantidad de registros :  161738\n",
      "Cantidad de columnas con una C :  19125\n"
     ]
    }
   ],
   "source": [
    "print(\"Cantidad de registros : \", n_songs.compute())\n",
    "print(\"Cantidad de columnas con una C : \", n_songs_in_c.compute())"
   ]
  },
  {
   "cell_type": "code",
   "execution_count": 21,
   "id": "48faaa26-4e2f-439e-be58-b63935da4e37",
   "metadata": {},
   "outputs": [
    {
     "name": "stdout",
     "output_type": "stream",
     "text": [
      "161738 0.11824679419802396\n"
     ]
    }
   ],
   "source": [
    "# Calculando de forma eficiente el númro total de canciones y el porcenteje de canciones con una C.\n",
    "total_n_songs_in_c, total_n_songs = dask.compute(n_songs_in_c, n_songs)\n",
    "\n",
    "fraction_c = total_n_songs_in_c / total_n_songs\n",
    "print(total_n_songs, fraction_c)"
   ]
  },
  {
   "cell_type": "markdown",
   "id": "517eb9bc-1385-47a9-b000-c529e0aae8b5",
   "metadata": {},
   "source": [
    "**¿Qué tan bailables son las canciones en estos días?**\n",
    "\n",
    "Es hora de profundizar en los datos de Spotify para analizar algunas tendencias en la música.\n",
    "\n",
    "En cada archivo CSV, la 'danceability'columna contiene la puntuación entre 0 y 1 de lo bailable que es cada canción.\n",
    "\n",
    "La partitura describe qué tan adecuada es una pista para bailar en función de una combinación de elementos musicales, incluidos el tempo, la estabilidad del ritmo, la fuerza del compás y la regularidad general.\n",
    "\n",
    "*¿Crees que las canciones están mejorando o empeorando para bailar?*"
   ]
  },
  {
   "cell_type": "code",
   "execution_count": 31,
   "id": "1089df10-d12f-400d-b271-ebe4a96c4fc8",
   "metadata": {},
   "outputs": [
    {
     "data": {
      "image/png": "[encoded data removed]",
      "text/plain": [
       "<Figure size 432x288 with 1 Axes>"
      ]
     },
     "metadata": {
      "needs_background": "light"
     },
     "output_type": "display_data"
    }
   ],
   "source": [
    "danceabilities = []\n",
    "\n",
    "for file in files:\n",
    "    #Evaluación perezosa\n",
    "    df = delayed(pd.read_csv)(file)\n",
    "    \n",
    "    mean_danceability = df['danceability'].mean()\n",
    "    danceabilities.append(mean_danceability)\n",
    "\n",
    "danceability_list = dask.compute(danceabilities)[0]\n",
    "\n",
    "years = [2005,2006,2007,2008,2009,2010,2011,2012,2013,2014,2015,2016,2017,2018,2019,2020]\n",
    "plt.plot(years, danceability_list)\n",
    "plt.show()"
   ]
  },
  {
   "cell_type": "markdown",
   "id": "bbddadc6-fa14-41ee-93b8-22bc2871a1de",
   "metadata": {},
   "source": [
    "**Canciones más populares**\n",
    "\n",
    "Tiene una tarea más en estos datos de Spotify, que es encontrar las 10 canciones más populares en todos los años disponibles.\n",
    "\n",
    "El algoritmo que deberá usar para calcular esto es calcular las 10 mejores canciones de cada año, y luego combinarlas y encontrar las 10 mejores de las 10 principales."
   ]
  },
  {
   "cell_type": "code",
   "execution_count": 35,
   "id": "d808924e-a337-4c9c-abc7-dd93eed3ca2c",
   "metadata": {},
   "outputs": [],
   "source": [
    "#La siguiente función, que encuentra las 10 mejores canciones en un DataFrame.\n",
    "def top_10_most_popular(df):\n",
    "  return df.nlargest(n=10, columns='popularity')"
   ]
  },
  {
   "cell_type": "code",
   "execution_count": 42,
   "id": "4ad5e9da-fd4f-4baa-a7a3-a32a7b729a5b",
   "metadata": {},
   "outputs": [
    {
     "data": {
      "text/html": [
       "<div>\n",
       "<style scoped>\n",
       "    .dataframe tbody tr th:only-of-type {\n",
       "        vertical-align: middle;\n",
       "    }\n",
       "\n",
       "    .dataframe tbody tr th {\n",
       "        vertical-align: top;\n",
       "    }\n",
       "\n",
       "    .dataframe thead th {\n",
       "        text-align: right;\n",
       "    }\n",
       "</style>\n",
       "<table border=\"1\" class=\"dataframe\">\n",
       "  <thead>\n",
       "    <tr style=\"text-align: right;\">\n",
       "      <th></th>\n",
       "      <th>id</th>\n",
       "      <th>name</th>\n",
       "      <th>popularity</th>\n",
       "      <th>duration_ms</th>\n",
       "      <th>explicit</th>\n",
       "      <th>artists</th>\n",
       "      <th>release_date</th>\n",
       "      <th>danceability</th>\n",
       "      <th>key</th>\n",
       "      <th>acousticness</th>\n",
       "      <th>instrumentalness</th>\n",
       "      <th>tempo</th>\n",
       "    </tr>\n",
       "  </thead>\n",
       "  <tbody>\n",
       "    <tr>\n",
       "      <th>2257</th>\n",
       "      <td>5QO79kh1waicV47BqGRL3g</td>\n",
       "      <td>Save Your Tears</td>\n",
       "      <td>97</td>\n",
       "      <td>215627</td>\n",
       "      <td>1</td>\n",
       "      <td>['The Weeknd']</td>\n",
       "      <td>2020-03-20</td>\n",
       "      <td>0.680</td>\n",
       "      <td>C</td>\n",
       "      <td>0.02120</td>\n",
       "      <td>0.000012</td>\n",
       "      <td>118.051</td>\n",
       "    </tr>\n",
       "    <tr>\n",
       "      <th>11698</th>\n",
       "      <td>6tDDoYIxWvMLTdKpjFkc1B</td>\n",
       "      <td>telepatía</td>\n",
       "      <td>97</td>\n",
       "      <td>160191</td>\n",
       "      <td>0</td>\n",
       "      <td>['Kali Uchis']</td>\n",
       "      <td>2020-12-04</td>\n",
       "      <td>0.653</td>\n",
       "      <td>B</td>\n",
       "      <td>0.11200</td>\n",
       "      <td>0.000000</td>\n",
       "      <td>83.970</td>\n",
       "    </tr>\n",
       "    <tr>\n",
       "      <th>2280</th>\n",
       "      <td>0VjIjW4GlUZAMYd2vXMi3b</td>\n",
       "      <td>Blinding Lights</td>\n",
       "      <td>96</td>\n",
       "      <td>200040</td>\n",
       "      <td>0</td>\n",
       "      <td>['The Weeknd']</td>\n",
       "      <td>2020-03-20</td>\n",
       "      <td>0.514</td>\n",
       "      <td>C#</td>\n",
       "      <td>0.00146</td>\n",
       "      <td>0.000095</td>\n",
       "      <td>171.005</td>\n",
       "    </tr>\n",
       "    <tr>\n",
       "      <th>7835</th>\n",
       "      <td>6f3Slt0GbA2bPZlz0aIFXN</td>\n",
       "      <td>The Business</td>\n",
       "      <td>95</td>\n",
       "      <td>164000</td>\n",
       "      <td>0</td>\n",
       "      <td>['Tiësto']</td>\n",
       "      <td>2020-09-16</td>\n",
       "      <td>0.798</td>\n",
       "      <td>G#</td>\n",
       "      <td>0.41400</td>\n",
       "      <td>0.019200</td>\n",
       "      <td>120.031</td>\n",
       "    </tr>\n",
       "    <tr>\n",
       "      <th>9090</th>\n",
       "      <td>60ynsPSSKe6O3sfwRnIBRf</td>\n",
       "      <td>Streets</td>\n",
       "      <td>94</td>\n",
       "      <td>226987</td>\n",
       "      <td>1</td>\n",
       "      <td>['Doja Cat']</td>\n",
       "      <td>2019-11-07</td>\n",
       "      <td>0.749</td>\n",
       "      <td>B</td>\n",
       "      <td>0.20800</td>\n",
       "      <td>0.037100</td>\n",
       "      <td>90.028</td>\n",
       "    </tr>\n",
       "    <tr>\n",
       "      <th>2489</th>\n",
       "      <td>3FAJ6O0NOHQV8Mc5Ri6ENp</td>\n",
       "      <td>Heartbreak Anniversary</td>\n",
       "      <td>94</td>\n",
       "      <td>198371</td>\n",
       "      <td>0</td>\n",
       "      <td>['Giveon']</td>\n",
       "      <td>2020-03-27</td>\n",
       "      <td>0.449</td>\n",
       "      <td>C</td>\n",
       "      <td>0.52400</td>\n",
       "      <td>0.000001</td>\n",
       "      <td>89.087</td>\n",
       "    </tr>\n",
       "    <tr>\n",
       "      <th>10238</th>\n",
       "      <td>27OeeYzk6klgBh83TSvGMA</td>\n",
       "      <td>WITHOUT YOU</td>\n",
       "      <td>94</td>\n",
       "      <td>161385</td>\n",
       "      <td>1</td>\n",
       "      <td>['The Kid LAROI']</td>\n",
       "      <td>2020-11-06</td>\n",
       "      <td>0.662</td>\n",
       "      <td>C</td>\n",
       "      <td>0.21300</td>\n",
       "      <td>0.000000</td>\n",
       "      <td>93.005</td>\n",
       "    </tr>\n",
       "    <tr>\n",
       "      <th>11850</th>\n",
       "      <td>1xK1Gg9SxG8fy2Ya373oqb</td>\n",
       "      <td>Bandido</td>\n",
       "      <td>94</td>\n",
       "      <td>232853</td>\n",
       "      <td>0</td>\n",
       "      <td>['Myke Towers', 'Juhn']</td>\n",
       "      <td>2020-12-10</td>\n",
       "      <td>0.713</td>\n",
       "      <td>G#</td>\n",
       "      <td>0.12200</td>\n",
       "      <td>0.000000</td>\n",
       "      <td>168.021</td>\n",
       "    </tr>\n",
       "    <tr>\n",
       "      <th>11238</th>\n",
       "      <td>2XIc1pqjXV3Cr2BQUGNBck</td>\n",
       "      <td>LA NOCHE DE ANOCHE</td>\n",
       "      <td>93</td>\n",
       "      <td>203201</td>\n",
       "      <td>0</td>\n",
       "      <td>['Bad Bunny', 'ROSALÍA']</td>\n",
       "      <td>2020-11-27</td>\n",
       "      <td>0.856</td>\n",
       "      <td>G</td>\n",
       "      <td>0.03030</td>\n",
       "      <td>0.000000</td>\n",
       "      <td>81.993</td>\n",
       "    </tr>\n",
       "    <tr>\n",
       "      <th>13368</th>\n",
       "      <td>3YJJjQPAbDT7mGpX3WtQ9A</td>\n",
       "      <td>Good Days</td>\n",
       "      <td>93</td>\n",
       "      <td>279204</td>\n",
       "      <td>1</td>\n",
       "      <td>['SZA']</td>\n",
       "      <td>2020-12-25</td>\n",
       "      <td>0.436</td>\n",
       "      <td>C#</td>\n",
       "      <td>0.49900</td>\n",
       "      <td>0.000008</td>\n",
       "      <td>121.002</td>\n",
       "    </tr>\n",
       "  </tbody>\n",
       "</table>\n",
       "</div>"
      ],
      "text/plain": [
       "                           id                    name  popularity  \\\n",
       "2257   5QO79kh1waicV47BqGRL3g         Save Your Tears          97   \n",
       "11698  6tDDoYIxWvMLTdKpjFkc1B               telepatía          97   \n",
       "2280   0VjIjW4GlUZAMYd2vXMi3b         Blinding Lights          96   \n",
       "7835   6f3Slt0GbA2bPZlz0aIFXN            The Business          95   \n",
       "9090   60ynsPSSKe6O3sfwRnIBRf                 Streets          94   \n",
       "2489   3FAJ6O0NOHQV8Mc5Ri6ENp  Heartbreak Anniversary          94   \n",
       "10238  27OeeYzk6klgBh83TSvGMA             WITHOUT YOU          94   \n",
       "11850  1xK1Gg9SxG8fy2Ya373oqb                 Bandido          94   \n",
       "11238  2XIc1pqjXV3Cr2BQUGNBck      LA NOCHE DE ANOCHE          93   \n",
       "13368  3YJJjQPAbDT7mGpX3WtQ9A               Good Days          93   \n",
       "\n",
       "       duration_ms  explicit                   artists release_date  \\\n",
       "2257        215627         1            ['The Weeknd']   2020-03-20   \n",
       "11698       160191         0            ['Kali Uchis']   2020-12-04   \n",
       "2280        200040         0            ['The Weeknd']   2020-03-20   \n",
       "7835        164000         0                ['Tiësto']   2020-09-16   \n",
       "9090        226987         1              ['Doja Cat']   2019-11-07   \n",
       "2489        198371         0                ['Giveon']   2020-03-27   \n",
       "10238       161385         1         ['The Kid LAROI']   2020-11-06   \n",
       "11850       232853         0   ['Myke Towers', 'Juhn']   2020-12-10   \n",
       "11238       203201         0  ['Bad Bunny', 'ROSALÍA']   2020-11-27   \n",
       "13368       279204         1                   ['SZA']   2020-12-25   \n",
       "\n",
       "       danceability key  acousticness  instrumentalness    tempo  \n",
       "2257          0.680   C       0.02120          0.000012  118.051  \n",
       "11698         0.653   B       0.11200          0.000000   83.970  \n",
       "2280          0.514  C#       0.00146          0.000095  171.005  \n",
       "7835          0.798  G#       0.41400          0.019200  120.031  \n",
       "9090          0.749   B       0.20800          0.037100   90.028  \n",
       "2489          0.449   C       0.52400          0.000001   89.087  \n",
       "10238         0.662   C       0.21300          0.000000   93.005  \n",
       "11850         0.713  G#       0.12200          0.000000  168.021  \n",
       "11238         0.856   G       0.03030          0.000000   81.993  \n",
       "13368         0.436  C#       0.49900          0.000008  121.002  "
      ]
     },
     "execution_count": 42,
     "metadata": {},
     "output_type": "execute_result"
    }
   ],
   "source": [
    "top_songs = []\n",
    "\n",
    "for file in files:\n",
    "    df = delayed(pd.read_csv)(file)\n",
    "    # Find the top 10 most popular songs in this file\n",
    "    df_top_10 = top_10_most_popular(df)\n",
    "    top_songs.append(df_top_10)\n",
    "\n",
    "# Compute the list of top 10s\n",
    "top_songs_list = dask.compute(top_songs)[0]\n",
    "\n",
    "# Concatenate them and find the best of the best\n",
    "top_songs_df = pd.concat(top_songs_list)\n",
    "df_all_time_top_10 = top_10_most_popular(top_songs_df)\n",
    "df_all_time_top_10"
   ]
  },
  {
   "cell_type": "markdown",
   "id": "3a29d529-c220-4f67-8182-ff5476093526",
   "metadata": {},
   "source": [
    "¡Genial!\n",
    "\n",
    "La forma en que se calcularon las cosas aquí fue ligeramente diferente a la anterior. \n",
    "\n",
    "En lugar de construir *df_all_time_top_10* perezosamente y calcular la respuesta final, ejecutó la *compute()* función en una lista de los 10 principales y luego los combinó más tarde con una evaluación normal línea por línea.\n",
    "\n",
    "Este fue un buen enfoque para este problema.\n",
    "\n",
    "En general, debe hacer que sus datos no sean perezosos tan pronto como quepan en la memoria."
   ]
  }
 ],
 "metadata": {
  "kernelspec": {
   "display_name": "Python 3 (ipykernel)",
   "language": "python",
   "name": "python3"
  },
  "language_info": {
   "codemirror_mode": {
    "name": "ipython",
    "version": 3
   },
   "file_extension": ".py",
   "mimetype": "text/x-python",
   "name": "python",
   "nbconvert_exporter": "python",
   "pygments_lexer": "ipython3",
   "version": "3.9.7"
  }
 },
 "nbformat": 4,
 "nbformat_minor": 5
}
